{
  "cells": [
    {
      "cell_type": "markdown",
      "metadata": {
        "id": "view-in-github",
        "colab_type": "text"
      },
      "source": [
        "<a href=\"https://colab.research.google.com/github/shikharkyadesultory/MB-Localization-TLFIM-/blob/main/my_module.ipynb\" target=\"_parent\"><img src=\"https://colab.research.google.com/assets/colab-badge.svg\" alt=\"Open In Colab\"/></a>"
      ]
    },
    {
      "cell_type": "markdown",
      "metadata": {
        "id": "xzkYnGXoSfbY"
      },
      "source": [
        "#**Implementing a Matrix Product State**"
      ]
    },
    {
      "cell_type": "code",
      "execution_count": null,
      "metadata": {
        "colab": {
          "base_uri": "https://localhost:8080/"
        },
        "id": "lK7WahvOIkNw",
        "outputId": "0c383be7-7bee-440f-efb7-8f5afed8083b"
      },
      "outputs": [
        {
          "output_type": "stream",
          "name": "stdout",
          "text": [
            "Drive already mounted at /content/drive; to attempt to forcibly remount, call drive.mount(\"/content/drive\", force_remount=True).\n"
          ]
        }
      ],
      "source": [
        "from google.colab import drive\n",
        "drive.mount('/content/drive')"
      ]
    },
    {
      "cell_type": "code",
      "execution_count": null,
      "metadata": {
        "id": "hW4BKkaLg9sH"
      },
      "outputs": [],
      "source": [
        "import pylab as pl"
      ]
    },
    {
      "cell_type": "code",
      "execution_count": null,
      "metadata": {
        "id": "9AxGCgjkKR7L"
      },
      "outputs": [],
      "source": [
        "\n",
        "\n",
        "import numpy as np\n",
        "from scipy.linalg import svd\n",
        "\n",
        "\n",
        "\n",
        "class SimpleMPS:\n",
        "\n",
        "    def __init__(self, Bs, Ss, bc='finite'):\n",
        "        assert bc in ['finite', 'infinite']\n",
        "        self.Bs = Bs\n",
        "        self.Ss = Ss\n",
        "        self.bc = bc\n",
        "        self.L = len(Bs)\n",
        "        self.nbonds = self.L - 1 if self.bc == 'finite' else self.L\n",
        "\n",
        "    def copy(self):\n",
        "        return SimpleMPS([B.copy() for B in self.Bs], [S.copy() for S in self.Ss], self.bc)\n",
        "\n",
        "    def get_theta1(self, i):\n",
        "\n",
        "        return np.tensordot(np.diag(self.Ss[i]), self.Bs[i], [1, 0])  # vL [vL'], [vL] i vR\n",
        "\n",
        "    def get_theta2(self, i):\n",
        "\n",
        "        j = (i + 1) % self.L\n",
        "        return np.tensordot(self.get_theta1(i), self.Bs[j], [2, 0])  # vL i [vR], [vL] j vR\n",
        "\n",
        "    def get_chi(self):\n",
        "\n",
        "        return [self.Bs[i].shape[2] for i in range(self.nbonds)]\n",
        "\n",
        "    def site_expectation_value(self, op):\n",
        "\n",
        "        result = []\n",
        "        for i in range(self.L):\n",
        "            theta = self.get_theta1(i)  # vL i vR\n",
        "            op_theta = np.tensordot(op, theta, axes=(1, 1))  # i [i*], vL [i] vR\n",
        "            result.append(np.tensordot(theta.conj(), op_theta, [[0, 1, 2], [1, 0, 2]]))\n",
        "            # [vL*] [i*] [vR*], [i] [vL] [vR]\n",
        "        return np.real_if_close(result)\n",
        "\n",
        "    def bond_expectation_value(self, op):\n",
        "\n",
        "        result = []\n",
        "        for i in range(self.nbonds):\n",
        "            theta = self.get_theta2(i)  # vL i j vR\n",
        "            op_theta = np.tensordot(op[i], theta, axes=([2, 3], [1, 2]))\n",
        "            # i j [i*] [j*], vL [i] [j] vR\n",
        "            result.append(np.tensordot(theta.conj(), op_theta, [[0, 1, 2, 3], [2, 0, 1, 3]]))\n",
        "            # [vL*] [i*] [j*] [vR*], [i] [j] [vL] [vR]\n",
        "        return np.real_if_close(result)\n",
        "\n",
        "    def entanglement_entropy(self):\n",
        "\n",
        "        bonds = range(1, self.L) if self.bc == 'finite' else range(0, self.L)\n",
        "        result = []\n",
        "        for i in bonds:\n",
        "            S = self.Ss[i]\n",
        "            S = S[S > 1.e-20]  # 0*log(0) should give 0 and won't contribute to the sum\n",
        "            # avoid warning or NaN by discarding the very small values of S\n",
        "            S2 = S * S\n",
        "            assert abs(np.linalg.norm(S) - 1.) < 1.e-13\n",
        "            result.append(-np.sum(S2 * np.log(S2)))\n",
        "        return np.array(result)\n",
        "\n",
        "    def correlation_length(self):\n",
        "        from scipy.sparse.linalg import eigs\n",
        "        if self.get_chi()[0] > 100:\n",
        "            warnings.warn(\"Skip calculating correlation_length() for large chi: could take long\")\n",
        "            return -1.\n",
        "        assert self.bc == 'infinite'  # works only in the infinite case\n",
        "        B = self.Bs[0]  # vL i vR\n",
        "        chi = B.shape[0]\n",
        "        T = np.tensordot(B, np.conj(B), axes=(1, 1))  # vL [i] vR, vL* [i*] vR*\n",
        "        T = np.transpose(T, [0, 2, 1, 3])  # vL vL* vR vR*\n",
        "        for i in range(1, self.L):\n",
        "            B = self.Bs[i]\n",
        "            T = np.tensordot(T, B, axes=(2, 0))  # vL vL* [vR] vR*, [vL] i vR\n",
        "            T = np.tensordot(T, np.conj(B), axes=([2, 3], [0, 1]))\n",
        "            # vL vL* [vR*] [i] vR, [vL*] [i*] vR*\n",
        "        T = np.reshape(T, (chi**2, chi**2))\n",
        "        # Obtain the 2nd largest eigenvalue\n",
        "        eta = eigs(T, k=2, which='LM', return_eigenvectors=False, ncv=20)\n",
        "        xi =  -self.L / np.log(np.min(np.abs(eta)))\n",
        "        if xi > 1000.:\n",
        "            return np.inf\n",
        "        return xi\n",
        "\n",
        "    def correlation_function(self, op_i, i, op_j, j):\n",
        "        # assert i < j\n",
        "        theta = self.get_theta1(i) # vL i vR\n",
        "        C = np.tensordot(op_i, theta, axes=(1, 1)) # i [i*], vL [i] vR\n",
        "        C = np.tensordot(theta.conj(), C, axes=([0, 1], [1, 0]))  # [vL*] [i*] vR*, [i] [vL] vR\n",
        "        for k in range(i + 1, j):\n",
        "            k = k % self.L\n",
        "            B = self.Bs[k]  # vL k vR\n",
        "            C = np.tensordot(C, B, axes=(1, 0)) # vR* [vR], [vL] k vR\n",
        "            C = np.tensordot(B.conj(), C, axes=([0, 1], [0, 1])) # [vL*] [k*] vR*, [vR*] [k] vR\n",
        "        j = j % self.L\n",
        "        B = self.Bs[j]  # vL k vR\n",
        "        C = np.tensordot(C, B, axes=(1, 0)) # vR* [vR], [vL] j vR\n",
        "        C = np.tensordot(op_j, C, axes=(1, 1))  # j [j*], vR* [j] vR\n",
        "        C = np.tensordot(B.conj(), C, axes=([0, 1, 2], [1, 0, 2])) # [vL*] [j*] [vR*], [j] [vR*] [vR]\n",
        "        return C\n",
        "\n",
        "\n",
        "def init_FM_MPS(L, d=2, bc='finite'):\n",
        "\n",
        "    B = np.zeros([1, d, 1], dtype=float)\n",
        "    B[0, 0, 0] = 1.\n",
        "    S = np.ones([1], dtype=float)\n",
        "    Bs = [B.copy() for i in range(L)]\n",
        "    Ss = [S.copy() for i in range(L)]\n",
        "    return SimpleMPS(Bs, Ss, bc=bc)\n",
        "\n",
        "\n",
        "def init_Neel_MPS(L, d=2, bc='finite'):\n",
        "\n",
        "    S = np.ones([1], dtype=float)\n",
        "    Bs = []\n",
        "    for i in range(L):\n",
        "        B = np.zeros([1, d, 1], dtype=float)\n",
        "        if i % 2 == 0:\n",
        "            B[0, 0, 0] = 1.\n",
        "        else:\n",
        "            B[0, -1, 0] = 1.\n",
        "        Bs.append(B)\n",
        "    Ss = [S.copy() for i in range(L)]\n",
        "    return SimpleMPS(Bs, Ss, bc=bc)\n",
        "\n",
        "\n",
        "def split_truncate_theta(theta, chi_max, eps):\n",
        "\n",
        "    chivL, dL, dR, chivR = theta.shape\n",
        "    theta = np.reshape(theta, [chivL * dL, dR * chivR])\n",
        "    X, Y, Z = svd(theta, full_matrices=False)\n",
        "    # truncate\n",
        "    chivC = min(chi_max, np.sum(Y > eps))\n",
        "    assert chivC >= 1\n",
        "    piv = np.argsort(Y)[::-1][:chivC]  # keep the largest `chivC` singular values\n",
        "    X, Y, Z = X[:, piv], Y[piv], Z[piv, :]\n",
        "    # renormalize\n",
        "    S = Y / np.linalg.norm(Y)  # == Y/sqrt(sum(Y**2))\n",
        "    # split legs of X and Z\n",
        "    A = np.reshape(X, [chivL, dL, chivC])\n",
        "    B = np.reshape(Z, [chivC, dR, chivR])\n",
        "    return A, S, B\n"
      ]
    },
    {
      "cell_type": "code",
      "execution_count": null,
      "metadata": {
        "id": "FYiDrIQYKZRJ"
      },
      "outputs": [],
      "source": [
        "\n",
        "import numpy as np\n",
        "\n",
        "\n",
        "class TFIModel:\n",
        "\n",
        "    def __init__(self, L, J, g, bc='finite'):\n",
        "        assert bc in ['finite', 'infinite']\n",
        "        self.L, self.d, self.bc = L, 2, bc\n",
        "        self.J, self.g = J, g\n",
        "        self.sigmax = np.array([[0., 1.], [1., 0.]])\n",
        "        self.sigmay = np.array([[0., -1j], [1j, 0.]])\n",
        "        self.sigmaz = np.array([[1., 0.], [0., -1.]])\n",
        "        self.id = np.eye(2)\n",
        "        self.init_H_bonds()\n",
        "        self.init_H_mpo()\n",
        "\n",
        "    def init_H_bonds(self):\n",
        "\n",
        "        X, Z, Id = self.sigmax, self.sigmaz, self.id\n",
        "        d = self.d\n",
        "        nbonds = self.L - 1 if self.bc == 'finite' else self.L\n",
        "        H_list = []\n",
        "        for i in range(nbonds):\n",
        "            gL = gR = 0.5 * self.g\n",
        "            if self.bc == 'finite':\n",
        "                if i == 0:\n",
        "                    gL = self.g\n",
        "                if i + 1 == self.L - 1:\n",
        "                    gR = self.g\n",
        "            H_bond = -self.J * np.kron(Z, Z) - gL * np.kron(X, Id) - gR * np.kron(Id, X)\n",
        "            # note: kron is short-hand for outer product + grouping bra and ket legs.\n",
        "            # H_bond has legs ``i, j, i*, j*``\n",
        "            H_list.append(np.reshape(H_bond, [d, d, d, d]))\n",
        "        self.H_bonds = H_list\n",
        "\n",
        "    # (note: not required for TEBD)\n",
        "    def init_H_mpo(self):\n",
        "\n",
        "        w_list = []\n",
        "        for i in range(self.L):\n",
        "            w = np.zeros((3, 3, self.d, self.d), dtype=float)\n",
        "            w[0, 0] = w[2, 2] = self.id\n",
        "            w[0, 1] = self.sigmaz\n",
        "            w[0, 2] = -self.g * self.sigmax\n",
        "            w[1, 2] = -self.J * self.sigmaz\n",
        "            w_list.append(w)\n",
        "        self.H_mpo = w_list\n"
      ]
    },
    {
      "cell_type": "code",
      "execution_count": null,
      "metadata": {
        "colab": {
          "base_uri": "https://localhost:8080/"
        },
        "id": "_FdUgaNjKbAR",
        "outputId": "d16cfb1f-785b-4475-99f5-4594536e4a03"
      },
      "outputs": [
        {
          "name": "stdout",
          "output_type": "stream",
          "text": [
            "finite TEBD, imaginary time evolution, transverse field Ising\n",
            "L=80, g=1.00\n",
            "dt = 0.10000: E = -101.1506047588107\n",
            "dt = 0.01000: E = -101.4630518790254\n",
            "dt = 0.00100: E = -101.4932149913498\n",
            "dt = 0.00001: E = -101.4965109077623\n",
            "dt = 0.00000: E = -101.4965410446170\n",
            "final bond dimensions:  [2, 4, 8, 16, 22, 30, 30, 30, 30, 30, 30, 30, 30, 30, 30, 30, 30, 30, 30, 30, 30, 30, 30, 30, 30, 30, 30, 30, 30, 30, 30, 30, 30, 30, 30, 30, 30, 30, 30, 30, 30, 30, 30, 30, 30, 30, 30, 30, 30, 30, 30, 30, 30, 30, 30, 30, 30, 30, 30, 30, 30, 30, 30, 30, 30, 30, 30, 30, 30, 30, 30, 30, 30, 30, 22, 16, 8, 4, 2]\n",
            "magnetization in X = 52.52143\n",
            "magnetization in Z = 10.88174\n",
            "entanglement entropy =  [0.26623029 0.3348515  0.37158463 0.39758729 0.41585088 0.43138479\n",
            " 0.44298763 0.45383331 0.46201233 0.47019979 0.47629285 0.48276726\n",
            " 0.48745519 0.49273286 0.49640909 0.50080271 0.50371486 0.50742792\n",
            " 0.50974171 0.51291373 0.51474515 0.51747563 0.51890869 0.52127067\n",
            " 0.52236769 0.52441594 0.52522397 0.52700009 0.52755499 0.52909077\n",
            " 0.52941989 0.53073952 0.5308635  0.53198512 0.53191912 0.53285578\n",
            " 0.53261033 0.53337075 0.53295224 0.53354118 0.53295224 0.53337075\n",
            " 0.53261033 0.53285578 0.53191912 0.53198512 0.5308635  0.53073952\n",
            " 0.52941989 0.52909077 0.52755499 0.52700009 0.52522397 0.52441594\n",
            " 0.52236769 0.52127067 0.51890869 0.51747563 0.51474515 0.51291373\n",
            " 0.50974171 0.50742792 0.50371486 0.50080271 0.49640909 0.49273286\n",
            " 0.48745519 0.48276726 0.47629285 0.47019979 0.46201233 0.45383331\n",
            " 0.44298763 0.43138479 0.41585088 0.39758729 0.37158463 0.3348515\n",
            " 0.26623029]\n"
          ]
        }
      ],
      "source": [
        "\n",
        "import numpy as np\n",
        "from scipy.linalg import expm\n",
        "# from .a_mps import split_truncate_theta\n",
        "\n",
        "\n",
        "def calc_U_bonds(H_bonds, dt):\n",
        "\n",
        "    d = H_bonds[0].shape[0]\n",
        "    U_bonds = []\n",
        "    for H in H_bonds:\n",
        "        H = np.reshape(H, [d * d, d * d])\n",
        "        U = expm(-dt * H)\n",
        "        U_bonds.append(np.reshape(U, [d, d, d, d]))\n",
        "    return U_bonds\n",
        "\n",
        "\n",
        "def run_TEBD(psi, U_bonds, N_steps, chi_max, eps):\n",
        "\n",
        "    Nbonds = psi.L - 1 if psi.bc == 'finite' else psi.L\n",
        "    assert len(U_bonds) == Nbonds\n",
        "    for n in range(N_steps):\n",
        "        for k in [0, 1]:  # even, odd\n",
        "            for i_bond in range(k, Nbonds, 2):\n",
        "                update_bond(psi, i_bond, U_bonds[i_bond], chi_max, eps)\n",
        "    # done\n",
        "\n",
        "\n",
        "def update_bond(psi, i, U_bond, chi_max, eps):\n",
        "\n",
        "    j = (i + 1) % psi.L\n",
        "    # construct theta matrix\n",
        "    theta = psi.get_theta2(i)  # vL i j vR\n",
        "    # apply U\n",
        "    Utheta = np.tensordot(U_bond, theta, axes=([2, 3], [1, 2]))  # i j [i*] [j*], vL [i] [j] vR\n",
        "    Utheta = np.transpose(Utheta, [2, 0, 1, 3])  # vL i j vR\n",
        "    # split and truncate\n",
        "    Ai, Sj, Bj = split_truncate_theta(Utheta, chi_max, eps)\n",
        "    # put back into MPS\n",
        "    Gi = np.tensordot(np.diag(psi.Ss[i]**(-1)), Ai, axes=(1, 0))  # vL [vL*], [vL] i vC\n",
        "    psi.Bs[i] = np.tensordot(Gi, np.diag(Sj), axes=(2, 0))  # vL i [vC], [vC] vC\n",
        "    psi.Ss[j] = Sj  # vC\n",
        "    psi.Bs[j] = Bj  # vC j vR\n",
        "\n",
        "\n",
        "def example_TEBD_gs_tf_ising_finite(L, g, chi_max=30):\n",
        "    print(\"finite TEBD, imaginary time evolution, transverse field Ising\")\n",
        "    print(\"L={L:d}, g={g:.2f}\".format(L=L, g=g))\n",
        "    # from . import a_mps\n",
        "    # from . import b_model\n",
        "    model =TFIModel(L=L, J=1., g=g, bc='finite')\n",
        "    psi = init_FM_MPS(model.L, model.d, model.bc)\n",
        "    for dt in [0.1,0.01,0.001,1.e-5,1.e-6]:\n",
        "        U_bonds = calc_U_bonds(model.H_bonds, dt)\n",
        "        run_TEBD(psi, U_bonds, N_steps=500, chi_max=chi_max, eps=1.e-10)\n",
        "        E = np.sum(psi.bond_expectation_value(model.H_bonds))\n",
        "        print(\"dt = {dt:.5f}: E = {E:.13f}\".format(dt=dt, E=E))\n",
        "    print(\"final bond dimensions: \", psi.get_chi())\n",
        "    mag_x = np.sum(psi.site_expectation_value(model.sigmax))\n",
        "    mag_z = np.sum(psi.site_expectation_value(model.sigmaz))\n",
        "    print(\"magnetization in X = {mag_x:.5f}\".format(mag_x=mag_x))\n",
        "    print(\"magnetization in Z = {mag_z:.5f}\".format(mag_z=mag_z))\n",
        "    print(\"entanglement entropy = \", psi.entanglement_entropy())\n",
        "    # print(\"correlation length = \", psi.correlation_length())\n",
        "    return E, psi.entanglement_entropy(), psi.get_chi()\n",
        "\n",
        "\n",
        "a,b,c=example_TEBD_gs_tf_ising_finite(L=80, g=1.0)"
      ]
    },
    {
      "cell_type": "code",
      "execution_count": null,
      "metadata": {
        "colab": {
          "base_uri": "https://localhost:8080/",
          "height": 430
        },
        "id": "Wo2qOXdJiQr9",
        "outputId": "6b04eb44-caec-43bb-b257-80f4938594eb"
      },
      "outputs": [
        {
          "data": {
            "image/png": "[encoded data removed]",
            "text/plain": [
              "<Figure size 640x480 with 1 Axes>"
            ]
          },
          "metadata": {},
          "output_type": "display_data"
        }
      ],
      "source": [
        "b_reshaped=b.reshape(len(b),-1)\n",
        "pl.pcolor(b_reshaped,cmap=\"jet\")\n",
        "pl.show()"
      ]
    },
    {
      "cell_type": "code",
      "execution_count": null,
      "metadata": {
        "id": "jfX0-eVy7-jJ"
      },
      "outputs": [],
      "source": [
        "def example_TEBD_gs_tf_ising_finite_new(L, g, chi_max=30):\n",
        "    sigmaz = np.array([[1., 0.], [0., -1.]])\n",
        "    print(\"finite TEBD, imaginary time evolution, transverse field Ising\")\n",
        "    print(\"L={L:d}, g={g:.2f}\".format(L=L, g=g))\n",
        "    # from . import a_mps\n",
        "    # from . import b_model\n",
        "    model =TFIModel(L=L, J=1., g=g, bc='finite')\n",
        "    psi = init_FM_MPS(model.L, model.d, model.bc)\n",
        "    for dt in [0.1,0.01,0.001,1.e-5,1.e-6]:\n",
        "        U_bonds = calc_U_bonds(model.H_bonds, dt)\n",
        "        run_TEBD(psi, U_bonds, N_steps=500, chi_max=chi_max, eps=1.e-10)\n",
        "        E = np.sum(psi.bond_expectation_value(model.H_bonds))\n",
        "        print(\"dt = {dt:.5f}: E = {E:.13f}\".format(dt=dt, E=E))\n",
        "    print(\"final bond dimensions: \", psi.get_chi())\n",
        "    mag_x = np.sum(psi.site_expectation_value(model.sigmax))\n",
        "    mag_z = np.sum(psi.site_expectation_value(model.sigmaz))\n",
        "    print(\"magnetization in X = {mag_x:.5f}\".format(mag_x=mag_x))\n",
        "    print(\"magnetization in Z = {mag_z:.5f}\".format(mag_z=mag_z))\n",
        "    print(\"entanglement entropy = \", psi.entanglement_entropy())\n",
        "    # print(\"correlation length = \", psi.correlation_length())\n",
        "    return psi.correlation_function(sigmaz,5,sigmaz,6)"
      ]
    },
    {
      "cell_type": "code",
      "execution_count": null,
      "metadata": {
        "colab": {
          "base_uri": "https://localhost:8080/"
        },
        "id": "eQ-unA_b8Qh1",
        "outputId": "6328eb36-c005-499d-972f-0d0d1be415fa"
      },
      "outputs": [
        {
          "name": "stdout",
          "output_type": "stream",
          "text": [
            "finite TEBD, imaginary time evolution, transverse field Ising\n",
            "L=10, g=1.00\n",
            "dt = 0.10000: E = -12.3446865032241\n",
            "dt = 0.01000: E = -12.3780979960037\n",
            "dt = 0.00100: E = -12.3811510623369\n",
            "dt = 0.00001: E = -12.3814828533779\n",
            "dt = 0.00000: E = -12.3814858870182\n",
            "final bond dimensions:  [2, 4, 8, 14, 19, 14, 8, 4, 2]\n",
            "magnetization in X = 7.32203\n",
            "magnetization in Z = 0.00000\n",
            "entanglement entropy =  [0.26477662 0.32928594 0.35902351 0.37479477 0.37874558 0.37479477\n",
            " 0.35902351 0.32928594 0.26477662]\n"
          ]
        }
      ],
      "source": [
        "d=example_TEBD_gs_tf_ising_finite_new(L=10, g=1.0)"
      ]
    },
    {
      "cell_type": "markdown",
      "metadata": {
        "id": "NXaX6U6D9aJ2"
      },
      "source": [
        "**` Calculation for correlation-function`**\n"
      ]
    },
    {
      "cell_type": "code",
      "execution_count": null,
      "metadata": {
        "colab": {
          "base_uri": "https://localhost:8080/"
        },
        "id": "xs6VNvA89NwI",
        "outputId": "016592bd-222e-4b05-e5ee-4ab8383854ab"
      },
      "outputs": [
        {
          "name": "stdout",
          "output_type": "stream",
          "text": [
            "finite TEBD, imaginary time evolution, transverse field Ising\n",
            "L=20, g=1.00\n",
            "dt = 0.10000: E = -25.0240019422912\n",
            "dt = 0.01000: E = -25.0998296428180\n",
            "dt = 0.00100: E = -25.1069989866037\n",
            "dt = 0.00001: E = -25.1077812775152\n",
            "dt = 0.00000: E = -25.1077884264095\n",
            "final bond dimensions:  [2, 4, 8, 16, 22, 27, 30, 30, 30, 30, 30, 30, 30, 27, 22, 16, 8, 4, 2]\n",
            "magnetization in X = 13.89870\n",
            "magnetization in Z = 0.00584\n",
            "entanglement entropy =  [0.26699289 0.33557499 0.37160669 0.39625229 0.41244379 0.42518688\n",
            " 0.43317655 0.43957401 0.44230413 0.44400456 0.44230413 0.43957401\n",
            " 0.43317655 0.42518688 0.41244379 0.39625229 0.37160669 0.33557499\n",
            " 0.26699289]\n",
            "finite TEBD, imaginary time evolution, transverse field Ising\n",
            "L=30, g=1.00\n",
            "dt = 0.10000: E = -37.7094313205859\n",
            "dt = 0.01000: E = -37.8257594734778\n",
            "dt = 0.00100: E = -37.8368597334441\n",
            "dt = 0.00001: E = -37.8380722379378\n",
            "dt = 0.00000: E = -37.8380833167063\n",
            "final bond dimensions:  [2, 4, 8, 16, 22, 28, 30, 30, 30, 30, 30, 30, 30, 30, 30, 30, 30, 30, 30, 30, 30, 30, 30, 28, 22, 16, 8, 4, 2]\n",
            "magnetization in X = 20.39165\n",
            "magnetization in Z = 0.13514\n",
            "entanglement entropy =  [0.26741394 0.33675569 0.37392209 0.40008754 0.41822606 0.43335662\n",
            " 0.44424792 0.45408621 0.46091957 0.4674388  0.47148362 0.47554844\n",
            " 0.47738895 0.47940167 0.4792933  0.47940167 0.47738895 0.47554844\n",
            " 0.47148362 0.4674388  0.46091957 0.45408621 0.44424792 0.43335662\n",
            " 0.41822606 0.40008754 0.37392209 0.33675569 0.26741394]\n",
            "finite TEBD, imaginary time evolution, transverse field Ising\n",
            "L=40, g=1.00\n",
            "dt = 0.10000: E = -50.3966033129321\n",
            "dt = 0.01000: E = -50.5527741036424\n",
            "dt = 0.00100: E = -50.5677424792485\n",
            "dt = 0.00001: E = -50.5693781844461\n",
            "dt = 0.00000: E = -50.5693931301932\n",
            "final bond dimensions:  [2, 4, 8, 16, 22, 29, 30, 30, 30, 30, 30, 30, 30, 30, 30, 30, 30, 30, 30, 30, 30, 30, 30, 30, 30, 30, 30, 30, 30, 30, 30, 30, 30, 29, 22, 16, 8, 4, 2]\n",
            "magnetization in X = 26.84956\n",
            "magnetization in Z = 0.71257\n",
            "entanglement entropy =  [0.26752428 0.33710019 0.37463018 0.40128849 0.42005888 0.43595846\n",
            " 0.44777186 0.45868227 0.46676114 0.47469535 0.48035757 0.48623813\n",
            " 0.49013856 0.49445266 0.49695144 0.49997447 0.50127652 0.50316385\n",
            " 0.50337943 0.50420764 0.50337943 0.50316385 0.50127652 0.49997447\n",
            " 0.49695144 0.49445266 0.49013856 0.48623813 0.48035757 0.47469535\n",
            " 0.46676114 0.45868227 0.44777186 0.43595846 0.42005888 0.40128849\n",
            " 0.37463018 0.33710019 0.26752428]\n",
            "finite TEBD, imaginary time evolution, transverse field Ising\n",
            "L=50, g=1.00\n",
            "dt = 0.10000: E = -63.0845449543752\n",
            "dt = 0.01000: E = -63.2801886929551\n",
            "dt = 0.00100: E = -63.2989913135979\n",
            "dt = 0.00001: E = -63.3010462288065\n",
            "dt = 0.00000: E = -63.3010650076903\n",
            "final bond dimensions:  [2, 4, 8, 16, 22, 30, 30, 30, 30, 30, 30, 30, 30, 30, 30, 30, 30, 30, 30, 30, 30, 30, 30, 30, 30, 30, 30, 30, 30, 30, 30, 30, 30, 30, 30, 30, 30, 30, 30, 30, 30, 30, 30, 30, 22, 16, 8, 4, 2]\n",
            "magnetization in X = 33.28715\n",
            "magnetization in Z = 2.02935\n",
            "entanglement entropy =  [0.26744973 0.33702866 0.37462477 0.40141034 0.42037296 0.43652766\n",
            " 0.44866532 0.45996603 0.46851003 0.47698003 0.4832603  0.48983589\n",
            " 0.49452329 0.49970984 0.50318559 0.5072825  0.50977953 0.51297425\n",
            " 0.51464045 0.51705308 0.5179828  0.51968911 0.51993976 0.52098348\n",
            " 0.52058431 0.52098348 0.51993976 0.51968911 0.5179828  0.51705308\n",
            " 0.51464045 0.51297425 0.50977953 0.5072825  0.50318559 0.49970984\n",
            " 0.49452329 0.48983589 0.4832603  0.47698003 0.46851003 0.45996603\n",
            " 0.44866532 0.43652766 0.42037296 0.40141034 0.37462477 0.33702866\n",
            " 0.26744973]\n",
            "finite TEBD, imaginary time evolution, transverse field Ising\n",
            "L=60, g=1.00\n",
            "dt = 0.10000: E = -75.7729292060053\n",
            "dt = 0.01000: E = -76.0077573571084\n",
            "dt = 0.00100: E = -76.0303689872826\n",
            "dt = 0.00001: E = -76.0328400819272\n",
            "dt = 0.00000: E = -76.0328626688529\n",
            "final bond dimensions:  [2, 4, 8, 16, 22, 30, 30, 30, 30, 30, 30, 30, 30, 30, 30, 30, 30, 30, 30, 30, 30, 30, 30, 30, 30, 30, 30, 30, 30, 30, 30, 30, 30, 30, 30, 30, 30, 30, 30, 30, 30, 30, 30, 30, 30, 30, 30, 30, 30, 30, 30, 30, 30, 30, 22, 16, 8, 4, 2]\n",
            "magnetization in X = 39.71006\n",
            "magnetization in Z = 4.19870\n",
            "entanglement entropy =  [0.26718952 0.33658534 0.37403831 0.40071718 0.41961149 0.43573438\n",
            " 0.4478802  0.45922667 0.46785872 0.47645597 0.48290875 0.48969819\n",
            " 0.49464829 0.50014164 0.50397742 0.50848194 0.51144512 0.51515792\n",
            " 0.51740729 0.52046053 0.52210402 0.52458854 0.52570071 0.52767941\n",
            " 0.52831148 0.52982712 0.53001292 0.53109281 0.53085235 0.53151098\n",
            " 0.53085235 0.53109281 0.53001292 0.52982712 0.52831148 0.52767941\n",
            " 0.52570071 0.52458854 0.52210402 0.52046053 0.51740729 0.51515792\n",
            " 0.51144512 0.50848194 0.50397742 0.50014164 0.49464829 0.48969819\n",
            " 0.48290875 0.47645597 0.46785872 0.45922667 0.4478802  0.43573438\n",
            " 0.41961149 0.40071718 0.37403831 0.33658534 0.26718952]\n",
            "finite TEBD, imaginary time evolution, transverse field Ising\n",
            "L=70, g=1.00\n",
            "dt = 0.10000: E = -88.4616334601067\n",
            "dt = 0.01000: E = -88.7353871492180\n",
            "dt = 0.00100: E = -88.7617850910644\n",
            "dt = 0.00001: E = -88.7646697468775\n",
            "dt = 0.00000: E = -88.7646961192971\n",
            "final bond dimensions:  [2, 4, 8, 16, 22, 30, 30, 30, 30, 30, 30, 30, 30, 30, 30, 30, 30, 30, 30, 30, 30, 30, 30, 30, 30, 30, 30, 30, 30, 30, 30, 30, 30, 30, 30, 30, 30, 30, 30, 30, 30, 30, 30, 30, 30, 30, 30, 30, 30, 30, 30, 30, 30, 30, 30, 30, 30, 30, 30, 30, 30, 30, 30, 30, 22, 16, 8, 4, 2]\n",
            "magnetization in X = 46.12092\n",
            "magnetization in Z = 7.18765\n",
            "entanglement entropy =  [0.2667655  0.33582531 0.37297244 0.39937058 0.41801044 0.43390327\n",
            " 0.44584584 0.45701384 0.46549537 0.47396761 0.4803248  0.48704513\n",
            " 0.49195732 0.49744043 0.50129925 0.50585592 0.50890696 0.51273849\n",
            " 0.51514509 0.51838851 0.52026397 0.52301593 0.52444118 0.52677146\n",
            " 0.52780531 0.52976492 0.53045037 0.53207661 0.53244484 0.53376447\n",
            " 0.53383734 0.53486869 0.5346604  0.53541466 0.53493272 0.53541466\n",
            " 0.5346604  0.53486869 0.53383734 0.53376447 0.53244484 0.53207661\n",
            " 0.53045037 0.52976492 0.52780531 0.52677146 0.52444118 0.52301593\n",
            " 0.52026397 0.51838851 0.51514509 0.51273849 0.50890696 0.50585592\n",
            " 0.50129925 0.49744043 0.49195732 0.48704513 0.4803248  0.47396761\n",
            " 0.46549537 0.45701384 0.44584584 0.43390327 0.41801044 0.39937058\n",
            " 0.37297244 0.33582531 0.2667655 ]\n",
            "finite TEBD, imaginary time evolution, transverse field Ising\n",
            "L=80, g=1.00\n",
            "dt = 0.10000: E = -101.1506047588107\n",
            "dt = 0.01000: E = -101.4630518790254\n",
            "dt = 0.00100: E = -101.4932149913498\n",
            "dt = 0.00001: E = -101.4965109077623\n",
            "dt = 0.00000: E = -101.4965410446170\n",
            "final bond dimensions:  [2, 4, 8, 16, 22, 30, 30, 30, 30, 30, 30, 30, 30, 30, 30, 30, 30, 30, 30, 30, 30, 30, 30, 30, 30, 30, 30, 30, 30, 30, 30, 30, 30, 30, 30, 30, 30, 30, 30, 30, 30, 30, 30, 30, 30, 30, 30, 30, 30, 30, 30, 30, 30, 30, 30, 30, 30, 30, 30, 30, 30, 30, 30, 30, 30, 30, 30, 30, 30, 30, 30, 30, 30, 30, 22, 16, 8, 4, 2]\n",
            "magnetization in X = 52.52143\n",
            "magnetization in Z = 10.88174\n",
            "entanglement entropy =  [0.26623029 0.3348515  0.37158463 0.39758729 0.41585088 0.43138479\n",
            " 0.44298763 0.45383331 0.46201233 0.47019979 0.47629285 0.48276726\n",
            " 0.48745519 0.49273286 0.49640909 0.50080271 0.50371486 0.50742792\n",
            " 0.50974171 0.51291373 0.51474515 0.51747563 0.51890869 0.52127067\n",
            " 0.52236769 0.52441594 0.52522397 0.52700009 0.52755499 0.52909077\n",
            " 0.52941989 0.53073952 0.5308635  0.53198512 0.53191912 0.53285578\n",
            " 0.53261033 0.53337075 0.53295224 0.53354118 0.53295224 0.53337075\n",
            " 0.53261033 0.53285578 0.53191912 0.53198512 0.5308635  0.53073952\n",
            " 0.52941989 0.52909077 0.52755499 0.52700009 0.52522397 0.52441594\n",
            " 0.52236769 0.52127067 0.51890869 0.51747563 0.51474515 0.51291373\n",
            " 0.50974171 0.50742792 0.50371486 0.50080271 0.49640909 0.49273286\n",
            " 0.48745519 0.48276726 0.47629285 0.47019979 0.46201233 0.45383331\n",
            " 0.44298763 0.43138479 0.41585088 0.39758729 0.37158463 0.3348515\n",
            " 0.26623029]\n"
          ]
        }
      ],
      "source": [
        "L=[20,30,40,50,60,70,80]\n",
        "d_new=[0 for i in range(len(L))]\n",
        "for i,j in enumerate(L):\n",
        "  d_new[i]=example_TEBD_gs_tf_ising_finite_new(L=j,g=1.0)"
      ]
    },
    {
      "cell_type": "code",
      "execution_count": null,
      "metadata": {
        "colab": {
          "base_uri": "https://localhost:8080/",
          "height": 472
        },
        "id": "jsrSbQbBEGji",
        "outputId": "bfa1396c-ee98-443e-e401-bff2567749b0"
      },
      "outputs": [
        {
          "data": {
            "text/plain": [
              "[<matplotlib.lines.Line2D at 0x7da228e03760>]"
            ]
          },
          "execution_count": 12,
          "metadata": {},
          "output_type": "execute_result"
        },
        {
          "data": {
            "image/png": "[encoded data removed]",
            "text/plain": [
              "<Figure size 640x480 with 1 Axes>"
            ]
          },
          "metadata": {},
          "output_type": "display_data"
        }
      ],
      "source": [
        "import matplotlib.pyplot as plt\n",
        "plt.xlabel(\"site number\")\n",
        "plt.ylabel(\"correlation function\")\n",
        "plt.plot(L,d_new)"
      ]
    },
    {
      "cell_type": "markdown",
      "metadata": {
        "id": "uPEs5tofErFr"
      },
      "source": [
        "**Calculation for magnetization m^2**"
      ]
    },
    {
      "cell_type": "code",
      "execution_count": null,
      "metadata": {
        "colab": {
          "base_uri": "https://localhost:8080/"
        },
        "id": "_HOKMXeiEm5q",
        "outputId": "1aa3dfa0-5d3f-4d1a-eea5-2b0e28293863"
      },
      "outputs": [
        {
          "name": "stdout",
          "output_type": "stream",
          "text": [
            "finite TEBD, imaginary time evolution, transverse field Ising\n",
            "L=20, g=1.00\n",
            "dt = 0.01000: E = -25.0547086583914\n",
            "dt = 0.02000: E = -25.0890490835086\n",
            "dt = 0.03000: E = -25.0836107214767\n",
            "final bond dimensions:  [2, 4, 8, 16, 22, 25, 27, 29, 30, 30, 30, 29, 27, 25, 22, 16, 8, 4, 2]\n",
            "magnetization in X = 13.82158\n",
            "magnetization in Z = 0.32022\n",
            "entanglement entropy =  [0.26999787 0.34259476 0.3801188  0.40444489 0.42150634 0.43378261\n",
            " 0.44251159 0.44838042 0.45176868 0.45287924 0.45176868 0.44838042\n",
            " 0.44251159 0.43378261 0.42150634 0.40444489 0.3801188  0.34259476\n",
            " 0.26999787]\n",
            "finite TEBD, imaginary time evolution, transverse field Ising\n",
            "L=30, g=1.00\n",
            "dt = 0.01000: E = -37.7781595784284\n",
            "dt = 0.02000: E = -37.8057320694221\n",
            "dt = 0.03000: E = -37.8004213367630\n",
            "final bond dimensions:  [2, 4, 8, 16, 22, 27, 29, 30, 30, 30, 30, 30, 30, 30, 30, 30, 30, 30, 30, 30, 30, 30, 29, 27, 22, 16, 8, 4, 2]\n",
            "magnetization in X = 20.27378\n",
            "magnetization in Z = 2.05148\n",
            "entanglement entropy =  [0.26971132 0.34247609 0.38058205 0.40593867 0.42448426 0.43876563\n",
            " 0.45003376 0.45907801 0.46631458 0.47210276 0.47659331 0.47998936\n",
            " 0.48232566 0.48372996 0.48417208 0.48372996 0.48232566 0.47998936\n",
            " 0.47659331 0.47210276 0.46631458 0.45907801 0.45003376 0.43876563\n",
            " 0.42448426 0.40593867 0.38058205 0.34247609 0.26971132]\n",
            "finite TEBD, imaginary time evolution, transverse field Ising\n",
            "L=40, g=1.00\n",
            "dt = 0.01000: E = -50.5037529550822\n",
            "dt = 0.02000: E = -50.5251260429223\n",
            "dt = 0.03000: E = -50.5180023366116\n",
            "final bond dimensions:  [2, 4, 8, 16, 22, 27, 30, 30, 30, 30, 30, 30, 30, 30, 30, 30, 30, 30, 30, 30, 30, 30, 30, 30, 30, 30, 30, 30, 30, 30, 30, 30, 30, 27, 22, 16, 8, 4, 2]\n",
            "magnetization in X = 26.67900\n",
            "magnetization in Z = 5.57312\n",
            "entanglement entropy =  [0.26809597 0.33960749 0.37665018 0.40114945 0.41900694 0.43282933\n",
            " 0.44381476 0.45283566 0.46023892 0.46648914 0.47165407 0.47606441\n",
            " 0.47966211 0.48272589 0.48512865 0.48712598 0.48854804 0.48963729\n",
            " 0.49019561 0.49045419 0.49019561 0.48963729 0.48854804 0.48712598\n",
            " 0.48512865 0.48272589 0.47966211 0.47606441 0.47165407 0.46648914\n",
            " 0.46023892 0.45283566 0.44381476 0.43282933 0.41900694 0.40114945\n",
            " 0.37665018 0.33960749 0.26809597]\n",
            "finite TEBD, imaginary time evolution, transverse field Ising\n",
            "L=50, g=1.00\n",
            "dt = 0.01000: E = -63.2294914324468\n",
            "dt = 0.02000: E = -63.2468646480385\n",
            "dt = 0.03000: E = -63.2359040663825\n",
            "final bond dimensions:  [2, 4, 8, 16, 22, 27, 30, 30, 30, 30, 30, 30, 30, 30, 30, 30, 30, 30, 30, 30, 30, 30, 30, 30, 30, 30, 30, 30, 30, 30, 30, 30, 30, 30, 30, 30, 30, 30, 30, 30, 30, 30, 30, 27, 22, 16, 8, 4, 2]\n",
            "magnetization in X = 33.04940\n",
            "magnetization in Z = 10.44281\n",
            "entanglement entropy =  [0.26587824 0.33551066 0.37079062 0.39364288 0.40993634 0.42232234\n",
            " 0.43195268 0.43976313 0.44603753 0.45132163 0.45560375 0.45931343\n",
            " 0.46229748 0.46495114 0.46703729 0.46894576 0.4703829  0.47174329\n",
            " 0.47269267 0.47363268 0.47419937 0.47480005 0.47504953 0.47535736\n",
            " 0.47532425 0.47535736 0.47504953 0.47480005 0.47419937 0.47363268\n",
            " 0.47269267 0.47174329 0.4703829  0.46894576 0.46703729 0.46495114\n",
            " 0.46229748 0.45931343 0.45560375 0.45132163 0.44603753 0.43976313\n",
            " 0.43195268 0.42232234 0.40993634 0.39364288 0.37079062 0.33551066\n",
            " 0.26587824]\n",
            "finite TEBD, imaginary time evolution, transverse field Ising\n",
            "L=60, g=1.00\n",
            "dt = 0.01000: E = -75.9552384254981\n",
            "dt = 0.02000: E = -75.9699294070444\n",
            "dt = 0.03000: E = -75.9541926922468\n",
            "final bond dimensions:  [2, 4, 8, 16, 22, 27, 30, 30, 30, 30, 30, 30, 30, 30, 30, 30, 30, 30, 30, 30, 30, 30, 30, 30, 30, 30, 30, 30, 30, 30, 30, 30, 30, 30, 30, 30, 30, 30, 30, 30, 30, 30, 30, 30, 30, 30, 30, 30, 30, 30, 30, 30, 30, 27, 22, 16, 8, 4, 2]\n",
            "magnetization in X = 39.39469\n",
            "magnetization in Z = 16.06089\n",
            "entanglement entropy =  [0.26380286 0.33162979 0.36517483 0.38634847 0.40100474 0.41181378\n",
            " 0.41990801 0.426251   0.43109897 0.43503418 0.4380085  0.44049722\n",
            " 0.44230151 0.44387216 0.4449169  0.44589155 0.4464374  0.44702612\n",
            " 0.44724821 0.44759421 0.44761441 0.44781761 0.44772211 0.44785242\n",
            " 0.44770188 0.44780704 0.44764258 0.44775281 0.4475996  0.44773034\n",
            " 0.4475996  0.44775281 0.44764258 0.44780704 0.44770188 0.44785242\n",
            " 0.44772211 0.44781761 0.44761441 0.44759421 0.44724821 0.44702612\n",
            " 0.4464374  0.44589155 0.4449169  0.44387216 0.44230151 0.44049722\n",
            " 0.4380085  0.43503418 0.43109897 0.426251   0.41990801 0.41181378\n",
            " 0.40100474 0.38634847 0.36517483 0.33162979 0.26380286]\n",
            "finite TEBD, imaginary time evolution, transverse field Ising\n",
            "L=70, g=1.00\n",
            "dt = 0.01000: E = -88.6809858771753\n",
            "dt = 0.02000: E = -88.6936241881460\n",
            "dt = 0.03000: E = -88.6729127581522\n",
            "final bond dimensions:  [2, 4, 8, 16, 22, 27, 30, 30, 30, 30, 30, 30, 30, 30, 30, 30, 30, 30, 30, 30, 30, 30, 30, 30, 30, 30, 30, 30, 30, 30, 30, 30, 30, 30, 30, 30, 30, 30, 30, 30, 30, 30, 30, 30, 30, 30, 30, 30, 30, 30, 30, 30, 30, 30, 30, 30, 30, 30, 30, 30, 30, 30, 30, 27, 22, 16, 8, 4, 2]\n",
            "magnetization in X = 45.72314\n",
            "magnetization in Z = 21.98050\n",
            "entanglement entropy =  [0.26220976 0.3286319  0.36081278 0.38064312 0.39397629 0.40348194\n",
            " 0.41029435 0.41537752 0.41898893 0.42171222 0.42349916 0.42482796\n",
            " 0.4254978  0.42596455 0.42593148 0.42586239 0.425391   0.42500066\n",
            " 0.42427049 0.42370724 0.42284531 0.42221515 0.42131389 0.4206941\n",
            " 0.41982187 0.41926929 0.41847687 0.41803307 0.41735783 0.4170525\n",
            " 0.41652115 0.41637429 0.41600465 0.41602802 0.41583011 0.41602802\n",
            " 0.41600465 0.41637429 0.41652115 0.4170525  0.41735783 0.41803307\n",
            " 0.41847687 0.41926929 0.41982187 0.4206941  0.42131389 0.42221515\n",
            " 0.42284531 0.42370724 0.42427049 0.42500066 0.425391   0.42586239\n",
            " 0.42593148 0.42596455 0.4254978  0.42482796 0.42349916 0.42171222\n",
            " 0.41898893 0.41537752 0.41029435 0.40348194 0.39397629 0.38064312\n",
            " 0.36081278 0.3286319  0.26220976]\n",
            "finite TEBD, imaginary time evolution, transverse field Ising\n",
            "L=80, g=1.00\n",
            "dt = 0.01000: E = -101.4067333520783\n",
            "dt = 0.02000: E = -101.4175936337897\n",
            "dt = 0.03000: E = -101.3920275624023\n",
            "final bond dimensions:  [2, 4, 8, 16, 22, 27, 30, 30, 30, 30, 30, 30, 30, 30, 30, 30, 30, 30, 30, 30, 30, 30, 30, 30, 30, 30, 30, 30, 30, 30, 30, 30, 30, 30, 30, 30, 30, 30, 30, 30, 30, 30, 30, 30, 30, 30, 30, 30, 30, 30, 30, 30, 30, 30, 30, 30, 30, 30, 30, 30, 30, 30, 30, 30, 30, 30, 30, 30, 30, 30, 30, 30, 30, 27, 22, 16, 8, 4, 2]\n",
            "magnetization in X = 52.04088\n",
            "magnetization in Z = 27.95122\n",
            "entanglement entropy =  [0.26111831 0.32657003 0.35780332 0.37669016 0.38908994 0.397663\n",
            " 0.40355513 0.40771789 0.4104236  0.4122403  0.41313746 0.41357488\n",
            " 0.41337187 0.41296362 0.41207546 0.41114872 0.40984068 0.40861101\n",
            " 0.4070633  0.40568004 0.40402043 0.40259076 0.40091268 0.3995154\n",
            " 0.39788855 0.39658251 0.39505957 0.39388905 0.39251008 0.39150838\n",
            " 0.3903038  0.38949579 0.38848847 0.38789228 0.38709901 0.38672733\n",
            " 0.38615987 0.38602076 0.38568655 0.38578399 0.38568655 0.38602076\n",
            " 0.38615987 0.38672733 0.38709901 0.38789228 0.38848847 0.38949579\n",
            " 0.3903038  0.39150838 0.39251008 0.39388905 0.39505957 0.39658251\n",
            " 0.39788855 0.3995154  0.40091268 0.40259076 0.40402043 0.40568004\n",
            " 0.4070633  0.40861101 0.40984068 0.41114872 0.41207546 0.41296362\n",
            " 0.41337187 0.41357488 0.41313746 0.4122403  0.4104236  0.40771789\n",
            " 0.40355513 0.397663   0.38908994 0.37669016 0.35780332 0.32657003\n",
            " 0.26111831]\n"
          ]
        }
      ],
      "source": [
        "def example_TEBD_gs_tf_ising_finite_new(L, g, chi_max=30):\n",
        "    sigmaz = np.array([[1., 0.], [0., -1.]])\n",
        "    print(\"finite TEBD, imaginary time evolution, transverse field Ising\")\n",
        "    print(\"L={L:d}, g={g:.2f}\".format(L=L, g=g))\n",
        "    # from . import a_mps\n",
        "    # from . import b_model\n",
        "    model =TFIModel(L=L, J=1., g=g, bc='finite')\n",
        "    psi = init_FM_MPS(model.L, model.d, model.bc)\n",
        "    for dt in [10e-3,2*10e-3,3*10e-3]:\n",
        "        U_bonds = calc_U_bonds(model.H_bonds, dt)\n",
        "        run_TEBD(psi, U_bonds, N_steps=500, chi_max=chi_max, eps=1.e-10)\n",
        "        E = np.sum(psi.bond_expectation_value(model.H_bonds))\n",
        "        print(\"dt = {dt:.5f}: E = {E:.13f}\".format(dt=dt, E=E))\n",
        "    print(\"final bond dimensions: \", psi.get_chi())\n",
        "    mag_x = np.sum(psi.site_expectation_value(model.sigmax))\n",
        "    mag_z = np.sum(psi.site_expectation_value(model.sigmaz))\n",
        "    print(\"magnetization in X = {mag_x:.5f}\".format(mag_x=mag_x))\n",
        "    print(\"magnetization in Z = {mag_z:.5f}\".format(mag_z=mag_z))\n",
        "    print(\"entanglement entropy = \", psi.entanglement_entropy())\n",
        "    # print(\"correlation length = \", psi.correlation_length())\n",
        "    return psi.correlation_function(sigmaz,5,sigmaz,6)\n",
        "L=[20,30,40,50,60,70,80]\n",
        "d_new=[0 for i in range(len(L))]\n",
        "for i,j in enumerate(L):\n",
        "  d_new[i]=example_TEBD_gs_tf_ising_finite_new(L=j,g=1.0)"
      ]
    },
    {
      "cell_type": "code",
      "execution_count": null,
      "metadata": {
        "colab": {
          "base_uri": "https://localhost:8080/",
          "height": 467
        },
        "id": "9h-fXIPWKO7t",
        "outputId": "2bce4765-0237-4c7d-c1a9-9200c419e212"
      },
      "outputs": [
        {
          "data": {
            "text/plain": [
              "[<matplotlib.lines.Line2D at 0x7da228e0e830>]"
            ]
          },
          "execution_count": 21,
          "metadata": {},
          "output_type": "execute_result"
        },
        {
          "data": {
            "image/png": "[encoded data removed]",
            "text/plain": [
              "<Figure size 640x480 with 1 Axes>"
            ]
          },
          "metadata": {},
          "output_type": "display_data"
        }
      ],
      "source": [
        "plt.xlabel(\"site number\")\n",
        "plt.ylabel(\"magnetization\")\n",
        "plt.plot(L,d_new)"
      ]
    },
    {
      "cell_type": "code",
      "execution_count": null,
      "metadata": {
        "colab": {
          "base_uri": "https://localhost:8080/",
          "height": 448
        },
        "id": "dgX4EYAXfSp7",
        "outputId": "1aebf784-d4a6-4fc0-e297-a83e646116eb"
      },
      "outputs": [
        {
          "data": {
            "text/plain": [
              "[<matplotlib.lines.Line2D at 0x7da228d95180>]"
            ]
          },
          "execution_count": 22,
          "metadata": {},
          "output_type": "execute_result"
        },
        {
          "data": {
            "image/png": "[encoded data removed]",
            "text/plain": [
              "<Figure size 640x480 with 1 Axes>"
            ]
          },
          "metadata": {},
          "output_type": "display_data"
        }
      ],
      "source": [
        "d=[[],[]]\n",
        "for i in range(len(b)):\n",
        "  d[1].append(b[i])\n",
        "plt.plot(d[1],c)"
      ]
    },
    {
      "cell_type": "code",
      "execution_count": null,
      "metadata": {
        "colab": {
          "base_uri": "https://localhost:8080/"
        },
        "id": "zn7FK0AEsnEC",
        "outputId": "819fe65a-f85e-4f72-db5b-5c90607d8d17"
      },
      "outputs": [
        {
          "data": {
            "text/plain": [
              "79"
            ]
          },
          "execution_count": 23,
          "metadata": {},
          "output_type": "execute_result"
        }
      ],
      "source": [
        "len(c)"
      ]
    },
    {
      "cell_type": "code",
      "execution_count": null,
      "metadata": {
        "colab": {
          "base_uri": "https://localhost:8080/"
        },
        "id": "4KwuFiZ6blHm",
        "outputId": "603f7b04-5545-4779-f899-7d95d5a01f0d"
      },
      "outputs": [
        {
          "name": "stdout",
          "output_type": "stream",
          "text": [
            "finite TEBD, imaginary time evolution, transverse field Ising\n",
            "L=50, g=1.00\n",
            "dt = 0.10000: E = -63.0845449543752\n",
            "dt = 0.01000: E = -63.2801886929551\n",
            "dt = 0.00100: E = -63.2989913135979\n",
            "dt = 0.00001: E = -63.3010462288065\n",
            "dt = 0.00000: E = -63.3010650076903\n",
            "final bond dimensions:  [2, 4, 8, 16, 22, 30, 30, 30, 30, 30, 30, 30, 30, 30, 30, 30, 30, 30, 30, 30, 30, 30, 30, 30, 30, 30, 30, 30, 30, 30, 30, 30, 30, 30, 30, 30, 30, 30, 30, 30, 30, 30, 30, 30, 22, 16, 8, 4, 2]\n",
            "magnetization in X = 33.28715\n",
            "magnetization in Z = 2.02935\n",
            "entanglement entropy =  [0.26744973 0.33702866 0.37462477 0.40141034 0.42037296 0.43652766\n",
            " 0.44866532 0.45996603 0.46851003 0.47698003 0.4832603  0.48983589\n",
            " 0.49452329 0.49970984 0.50318559 0.5072825  0.50977953 0.51297425\n",
            " 0.51464045 0.51705308 0.5179828  0.51968911 0.51993976 0.52098348\n",
            " 0.52058431 0.52098348 0.51993976 0.51968911 0.5179828  0.51705308\n",
            " 0.51464045 0.51297425 0.50977953 0.5072825  0.50318559 0.49970984\n",
            " 0.49452329 0.48983589 0.4832603  0.47698003 0.46851003 0.45996603\n",
            " 0.44866532 0.43652766 0.42037296 0.40141034 0.37462477 0.33702866\n",
            " 0.26744973]\n",
            "finite TEBD, imaginary time evolution, transverse field Ising\n",
            "L=50, g=1.00\n",
            "dt = 0.10000: E = -63.0845449543752\n",
            "dt = 0.01000: E = -63.2801886929551\n",
            "dt = 0.00100: E = -63.2989913135979\n",
            "dt = 0.00001: E = -63.3010462288065\n",
            "dt = 0.00000: E = -63.3010650076903\n",
            "final bond dimensions:  [2, 4, 8, 16, 22, 30, 30, 30, 30, 30, 30, 30, 30, 30, 30, 30, 30, 30, 30, 30, 30, 30, 30, 30, 30, 30, 30, 30, 30, 30, 30, 30, 30, 30, 30, 30, 30, 30, 30, 30, 30, 30, 30, 30, 22, 16, 8, 4, 2]\n",
            "magnetization in X = 33.28715\n",
            "magnetization in Z = 2.02935\n",
            "entanglement entropy =  [0.26744973 0.33702866 0.37462477 0.40141034 0.42037296 0.43652766\n",
            " 0.44866532 0.45996603 0.46851003 0.47698003 0.4832603  0.48983589\n",
            " 0.49452329 0.49970984 0.50318559 0.5072825  0.50977953 0.51297425\n",
            " 0.51464045 0.51705308 0.5179828  0.51968911 0.51993976 0.52098348\n",
            " 0.52058431 0.52098348 0.51993976 0.51968911 0.5179828  0.51705308\n",
            " 0.51464045 0.51297425 0.50977953 0.5072825  0.50318559 0.49970984\n",
            " 0.49452329 0.48983589 0.4832603  0.47698003 0.46851003 0.45996603\n",
            " 0.44866532 0.43652766 0.42037296 0.40141034 0.37462477 0.33702866\n",
            " 0.26744973]\n",
            "finite TEBD, imaginary time evolution, transverse field Ising\n",
            "L=90, g=1.00\n",
            "dt = 0.10000: E = -113.8398107843259\n",
            "dt = 0.01000: E = -114.1907523843739\n",
            "dt = 0.00100: E = -114.2246615877773\n",
            "dt = 0.00001: E = -114.2283667932684\n",
            "dt = 0.00000: E = -114.2284006754693\n",
            "final bond dimensions:  [2, 4, 8, 16, 22, 30, 30, 30, 30, 30, 30, 30, 30, 30, 30, 30, 30, 30, 30, 30, 30, 30, 30, 30, 30, 30, 30, 30, 30, 30, 30, 30, 30, 30, 30, 30, 30, 30, 30, 30, 30, 30, 30, 30, 30, 30, 30, 30, 30, 30, 30, 30, 30, 30, 30, 30, 30, 30, 30, 30, 30, 30, 30, 30, 30, 30, 30, 30, 30, 30, 30, 30, 30, 30, 30, 30, 30, 30, 30, 30, 30, 30, 30, 30, 22, 16, 8, 4, 2]\n",
            "magnetization in X = 58.91304\n",
            "magnetization in Z = 15.13533\n",
            "entanglement entropy =  [0.26564577 0.33378099 0.37004849 0.39559936 0.41342543 0.42853426\n",
            " 0.43972597 0.45017286 0.45796731 0.46578268 0.47151836 0.47764811\n",
            " 0.48200671 0.48696808 0.49034406 0.49445084 0.49709302 0.50054996\n",
            " 0.5026254  0.50557346 0.50719968 0.50973994 0.51100263 0.51320993\n",
            " 0.51417334 0.51610443 0.51681776 0.51851651 0.51901801 0.52051873\n",
            " 0.52083847 0.52216824 0.52232995 0.52351016 0.52353252 0.52457999\n",
            " 0.52447757 0.52540532 0.52518922 0.52600701 0.52568532 0.52640008\n",
            " 0.52597818 0.52659423 0.526075   0.52659423 0.52597818 0.52640008\n",
            " 0.52568532 0.52600701 0.52518922 0.52540532 0.52447757 0.52457999\n",
            " 0.52353252 0.52351016 0.52232995 0.52216824 0.52083847 0.52051873\n",
            " 0.51901801 0.51851651 0.51681776 0.51610443 0.51417334 0.51320993\n",
            " 0.51100263 0.50973994 0.50719968 0.50557346 0.5026254  0.50054996\n",
            " 0.49709302 0.49445084 0.49034406 0.48696808 0.48200671 0.47764811\n",
            " 0.47151836 0.46578268 0.45796731 0.45017286 0.43972597 0.42853426\n",
            " 0.41342543 0.39559936 0.37004849 0.33378099 0.26564577]\n",
            "finite TEBD, imaginary time evolution, transverse field Ising\n",
            "L=90, g=1.00\n",
            "dt = 0.10000: E = -113.8398107843259\n",
            "dt = 0.01000: E = -114.1907523843739\n",
            "dt = 0.00100: E = -114.2246615877773\n",
            "dt = 0.00001: E = -114.2283667932684\n",
            "dt = 0.00000: E = -114.2284006754693\n",
            "final bond dimensions:  [2, 4, 8, 16, 22, 30, 30, 30, 30, 30, 30, 30, 30, 30, 30, 30, 30, 30, 30, 30, 30, 30, 30, 30, 30, 30, 30, 30, 30, 30, 30, 30, 30, 30, 30, 30, 30, 30, 30, 30, 30, 30, 30, 30, 30, 30, 30, 30, 30, 30, 30, 30, 30, 30, 30, 30, 30, 30, 30, 30, 30, 30, 30, 30, 30, 30, 30, 30, 30, 30, 30, 30, 30, 30, 30, 30, 30, 30, 30, 30, 30, 30, 30, 30, 22, 16, 8, 4, 2]\n",
            "magnetization in X = 58.91304\n",
            "magnetization in Z = 15.13533\n",
            "entanglement entropy =  [0.26564577 0.33378099 0.37004849 0.39559936 0.41342543 0.42853426\n",
            " 0.43972597 0.45017286 0.45796731 0.46578268 0.47151836 0.47764811\n",
            " 0.48200671 0.48696808 0.49034406 0.49445084 0.49709302 0.50054996\n",
            " 0.5026254  0.50557346 0.50719968 0.50973994 0.51100263 0.51320993\n",
            " 0.51417334 0.51610443 0.51681776 0.51851651 0.51901801 0.52051873\n",
            " 0.52083847 0.52216824 0.52232995 0.52351016 0.52353252 0.52457999\n",
            " 0.52447757 0.52540532 0.52518922 0.52600701 0.52568532 0.52640008\n",
            " 0.52597818 0.52659423 0.526075   0.52659423 0.52597818 0.52640008\n",
            " 0.52568532 0.52600701 0.52518922 0.52540532 0.52447757 0.52457999\n",
            " 0.52353252 0.52351016 0.52232995 0.52216824 0.52083847 0.52051873\n",
            " 0.51901801 0.51851651 0.51681776 0.51610443 0.51417334 0.51320993\n",
            " 0.51100263 0.50973994 0.50719968 0.50557346 0.5026254  0.50054996\n",
            " 0.49709302 0.49445084 0.49034406 0.48696808 0.48200671 0.47764811\n",
            " 0.47151836 0.46578268 0.45796731 0.45017286 0.43972597 0.42853426\n",
            " 0.41342543 0.39559936 0.37004849 0.33378099 0.26564577]\n"
          ]
        }
      ],
      "source": [
        "import matplotlib.pyplot as plt\n",
        "d1=[[],[]]\n",
        "site_ar=[50,90]\n",
        "for i in site_ar:\n",
        "  for j in range(len(site_ar)):\n",
        "    a,b1,c=example_TEBD_gs_tf_ising_finite(L=i, g=1.0);\n",
        "    r=np.arange(len(b1))\n",
        "    for c1 in range(len(b1)):\n",
        "      d1[j].append(b1[c1])\n",
        "# plt.plot(b1,r,label=\"L=\"+str(i))\n",
        "# plt.legend()\n",
        "# plt.show()"
      ]
    },
    {
      "cell_type": "code",
      "execution_count": null,
      "metadata": {
        "colab": {
          "base_uri": "https://localhost:8080/",
          "height": 430
        },
        "id": "Uo_r18VPaapb",
        "outputId": "d88836bd-b873-4bc1-eba9-0ecc4baa392e"
      },
      "outputs": [
        {
          "data": {
            "image/png": "[encoded data removed]",
            "text/plain": [
              "<Figure size 640x480 with 1 Axes>"
            ]
          },
          "metadata": {},
          "output_type": "display_data"
        }
      ],
      "source": [
        "for i in range(2):\n",
        "  plt.plot(d1[i][0:89],c,label=\"L=\"+str(site_ar[i]))\n",
        "plt.legend()\n",
        "plt.show()"
      ]
    },
    {
      "cell_type": "code",
      "execution_count": null,
      "metadata": {
        "colab": {
          "base_uri": "https://localhost:8080/",
          "height": 448
        },
        "id": "tGqzRQNecEID",
        "outputId": "9b72e1c2-1aad-4ab4-e17b-9e5e24ec7b8b"
      },
      "outputs": [
        {
          "data": {
            "text/plain": [
              "<Axes: >"
            ]
          },
          "execution_count": 26,
          "metadata": {},
          "output_type": "execute_result"
        },
        {
          "data": {
            "image/png": "[encoded data removed]",
            "text/plain": [
              "<Figure size 640x480 with 2 Axes>"
            ]
          },
          "metadata": {},
          "output_type": "display_data"
        }
      ],
      "source": [
        "import seaborn as sns\n",
        "sns.heatmap(np.reshape(d1[1][0:64],(8,8)), cmap=\"YlGnBu\", annot=True, fmt=\".2f\", cbar=True)"
      ]
    },
    {
      "cell_type": "code",
      "execution_count": null,
      "metadata": {
        "colab": {
          "base_uri": "https://localhost:8080/",
          "height": 448
        },
        "id": "Wx312eC-tzOP",
        "outputId": "05b077e4-2ef7-472b-dbe1-06cd4764471d"
      },
      "outputs": [
        {
          "data": {
            "text/plain": [
              "<Axes: >"
            ]
          },
          "execution_count": 27,
          "metadata": {},
          "output_type": "execute_result"
        },
        {
          "data": {
            "image/png": "[encoded data removed]",
            "text/plain": [
              "<Figure size 640x480 with 2 Axes>"
            ]
          },
          "metadata": {},
          "output_type": "display_data"
        }
      ],
      "source": [
        "import seaborn as sns\n",
        "sns.heatmap(np.reshape(d1[0][64:128],(8,8)), cmap=\"YlGnBu\", annot=True, fmt=\".3f\", cbar=True)"
      ]
    },
    {
      "cell_type": "markdown",
      "metadata": {
        "id": "8X7niEv5KffA"
      },
      "source": [
        "#**Suzuki Trotter Decomposition**\n",
        "* **First Order**"
      ]
    },
    {
      "cell_type": "code",
      "execution_count": null,
      "metadata": {
        "colab": {
          "base_uri": "https://localhost:8080/"
        },
        "id": "9AItFGn3uanI",
        "outputId": "8582b71f-dc45-445e-afeb-fa239308f3fa"
      },
      "outputs": [
        {
          "name": "stdout",
          "output_type": "stream",
          "text": [
            "Collecting ncon\n",
            "  Downloading ncon-2.0.0-py3-none-any.whl.metadata (5.2 kB)\n",
            "Requirement already satisfied: numpy>=1.11.0 in /usr/local/lib/python3.10/dist-packages (from ncon) (1.26.4)\n",
            "Downloading ncon-2.0.0-py3-none-any.whl (8.6 kB)\n",
            "Installing collected packages: ncon\n",
            "Successfully installed ncon-2.0.0\n"
          ]
        }
      ],
      "source": [
        "!pip install ncon\n",
        "# from ncon import ncon"
      ]
    },
    {
      "cell_type": "code",
      "execution_count": null,
      "metadata": {
        "id": "Ikvvl5yIcVZZ"
      },
      "outputs": [],
      "source": [
        "\n",
        "import numpy as np\n",
        "\n",
        "\n",
        "class TFIModel:\n",
        "\n",
        "    def __init__(self, L, J, g, bc='finite'):\n",
        "        assert bc in ['finite', 'infinite']\n",
        "        self.L, self.d, self.bc = L, 2, bc\n",
        "        self.J, self.g = J, g\n",
        "        self.sigmax = np.array([[0., 1.], [1., 0.]])\n",
        "        self.sigmay = np.array([[0., -1j], [1j, 0.]])\n",
        "        self.sigmaz = np.array([[1., 0.], [0., -1.]])\n",
        "        self.id = np.eye(2)\n",
        "        self.init_H_bonds()\n",
        "        self.init_H_mpo()\n",
        "        self.init_H_bonds_1()\n",
        "        self.init_H_bonds_2()\n",
        "\n",
        "    def init_H_bonds_1(self):\n",
        "      Z=self.sigmaz\n",
        "      d = self.d\n",
        "      nbonds = self.L - 1 if self.bc == 'finite' else self.L\n",
        "      H_list = []\n",
        "      H_bond1=-self.J * np.kron(Z, Z)\n",
        "      H_list.append(np.reshape(H_bond1, [d, d, d, d]))\n",
        "      self.H_bonds_1 = H_list\n",
        "    def init_H_bonds_2(self):\n",
        "      X=self.sigmax\n",
        "      d = self.d\n",
        "      nbonds = self.L - 1 if self.bc == 'finite' else self.L\n",
        "      H_list = []\n",
        "      for i in range(nbonds):\n",
        "        gL = gR = 0.5 * self.g\n",
        "        if self.bc == 'finite':\n",
        "          if i == 0:\n",
        "            gL = self.g\n",
        "            if i + 1 == self.L - 1:\n",
        "              gR = self.g\n",
        "        H_bond2=-gL*np.kron(X,self.id)-gR*np.kron(self.id,X)\n",
        "        H_list.append(np.reshape(H_bond2, [d, d, d, d]))\n",
        "      self.H_bonds_2 = H_list\n",
        "    def init_H_bonds(self):\n",
        "\n",
        "        X, Z, Id = self.sigmax, self.sigmaz, self.id\n",
        "        d = self.d\n",
        "        nbonds = self.L - 1 if self.bc == 'finite' else self.L\n",
        "        H_list = []\n",
        "        for i in range(nbonds):\n",
        "            gL = gR = 0.5 * self.g\n",
        "            if self.bc == 'finite':\n",
        "                if i == 0:\n",
        "                    gL = self.g\n",
        "                if i + 1 == self.L - 1:\n",
        "                    gR = self.g\n",
        "            H_bond = -self.J * np.kron(Z, Z) - gL * np.kron(X, Id) - gR * np.kron(Id, X)\n",
        "            # note: kron is short-hand for outer product + grouping bra and ket legs.\n",
        "            # H_bond has legs ``i, j, i*, j*``\n",
        "            H_list.append(np.reshape(H_bond, [d, d, d, d]))\n",
        "        self.H_bonds = H_list\n",
        "\n",
        "    # (note: not required for TEBD)\n",
        "    def init_H_mpo(self):\n",
        "\n",
        "        w_list = []\n",
        "        for i in range(self.L):\n",
        "            w = np.zeros((3, 3, self.d, self.d), dtype=float)\n",
        "            w[0, 0] = w[2, 2] = self.id\n",
        "            w[0, 1] = self.sigmaz\n",
        "            w[0, 2] = -self.g * self.sigmax\n",
        "            w[1, 2] = -self.J * self.sigmaz\n",
        "            w_list.append(w)\n",
        "        self.H_mpo = w_list\n"
      ]
    },
    {
      "cell_type": "code",
      "execution_count": null,
      "metadata": {
        "colab": {
          "base_uri": "https://localhost:8080/"
        },
        "id": "EAcCulLPRt3r",
        "outputId": "fd998b24-b8c5-4984-e712-b25d7a34f5b7"
      },
      "outputs": [
        {
          "name": "stdout",
          "output_type": "stream",
          "text": [
            "finite TEBD, imaginary time evolution, transverse field Ising\n",
            "L=80, g=1.00\n",
            "dt = 0.01000: E = -79.0000000000000\n",
            "dt = 0.02000: E = -79.0000000000000\n",
            "dt = 0.03000: E = -79.0000000000000\n",
            "final bond dimensions:  [1, 1, 1, 1, 1, 1, 1, 1, 1, 1, 1, 1, 1, 1, 1, 1, 1, 1, 1, 1, 1, 1, 1, 1, 1, 1, 1, 1, 1, 1, 1, 1, 1, 1, 1, 1, 1, 1, 1, 1, 1, 1, 1, 1, 1, 1, 1, 1, 1, 1, 1, 1, 1, 1, 1, 1, 1, 1, 1, 1, 1, 1, 1, 1, 1, 1, 1, 1, 1, 1, 1, 1, 1, 1, 1, 1, 1, 1, 1]\n",
            "magnetization in X = 0.00000\n",
            "magnetization in Z = 80.00000\n",
            "entanglement entropy =  [-0. -0. -0. -0. -0. -0. -0. -0. -0. -0. -0. -0. -0. -0. -0. -0. -0. -0.\n",
            " -0. -0. -0. -0. -0. -0. -0. -0. -0. -0. -0. -0. -0. -0. -0. -0. -0. -0.\n",
            " -0. -0. -0. -0. -0. -0. -0. -0. -0. -0. -0. -0. -0. -0. -0. -0. -0. -0.\n",
            " -0. -0. -0. -0. -0. -0. -0. -0. -0. -0. -0. -0. -0. -0. -0. -0. -0. -0.\n",
            " -0. -0. -0. -0. -0. -0. -0.]\n"
          ]
        }
      ],
      "source": [
        "# from ncon import ncon\n",
        "\n",
        "import numpy as np\n",
        "from scipy.linalg import expm\n",
        "# from .a_mps import split_truncate_theta\n",
        "\n",
        "\n",
        "import numpy as np\n",
        "from scipy.linalg import expm\n",
        "\n",
        "def calc_U_bonds(H_bonds1, H_bonds2, dt):\n",
        "    \"\"\"\n",
        "    Calculates the time evolution operators for bonds.\n",
        "\n",
        "    Args:\n",
        "        H_bonds1: List of bond Hamiltonians for the first term.\n",
        "        H_bonds2: List of bond Hamiltonians for the second term.\n",
        "        dt: Time step.\n",
        "\n",
        "    Returns:\n",
        "        List of time evolution operators for bonds.\n",
        "    \"\"\"\n",
        "    d = H_bonds1[0].shape[0]\n",
        "    U_bonds = []\n",
        "    for H in H_bonds1:  # Assume H_bonds1 has one element\n",
        "        H = np.reshape(H, [d * d, d * d])\n",
        "        U1 = expm(-dt * H)  # U1 for the first term\n",
        "\n",
        "    # Modified: Loop through H_bonds2 to create the full list of U_bonds\n",
        "    for j, H in enumerate(H_bonds2):\n",
        "        H = np.reshape(H, [d * d, d * d])\n",
        "        U2 = expm(-dt * H)  # U2 for the second term\n",
        "    for H in H_bonds1:  # Assume H_bonds1 has one element\n",
        "        H = np.reshape(H, [d * d, d * d])\n",
        "        U3 = expm(-dt * H)  # U1 for the first term\n",
        "    for j, H in enumerate(H_bonds2):\n",
        "        H = np.reshape(H, [d * d, d * d])\n",
        "        U4 = expm(-dt * H)  # U2 for the second term\n",
        "    for H in H_bonds1:  # Assume H_bonds1 has one element\n",
        "        H = np.reshape(H, [d * d, d * d])\n",
        "        U5 = expm(-dt * H)  # U1 for the first term\n",
        "    for j, H in enumerate(H_bonds2):\n",
        "        H = np.reshape(H, [d * d, d * d])\n",
        "        U6 = expm(-dt * H)  # U2 for the second term\n",
        "        U_bonds.append(np.reshape(U1, [d, d, d, d]) * np.reshape(U2, [d, d, d, d])*np.reshape(U3, [d, d, d, d])*np.reshape(U4, [d, d, d, d])*np.reshape(U5, [d, d, d, d])*np.reshape(U6, [d, d, d, d]))\n",
        "\n",
        "    return U_bonds\n",
        "\n",
        "def run_TEBD(psi, U_bonds, N_steps, chi_max, eps):\n",
        "\n",
        "    Nbonds = psi.L - 1 if psi.bc == 'finite' else psi.L\n",
        "    assert len(U_bonds) == Nbonds\n",
        "    for n in range(N_steps):\n",
        "        for k in [0, 1]:  # even, odd\n",
        "            for i_bond in range(k, Nbonds, 2):\n",
        "                update_bond(psi, i_bond, U_bonds[i_bond], chi_max, eps)\n",
        "    # done\n",
        "\n",
        "\n",
        "def update_bond(psi, i, U_bond, chi_max, eps):\n",
        "\n",
        "    j = (i + 1) % psi.L\n",
        "    # construct theta matrix\n",
        "    theta = psi.get_theta2(i)  # vL i j vR\n",
        "    # apply U\n",
        "    Utheta = np.tensordot(U_bond, theta, axes=([2, 3], [1, 2]))  # i j [i*] [j*], vL [i] [j] vR\n",
        "    Utheta = np.transpose(Utheta, [2, 0, 1, 3])  # vL i j vR\n",
        "    # split and truncate\n",
        "    Ai, Sj, Bj = split_truncate_theta(Utheta, chi_max, eps)\n",
        "    # put back into MPS\n",
        "    Gi = np.tensordot(np.diag(psi.Ss[i]**(-1)), Ai, axes=(1, 0))  # vL [vL*], [vL] i vC\n",
        "    psi.Bs[i] = np.tensordot(Gi, np.diag(Sj), axes=(2, 0))  # vL i [vC], [vC] vC\n",
        "    psi.Ss[j] = Sj  # vC\n",
        "    psi.Bs[j] = Bj  # vC j vR\n",
        "\n",
        "\n",
        "def example_TEBD_gs_tf_ising_finite(L, g, chi_max=30):\n",
        "    print(\"finite TEBD, imaginary time evolution, transverse field Ising\")\n",
        "    print(\"L={L:d}, g={g:.2f}\".format(L=L, g=g))\n",
        "    # from . import a_mps\n",
        "    # from . import b_model\n",
        "    model =TFIModel(L=L, J=1., g=g, bc='finite')\n",
        "    psi = init_FM_MPS(model.L, model.d, model.bc)\n",
        "    for dt in [10e-3,2*10e-3,3*10e-3]:\n",
        "        U_bonds = calc_U_bonds(model.H_bonds_1,model.H_bonds_2, dt)\n",
        "        run_TEBD(psi, U_bonds, N_steps=500, chi_max=chi_max, eps=1.e-10)\n",
        "        E = np.sum(psi.bond_expectation_value(model.H_bonds))\n",
        "        print(\"dt = {dt:.5f}: E = {E:.13f}\".format(dt=dt, E=E))\n",
        "    print(\"final bond dimensions: \", psi.get_chi())\n",
        "    mag_x = np.sum(psi.site_expectation_value(model.sigmax))\n",
        "    mag_z = np.sum(psi.site_expectation_value(model.sigmaz))\n",
        "    print(\"magnetization in X = {mag_x:.5f}\".format(mag_x=mag_x))\n",
        "    print(\"magnetization in Z = {mag_z:.5f}\".format(mag_z=mag_z))\n",
        "    print(\"entanglement entropy = \", psi.entanglement_entropy())\n",
        "    # print(\"correlation length = \", psi.correlation_length())\n",
        "    return E, psi.entanglement_entropy(), psi.get_chi()\n",
        "\n",
        "\n",
        "a,b,c=example_TEBD_gs_tf_ising_finite(L=80, g=1.0)"
      ]
    },
    {
      "cell_type": "code",
      "execution_count": null,
      "metadata": {
        "id": "uiTUlmHlgdPx"
      },
      "outputs": [],
      "source": [
        "b_reshaped=b.reshape(len(b),-1)\n",
        "pl.pcolor(b_reshaped,cmap=\"jet\")\n",
        "pl.show()"
      ]
    },
    {
      "cell_type": "markdown",
      "metadata": {
        "id": "z_sLZNWQzmMd"
      },
      "source": [
        "#**Trotter Decomposition**\n",
        "* **Second order**"
      ]
    },
    {
      "cell_type": "code",
      "execution_count": null,
      "metadata": {
        "colab": {
          "base_uri": "https://localhost:8080/"
        },
        "id": "YEkp38XNzkWl",
        "outputId": "0fe914ff-1fee-4d8b-a16b-b1a685a0c0a2"
      },
      "outputs": [
        {
          "name": "stdout",
          "output_type": "stream",
          "text": [
            "finite TEBD, imaginary time evolution, transverse field Ising\n",
            "L=80, g=1.00\n",
            "dt = 0.10000: E = -79.0000000000000\n",
            "dt = 0.01000: E = -79.0000000000000\n",
            "dt = 0.00100: E = -79.0000000000000\n",
            "dt = 0.00001: E = -79.0000000000000\n",
            "dt = 0.00000: E = -79.0000000000000\n",
            "final bond dimensions:  [1, 1, 1, 1, 1, 1, 1, 1, 1, 1, 1, 1, 1, 1, 1, 1, 1, 1, 1, 1, 1, 1, 1, 1, 1, 1, 1, 1, 1, 1, 1, 1, 1, 1, 1, 1, 1, 1, 1, 1, 1, 1, 1, 1, 1, 1, 1, 1, 1, 1, 1, 1, 1, 1, 1, 1, 1, 1, 1, 1, 1, 1, 1, 1, 1, 1, 1, 1, 1, 1, 1, 1, 1, 1, 1, 1, 1, 1, 1]\n",
            "magnetization in X = 0.00000\n",
            "magnetization in Z = 80.00000\n",
            "entanglement entropy =  [-0. -0. -0. -0. -0. -0. -0. -0. -0. -0. -0. -0. -0. -0. -0. -0. -0. -0.\n",
            " -0. -0. -0. -0. -0. -0. -0. -0. -0. -0. -0. -0. -0. -0. -0. -0. -0. -0.\n",
            " -0. -0. -0. -0. -0. -0. -0. -0. -0. -0. -0. -0. -0. -0. -0. -0. -0. -0.\n",
            " -0. -0. -0. -0. -0. -0. -0. -0. -0. -0. -0. -0. -0. -0. -0. -0. -0. -0.\n",
            " -0. -0. -0. -0. -0. -0. -0.]\n"
          ]
        }
      ],
      "source": [
        "# from ncon import ncon\n",
        "\n",
        "import numpy as np\n",
        "from scipy.linalg import expm\n",
        "# from .a_mps import split_truncate_theta\n",
        "\n",
        "\n",
        "import numpy as np\n",
        "from scipy.linalg import expm\n",
        "\n",
        "def calc_U_bonds(H_bonds1, H_bonds2, dt):\n",
        "    \"\"\"\n",
        "    Calculates the time evolution operators for bonds.\n",
        "\n",
        "    Args:\n",
        "        H_bonds1: List of bond Hamiltonians for the first term.\n",
        "        H_bonds2: List of bond Hamiltonians for the second term.\n",
        "        dt: Time step.\n",
        "\n",
        "    Returns:\n",
        "        List of time evolution operators for bonds.\n",
        "    \"\"\"\n",
        "    d = H_bonds1[0].shape[0]\n",
        "    U_bonds = []\n",
        "    for H in H_bonds1:  # Assume H_bonds1 has one element\n",
        "        H = np.reshape(H, [d * d, d * d])\n",
        "        U1 = expm(-dt/2 * H)  # U1 for the first term\n",
        "\n",
        "    # Modified: Loop through H_bonds2 to create the full list of U_bonds\n",
        "    for j, H in enumerate(H_bonds2):\n",
        "        H = np.reshape(H, [d * d, d * d])\n",
        "        U2 = expm(-dt * H)  # U2 for the second term\n",
        "    for H in H_bonds1:  # Assume H_bonds1 has one element\n",
        "        H = np.reshape(H, [d * d, d * d])\n",
        "        U3 = expm(-dt/2 * H)  # U1 for the first term\n",
        "    for j, H in enumerate(H_bonds2):\n",
        "        H = np.reshape(H, [d * d, d * d])\n",
        "        U4 = expm(-dt/2 * H)  # U2 for the second term\n",
        "    for H in H_bonds1:  # Assume H_bonds1 has one element\n",
        "        H = np.reshape(H, [d * d, d * d])\n",
        "        U5 = expm(-dt * H)  # U1 for the first term\n",
        "    for j, H in enumerate(H_bonds2):\n",
        "        H = np.reshape(H, [d * d, d * d])\n",
        "        U6 = expm(-dt/2 * H)  # U2 for the second term\n",
        "        U_bonds.append(np.reshape(U1, [d, d, d, d]) * np.reshape(U2, [d, d, d, d])*np.reshape(U3, [d, d, d, d])*np.reshape(U4, [d, d, d, d])*np.reshape(U5, [d, d, d, d])*np.reshape(U6, [d, d, d, d]))\n",
        "\n",
        "    return U_bonds\n",
        "\n",
        "def run_TEBD(psi, U_bonds, N_steps, chi_max, eps):\n",
        "\n",
        "    Nbonds = psi.L - 1 if psi.bc == 'finite' else psi.L\n",
        "    assert len(U_bonds) == Nbonds\n",
        "    for n in range(N_steps):\n",
        "        for k in [0, 1]:  # even, odd\n",
        "            for i_bond in range(k, Nbonds, 2):\n",
        "                update_bond(psi, i_bond, U_bonds[i_bond], chi_max, eps)\n",
        "    # done\n",
        "\n",
        "\n",
        "def update_bond(psi, i, U_bond, chi_max, eps):\n",
        "\n",
        "    j = (i + 1) % psi.L\n",
        "    # construct theta matrix\n",
        "    theta = psi.get_theta2(i)  # vL i j vR\n",
        "    # apply U\n",
        "    Utheta = np.tensordot(U_bond, theta, axes=([2, 3], [1, 2]))  # i j [i*] [j*], vL [i] [j] vR\n",
        "    Utheta = np.transpose(Utheta, [2, 0, 1, 3])  # vL i j vR\n",
        "    # split and truncate\n",
        "    Ai, Sj, Bj = split_truncate_theta(Utheta, chi_max, eps)\n",
        "    # put back into MPS\n",
        "    Gi = np.tensordot(np.diag(psi.Ss[i]**(-1)), Ai, axes=(1, 0))  # vL [vL*], [vL] i vC\n",
        "    psi.Bs[i] = np.tensordot(Gi, np.diag(Sj), axes=(2, 0))  # vL i [vC], [vC] vC\n",
        "    psi.Ss[j] = Sj  # vC\n",
        "    psi.Bs[j] = Bj  # vC j vR\n",
        "\n",
        "\n",
        "def example_TEBD_gs_tf_ising_finite(L, g, chi_max=30):\n",
        "    print(\"finite TEBD, imaginary time evolution, transverse field Ising\")\n",
        "    print(\"L={L:d}, g={g:.2f}\".format(L=L, g=g))\n",
        "    # from . import a_mps\n",
        "    # from . import b_model\n",
        "    model =TFIModel(L=L, J=1., g=g, bc='finite')\n",
        "    psi = init_FM_MPS(model.L, model.d, model.bc)\n",
        "    for dt in [0.1,0.01,0.001,1.e-5,1.e-6]:\n",
        "        U_bonds = calc_U_bonds(model.H_bonds_1,model.H_bonds_2, dt)\n",
        "        run_TEBD(psi, U_bonds, N_steps=500, chi_max=chi_max, eps=1.e-10)\n",
        "        E = np.sum(psi.bond_expectation_value(model.H_bonds))\n",
        "        print(\"dt = {dt:.5f}: E = {E:.13f}\".format(dt=dt, E=E))\n",
        "    print(\"final bond dimensions: \", psi.get_chi())\n",
        "    mag_x = np.sum(psi.site_expectation_value(model.sigmax))\n",
        "    mag_z = np.sum(psi.site_expectation_value(model.sigmaz))\n",
        "    print(\"magnetization in X = {mag_x:.5f}\".format(mag_x=mag_x))\n",
        "    print(\"magnetization in Z = {mag_z:.5f}\".format(mag_z=mag_z))\n",
        "    print(\"entanglement entropy = \", psi.entanglement_entropy())\n",
        "    # print(\"correlation length = \", psi.correlation_length())\n",
        "    return E, psi.entanglement_entropy(), psi.get_chi()\n",
        "\n",
        "\n",
        "a,b,c=example_TEBD_gs_tf_ising_finite(L=80, g=1.0)"
      ]
    },
    {
      "cell_type": "markdown",
      "metadata": {
        "id": "Qc8ME5ADcS-P"
      },
      "source": [
        "#**Transverse Longitudinal ising Model**\n",
        "* **Entanglement Entropy**"
      ]
    },
    {
      "cell_type": "code",
      "execution_count": null,
      "metadata": {
        "id": "hGXUdOKYcTaA"
      },
      "outputs": [],
      "source": [
        "import pylab as pl\n",
        "import numpy as np\n",
        "from scipy.linalg import svd"
      ]
    },
    {
      "cell_type": "code",
      "execution_count": null,
      "metadata": {
        "colab": {
          "base_uri": "https://localhost:8080/"
        },
        "id": "ONkVqzyWjKOC",
        "outputId": "9c3f507c-dd4e-46ff-842a-4f708f4bc147"
      },
      "outputs": [
        {
          "data": {
            "text/plain": [
              "[5, 7, 9]"
            ]
          },
          "execution_count": 38,
          "metadata": {},
          "output_type": "execute_result"
        }
      ],
      "source": [
        "# Example with two lists\n",
        "list1 = [1, 2, 3]\n",
        "list2 = [4, 5, 6]\n",
        "\n",
        "zipped = zip(list1, list2)\n",
        "emp=[]\n",
        "zipped_list = list(zipped)\n",
        "for i in range(len(zipped_list)):\n",
        "  emp.append(zipped_list[i][0] + zipped_list[i][1])\n",
        "emp"
      ]
    },
    {
      "cell_type": "markdown",
      "metadata": {
        "id": "IvDFz2SAv832"
      },
      "source": [
        "# **Transverse and Longitudinal field ising model**"
      ]
    },
    {
      "cell_type": "code",
      "execution_count": null,
      "metadata": {
        "id": "ZaU8zDfIoTZM"
      },
      "outputs": [],
      "source": [
        "import numpy as np\n",
        "from scipy.linalg import svd\n",
        "class SimpleMPS:\n",
        "\n",
        "\n",
        "    def __init__(self, Bs, Ss, bc='finite'):\n",
        "        assert bc in ['finite', 'infinite']\n",
        "        self.Bs = Bs\n",
        "        self.Ss = Ss\n",
        "        self.bc = bc\n",
        "        self.L = len(Bs)\n",
        "        self.nbonds = self.L - 1 if self.bc == 'finite' else self.L\n",
        "\n",
        "    def copy(self):\n",
        "        return SimpleMPS([B.copy() for B in self.Bs], [S.copy() for S in self.Ss], self.bc)\n",
        "\n",
        "    def get_theta1(self, i):\n",
        "\n",
        "        return np.tensordot(np.diag(self.Ss[i]), self.Bs[i], [1, 0])  # vL [vL'], [vL] i vR\n",
        "\n",
        "    def get_theta2(self, i):\n",
        "\n",
        "        j = (i + 1) % self.L\n",
        "        return np.tensordot(self.get_theta1(i), self.Bs[j], [2, 0])  # vL i [vR], [vL] j vR\n",
        "\n",
        "    def get_chi(self):\n",
        "\n",
        "        return [self.Bs[i].shape[2] for i in range(self.nbonds)]\n",
        "\n",
        "    def site_expectation_value(self, op):\n",
        "\n",
        "        result = []\n",
        "        for i in range(self.L):\n",
        "            theta = self.get_theta1(i)  # vL i vR\n",
        "            op_theta = np.tensordot(op, theta, axes=(1, 1))  # i [i*], vL [i] vR\n",
        "            result.append(np.tensordot(theta.conj(), op_theta, [[0, 1, 2], [1, 0, 2]]))\n",
        "            # [vL*] [i*] [vR*], [i] [vL] [vR]\n",
        "        return np.real_if_close(result)\n",
        "\n",
        "    def bond_expectation_value(self, op):\n",
        "\n",
        "        result = []\n",
        "        for i in range(self.nbonds):\n",
        "            theta = self.get_theta2(i)  # vL i j vR\n",
        "            op_theta = np.tensordot(op[i], theta, axes=([2, 3], [1, 2]))\n",
        "            # i j [i*] [j*], vL [i] [j] vR\n",
        "            result.append(np.tensordot(theta.conj(), op_theta, [[0, 1, 2, 3], [2, 0, 1, 3]]))\n",
        "            # [vL*] [i*] [j*] [vR*], [i] [j] [vL] [vR]\n",
        "        return np.real_if_close(result)\n",
        "\n",
        "    def entanglement_entropy(self):\n",
        "\n",
        "        bonds = range(1, self.L) if self.bc == 'finite' else range(0, self.L)\n",
        "        result = []\n",
        "        for i in bonds:\n",
        "            S = self.Ss[i]\n",
        "            S = S[S > 1.e-20]  # 0*log(0) should give 0 and won't contribute to the sum\n",
        "            # avoid warning or NaN by discarding the very small values of S\n",
        "            S2 = S * S\n",
        "            assert abs(np.linalg.norm(S) - 1.) < 1.e-13\n",
        "            result.append(-np.sum(S2 * np.log(S2)))\n",
        "        return np.array(result)\n",
        "\n",
        "    def correlation_length(self):\n",
        "        from scipy.sparse.linalg import eigs\n",
        "        if self.get_chi()[0] > 100:\n",
        "            warnings.warn(\"Skip calculating correlation_length() for large chi: could take long\")\n",
        "            return -1.\n",
        "        assert self.bc == 'infinite'  # works only in the infinite case\n",
        "        B = self.Bs[0]  # vL i vR\n",
        "        chi = B.shape[0]\n",
        "        T = np.tensordot(B, np.conj(B), axes=(1, 1))  # vL [i] vR, vL* [i*] vR*\n",
        "        T = np.transpose(T, [0, 2, 1, 3])  # vL vL* vR vR*\n",
        "        for i in range(1, self.L):\n",
        "            B = self.Bs[i]\n",
        "            T = np.tensordot(T, B, axes=(2, 0))  # vL vL* [vR] vR*, [vL] i vR\n",
        "            T = np.tensordot(T, np.conj(B), axes=([2, 3], [0, 1]))\n",
        "            # vL vL* [vR*] [i] vR, [vL*] [i*] vR*\n",
        "        T = np.reshape(T, (chi**2, chi**2))\n",
        "        # Obtain the 2nd largest eigenvalue\n",
        "        eta = eigs(T, k=2, which='LM', return_eigenvectors=False, ncv=20)\n",
        "        xi =  -self.L / np.log(np.min(np.abs(eta)))\n",
        "        if xi > 1000.:\n",
        "            return np.inf\n",
        "        return xi\n",
        "\n",
        "    def correlation_function(self, op_i, i, op_j, j):\n",
        "        # assert i < j\n",
        "        theta = self.get_theta1(i) # vL i vR\n",
        "        C = np.tensordot(op_i, theta, axes=(1, 1)) # i [i*], vL [i] vR\n",
        "        C = np.tensordot(theta.conj(), C, axes=([0, 1], [1, 0]))  # [vL*] [i*] vR*, [i] [vL] vR\n",
        "        for k in range(i + 1, j):\n",
        "            k = k % self.L\n",
        "            B = self.Bs[k]  # vL k vR\n",
        "            C = np.tensordot(C, B, axes=(1, 0)) # vR* [vR], [vL] k vR\n",
        "            C = np.tensordot(B.conj(), C, axes=([0, 1], [0, 1])) # [vL*] [k*] vR*, [vR*] [k] vR\n",
        "        j = j % self.L\n",
        "        B = self.Bs[j]  # vL k vR\n",
        "        C = np.tensordot(C, B, axes=(1, 0)) # vR* [vR], [vL] j vR\n",
        "        C = np.tensordot(op_j, C, axes=(1, 1))  # j [j*], vR* [j] vR\n",
        "        C = np.tensordot(B.conj(), C, axes=([0, 1, 2], [1, 0, 2])) # [vL*] [j*] [vR*], [j] [vR*] [vR]\n",
        "        return C\n",
        "\n",
        "\n",
        "def init_FM_MPS(L, d=2, bc='finite'):\n",
        "\n",
        "    B = np.zeros([1, d, 1], dtype=float)\n",
        "    B[0, 0, 0] = 1.\n",
        "    S = np.ones([1], dtype=float)\n",
        "    Bs = [B.copy() for i in range(L)]\n",
        "    Ss = [S.copy() for i in range(L)]\n",
        "    return SimpleMPS(Bs, Ss, bc=bc)\n",
        "\n",
        "\n",
        "def init_Neel_MPS(L, d=2, bc='finite'):\n",
        "\n",
        "    S = np.ones([1], dtype=float)\n",
        "    Bs = []\n",
        "    for i in range(L):\n",
        "        B = np.zeros([1, d, 1], dtype=float)\n",
        "        if i % 2 == 0:\n",
        "            B[0, 0, 0] = 1.\n",
        "        else:\n",
        "            B[0, -1, 0] = 1.\n",
        "        Bs.append(B)\n",
        "    Ss = [S.copy() for i in range(L)]\n",
        "    return SimpleMPS(Bs, Ss, bc=bc)\n",
        "\n",
        "\n",
        "def split_truncate_theta(theta, chi_max, eps):\n",
        "\n",
        "    chivL, dL, dR, chivR = theta.shape\n",
        "    theta = np.reshape(theta, [chivL * dL, dR * chivR])\n",
        "    X, Y, Z = svd(theta, full_matrices=False)\n",
        "    # truncate\n",
        "    chivC = min(chi_max, np.sum(Y > eps))\n",
        "    assert chivC >= 1\n",
        "    piv = np.argsort(Y)[::-1][:chivC]  # keep the largest `chivC` singular values\n",
        "    X, Y, Z = X[:, piv], Y[piv], Z[piv, :]\n",
        "    # renormalize\n",
        "    S = Y / np.linalg.norm(Y)  # == Y/sqrt(sum(Y**2))\n",
        "    # split legs of X and Z\n",
        "    A = np.reshape(X, [chivL, dL, chivC])\n",
        "    B = np.reshape(Z, [chivC, dR, chivR])\n",
        "    return A, S, B\n"
      ]
    },
    {
      "cell_type": "code",
      "execution_count": null,
      "metadata": {
        "id": "U0q5ojfqFOY0"
      },
      "outputs": [],
      "source": [
        "class TLFIModel:\n",
        "  def __init__(self,L,J,hs,hz,bc='finite'):\n",
        "    assert bc in ['finite','infinite']\n",
        "    self.L,self.d,self.bc = L,2,bc\n",
        "    self.J= J\n",
        "    self.hs = hs\n",
        "    self.hz = hz\n",
        "    self.sigmax = np.array([[0. ,1. ],[1. ,0. ]],)\n",
        "    self.sigmay = np.array([[0. ,-1j],[1j , 0.]])\n",
        "    self.sigmaz = np.array([[1. ,0. ],[0. ,-1. ]])\n",
        "    self.id = np.eye(2) # define id as np.eye(2)\n",
        "    self.init_H_bonds()\n",
        "    self.init_H_MPO()\n",
        "  def init_H_bonds(self):\n",
        "    sx,sy,sz = self.sigmax,self.sigmay,self.sigmaz\n",
        "    d = self.d\n",
        "    nbonds = self.L -1 if self.bc == 'finite' else self.L\n",
        "    H_list=[]\n",
        "    for i in range(nbonds):\n",
        "      hl=hr=0.5*self.hs\n",
        "      hl1=hr1=0.5*self.hz\n",
        "      if self.bc == 'finite':\n",
        "        if i == 0:\n",
        "          hl=self.hs\n",
        "        if i+1 == self.L-1:\n",
        "          hr=self.hs\n",
        "      H_bond = -self.J * np.kron(sx,sx)\n",
        "      # Use self.id instead of id\n",
        "      H_bond = H_bond - hl*(-1)**i * np.kron(sz,self.id) + hr*(-1)**(i+1) * np.kron(self.id,sz) - hl1*(-1)**i * np.kron(sx,self.id) + hr1*(-1)**(i+1) * np.kron(self.id,sx)\n",
        "      H_list.append(np.reshape(H_bond,[d,d,d,d]))\n",
        "    self.H_bonds = H_list\n",
        "  def init_H_MPO(self):\n",
        "    w_list = []\n",
        "    for i in range(self.L):\n",
        "      w=np.zeros((3,3, self.d ,self.d),dtype = float)\n",
        "      w[0,0]=w[2,2]=self.id\n",
        "      w[0,1]= self.sigmaz\n",
        "      w[0,2]= -self.hs*self.sigmaz-self.hz*self.sigmax\n",
        "      w[1,2]= -self.J*self.sigmaz\n",
        "      w_list.append(w)\n",
        "    self.H_MPO = w_list"
      ]
    },
    {
      "cell_type": "code",
      "execution_count": null,
      "metadata": {
        "id": "t_gtaYtCFOzo"
      },
      "outputs": [],
      "source": [
        "import numpy as np\n",
        "from scipy.linalg import expm\n",
        "# from .a_mps import split_truncate_theta\n",
        "\n",
        "\n",
        "def calc_U_bonds(H_bonds, dt):\n",
        "\n",
        "    d = H_bonds[0].shape[0]\n",
        "    U_bonds = []\n",
        "    for H in H_bonds:\n",
        "        H = np.reshape(H, [d * d, d * d])\n",
        "        U = expm(-dt * H)\n",
        "        U_bonds.append(np.reshape(U, [d, d, d, d]))\n",
        "    return U_bonds\n",
        "\n",
        "\n",
        "def run_TEBD(psi, U_bonds, N_steps, chi_max, eps):\n",
        "\n",
        "    Nbonds = psi.L - 1 if psi.bc == 'finite' else psi.L\n",
        "    assert len(U_bonds) == Nbonds\n",
        "    for n in range(N_steps):\n",
        "        for k in [0, 1]:  # even, odd\n",
        "            for i_bond in range(k, Nbonds, 2):\n",
        "                update_bond(psi, i_bond, U_bonds[i_bond], chi_max, eps)\n",
        "    # done\n",
        "\n",
        "\n",
        "def update_bond(psi, i, U_bond, chi_max, eps):\n",
        "\n",
        "    j = (i + 1) % psi.L\n",
        "    # construct theta matrix\n",
        "    theta = psi.get_theta2(i)  # vL i j vR\n",
        "    # apply U\n",
        "    Utheta = np.tensordot(U_bond, theta, axes=([2, 3], [1, 2]))  # i j [i*] [j*], vL [i] [j] vR\n",
        "    Utheta = np.transpose(Utheta, [2, 0, 1, 3])  # vL i j vR\n",
        "    # split and truncate\n",
        "    Ai, Sj, Bj = split_truncate_theta(Utheta, chi_max, eps)\n",
        "    # put back into MPS\n",
        "    Gi = np.tensordot(np.diag(psi.Ss[i]**(-1)), Ai, axes=(1, 0))  # vL [vL*], [vL] i vC\n",
        "    psi.Bs[i] = np.tensordot(Gi, np.diag(Sj), axes=(2, 0))  # vL i [vC], [vC] vC\n",
        "    psi.Ss[j] = Sj  # vC\n",
        "    psi.Bs[j] = Bj  # vC j vR\n",
        "\n",
        "\n",
        "def example_TEBD_gs_tf_ising_finite(L, g, chi_max=30):\n",
        "    print(\"finite TEBD, imaginary time evolution, transverse field Ising\")\n",
        "    print(\"L={L:d}, g={g:.2f}\".format(L=L, g=g))\n",
        "    # from . import a_mps\n",
        "    # from . import b_model\n",
        "    model =TLFIModel(L=L, J=1., hs=g,hz=0.5, bc='finite')\n",
        "    psi = init_FM_MPS(model.L, model.d, model.bc)\n",
        "    for dt in [0.1,0.01,0.001,1.e-5,1.e-6]:\n",
        "        U_bonds = calc_U_bonds(model.H_bonds, dt)\n",
        "        run_TEBD(psi, U_bonds, N_steps=500, chi_max=chi_max, eps=1.e-10)\n",
        "        E = np.sum(psi.bond_expectation_value(model.H_bonds))\n",
        "        print(\"dt = {dt:.5f}: E = {E:.13f}\".format(dt=dt, E=E))\n",
        "    print(\"final bond dimensions: \", psi.get_chi())\n",
        "    mag_x = np.sum(psi.site_expectation_value(model.sigmax))\n",
        "    mag_z = np.sum(psi.site_expectation_value(model.sigmaz))\n",
        "    print(\"magnetization in X = {mag_x:.5f}\".format(mag_x=mag_x))\n",
        "    print(\"magnetization in Z = {mag_z:.5f}\".format(mag_z=mag_z))\n",
        "    print(\"entanglement entropy = \", psi.entanglement_entropy())\n",
        "    # print(\"correlation length = \", psi.correlation_length())\n",
        "    return E, psi.entanglement_entropy(), psi.get_chi()"
      ]
    },
    {
      "cell_type": "code",
      "execution_count": null,
      "metadata": {
        "colab": {
          "base_uri": "https://localhost:8080/"
        },
        "id": "ZOqv7cLH2Gab",
        "outputId": "81fcdcf9-f00b-4944-8c50-1c4700e78255"
      },
      "outputs": [
        {
          "name": "stdout",
          "output_type": "stream",
          "text": [
            "finite TEBD, imaginary time evolution, transverse field Ising\n",
            "L=30, g=1.00\n",
            "dt = 0.10000: E = -30.1298680143277\n",
            "dt = 0.01000: E = -30.2008647983207\n",
            "dt = 0.00100: E = -30.2015269402416\n",
            "dt = 0.00001: E = -30.2015283088023\n",
            "dt = 0.00000: E = -30.2015284412151\n",
            "final bond dimensions:  [2, 2, 2, 2, 2, 2, 2, 2, 2, 2, 2, 2, 2, 2, 2, 2, 2, 2, 2, 2, 2, 2, 2, 2, 2, 2, 2, 2, 2]\n",
            "magnetization in X = 29.56172\n",
            "magnetization in Z = 1.21838\n",
            "entanglement entropy =  [1.07234525e-06 9.04169717e-11 2.22425884e-11 2.27915506e-11\n",
            " 2.22420455e-11 2.27915507e-11 2.22420456e-11 2.27915506e-11\n",
            " 2.22420456e-11 2.27915504e-11 2.22420454e-11 2.27915502e-11\n",
            " 2.22420453e-11 2.27915508e-11 2.22420455e-11 2.27915508e-11\n",
            " 2.22420453e-11 2.27915507e-11 2.22420456e-11 2.27915506e-11\n",
            " 2.22420455e-11 2.27915506e-11 2.22420455e-11 2.27915507e-11\n",
            " 2.22420456e-11 2.27915504e-11 2.22425896e-11 9.04169710e-11\n",
            " 1.07234525e-06]\n"
          ]
        }
      ],
      "source": [
        "a,b,c=example_TEBD_gs_tf_ising_finite(L=30, g=1.0)"
      ]
    },
    {
      "cell_type": "code",
      "execution_count": null,
      "metadata": {
        "colab": {
          "base_uri": "https://localhost:8080/",
          "height": 430
        },
        "id": "naKdBAIm73Mc",
        "outputId": "6d35e7cd-b1c7-4695-e332-5bd5062dad3b"
      },
      "outputs": [
        {
          "data": {
            "image/png": "[encoded data removed]",
            "text/plain": [
              "<Figure size 640x480 with 1 Axes>"
            ]
          },
          "metadata": {},
          "output_type": "display_data"
        }
      ],
      "source": [
        "import pylab as pl\n",
        "b_reshaped=b.reshape(len(b),-1)\n",
        "pl.pcolor(b_reshaped,cmap=\"jet\")\n",
        "pl.show()"
      ]
    },
    {
      "cell_type": "code",
      "execution_count": null,
      "metadata": {
        "colab": {
          "base_uri": "https://localhost:8080/"
        },
        "id": "XHJmrZRX8g8g",
        "outputId": "3297d458-8599-48fd-bdaf-02a6ab685834"
      },
      "outputs": [
        {
          "name": "stdout",
          "output_type": "stream",
          "text": [
            "finite TEBD, imaginary time evolution, transverse field Ising\n",
            "L=10, g=1.00\n",
            "dt = 0.10000: E = -10.1814999894312\n",
            "dt = 0.01000: E = -10.2013668374354\n",
            "dt = 0.00100: E = -10.2015516084937\n",
            "dt = 0.00001: E = -10.2015519972341\n",
            "dt = 0.00000: E = -10.2015520349691\n",
            "final bond dimensions:  [2, 2, 2, 2, 2, 2, 2, 2, 2]\n",
            "magnetization in X = 9.56173\n",
            "magnetization in Z = 1.24010\n",
            "entanglement entropy =  [1.07234525e-06 9.04169719e-11 2.22425886e-11 2.27915507e-11\n",
            " 2.22420458e-11 2.27915505e-11 2.22425894e-11 9.04169708e-11\n",
            " 1.07234525e-06]\n",
            "finite TEBD, imaginary time evolution, transverse field Ising\n",
            "L=15, g=1.00\n",
            "dt = 0.10000: E = -14.7519908905990\n",
            "dt = 0.01000: E = -14.8437604160109\n",
            "dt = 0.00100: E = -14.8501001993737\n",
            "dt = 0.00001: E = -14.8507581976796\n",
            "dt = 0.00000: E = -14.8507642277807\n",
            "final bond dimensions:  [2, 4, 4, 4, 4, 4, 4, 4, 4, 4, 4, 4, 4, 2]\n",
            "magnetization in X = -5.17005\n",
            "magnetization in Z = 0.04802\n",
            "entanglement entropy =  [0.36651771 0.6270538  0.62705494 0.62705466 0.62705471 0.62705443\n",
            " 0.62705448 0.6270542  0.62705425 0.62705397 0.62705402 0.62705374\n",
            " 0.62705268 0.36651661]\n",
            "finite TEBD, imaginary time evolution, transverse field Ising\n",
            "L=20, g=1.00\n",
            "dt = 0.10000: E = -20.1556840018795\n",
            "dt = 0.01000: E = -20.2011158178781\n",
            "dt = 0.00100: E = -20.2015392743677\n",
            "dt = 0.00001: E = -20.2015401530182\n",
            "dt = 0.00000: E = -20.2015402380921\n",
            "final bond dimensions:  [2, 2, 2, 2, 2, 2, 2, 2, 2, 2, 2, 2, 2, 2, 2, 2, 2, 2, 2]\n",
            "magnetization in X = 19.56173\n",
            "magnetization in Z = 1.22924\n",
            "entanglement entropy =  [1.07234525e-06 9.04169720e-11 2.22425883e-11 2.27915506e-11\n",
            " 2.22420455e-11 2.27915505e-11 2.22420456e-11 2.27915507e-11\n",
            " 2.22420456e-11 2.27915507e-11 2.22420455e-11 2.27915505e-11\n",
            " 2.22420455e-11 2.27915507e-11 2.22420454e-11 2.27915507e-11\n",
            " 2.22425895e-11 9.04169710e-11 1.07234525e-06]\n",
            "finite TEBD, imaginary time evolution, transverse field Ising\n",
            "L=25, g=1.00\n",
            "dt = 0.10000: E = -24.6768318820394\n",
            "dt = 0.01000: E = -24.8377930091089\n",
            "dt = 0.00100: E = -24.8495396300505\n",
            "dt = 0.00001: E = -24.8507409344597\n",
            "dt = 0.00000: E = -24.8507519206088\n",
            "final bond dimensions:  [2, 4, 4, 4, 4, 4, 4, 4, 4, 4, 4, 4, 4, 4, 4, 4, 4, 4, 4, 4, 4, 4, 4, 2]\n",
            "magnetization in X = -8.94103\n",
            "magnetization in Z = 0.03844\n",
            "entanglement entropy =  [0.36485267 0.62430968 0.62431082 0.62431053 0.62431058 0.6243103\n",
            " 0.62431035 0.62431007 0.62431012 0.62430983 0.62430988 0.6243096\n",
            " 0.62430965 0.62430937 0.62430941 0.62430913 0.62430918 0.6243089\n",
            " 0.62430895 0.62430866 0.62430871 0.62430843 0.62430738 0.36485084]\n",
            "finite TEBD, imaginary time evolution, transverse field Ising\n",
            "L=28, g=1.00\n",
            "dt = 0.10000: E = -28.1350312118381\n",
            "dt = 0.01000: E = -28.2009150022322\n",
            "dt = 0.00100: E = -28.2015294070668\n",
            "dt = 0.00001: E = -28.2015306776454\n",
            "dt = 0.00000: E = -28.2015308005905\n",
            "final bond dimensions:  [2, 2, 2, 2, 2, 2, 2, 2, 2, 2, 2, 2, 2, 2, 2, 2, 2, 2, 2, 2, 2, 2, 2, 2, 2, 2, 2]\n",
            "magnetization in X = 27.56172\n",
            "magnetization in Z = 1.22055\n",
            "entanglement entropy =  [1.07234525e-06 9.04169721e-11 2.22425884e-11 2.27915506e-11\n",
            " 2.22420453e-11 2.27915507e-11 2.22420453e-11 2.27915508e-11\n",
            " 2.22420454e-11 2.27915507e-11 2.22420454e-11 2.27915507e-11\n",
            " 2.22420455e-11 2.27915506e-11 2.22420454e-11 2.27915507e-11\n",
            " 2.22420454e-11 2.27915504e-11 2.22420455e-11 2.27915505e-11\n",
            " 2.22420456e-11 2.27915507e-11 2.22420456e-11 2.27915508e-11\n",
            " 2.22425895e-11 9.04169708e-11 1.07234525e-06]\n",
            "finite TEBD, imaginary time evolution, transverse field Ising\n",
            "L=32, g=1.00\n",
            "dt = 0.10000: E = -32.1247048168174\n",
            "dt = 0.01000: E = -32.2008145944093\n",
            "dt = 0.00100: E = -32.2015244734164\n",
            "dt = 0.00001: E = -32.2015259399591\n",
            "dt = 0.00000: E = -32.2015260818398\n",
            "final bond dimensions:  [2, 2, 2, 2, 2, 2, 2, 2, 2, 2, 2, 2, 2, 2, 2, 2, 2, 2, 2, 2, 2, 2, 2, 2, 2, 2, 2, 2, 2, 2, 2]\n",
            "magnetization in X = 31.56172\n",
            "magnetization in Z = 1.21621\n",
            "entanglement entropy =  [1.07234525e-06 9.04169716e-11 2.22425884e-11 2.27915507e-11\n",
            " 2.22420455e-11 2.27915507e-11 2.22420454e-11 2.27915506e-11\n",
            " 2.22420457e-11 2.27915505e-11 2.22420457e-11 2.27915506e-11\n",
            " 2.22420454e-11 2.27915506e-11 2.22420455e-11 2.27915507e-11\n",
            " 2.22420456e-11 2.27915505e-11 2.22420456e-11 2.27915505e-11\n",
            " 2.22420455e-11 2.27915506e-11 2.22420456e-11 2.27915504e-11\n",
            " 2.22420452e-11 2.27915506e-11 2.22420455e-11 2.27915506e-11\n",
            " 2.22425893e-11 9.04169706e-11 1.07234525e-06]\n",
            "finite TEBD, imaginary time evolution, transverse field Ising\n",
            "L=36, g=1.00\n",
            "dt = 0.10000: E = -36.1143784217967\n",
            "dt = 0.01000: E = -36.2007141865863\n",
            "dt = 0.00100: E = -36.2015195397660\n",
            "dt = 0.00001: E = -36.2015212022727\n",
            "dt = 0.00000: E = -36.2015213630890\n",
            "final bond dimensions:  [2, 2, 2, 2, 2, 2, 2, 2, 2, 2, 2, 2, 2, 2, 2, 2, 2, 2, 2, 2, 2, 2, 2, 2, 2, 2, 2, 2, 2, 2, 2, 2, 2, 2, 2]\n",
            "magnetization in X = 35.56172\n",
            "magnetization in Z = 1.21186\n",
            "entanglement entropy =  [1.07234525e-06 9.04169716e-11 2.22425884e-11 2.27915507e-11\n",
            " 2.22420456e-11 2.27915507e-11 2.22420456e-11 2.27915507e-11\n",
            " 2.22420456e-11 2.27915506e-11 2.22420453e-11 2.27915506e-11\n",
            " 2.22420455e-11 2.27915506e-11 2.22420456e-11 2.27915506e-11\n",
            " 2.22420456e-11 2.27915504e-11 2.22420454e-11 2.27915508e-11\n",
            " 2.22420455e-11 2.27915507e-11 2.22420456e-11 2.27915506e-11\n",
            " 2.22420454e-11 2.27915505e-11 2.22420454e-11 2.27915507e-11\n",
            " 2.22420452e-11 2.27915506e-11 2.22420455e-11 2.27915507e-11\n",
            " 2.22425895e-11 9.04169711e-11 1.07234525e-06]\n",
            "finite TEBD, imaginary time evolution, transverse field Ising\n",
            "L=38, g=1.00\n",
            "dt = 0.10000: E = -38.1092152242864\n",
            "dt = 0.01000: E = -38.2006639826749\n",
            "dt = 0.00100: E = -38.2015170729408\n",
            "dt = 0.00001: E = -38.2015188334295\n",
            "dt = 0.00000: E = -38.2015190037136\n",
            "final bond dimensions:  [2, 2, 2, 2, 2, 2, 2, 2, 2, 2, 2, 2, 2, 2, 2, 2, 2, 2, 2, 2, 2, 2, 2, 2, 2, 2, 2, 2, 2, 2, 2, 2, 2, 2, 2, 2, 2]\n",
            "magnetization in X = 37.56172\n",
            "magnetization in Z = 1.20969\n",
            "entanglement entropy =  [1.07234525e-06 9.04169717e-11 2.22425886e-11 2.27915506e-11\n",
            " 2.22420458e-11 2.27915506e-11 2.22420456e-11 2.27915507e-11\n",
            " 2.22420456e-11 2.27915506e-11 2.22420455e-11 2.27915505e-11\n",
            " 2.22420456e-11 2.27915504e-11 2.22420454e-11 2.27915507e-11\n",
            " 2.22420455e-11 2.27915505e-11 2.22420453e-11 2.27915505e-11\n",
            " 2.22420455e-11 2.27915506e-11 2.22420453e-11 2.27915504e-11\n",
            " 2.22420455e-11 2.27915504e-11 2.22420454e-11 2.27915503e-11\n",
            " 2.22420455e-11 2.27915505e-11 2.22420457e-11 2.27915506e-11\n",
            " 2.22420454e-11 2.27915505e-11 2.22425896e-11 9.04169703e-11\n",
            " 1.07234525e-06]\n",
            "finite TEBD, imaginary time evolution, transverse field Ising\n",
            "L=42, g=1.00\n",
            "dt = 0.10000: E = -42.0988888292657\n",
            "dt = 0.01000: E = -42.2005635748519\n",
            "dt = 0.00100: E = -42.2015121392903\n",
            "dt = 0.00001: E = -42.2015140957431\n",
            "dt = 0.00000: E = -42.2015142849628\n",
            "final bond dimensions:  [2, 2, 2, 2, 2, 2, 2, 2, 2, 2, 2, 2, 2, 2, 2, 2, 2, 2, 2, 2, 2, 2, 2, 2, 2, 2, 2, 2, 2, 2, 2, 2, 2, 2, 2, 2, 2, 2, 2, 2, 2]\n",
            "magnetization in X = 41.56171\n",
            "magnetization in Z = 1.20535\n",
            "entanglement entropy =  [1.07234525e-06 9.04169720e-11 2.22425886e-11 2.27915507e-11\n",
            " 2.22420458e-11 2.27915506e-11 2.22420455e-11 2.27915507e-11\n",
            " 2.22420457e-11 2.27915507e-11 2.22420456e-11 2.27915507e-11\n",
            " 2.22420456e-11 2.27915507e-11 2.22420456e-11 2.27915507e-11\n",
            " 2.22420456e-11 2.27915508e-11 2.22420454e-11 2.27915506e-11\n",
            " 2.22420452e-11 2.27915504e-11 2.22420456e-11 2.27915508e-11\n",
            " 2.22420456e-11 2.27915506e-11 2.22420454e-11 2.27915506e-11\n",
            " 2.22420454e-11 2.27915507e-11 2.22420452e-11 2.27915506e-11\n",
            " 2.22420456e-11 2.27915504e-11 2.22420455e-11 2.27915504e-11\n",
            " 2.22420456e-11 2.27915507e-11 2.22425896e-11 9.04169712e-11\n",
            " 1.07234525e-06]\n",
            "finite TEBD, imaginary time evolution, transverse field Ising\n",
            "L=45, g=1.00\n",
            "dt = 0.10000: E = -44.5843998093977\n",
            "dt = 0.01000: E = -44.8255411487924\n",
            "dt = 0.00100: E = -44.8484326320317\n",
            "dt = 0.00001: E = -44.8507066136907\n",
            "dt = 0.00000: E = -44.8507273278685\n",
            "final bond dimensions:  [2, 4, 4, 4, 4, 4, 4, 4, 4, 4, 4, 4, 4, 4, 4, 4, 4, 4, 4, 4, 4, 4, 4, 4, 4, 4, 4, 4, 4, 4, 4, 4, 4, 4, 4, 4, 4, 4, 4, 4, 4, 4, 4, 2]\n",
            "magnetization in X = -16.90995\n",
            "magnetization in Z = 0.01926\n",
            "entanglement entropy =  [0.36144611 0.61869375 0.61869488 0.61869459 0.61869464 0.61869435\n",
            " 0.6186944  0.61869411 0.61869416 0.61869386 0.61869392 0.61869362\n",
            " 0.61869368 0.61869338 0.61869343 0.61869314 0.61869319 0.6186929\n",
            " 0.61869295 0.61869266 0.61869271 0.61869242 0.61869247 0.61869218\n",
            " 0.61869223 0.61869194 0.61869199 0.6186917  0.61869175 0.61869146\n",
            " 0.61869151 0.61869122 0.61869127 0.61869098 0.61869103 0.61869074\n",
            " 0.61869079 0.6186905  0.61869055 0.61869026 0.61869031 0.61869001\n",
            " 0.61868898 0.36144277]\n",
            "finite TEBD, imaginary time evolution, transverse field Ising\n",
            "L=40, g=1.00\n",
            "dt = 0.10000: E = -40.1040520267760\n",
            "dt = 0.01000: E = -40.2006137787634\n",
            "dt = 0.00100: E = -40.2015146061155\n",
            "dt = 0.00001: E = -40.2015164645863\n",
            "dt = 0.00000: E = -40.2015166443382\n",
            "final bond dimensions:  [2, 2, 2, 2, 2, 2, 2, 2, 2, 2, 2, 2, 2, 2, 2, 2, 2, 2, 2, 2, 2, 2, 2, 2, 2, 2, 2, 2, 2, 2, 2, 2, 2, 2, 2, 2, 2, 2, 2]\n",
            "magnetization in X = 39.56171\n",
            "magnetization in Z = 1.20752\n",
            "entanglement entropy =  [1.07234525e-06 9.04169719e-11 2.22425887e-11 2.27915504e-11\n",
            " 2.22420455e-11 2.27915508e-11 2.22420457e-11 2.27915505e-11\n",
            " 2.22420454e-11 2.27915506e-11 2.22420456e-11 2.27915505e-11\n",
            " 2.22420453e-11 2.27915505e-11 2.22420457e-11 2.27915506e-11\n",
            " 2.22420454e-11 2.27915506e-11 2.22420456e-11 2.27915504e-11\n",
            " 2.22420455e-11 2.27915506e-11 2.22420455e-11 2.27915506e-11\n",
            " 2.22420455e-11 2.27915503e-11 2.22420455e-11 2.27915506e-11\n",
            " 2.22420454e-11 2.27915506e-11 2.22420454e-11 2.27915507e-11\n",
            " 2.22420456e-11 2.27915507e-11 2.22420456e-11 2.27915504e-11\n",
            " 2.22425893e-11 9.04169708e-11 1.07234525e-06]\n"
          ]
        }
      ],
      "source": [
        "import numpy as np\n",
        "\n",
        "import numpy as np\n",
        "\n",
        "site_ar = [10,15,20,25,28,32,36,38,42,45,40]\n",
        "# Initialize a_n as a list of empty arrays, each with shape (20, 1)\n",
        "a_n = [np.empty((8, 1)) for _ in range(len(site_ar))]\n",
        "\n",
        "for i in range(len(site_ar)):\n",
        "    e, b, c = example_TEBD_gs_tf_ising_finite(L=site_ar[i], g=1.0)\n",
        "    # Assume b is the array with 20 values that needs to be stored\n",
        "    a_n[i][:, 0] = b[:8]  # Storing the first 20 values of b into the ith array in a_n\n",
        "\n",
        "# Converting list of arrays into a single numpy array under a single column\n",
        "a_n_combined = np.concatenate(a_n, axis=0)\n"
      ]
    },
    {
      "cell_type": "code",
      "execution_count": null,
      "metadata": {
        "id": "HtVmmBlwlPER"
      },
      "outputs": [],
      "source": [
        "a_sep=[np.empty((8, len(site_ar))) for _ in range(len(site_ar))]\n",
        "for i in range(len(site_ar)):\n",
        "  for j in range(8,8,len(a_n)):\n",
        "    a_sep[i][:,j]=a_n_combined[j]"
      ]
    },
    {
      "cell_type": "code",
      "execution_count": null,
      "metadata": {
        "id": "l114isD1n4N1"
      },
      "outputs": [],
      "source": [
        "for i in range(len(a_sep)):\n",
        "  a_sep[i]=a_sep[i].flatten()"
      ]
    },
    {
      "cell_type": "code",
      "execution_count": null,
      "metadata": {
        "colab": {
          "base_uri": "https://localhost:8080/"
        },
        "id": "AzVOddCiuME5",
        "outputId": "7dc53a20-f1e2-407d-e1ee-c8fbe44dd7dd"
      },
      "outputs": [
        {
          "name": "stdout",
          "output_type": "stream",
          "text": [
            "[5.03749644e-316 0.00000000e+000 3.30529917e-321             nan\n",
            " 1.27802866e-152 3.32230396e+257 2.31881454e-152 3.68065909e+180\n",
            " 9.82208445e+252 1.39806876e-152 1.27921601e-152 5.82659453e+252\n",
            " 2.66052666e-260 2.76584663e+199 9.13612771e+242 2.32160957e-152\n",
            " 2.31461375e-152 2.08111237e-115 1.90649549e+185 4.37339761e+257\n",
            " 1.69592889e-152 2.42776664e-154 7.75444640e+228 1.91570156e+227\n",
            " 5.04350391e+180 1.49001906e+195 6.19640467e+223 4.96042850e+180\n",
            " 1.00838756e+261 4.95238678e+223 1.34452794e+161 1.51327986e+256\n",
            " 1.95134824e+227 1.27989332e-152 5.83108779e+252 2.64626849e-260\n",
            " 1.08613915e-153 1.72722582e+097 1.87673433e-152 5.28563039e+180\n",
            " 6.01346953e-154 1.05908440e-153 5.03734573e+180 1.50370007e+161\n",
            " 3.45121411e-085 6.01346953e-154 1.71898008e+161 1.15823459e-152\n",
            " 9.08367206e+223 6.89975712e+212 1.72053730e+243 1.06186010e-153\n",
            " 1.46921995e+195 1.11390684e-258 9.31464415e+242 1.68821600e+195\n",
            " 3.80985005e+180 2.64684769e+180 2.34953944e+251 7.20535013e+159\n",
            " 8.70446315e+183 1.38795503e+219 9.09911589e+223 6.01346953e-154\n",
            " 1.67494826e+243 3.32234284e+257 2.08509529e-115 2.43393759e-152\n",
            " 8.79345187e+199 1.06314416e+248 2.75293864e+039 1.06083190e-153\n",
            " 2.68882656e-260 3.68218403e+180 1.00838756e+261 1.27826271e-152\n",
            " 9.31464658e+242 1.27276404e+232 2.62030262e+214 2.02444833e+267\n",
            " 7.66984810e+170 4.82407136e+228 4.64302018e+164 1.01174809e+261\n",
            " 2.34784384e+251 2.06917493e+161 4.16305233e+199 1.36585249e-258]\n",
            "[4.88050505e-316 0.00000000e+000 3.34976508e-321             nan\n",
            " 6.01346953e-154 5.59634852e+199 2.96036212e+222 1.67626279e+243\n",
            " 9.17716656e+170 6.01346953e-154 1.27731744e-152 4.96042068e+180\n",
            " 5.46645439e+241 3.03668901e-152 7.22759583e+159 2.64522468e+185\n",
            " 2.49970340e+262 5.38891820e+228 6.19266072e-096 6.01346953e-154\n",
            " 3.98837334e+252 1.27967852e-152 2.31460469e-152 1.94208380e+227\n",
            " 1.69337694e-152 1.87300536e-152 2.90465046e+180 5.46647994e+241\n",
            " 4.77098544e+180 6.01347002e-154 2.19994182e-152 2.51969421e+180\n",
            " 1.63673561e-152 2.31647114e-152 5.46647994e+241 3.03668901e-152\n",
            " 7.20706153e+159 4.63385214e+228 6.01347002e-154 3.63199723e+228\n",
            " 8.89492733e+252 1.19439971e+190 4.82406562e+228 6.01346953e-154\n",
            " 2.58408173e+161 2.46600381e-154 2.47379808e-091 4.47593816e-091\n",
            " 6.01347002e-154 1.03474571e-028 6.01334666e-154 6.01347002e-154\n",
            " 7.69110575e+218 1.46923335e+195 2.19994182e-152 2.51969421e+180\n",
            " 6.01347002e-154 1.67626279e+243 1.94862404e-153 1.33856864e-152\n",
            " 4.27255719e+180 3.95482030e+156 6.01347002e-154 1.80518078e-152\n",
            " 3.68065914e+180 7.28304752e+199 5.03037629e+175 7.19949761e+252\n",
            " 5.38891809e+228 1.81363727e-152 7.36093997e+223 1.23764551e-259\n",
            " 6.01347002e-154 5.29965388e+180 1.14489732e+243 1.46923551e+195\n",
            " 1.06758000e+224 1.67626279e+243 9.17716656e+170 7.21562912e+159\n",
            " 2.35054003e+180 6.01347002e-154 6.78578159e+212 1.64465334e+161\n",
            " 1.94858119e+227 7.26607058e+223 4.27255602e+180 6.01347002e-154]\n",
            "[5.01188106e-316 0.00000000e+000 3.28059589e-321             nan\n",
            " 6.01346953e-154 2.43999446e-152 7.22082943e+159 3.06727241e+169\n",
            " 2.42766858e-154 7.69843740e+218 5.98189658e-154 4.47593816e-091\n",
            " 6.01334512e-154 3.96391596e+252 1.09857249e-152 1.66042874e+243\n",
            " 2.05132214e+161 2.18774353e+156 7.08468655e+159 8.61880627e+183\n",
            " 3.86585430e+233 2.46343043e-154 1.79805224e+044 1.71796322e+161\n",
            " 2.49970348e+262 1.11317714e+171 1.15312597e+214 4.26137297e+257\n",
            " 3.17095857e+180 3.94814797e+180 2.32761511e+251 6.01334637e-154\n",
            " 1.87673423e-152 2.65224887e-086 6.01347002e-154 9.05280211e+223\n",
            " 7.20358919e+159 1.17567364e+214 1.75631032e-152 1.54381037e+256\n",
            " 1.32971161e-152 7.49363265e+247 1.71286767e+262 6.01334657e-154\n",
            " 3.52476211e+233 8.78540323e+223 6.19075100e+223 2.02569780e+174\n",
            " 2.32160604e-152 2.42766822e-154 8.78869628e-106 2.41678276e+198\n",
            " 4.78109217e+180 1.46923335e+195 2.19994182e-152 1.72977328e+156\n",
            " 1.73061122e+156 4.39480601e+198 9.76519555e+199 6.01334510e-154\n",
            " 5.85218829e+199 4.83784398e+276 2.35568353e+251 1.05118287e-153\n",
            " 2.68212787e-110 6.01334434e-154 1.06441859e+248 4.47590761e-091\n",
            " 6.01334512e-154 2.46089686e-154 1.72219190e+097 1.33856858e-152\n",
            " 1.10285888e+155 1.05919009e-153 6.13323251e-095 1.32883996e+179\n",
            " 5.03395988e+223 4.24338335e+175 1.13843684e-094 2.44012885e-154\n",
            " 7.08468655e+159 1.34444636e+161 3.81999124e+180 2.31463017e-152\n",
            " 1.81363454e-152 3.44374266e-086 2.90435030e-144 6.01347002e-154]\n",
            "[4.97537519e-316 0.00000000e+000 3.12249488e-321             nan\n",
            " 9.48701663e+170 0.00000000e+000 6.01347002e-154 7.34514234e+223\n",
            " 6.78844602e+199 7.22594635e+159 1.75398146e-152 3.28658267e-085\n",
            " 6.01347002e-154 1.78714833e+161 6.34399954e+151 5.81468097e+175\n",
            " 3.94355938e+180 6.08709904e+247 7.09716454e+159 6.78844602e+199\n",
            " 3.18462835e-120 5.98129743e-154 3.67285416e+194 7.88147474e+199\n",
            " 1.78714834e+161 1.27276988e+232 6.51102092e+265 6.48224634e+170\n",
            " 1.27734658e-152 3.09980618e+169 3.17403622e-120 6.01346953e-154\n",
            " 2.58415038e+161 6.97384220e+228 1.54346142e+256 7.36663653e+223\n",
            " 3.99727166e+252 8.92361346e+252 5.98129759e-154 2.88263699e+213\n",
            " 1.69600339e+161 1.14511380e+243 2.64480370e+180 5.03403489e+223\n",
            " 8.70446315e+183 1.06400250e+248 1.15989826e+253 1.62692099e+219\n",
            " 6.01347002e-154 1.78879622e+161 7.24925819e+228 5.95063100e+228\n",
            " 7.19026826e+252 1.49457371e+195 1.78879622e+161 1.21906099e-152\n",
            " 6.08709904e+247 5.98181669e-154 1.15305479e+214 1.81270012e-152\n",
            " 1.32881984e+179 1.21698093e-152 2.85996234e+174 8.73942023e-154\n",
            " 2.31463202e-152 1.49457371e+195 1.78879622e+161 5.98129759e-154\n",
            " 2.38084583e+228 1.47716084e+248 8.89028082e+212 5.36094582e+199\n",
            " 4.95267807e+223 2.03437975e+174 4.82408871e+228 2.66360032e+233\n",
            " 2.35623854e+251 6.01347002e-154 3.68725795e+180 1.68821601e+195\n",
            " 7.20358919e+159 2.31634003e-152 1.13337589e-153 3.42972252e+161\n",
            " 2.66532324e-260 0.00000000e+000 2.98206878e-316 6.61630009e-310]\n",
            "[5.08796307e-316 0.00000000e+000 3.12249488e-321             nan\n",
            " 9.48701663e+170 0.00000000e+000 6.01347002e-154 7.34514234e+223\n",
            " 6.78844602e+199 7.22594635e+159 1.75398146e-152 3.28658267e-085\n",
            " 6.01347002e-154 1.78714833e+161 6.34399954e+151 5.81468097e+175\n",
            " 3.94355938e+180 6.08709904e+247 7.09716454e+159 6.78844602e+199\n",
            " 3.18462835e-120 5.98129743e-154 3.67285416e+194 7.88147474e+199\n",
            " 1.78714834e+161 1.27276988e+232 6.51102092e+265 6.48224634e+170\n",
            " 1.27734658e-152 3.09980618e+169 3.17403622e-120 6.01346953e-154\n",
            " 2.58415038e+161 6.97384220e+228 1.54346142e+256 7.36663653e+223\n",
            " 3.99727166e+252 8.92361346e+252 5.98129759e-154 2.88263699e+213\n",
            " 1.69600339e+161 1.14511380e+243 2.64480370e+180 5.03403489e+223\n",
            " 8.70446315e+183 1.06400250e+248 1.15989826e+253 1.62692099e+219\n",
            " 6.01347002e-154 1.78879622e+161 7.24925819e+228 5.95063100e+228\n",
            " 7.19026826e+252 1.49457371e+195 1.78879622e+161 1.21906099e-152\n",
            " 6.08709904e+247 5.98181669e-154 1.15305479e+214 1.81270012e-152\n",
            " 1.32881984e+179 1.21698093e-152 2.85996234e+174 8.73942023e-154\n",
            " 2.31463202e-152 1.49457371e+195 1.78879622e+161 5.98129759e-154\n",
            " 2.38084583e+228 1.47716084e+248 8.89028082e+212 5.36094582e+199\n",
            " 4.95267807e+223 2.03437975e+174 4.82408871e+228 2.66360032e+233\n",
            " 2.35623854e+251 6.01347002e-154 3.68725795e+180 1.68821601e+195\n",
            " 7.20358919e+159 2.31634003e-152 1.13337589e-153 3.42972252e+161\n",
            " 2.66532324e-260 0.00000000e+000 5.08221219e-316 6.61630009e-310]\n",
            "[1.24203163e-319 0.00000000e+000 3.28059589e-321             nan\n",
            " 8.83826094e+199 2.89755776e-057 1.27826731e-152 7.10019015e-154\n",
            " 4.24436841e+175 2.35510016e+251 7.07383391e+194 1.06263367e+248\n",
            " 9.30350507e+199 2.05423612e-115 7.63771367e+170 2.20812880e-259\n",
            " 2.04748322e+161 1.47716730e+248 8.73765931e+183 2.52475888e+180\n",
            " 3.62481984e+228 2.51968621e+180 1.46922223e+195 1.06263367e+248\n",
            " 4.70693477e+257 4.22345689e+252 3.62478142e+228 1.46921998e+195\n",
            " 1.06263367e+248 6.85876211e-140 9.35082675e+252 7.54974975e-085\n",
            " 3.60035191e+227 6.18505575e+223 4.66314574e+025 1.31545025e-259\n",
            " 3.68671315e+180 1.02584502e+200 7.23787076e+159 1.23754910e+214\n",
            " 1.66043277e+243 1.21696727e-152 2.46734508e+243 3.53385905e+246\n",
            " 1.39487802e-258 8.82893879e+199 1.22187000e+224 1.27734658e-152\n",
            " 1.27990516e-152 2.18186254e+243 1.94161570e+227 1.11683723e+093\n",
            " 1.12498508e+093 2.06286662e+045 6.06241733e+006 1.38755998e+093\n",
            " 1.11822753e+021 1.44222546e+073 1.20987621e+045 1.49003466e+195\n",
            " 4.78214477e+180 1.10872315e+219 6.87039799e-140 3.17095857e+180\n",
            " 5.03938815e+180 3.17095867e+180 5.36094582e+199 3.00921490e+161\n",
            " 1.14490541e+243 1.14359085e+243 1.06400250e+248 6.79057342e+212\n",
            " 4.82406564e+228 1.14115388e+243 7.63770570e+170 3.45767785e+183\n",
            " 1.98957099e+185 3.63519843e+228 9.94086504e+247 1.12319300e+219\n",
            " 1.67709469e+243 3.98472115e+252 6.65946006e+149 2.90834908e-014\n",
            " 2.58276571e-144 4.91549236e+252 9.44357428e-259 1.14486226e-099]\n",
            "[6.61630009e-310 5.08124145e-316 0.00000000e+000 2.12199579e-314\n",
            " 0.00000000e+000 5.08887615e-322 0.00000000e+000 0.00000000e+000\n",
            " 2.12199579e-314 1.35807731e-312 6.12641401e-322 0.00000000e+000\n",
            " 0.00000000e+000 2.12199579e-314 1.35807731e-312 0.00000000e+000\n",
            " 0.00000000e+000 0.00000000e+000 0.00000000e+000 0.00000000e+000\n",
            " 0.00000000e+000 0.00000000e+000 0.00000000e+000 0.00000000e+000\n",
            " 0.00000000e+000 0.00000000e+000 0.00000000e+000 0.00000000e+000\n",
            " 0.00000000e+000 0.00000000e+000 0.00000000e+000 0.00000000e+000\n",
            " 0.00000000e+000 0.00000000e+000 0.00000000e+000 0.00000000e+000\n",
            " 0.00000000e+000 0.00000000e+000 0.00000000e+000 0.00000000e+000\n",
            " 0.00000000e+000 0.00000000e+000 0.00000000e+000 0.00000000e+000\n",
            " 0.00000000e+000 0.00000000e+000 0.00000000e+000 0.00000000e+000\n",
            " 0.00000000e+000 0.00000000e+000 0.00000000e+000 0.00000000e+000\n",
            " 0.00000000e+000 0.00000000e+000 0.00000000e+000 0.00000000e+000\n",
            " 0.00000000e+000 0.00000000e+000 0.00000000e+000 0.00000000e+000\n",
            " 0.00000000e+000 0.00000000e+000 0.00000000e+000 0.00000000e+000\n",
            " 0.00000000e+000 0.00000000e+000 0.00000000e+000 0.00000000e+000\n",
            " 0.00000000e+000 0.00000000e+000 0.00000000e+000 0.00000000e+000\n",
            " 0.00000000e+000 0.00000000e+000 0.00000000e+000 0.00000000e+000\n",
            " 0.00000000e+000 0.00000000e+000 0.00000000e+000 0.00000000e+000\n",
            " 0.00000000e+000 6.37344683e-322 5.08127387e-316 6.61630009e-310\n",
            " 5.31666808e-317 5.32960074e-317 5.32960074e-317 5.31707124e-317]\n",
            "[6.61630009e-310 6.61630009e-310 0.00000000e+000 2.12199579e-314\n",
            " 0.00000000e+000 4.94065646e-322 0.00000000e+000 0.00000000e+000\n",
            " 2.12199579e-314 1.35807731e-312 6.52166653e-322 0.00000000e+000\n",
            " 0.00000000e+000 2.12199579e-314 1.35807731e-312 9.88131292e-324\n",
            " 0.00000000e+000 0.00000000e+000 2.12199579e-314 1.03977794e-312\n",
            " 4.99006302e-322 0.00000000e+000 0.00000000e+000 2.12199579e-314\n",
            " 1.03977794e-312 9.88131292e-324 0.00000000e+000 0.00000000e+000\n",
            " 2.12199579e-314 1.12465777e-312 2.12199584e-314 0.00000000e+000\n",
            " 0.00000000e+000 2.12199579e-314 1.12465777e-312 4.24399163e-314\n",
            " 0.00000000e+000 0.00000000e+000 2.12199579e-314 1.29441743e-312\n",
            " 2.12199587e-314 0.00000000e+000 0.00000000e+000 2.12199579e-314\n",
            " 1.31563739e-312 2.12199588e-314 0.00000000e+000 0.00000000e+000\n",
            " 2.12199579e-314 1.31563739e-312 2.12199587e-314 0.00000000e+000\n",
            " 0.00000000e+000 2.12199579e-314 1.33685735e-312 2.12199588e-314\n",
            " 0.00000000e+000 0.00000000e+000 2.12199579e-314 1.33685735e-312\n",
            " 3.35964639e-322 0.00000000e+000 0.00000000e+000 2.12199579e-314\n",
            " 1.35807731e-312 8.20148972e-322 0.00000000e+000 0.00000000e+000\n",
            " 2.12199579e-314 1.35807731e-312 8.44852254e-322 0.00000000e+000\n",
            " 0.00000000e+000 2.12199579e-314 1.35807731e-312 6.36598742e-314\n",
            " 0.00000000e+000 0.00000000e+000 2.12199579e-314 1.06099790e-313\n",
            " 0.00000000e+000 6.37344683e-322 5.00960115e-316 6.61630009e-310\n",
            " 5.31666808e-317 5.32960074e-317 5.32960074e-317 5.31707124e-317]\n",
            "[6.61630009e-310 4.90635012e-316 0.00000000e+000 2.47032823e-323\n",
            " 0.00000000e+000 0.00000000e+000 0.00000000e+000 0.00000000e+000\n",
            " 0.00000000e+000 0.00000000e+000 4.94065646e-324 0.00000000e+000\n",
            " 0.00000000e+000 6.61622567e-310 6.61622567e-310 0.00000000e+000\n",
            " 0.00000000e+000 0.00000000e+000 0.00000000e+000 0.00000000e+000\n",
            " 0.00000000e+000 0.00000000e+000 0.00000000e+000 0.00000000e+000\n",
            " 0.00000000e+000 0.00000000e+000 0.00000000e+000 0.00000000e+000\n",
            " 0.00000000e+000 0.00000000e+000 0.00000000e+000 0.00000000e+000\n",
            " 0.00000000e+000 0.00000000e+000 0.00000000e+000 0.00000000e+000\n",
            " 0.00000000e+000 0.00000000e+000 0.00000000e+000 0.00000000e+000\n",
            " 0.00000000e+000 0.00000000e+000 0.00000000e+000 0.00000000e+000\n",
            " 0.00000000e+000 0.00000000e+000 0.00000000e+000 0.00000000e+000\n",
            " 0.00000000e+000 0.00000000e+000 0.00000000e+000 0.00000000e+000\n",
            " 0.00000000e+000 0.00000000e+000 0.00000000e+000 0.00000000e+000\n",
            " 0.00000000e+000 0.00000000e+000 0.00000000e+000 0.00000000e+000\n",
            " 0.00000000e+000 0.00000000e+000 0.00000000e+000 0.00000000e+000\n",
            " 0.00000000e+000 0.00000000e+000 0.00000000e+000 0.00000000e+000\n",
            " 0.00000000e+000 0.00000000e+000 0.00000000e+000 0.00000000e+000\n",
            " 0.00000000e+000 0.00000000e+000 0.00000000e+000 0.00000000e+000\n",
            " 0.00000000e+000 0.00000000e+000 0.00000000e+000 0.00000000e+000\n",
            " 0.00000000e+000 0.00000000e+000 0.00000000e+000 0.00000000e+000\n",
            " 0.00000000e+000 0.00000000e+000 0.00000000e+000 0.00000000e+000]\n",
            "[6.61630009e-310 6.61630009e-310 0.00000000e+000 0.00000000e+000\n",
            " 0.00000000e+000 0.00000000e+000 0.00000000e+000 0.00000000e+000\n",
            " 0.00000000e+000 0.00000000e+000 0.00000000e+000 0.00000000e+000\n",
            " 0.00000000e+000 6.61622592e-310 6.61622592e-310 0.00000000e+000\n",
            " 0.00000000e+000 0.00000000e+000 0.00000000e+000 0.00000000e+000\n",
            " 0.00000000e+000 0.00000000e+000 0.00000000e+000 0.00000000e+000\n",
            " 0.00000000e+000 0.00000000e+000 0.00000000e+000 0.00000000e+000\n",
            " 0.00000000e+000 0.00000000e+000 0.00000000e+000 0.00000000e+000\n",
            " 0.00000000e+000 0.00000000e+000 0.00000000e+000 0.00000000e+000\n",
            " 0.00000000e+000 0.00000000e+000 0.00000000e+000 0.00000000e+000\n",
            " 0.00000000e+000 0.00000000e+000 0.00000000e+000 0.00000000e+000\n",
            " 0.00000000e+000 0.00000000e+000 0.00000000e+000 0.00000000e+000\n",
            " 0.00000000e+000 0.00000000e+000 0.00000000e+000 0.00000000e+000\n",
            " 0.00000000e+000 0.00000000e+000 0.00000000e+000 0.00000000e+000\n",
            " 0.00000000e+000 0.00000000e+000 0.00000000e+000 0.00000000e+000\n",
            " 0.00000000e+000 0.00000000e+000 0.00000000e+000 0.00000000e+000\n",
            " 0.00000000e+000 0.00000000e+000 0.00000000e+000 0.00000000e+000\n",
            " 0.00000000e+000 0.00000000e+000 0.00000000e+000 0.00000000e+000\n",
            " 0.00000000e+000 0.00000000e+000 0.00000000e+000 0.00000000e+000\n",
            " 0.00000000e+000 0.00000000e+000 0.00000000e+000 0.00000000e+000\n",
            " 0.00000000e+000 0.00000000e+000 0.00000000e+000 0.00000000e+000\n",
            " 0.00000000e+000 0.00000000e+000 0.00000000e+000 0.00000000e+000]\n",
            "[ 6.61630009e-310  6.61630009e-310  0.00000000e+000  2.12199579e-314\n",
            "  1.35807731e-312  0.00000000e+000  0.00000000e+000  0.00000000e+000\n",
            "  0.00000000e+000  0.00000000e+000  0.00000000e+000  0.00000000e+000\n",
            "  0.00000000e+000  0.00000000e+000  0.00000000e+000  0.00000000e+000\n",
            "  0.00000000e+000  0.00000000e+000  0.00000000e+000  0.00000000e+000\n",
            "  0.00000000e+000  0.00000000e+000  0.00000000e+000  0.00000000e+000\n",
            "  0.00000000e+000  0.00000000e+000  0.00000000e+000  0.00000000e+000\n",
            "  0.00000000e+000  0.00000000e+000  0.00000000e+000  0.00000000e+000\n",
            "  0.00000000e+000  0.00000000e+000  0.00000000e+000  0.00000000e+000\n",
            "  0.00000000e+000  0.00000000e+000  0.00000000e+000  0.00000000e+000\n",
            "  0.00000000e+000  0.00000000e+000  0.00000000e+000  0.00000000e+000\n",
            "  0.00000000e+000  0.00000000e+000  0.00000000e+000  0.00000000e+000\n",
            "  0.00000000e+000  0.00000000e+000  0.00000000e+000  0.00000000e+000\n",
            "  0.00000000e+000  0.00000000e+000  0.00000000e+000  0.00000000e+000\n",
            "  0.00000000e+000  0.00000000e+000  0.00000000e+000  0.00000000e+000\n",
            "  0.00000000e+000  0.00000000e+000  0.00000000e+000  0.00000000e+000\n",
            "  0.00000000e+000  0.00000000e+000  0.00000000e+000  0.00000000e+000\n",
            "  0.00000000e+000  0.00000000e+000  0.00000000e+000  0.00000000e+000\n",
            "  0.00000000e+000  0.00000000e+000  0.00000000e+000  0.00000000e+000\n",
            "  0.00000000e+000  0.00000000e+000  0.00000000e+000  0.00000000e+000\n",
            "  0.00000000e+000  7.95445690e-322  4.23598051e-316  6.61630009e-310\n",
            "  8.26522484e-012 -1.20150918e-004  9.60909695e-008  2.75754459e-008]\n"
          ]
        }
      ],
      "source": [
        "for i in range(len(a_sep)):\n",
        "  print(a_sep[i])"
      ]
    },
    {
      "cell_type": "code",
      "execution_count": null,
      "metadata": {
        "id": "mq_iyIDSoDTr"
      },
      "outputs": [],
      "source": [
        "for i in range(len(site_ar)):\n",
        "  for j in range(8,8,len(a_n_combined)):\n",
        "    print(i,j)"
      ]
    },
    {
      "cell_type": "code",
      "execution_count": null,
      "metadata": {
        "colab": {
          "base_uri": "https://localhost:8080/",
          "height": 430
        },
        "id": "MUMX25pV902p",
        "outputId": "41c32c80-4f88-4b6a-844f-cdabf892486c"
      },
      "outputs": [
        {
          "data": {
            "image/png": "[encoded data removed]",
            "text/plain": [
              "<Figure size 640x480 with 2 Axes>"
            ]
          },
          "metadata": {},
          "output_type": "display_data"
        }
      ],
      "source": [
        "import matplotlib.pyplot as plt\n",
        "import numpy as np\n",
        "data = np.reshape(a_n,(1,-1))\n",
        "plt.imshow(data,cmap='viridis',aspect='auto')\n",
        "plt.colorbar()\n",
        "plt.show()"
      ]
    },
    {
      "cell_type": "code",
      "execution_count": null,
      "metadata": {
        "colab": {
          "base_uri": "https://localhost:8080/",
          "height": 449
        },
        "id": "yXh1ERnejLBK",
        "outputId": "9ac7c2e4-6986-4eb1-d40d-f334cc120097"
      },
      "outputs": [
        {
          "data": {
            "image/png": "[encoded data removed]",
            "text/plain": [
              "<Figure size 640x480 with 1 Axes>"
            ]
          },
          "metadata": {},
          "output_type": "display_data"
        }
      ],
      "source": [
        "plt.plot(site_ar,a_n,marker='o',linestyle='-',color='cyan')\n",
        "plt.xlabel('site length')\n",
        "plt.ylabel('Energy')\n",
        "plt.grid()\n",
        "plt.show()"
      ]
    },
    {
      "cell_type": "code",
      "execution_count": null,
      "metadata": {
        "colab": {
          "base_uri": "https://localhost:8080/",
          "height": 300
        },
        "id": "y9msRADSGSAy",
        "outputId": "f06385d4-8c6c-4aba-e3df-6d17434e2a62"
      },
      "outputs": [
        {
          "data": {
            "image/png": "[encoded data removed]",
            "text/plain": [
              "<Figure size 2000x600 with 1 Axes>"
            ]
          },
          "metadata": {},
          "output_type": "display_data"
        }
      ],
      "source": [
        "b_reshaped=a_sep[1].reshape(len(a_sep[1]),-1)\n",
        "pl.pcolor(b_reshaped,cmap=\"copper\")\n",
        "pl.show()"
      ]
    },
    {
      "cell_type": "markdown",
      "metadata": {
        "id": "OiKZHe_noGDR"
      },
      "source": []
    },
    {
      "cell_type": "code",
      "execution_count": 1,
      "metadata": {
        "id": "74-RQtisoGS2"
      },
      "outputs": [],
      "source": [
        "\n",
        "\n",
        "import numpy as np\n",
        "from scipy.linalg import svd\n",
        "\n",
        "\n",
        "\n",
        "class SimpleMPS:\n",
        "\n",
        "    def __init__(self, Bs, Ss, bc='finite'):\n",
        "        assert bc in ['finite', 'infinite']\n",
        "        self.Bs = Bs\n",
        "        self.Ss = Ss\n",
        "        self.bc = bc\n",
        "        self.L = len(Bs)\n",
        "        self.nbonds = self.L - 1 if self.bc == 'finite' else self.L\n",
        "\n",
        "    def copy(self):\n",
        "        return SimpleMPS([B.copy() for B in self.Bs], [S.copy() for S in self.Ss], self.bc)\n",
        "\n",
        "    def get_theta1(self, i):\n",
        "\n",
        "        return np.tensordot(np.diag(self.Ss[i]), self.Bs[i], [1, 0])  # vL [vL'], [vL] i vR\n",
        "\n",
        "    def get_theta2(self, i):\n",
        "\n",
        "        j = (i + 1) % self.L\n",
        "        return np.tensordot(self.get_theta1(i), self.Bs[j], [2, 0])  # vL i [vR], [vL] j vR\n",
        "\n",
        "    def get_chi(self):\n",
        "\n",
        "        return [self.Bs[i].shape[2] for i in range(self.nbonds)]\n",
        "\n",
        "    def site_expectation_value(self, op):\n",
        "\n",
        "        result = []\n",
        "        for i in range(self.L):\n",
        "            theta = self.get_theta1(i)  # vL i vR\n",
        "            op_theta = np.tensordot(op, theta, axes=(1, 1))  # i [i*], vL [i] vR\n",
        "            result.append(np.tensordot(theta.conj(), op_theta, [[0, 1, 2], [1, 0, 2]]))\n",
        "            # [vL*] [i*] [vR*], [i] [vL] [vR]\n",
        "        return np.real_if_close(result)\n",
        "\n",
        "    def bond_expectation_value(self, op):\n",
        "\n",
        "        result = []\n",
        "        for i in range(self.nbonds):\n",
        "            theta = self.get_theta2(i)  # vL i j vR\n",
        "            op_theta = np.tensordot(op[i], theta, axes=([2, 3], [1, 2]))\n",
        "            # i j [i*] [j*], vL [i] [j] vR\n",
        "            result.append(np.tensordot(theta.conj(), op_theta, [[0, 1, 2, 3], [2, 0, 1, 3]]))\n",
        "            # [vL*] [i*] [j*] [vR*], [i] [j] [vL] [vR]\n",
        "        return np.real_if_close(result)\n",
        "\n",
        "    def entanglement_entropy(self):\n",
        "\n",
        "        bonds = range(1, self.L) if self.bc == 'finite' else range(0, self.L)\n",
        "        result = []\n",
        "        for i in bonds:\n",
        "            S = self.Ss[i]\n",
        "            S = S[S > 1.e-20]  # 0*log(0) should give 0 and won't contribute to the sum\n",
        "            # avoid warning or NaN by discarding the very small values of S\n",
        "            S2 = S * S\n",
        "            assert abs(np.linalg.norm(S) - 1.) < 1.e-13\n",
        "            result.append(-np.sum(S2 * np.log(S2)))\n",
        "        return np.array(result)\n",
        "\n",
        "    def correlation_length(self):\n",
        "        from scipy.sparse.linalg import eigs\n",
        "        if self.get_chi()[0] > 100:\n",
        "            warnings.warn(\"Skip calculating correlation_length() for large chi: could take long\")\n",
        "            return -1.\n",
        "        assert self.bc == 'infinite'  # works only in the infinite case\n",
        "        B = self.Bs[0]  # vL i vR\n",
        "        chi = B.shape[0]\n",
        "        T = np.tensordot(B, np.conj(B), axes=(1, 1))  # vL [i] vR, vL* [i*] vR*\n",
        "        T = np.transpose(T, [0, 2, 1, 3])  # vL vL* vR vR*\n",
        "        for i in range(1, self.L):\n",
        "            B = self.Bs[i]\n",
        "            T = np.tensordot(T, B, axes=(2, 0))  # vL vL* [vR] vR*, [vL] i vR\n",
        "            T = np.tensordot(T, np.conj(B), axes=([2, 3], [0, 1]))\n",
        "            # vL vL* [vR*] [i] vR, [vL*] [i*] vR*\n",
        "        T = np.reshape(T, (chi**2, chi**2))\n",
        "        # Obtain the 2nd largest eigenvalue\n",
        "        eta = eigs(T, k=2, which='LM', return_eigenvectors=False, ncv=20)\n",
        "        xi =  -self.L / np.log(np.min(np.abs(eta)))\n",
        "        if xi > 1000.:\n",
        "            return np.inf\n",
        "        return xi\n",
        "\n",
        "    def correlation_function(self, op_i, i, op_j, j):\n",
        "        # assert i < j\n",
        "        theta = self.get_theta1(i) # vL i vR\n",
        "        C = np.tensordot(op_i, theta, axes=(1, 1)) # i [i*], vL [i] vR\n",
        "        C = np.tensordot(theta.conj(), C, axes=([0, 1], [1, 0]))  # [vL*] [i*] vR*, [i] [vL] vR\n",
        "        for k in range(i + 1, j):\n",
        "            k = k % self.L\n",
        "            B = self.Bs[k]  # vL k vR\n",
        "            C = np.tensordot(C, B, axes=(1, 0)) # vR* [vR], [vL] k vR\n",
        "            C = np.tensordot(B.conj(), C, axes=([0, 1], [0, 1])) # [vL*] [k*] vR*, [vR*] [k] vR\n",
        "        j = j % self.L\n",
        "        B = self.Bs[j]  # vL k vR\n",
        "        C = np.tensordot(C, B, axes=(1, 0)) # vR* [vR], [vL] j vR\n",
        "        C = np.tensordot(op_j, C, axes=(1, 1))  # j [j*], vR* [j] vR\n",
        "        C = np.tensordot(B.conj(), C, axes=([0, 1, 2], [1, 0, 2])) # [vL*] [j*] [vR*], [j] [vR*] [vR]\n",
        "        return C\n",
        "\n",
        "\n",
        "def init_FM_MPS(L, d=2, bc='finite'):\n",
        "\n",
        "    B = np.zeros([1, d, 1], dtype=float)\n",
        "    B[0, 0, 0] = 1.\n",
        "    S = np.ones([1], dtype=float)\n",
        "    Bs = [B.copy() for i in range(L)]\n",
        "    Ss = [S.copy() for i in range(L)]\n",
        "    return SimpleMPS(Bs, Ss, bc=bc)\n",
        "\n",
        "\n",
        "def init_Neel_MPS(L, d=2, bc='finite'):\n",
        "\n",
        "    S = np.ones([1], dtype=float)\n",
        "    Bs = []\n",
        "    for i in range(L):\n",
        "        B = np.zeros([1, d, 1], dtype=float)\n",
        "        if i % 2 == 0:\n",
        "            B[0, 0, 0] = 1.\n",
        "        else:\n",
        "            B[0, -1, 0] = 1.\n",
        "        Bs.append(B)\n",
        "    Ss = [S.copy() for i in range(L)]\n",
        "    return SimpleMPS(Bs, Ss, bc=bc)\n",
        "\n",
        "\n",
        "def split_truncate_theta(theta, chi_max, eps):\n",
        "\n",
        "    chivL, dL, dR, chivR = theta.shape\n",
        "    theta = np.reshape(theta, [chivL * dL, dR * chivR])\n",
        "    X, Y, Z = svd(theta, full_matrices=False)\n",
        "    # truncate\n",
        "    chivC = min(chi_max, np.sum(Y > eps))\n",
        "    assert chivC >= 1\n",
        "    piv = np.argsort(Y)[::-1][:chivC]  # keep the largest `chivC` singular values\n",
        "    X, Y, Z = X[:, piv], Y[piv], Z[piv, :]\n",
        "    # renormalize\n",
        "    S = Y / np.linalg.norm(Y)  # == Y/sqrt(sum(Y**2))\n",
        "    # split legs of X and Z\n",
        "    A = np.reshape(X, [chivL, dL, chivC])\n",
        "    B = np.reshape(Z, [chivC, dR, chivR])\n",
        "    return A, S, B\n"
      ]
    },
    {
      "cell_type": "code",
      "execution_count": 2,
      "metadata": {
        "id": "Ilizru3VocXm"
      },
      "outputs": [],
      "source": [
        "class TLFIModel:\n",
        "  def __init__(self,L,J,hs,hz,bc='finite'):\n",
        "    assert bc in ['finite','infinite']\n",
        "    self.L,self.d,self.bc = L,2,bc\n",
        "    self.J= J\n",
        "    self.hs = hs\n",
        "    self.hz = hz\n",
        "    self.sigmax = np.array([[0. ,1. ],[1. ,0. ]],)\n",
        "    self.sigmay = np.array([[0. ,-1j],[1j , 0.]])\n",
        "    self.sigmaz = np.array([[1. ,0. ],[0. ,-1. ]])\n",
        "    self.id = np.eye(2) # define id as np.eye(2)\n",
        "    self.init_H_bonds()\n",
        "    self.init_H_MPO()\n",
        "  def init_H_bonds(self):\n",
        "    sx,sy,sz = self.sigmax,self.sigmay,self.sigmaz\n",
        "    d = self.d\n",
        "    nbonds = self.L -1 if self.bc == 'finite' else self.L\n",
        "    H_list=[]\n",
        "    for i in range(nbonds):\n",
        "      hl=hr=0.5*self.hs\n",
        "      hl1=hr1=0.5*self.hz\n",
        "      if self.bc == 'finite':\n",
        "        if i == 0:\n",
        "          hl=self.hs\n",
        "        if i+1 == self.L-1:\n",
        "          hr=self.hs\n",
        "      H_bond = -self.J * np.kron(sx,sx)\n",
        "      # Use self.id instead of id\n",
        "      H_bond = H_bond - hl*(-1)**i * np.kron(sz,self.id) + hr*(-1)**(i+1) * np.kron(self.id,sz) - hl1*(-1)**i * np.kron(sx,self.id) + hr1*(-1)**(i+1) * np.kron(self.id,sx)\n",
        "      H_list.append(np.reshape(H_bond,[d,d,d,d]))\n",
        "    self.H_bonds = H_list\n",
        "  def init_H_MPO(self):\n",
        "    w_list = []\n",
        "    for i in range(self.L):\n",
        "      w=np.zeros((3,3, self.d ,self.d),dtype = float)\n",
        "      w[0,0]=w[2,2]=self.id\n",
        "      w[0,1]= self.sigmaz\n",
        "      w[0,2]= -self.hs*self.sigmaz-self.hz*self.sigmax\n",
        "      w[1,2]= -self.J*self.sigmaz\n",
        "      w_list.append(w)\n",
        "    self.H_MPO = w_list"
      ]
    },
    {
      "cell_type": "code",
      "execution_count": 5,
      "metadata": {
        "id": "ZwSEqWTdoj2Y"
      },
      "outputs": [],
      "source": [
        "import numpy as np\n",
        "from scipy.linalg import expm\n",
        "# from .a_mps import split_truncate_theta\n",
        "\n",
        "\n",
        "def calc_U_bonds(H_bonds, dt):\n",
        "\n",
        "    d = H_bonds[0].shape[0]\n",
        "    U_bonds = []\n",
        "    for H in H_bonds:\n",
        "        H = np.reshape(H, [d * d, d * d])\n",
        "        U = expm(-dt * H)\n",
        "        U_bonds.append(np.reshape(U, [d, d, d, d]))\n",
        "    return U_bonds\n",
        "\n",
        "\n",
        "def run_TEBD(psi, U_bonds, N_steps, chi_max, eps):\n",
        "\n",
        "    Nbonds = psi.L - 1 if psi.bc == 'finite' else psi.L\n",
        "    assert len(U_bonds) == Nbonds\n",
        "    for n in range(N_steps):\n",
        "        for k in [0, 1]:  # even, odd\n",
        "            for i_bond in range(k, Nbonds, 2):\n",
        "                update_bond(psi, i_bond, U_bonds[i_bond], chi_max, eps)\n",
        "    # done\n",
        "\n",
        "\n",
        "def update_bond(psi, i, U_bond, chi_max, eps):\n",
        "\n",
        "    j = (i + 1) % psi.L\n",
        "    # construct theta matrix\n",
        "    theta = psi.get_theta2(i)  # vL i j vR\n",
        "    # apply U\n",
        "    Utheta = np.tensordot(U_bond, theta, axes=([2, 3], [1, 2]))  # i j [i*] [j*], vL [i] [j] vR\n",
        "    Utheta = np.transpose(Utheta, [2, 0, 1, 3])  # vL i j vR\n",
        "    # split and truncate\n",
        "    Ai, Sj, Bj = split_truncate_theta(Utheta, chi_max, eps)\n",
        "    # put back into MPS\n",
        "    Gi = np.tensordot(np.diag(psi.Ss[i]**(-1)), Ai, axes=(1, 0))  # vL [vL*], [vL] i vC\n",
        "    psi.Bs[i] = np.tensordot(Gi, np.diag(Sj), axes=(2, 0))  # vL i [vC], [vC] vC\n",
        "    psi.Ss[j] = Sj  # vC\n",
        "    psi.Bs[j] = Bj  # vC j vR\n",
        "\n",
        "\n",
        "def example_TEBD_gs_tf_ising_finite(L, g, chi_max=30):\n",
        "    mag_x=[]\n",
        "    print(\"finite TEBD, imaginary time evolution, transverse field Ising\")\n",
        "    print(\"L={L:d}, g={g:.2f}\".format(L=L, g=g))\n",
        "    # from . import a_mps\n",
        "    # from . import b_model\n",
        "    model =TLFIModel(L=L, J=1., hs=g,hz=0.5, bc='finite')\n",
        "    psi = init_Neel_MPS(model.L, model.d, model.bc)\n",
        "    t_new=np.linspace(12,1,12)\n",
        "    for dt in t_new:\n",
        "        U_bonds = calc_U_bonds(model.H_bonds, dt)\n",
        "        run_TEBD(psi, U_bonds, N_steps=500, chi_max=chi_max, eps=1.e-10)\n",
        "        E = np.sum(psi.bond_expectation_value(model.H_bonds))\n",
        "        print(\"dt = {dt:.5f}: E = {E:.13f}\".format(dt=dt, E=E))\n",
        "    print(\"final bond dimensions: \", psi.get_chi())\n",
        "    mag_x = psi.site_expectation_value(model.sigmax)\n",
        "    mag_z_n = psi.site_expectation_value(model.sigmaz)\n",
        "    mag_x_scalar = (2/L)*np.sum(mag_x)\n",
        "    mag_z = np.sum(mag_z_n)\n",
        "    print(\"Density imbalance for magnetization in X = {mag_x_scalar:.5f}\".format(mag_x_scalar=mag_x_scalar))\n",
        "    print(\"magnetization in Z = {mag_z:.5f}\".format(mag_z=mag_z))\n",
        "    print(\"entanglement entropy = \", psi.entanglement_entropy())\n",
        "    # print(\"correlation length = \", psi.correlation_length())\n",
        "    # Return all four intended values\n",
        "    return mag_x, mag_z_n, psi.entanglement_entropy(), psi.get_chi()"
      ]
    },
    {
      "cell_type": "code",
      "execution_count": null,
      "metadata": {
        "colab": {
          "base_uri": "https://localhost:8080/"
        },
        "id": "c2UUe3jDpTiq",
        "outputId": "c146ef99-3e78-428f-c027-a3435b94bcdc"
      },
      "outputs": [
        {
          "output_type": "stream",
          "name": "stdout",
          "text": [
            "finite TEBD, imaginary time evolution, transverse field Ising\n",
            "L=10, g=0.90\n",
            "dt = 12.00000: E = -5.5500228061942\n",
            "dt = 11.00000: E = -5.5437871965834\n",
            "dt = 10.00000: E = -5.5270290272611\n",
            "dt = 9.00000: E = -5.4819870138525\n",
            "dt = 8.00000: E = -5.3616350362670\n",
            "dt = 7.00000: E = -5.0593116626932\n",
            "dt = 6.00000: E = -4.6113210752645\n",
            "dt = 5.00000: E = -4.9668601934014\n",
            "dt = 4.00000: E = -4.5656755676637\n",
            "dt = 3.00000: E = -4.2000126621623\n",
            "dt = 2.00000: E = -5.5310336936252\n",
            "dt = 1.00000: E = -8.7562275405545\n",
            "final bond dimensions:  [2, 4, 8, 15, 19, 15, 8, 4, 2]\n",
            "Density imbalance for magnetization in X = 1.75934\n",
            "magnetization in Z = -2.09596\n",
            "entanglement entropy =  [0.01433537 0.03347044 0.00641794 0.03129301 0.00641381 0.03129301\n",
            " 0.00641794 0.03347044 0.01433537]\n"
          ]
        }
      ],
      "source": [
        "c=[]\n",
        "d=[]\n",
        "e=[]\n",
        "f=[]\n",
        "c,d,e,f=example_TEBD_gs_tf_ising_finite(L=10, g=0.9)"
      ]
    },
    {
      "cell_type": "code",
      "execution_count": null,
      "metadata": {
        "colab": {
          "base_uri": "https://localhost:8080/",
          "height": 837
        },
        "id": "JU_LjB2l3jN1",
        "outputId": "d581123b-f18d-4024-c70c-f72a100cc4be"
      },
      "outputs": [
        {
          "data": {
            "image/png": "[encoded data removed]",
            "text/plain": [
              "<Figure size 1000x1000 with 2 Axes>"
            ]
          },
          "metadata": {},
          "output_type": "display_data"
        }
      ],
      "source": [
        "import matplotlib.pyplot as plt\n",
        "import seaborn as sns\n",
        "import numpy as np\n",
        "plt.rcParams['figure.figsize'] = [10, 10]\n",
        "# Your one-dimensional arrays\n",
        "array1 = f\n",
        "array2 = e\n",
        "\n",
        "# Create a 2D histogram using np.histogram2d()\n",
        "heatmap_data, xedges, yedges = np.histogram2d(array1, array2, bins=5)\n",
        "\n",
        "# Plot the heatmap using seaborn\n",
        "ax = sns.heatmap(heatmap_data.T, annot=True, fmt=\".0f\")\n",
        "ax.set_xticks(np.arange(len(xedges)))\n",
        "ax.set_yticks(np.arange(len(yedges)))\n",
        "ax.set_xticklabels(xedges, rotation=0)\n",
        "ax.set_yticklabels(yedges, rotation=0)\n",
        "plt.show()"
      ]
    },
    {
      "cell_type": "code",
      "execution_count": null,
      "metadata": {
        "colab": {
          "base_uri": "https://localhost:8080/",
          "height": 445
        },
        "id": "lp6PBPS3ObbG",
        "outputId": "6c79dde4-8c4b-4899-abf1-8848ccbc23fe"
      },
      "outputs": [
        {
          "data": {
            "image/png": "[encoded data removed]",
            "text/plain": [
              "<Figure size 700x500 with 1 Axes>"
            ]
          },
          "metadata": {},
          "output_type": "display_data"
        }
      ],
      "source": [
        "import matplotlib.pyplot as plt\n",
        "import numpy as np\n",
        "\n",
        "d_new = [0.59652394, -0.40792154, -0.41304419, -0.41177161, -0.41176894,\n",
        "         -0.41177023, -0.41177023, -0.41177023, -0.41177023, -0.41177023,\n",
        "         -0.41177023, -0.41177023, -0.41177023, -0.41177023, -0.41177023,\n",
        "         -0.41176894, -0.41177161, -0.41304419, -0.40792154]\n",
        "plt.rcParams['figure.figsize'] = [7, 5]\n",
        "t_new = np.linspace(12, 1, 12)\n",
        "\n",
        "# Multiply each element of d_new by (2/30) using list comprehension or NumPy broadcasting\n",
        "multiplied_d_new = [(2/30) * x for x in d_new] # Using list comprehension\n",
        "#OR\n",
        "multiplied_d_new = np.array(d_new) * (2/30) # Using NumPy broadcasting\n",
        "\n",
        "\n",
        "plt.plot(t_new,multiplied_d_new[:len(t_new)]) # Make sure the lengths of t_new and multiplied_d_new are compatible for plotting\n",
        "plt.show()"
      ]
    },
    {
      "cell_type": "code",
      "execution_count": null,
      "metadata": {
        "colab": {
          "base_uri": "https://localhost:8080/",
          "height": 472
        },
        "id": "n967RsE4pwQ6",
        "outputId": "8a5e6ab5-145d-4a4b-9deb-4db60077cfeb"
      },
      "outputs": [
        {
          "data": {
            "image/png": "[encoded data removed]",
            "text/plain": [
              "<Figure size 640x480 with 1 Axes>"
            ]
          },
          "metadata": {},
          "output_type": "display_data"
        }
      ],
      "source": [
        "import matplotlib.pyplot as plt\n",
        "import matplotlib.ticker as mtick\n",
        "\n",
        "c = [ -0.95412613, -0.95190988, -0.95293873, -0.95294033,\n",
        "     -0.95293922, -0.95294033, -0.95293873, -0.95190988, -0.95412613]\n",
        "\n",
        "plt.plot(range(len(c)), c, marker='o', linestyle='-', color='cyan')\n",
        "\n",
        "# Format the y-axis to display 6 decimal places\n",
        "plt.gca().yaxis.set_major_formatter(mtick.FormatStrFormatter('%.6f'))\n",
        "\n",
        "plt.xlabel('Index')\n",
        "plt.ylabel('Value')\n",
        "plt.title('Plot with 6 Decimal Places')\n",
        "plt.grid(True)\n",
        "plt.show()"
      ]
    },
    {
      "cell_type": "code",
      "execution_count": null,
      "metadata": {
        "colab": {
          "base_uri": "https://localhost:8080/",
          "height": 448
        },
        "id": "5FHHwMgPsJRn",
        "outputId": "02ac5725-c894-4515-ce81-f7eb6eb9c1e3"
      },
      "outputs": [
        {
          "data": {
            "text/plain": [
              "[<matplotlib.lines.Line2D at 0x7f6753713b90>]"
            ]
          },
          "execution_count": 69,
          "metadata": {},
          "output_type": "execute_result"
        },
        {
          "data": {
            "image/png": "[encoded data removed]",
            "text/plain": [
              "<Figure size 640x480 with 1 Axes>"
            ]
          },
          "metadata": {},
          "output_type": "display_data"
        }
      ],
      "source": [
        "# d[0]=1\n",
        "# d[len(d)-1]=0\n",
        "plt.plot(range(len(d)),d,marker='o',linestyle='-',color='cyan')"
      ]
    },
    {
      "cell_type": "markdown",
      "metadata": {
        "id": "HDK8CUyejmD7"
      },
      "source": [
        "#**Driven dynamics and entanglement steering**"
      ]
    },
    {
      "cell_type": "code",
      "execution_count": 37,
      "metadata": {
        "id": "108Mpd8cjmTd"
      },
      "outputs": [],
      "source": [
        "def example_TEBD_gs_tf_ising_finite(L, g, chi_max=30):\n",
        "    mag_x=[]\n",
        "    print(\"finite TEBD, imaginary time evolution, transverse and longitudinal field Ising\")\n",
        "    print(\"L={L:d}, g={g:.2f}\".format(L=L, g=g))\n",
        "    # from . import a_mps\n",
        "    # from . import b_model\n",
        "    t_new=[0.25,0.3,0.4,0.5,0.6,0.7,0.75,0.8,0.9,1]\n",
        "\n",
        "    # Use a for loop to iterate through values in t_new\n",
        "    for dt in t_new:\n",
        "        if dt <= 0.6: # Condition to stop at 0.6\n",
        "            model =TLFIModel(L=L, J=0, hs=0,hz=g, bc='finite')\n",
        "            psi = init_Neel_MPS(model.L, model.d, model.bc)\n",
        "\n",
        "            U_bonds = calc_U_bonds(model.H_bonds, dt)\n",
        "            run_TEBD(psi, U_bonds, N_steps=500, chi_max=chi_max, eps=1.e-10)\n",
        "            E = np.sum(psi.bond_expectation_value(model.H_bonds))\n",
        "            print(\"dt = {dt:.5f}: E = {E:.13f}\".format(dt=dt, E=E))\n",
        "        elif dt>0.6 and dt <=1:\n",
        "            model =TLFIModel(L=L, J=1, hs=g,hz=0, bc='finite')\n",
        "            psi = init_Neel_MPS(model.L, model.d, model.bc)\n",
        "\n",
        "            U_bonds = calc_U_bonds(model.H_bonds, dt)\n",
        "            run_TEBD(psi, U_bonds, N_steps=500, chi_max=chi_max, eps=1.e-10)\n",
        "            E = np.sum(psi.bond_expectation_value(model.H_bonds))\n",
        "            print(\"dt = {dt:.5f}: E = {E:.13f}\".format(dt=dt, E=E))\n",
        "        else:\n",
        "            break # Exit loop when dt exceeds 1.0\n",
        "\n",
        "    print(\"final bond dimensions: \", psi.get_chi())\n",
        "    mag_x = psi.site_expectation_value(model.sigmax)\n",
        "    mag_z_n = psi.site_expectation_value(model.sigmaz)\n",
        "    mag_x_scalar = (2/L)*np.sum(mag_x)\n",
        "    mag_z = np.sum(mag_z_n)\n",
        "    print(\"Density imbalance for magnetization in X = {mag_x_scalar:.5f}\".format(mag_x_scalar=mag_x_scalar))\n",
        "    print(\"magnetization in Z = {mag_z:.5f}\".format(mag_z=mag_z))\n",
        "    print(\"entanglement entropy = \", psi.entanglement_entropy())\n",
        "    # print(\"correlation length = \", psi.correlation_length())\n",
        "    # Return all four intended values\n",
        "    return mag_x, mag_z_n, psi.entanglement_entropy(), psi.get_chi()"
      ]
    },
    {
      "cell_type": "code",
      "execution_count": 38,
      "metadata": {
        "colab": {
          "base_uri": "https://localhost:8080/"
        },
        "id": "j9HDFfRJuGLn",
        "outputId": "a4cfee64-68c2-4c2b-87ac-05a9eca82c71"
      },
      "outputs": [
        {
          "output_type": "stream",
          "name": "stdout",
          "text": [
            "finite TEBD, imaginary time evolution, transverse and longitudinal field Ising\n",
            "L=15, g=0.90\n",
            "dt = 0.25000: E = -0.9000000000000\n",
            "dt = 0.30000: E = -0.9000000000000\n",
            "dt = 0.40000: E = -0.9000000000000\n",
            "dt = 0.50000: E = -0.9000000000000\n",
            "dt = 0.60000: E = -0.9000000000000\n",
            "dt = 0.70000: E = -13.7506780790023\n",
            "dt = 0.75000: E = -13.6511432489727\n",
            "dt = 0.80000: E = -13.5519686496405\n",
            "dt = 0.90000: E = -13.3560276696333\n",
            "dt = 1.00000: E = -13.1644041972903\n",
            "final bond dimensions:  [2, 4, 8, 16, 26, 30, 30, 30, 30, 26, 16, 8, 4, 2]\n",
            "Density imbalance for magnetization in X = -0.00000\n",
            "magnetization in Z = -4.54630\n",
            "entanglement entropy =  [0.43409479 0.67882413 0.70494987 0.70693643 0.70708701 0.70709915\n",
            " 0.70710004 0.70710012 0.70709907 0.70708709 0.70693635 0.70494995\n",
            " 0.67882405 0.43409483]\n"
          ]
        }
      ],
      "source": [
        "c=[]\n",
        "d=[]\n",
        "e=[]\n",
        "f=[]\n",
        "c,d,e,f=example_TEBD_gs_tf_ising_finite(L=15, g=0.9)"
      ]
    },
    {
      "cell_type": "code",
      "source": [
        "import matplotlib.pyplot as plt\n",
        "import seaborn as sns\n",
        "import numpy as np\n",
        "plt.rcParams['figure.figsize'] = [10, 10]\n",
        "# Your one-dimensional arrays\n",
        "array1 = f\n",
        "array2 = e\n",
        "\n",
        "# Create a 2D histogram using np.histogram2d()\n",
        "heatmap_data, xedges, yedges = np.histogram2d(array1, array2, bins=5)\n",
        "\n",
        "# Plot the heatmap using seaborn\n",
        "ax = sns.heatmap(heatmap_data.T, annot=True, fmt=\".0f\")\n",
        "ax.set_xticks(np.arange(len(xedges)))\n",
        "ax.set_yticks(np.arange(len(yedges)))\n",
        "ax.set_xticklabels(xedges, rotation=0)\n",
        "ax.set_yticklabels(yedges, rotation=0)\n",
        "plt.show()"
      ],
      "metadata": {
        "colab": {
          "base_uri": "https://localhost:8080/",
          "height": 837
        },
        "id": "Ahi3ZxfhA_Eq",
        "outputId": "8646dda8-78df-4e11-824f-338c89e0288c"
      },
      "execution_count": 40,
      "outputs": [
        {
          "output_type": "display_data",
          "data": {
            "text/plain": [
              "<Figure size 1000x1000 with 2 Axes>"
            ],
            "image/png": "[encoded data removed]"
          },
          "metadata": {}
        }
      ]
    },
    {
      "cell_type": "markdown",
      "source": [
        "#***Alternate sequence in driving**"
      ],
      "metadata": {
        "id": "uKc-SyB7balq"
      }
    },
    {
      "cell_type": "code",
      "source": [
        "def example_TEBD_gs_tf_ising_finite(L, g, chi_max=30):\n",
        "    mag_x=[]\n",
        "    print(\"finite TEBD, imaginary time evolution, transverse and longitudinal field Ising\")\n",
        "    print(\"L={L:d}, g={g:.2f}\".format(L=L, g=g))\n",
        "    # from . import a_mps\n",
        "    # from . import b_model\n",
        "    t_new=[0,0.25,0.3,0.4,0.5,0.6,0.7,0.75,0.8,0.9,1,1.2,1.4,1.6]\n",
        "\n",
        "    # Use a for loop to iterate through values in t_new\n",
        "    for dt in t_new:\n",
        "        if dt <= 0.4: # Condition to stop at 0.6\n",
        "            model =TLFIModel(L=L, J=0, hs=0,hz=g, bc='finite')\n",
        "            psi = init_Neel_MPS(model.L, model.d, model.bc)\n",
        "\n",
        "            U_bonds = calc_U_bonds(model.H_bonds, dt)\n",
        "            run_TEBD(psi, U_bonds, N_steps=500, chi_max=chi_max, eps=1.e-10)\n",
        "            E = np.sum(psi.bond_expectation_value(model.H_bonds))\n",
        "            print(\"dt = {dt:.5f}: E = {E:.13f}\".format(dt=dt, E=E))\n",
        "        elif dt>0.4 and dt <=0.8:\n",
        "            model =TLFIModel(L=L, J=1, hs=g,hz=0, bc='finite')\n",
        "            psi = init_Neel_MPS(model.L, model.d, model.bc)\n",
        "\n",
        "            U_bonds = calc_U_bonds(model.H_bonds, dt)\n",
        "            run_TEBD(psi, U_bonds, N_steps=500, chi_max=chi_max, eps=1.e-10)\n",
        "            E = np.sum(psi.bond_expectation_value(model.H_bonds))\n",
        "            print(\"dt = {dt:.5f}: E = {E:.13f}\".format(dt=dt, E=E))\n",
        "        elif dt>0.8 and dt <=1:\n",
        "          model =TLFIModel(L=L, J=0, hs=0,hz=g, bc='finite')\n",
        "          psi = init_Neel_MPS(model.L, model.d, model.bc)\n",
        "          U_bonds = calc_U_bonds(model.H_bonds, dt)\n",
        "          run_TEBD(psi, U_bonds, N_steps=500, chi_max=chi_max, eps=1.e-10)\n",
        "          E = np.sum(psi.bond_expectation_value(model.H_bonds))\n",
        "          print(\"dt = {dt:.5f}: E = {E:.13f}\".format(dt=dt, E=E))\n",
        "        elif dt>1 and dt <=1.6:\n",
        "          model =TLFIModel(L=L, J=1, hs=g,hz=0, bc='finite')\n",
        "          psi = init_Neel_MPS(model.L, model.d, model.bc)\n",
        "\n",
        "          U_bonds = calc_U_bonds(model.H_bonds, dt)\n",
        "          run_TEBD(psi, U_bonds, N_steps=500, chi_max=chi_max, eps=1.e-10)\n",
        "          E = np.sum(psi.bond_expectation_value(model.H_bonds))\n",
        "          print(\"dt = {dt:.5f}: E = {E:.13f}\".format(dt=dt, E=E))\n",
        "\n",
        "        else:\n",
        "            break # Exit loop when dt exceeds 1.0\n",
        "\n",
        "    print(\"final bond dimensions: \", psi.get_chi())\n",
        "    mag_x = psi.site_expectation_value(model.sigmax)\n",
        "    mag_z_n = psi.site_expectation_value(model.sigmaz)\n",
        "    mag_x_scalar = (2/L)*np.sum(mag_x)\n",
        "    mag_z = np.sum(mag_z_n)\n",
        "    print(\"Density imbalance for magnetization in X = {mag_x_scalar:.5f}\".format(mag_x_scalar=mag_x_scalar))\n",
        "    print(\"magnetization in Z = {mag_z:.5f}\".format(mag_z=mag_z))\n",
        "    print(\"entanglement entropy = \", psi.entanglement_entropy())\n",
        "    # print(\"correlation length = \", psi.correlation_length())\n",
        "    # Return all four intended values\n",
        "    return mag_x, mag_z_n, psi.entanglement_entropy(), psi.get_chi()"
      ],
      "metadata": {
        "id": "PqnGWWI6A_vg"
      },
      "execution_count": 34,
      "outputs": []
    },
    {
      "cell_type": "code",
      "source": [
        "c=[]\n",
        "d=[]\n",
        "e=[]\n",
        "f=[]\n",
        "c,d,e,f=example_TEBD_gs_tf_ising_finite(L=15, g=0.9)"
      ],
      "metadata": {
        "colab": {
          "base_uri": "https://localhost:8080/"
        },
        "id": "ukDr7IM6XFzn",
        "outputId": "be8d34f9-0c3f-4fe8-e6d2-3fa151009267"
      },
      "execution_count": 35,
      "outputs": [
        {
          "output_type": "stream",
          "name": "stdout",
          "text": [
            "finite TEBD, imaginary time evolution, transverse and longitudinal field Ising\n",
            "L=15, g=0.90\n",
            "dt = 0.00000: E = 0.0000000000000\n",
            "dt = 0.25000: E = -0.9000000000000\n",
            "dt = 0.30000: E = -0.9000000000000\n",
            "dt = 0.40000: E = -0.9000000000000\n",
            "dt = 0.50000: E = -14.1403281314071\n",
            "dt = 0.60000: E = -13.9487015871867\n",
            "dt = 0.70000: E = -13.7506780790023\n",
            "dt = 0.75000: E = -13.6511432489727\n",
            "dt = 0.80000: E = -13.5519686496405\n",
            "dt = 0.90000: E = -0.9000000000000\n",
            "dt = 1.00000: E = -0.9000000000000\n",
            "dt = 1.20000: E = -12.7938087776824\n",
            "dt = 1.40000: E = -12.4331512343611\n",
            "dt = 1.60000: E = -12.0723629661999\n",
            "final bond dimensions:  [2, 4, 8, 16, 30, 30, 30, 30, 30, 30, 16, 8, 4, 2]\n",
            "Density imbalance for magnetization in X = -0.00000\n",
            "magnetization in Z = -5.92492\n",
            "entanglement entropy =  [0.40610006 0.6938039  0.75316847 0.76121421 0.76219086 0.76230955\n",
            " 0.76232169 0.76232341 0.76230784 0.76219257 0.76121252 0.75317011\n",
            " 0.69380257 0.4061005 ]\n"
          ]
        }
      ]
    },
    {
      "cell_type": "code",
      "source": [
        "import matplotlib.pyplot as plt\n",
        "plt.rcParams['figure.figsize'] = [10, 6]\n",
        "t_new=np.array([0,0.25,0.3,0.4,0.5,0.6,0.7,0.75,0.8,0.9,1])\n",
        "plt.plot(t_new,d[:11],marker='o',color='cyan')\n",
        "plt.xlabel(\"time step in driving\")\n",
        "plt.ylabel(\"$4/L$$\\Sigma_i$S(t)S(0)\")\n",
        "plt.title(\"density imbalance\")\n",
        "# plt.xlabel(time)"
      ],
      "metadata": {
        "colab": {
          "base_uri": "https://localhost:8080/",
          "height": 582
        },
        "id": "yfNYT7EfZzJZ",
        "outputId": "c9f25186-7a58-4ac4-945e-3448764a228b"
      },
      "execution_count": 36,
      "outputs": [
        {
          "output_type": "execute_result",
          "data": {
            "text/plain": [
              "Text(0.5, 1.0, 'density imbalance')"
            ]
          },
          "metadata": {},
          "execution_count": 36
        },
        {
          "output_type": "display_data",
          "data": {
            "text/plain": [
              "<Figure size 1000x600 with 1 Axes>"
            ],
            "image/png": "[encoded data removed]"
          },
          "metadata": {}
        }
      ]
    },
    {
      "cell_type": "markdown",
      "metadata": {
        "id": "yl0DckAB3T4w"
      },
      "source": [
        "#**Exact Diagonalization**"
      ]
    },
    {
      "cell_type": "markdown",
      "metadata": {
        "id": "rO6bVOk8FYAy"
      },
      "source": [
        "* # **PRACTICE for Quantum Quenching**"
      ]
    },
    {
      "cell_type": "code",
      "execution_count": null,
      "metadata": {
        "id": "xoWmiScBt7mF"
      },
      "outputs": [],
      "source": [
        "import math\n",
        "import sys\n",
        "import numpy as np\n",
        "import scipy.sparse\n",
        "import scipy.sparse.linalg\n",
        "import scipy as scipy\n",
        "import scipy.integrate as integrate\n",
        "import argparse\n",
        "import time\n",
        "import copy\n",
        "import matplotlib\n",
        "matplotlib.use('Agg')\n",
        "import matplotlib.pyplot as plt\n",
        "#to work on the arguments passed on\n",
        "\n",
        "def parse_args():\n",
        "    parser = argparse.ArgumentParser(description='Dynamics of S=1/2 TFI chain')\n",
        "    parser.add_argument('-N',metavar='N',dest='N',type=int,default=10,help='set Nsize (should be >=4)')\n",
        "    return parser.parse_args()\n",
        "def make_spin():\n",
        "  S0=scipy.sparse.csr_matrix(np.array([[1.0,0.0],[0.0,1.0]],dtype=float))\n",
        "  Sx=scipy.sparse.csr_matrix(np.array([[0.0,1.0],[1.0,0.0]],dtype=float))\n",
        "  Sy=scipy.sparse.csr_matrix(np.array([[0.0,-1.0j],[1.0j,0.0]],dtype=complex))\n",
        "  Sz=scipy.sparse.csr_matrix(np.array([[1.0,0.0],[0.0,-1.0]],dtype=float))\n",
        "  return S0,Sx,Sy,Sz\n",
        "def make_list_2(N):                #two site block Jzz\n",
        "  list_site1=[i for i in range(N)]\n",
        "  list_site2=[(i+1)%N for i in range(N)]\n",
        "  list_Jzz= np.ones(N , dtype=float)\n",
        "  return list_site1,list_site2,list_Jzz\n",
        "def make_list_1(N):              #for left over\n",
        "  list_Jz = np.ones(N , dtype=float)\n",
        "  return list_Jz\n",
        "\n",
        "def make_list_1_stag(N):\n",
        "  list_Jz = np.array([1.0 if i%2 == 0 else -1.0 for i in range(N)],dtype=float)\n",
        "  return list_Jz\n",
        "\n",
        "def make_hamiltonian_2(S0,Sz,N,Nbond,list_site1,list_site2,list_Jzz): #taking care of the mutual term applied at each block\n",
        "  Hamil_new = scipy.sparse.csr_matrix((2**N,2**N),dtype=float)\n",
        "  for bond in range(Nbond):\n",
        "    i1=list_site1[bond]\n",
        "    i2=list_site2[bond]\n",
        "    Jzz=list_Jzz[bond]\n",
        "    SzSz = 1\n",
        "    for site in range(N):\n",
        "      if site==i1 or site==i2:\n",
        "        SzSz=scipy.sparse.kron(SzSz,Sz,format='csr')\n",
        "      else:\n",
        "        SzSz=scipy.sparse.kron(SzSz,S0,format='csr')\n",
        "    Hamil_new=-(Hamil_new+Jzz*SzSz)\n",
        "  return Hamil_new\n",
        "def make_hamiltonian_1(S0, Sz, N, list_Jz):\n",
        "  Hmail_new_1 = scipy.sparse.csr_matrix((2**N, 2**N), dtype=float)\n",
        "  for site1 in range(N):\n",
        "    ISz = 1\n",
        "    Jz = list_Jz[site1]  # Accessing the element from list_Jz\n",
        "    for site2 in range(N):\n",
        "      if site1 == site2:\n",
        "        ISz = scipy.sparse.kron(ISz, Sz, format='csr')\n",
        "      else:\n",
        "        ISz = scipy.sparse.kron(ISz, S0, format='csr')\n",
        "    Hmail_new_1 -= Jz * ISz  # Multiplying by the scalar Jz\n",
        "  return Hmail_new_1\n",
        "############################## BEGINNING ANALYSIS #########################################\n"
      ]
    },
    {
      "cell_type": "markdown",
      "metadata": {
        "id": "MaEPrX_4KJ9o"
      },
      "source": [
        "# **(magnetization,loschmidt_values(analytical formula got from the internet),density imabalnce)**"
      ]
    },
    {
      "cell_type": "code",
      "execution_count": null,
      "metadata": {
        "colab": {
          "background_save": true
        },
        "id": "ZBOgUX4uKQyV"
      },
      "outputs": [],
      "source": [
        "def epsion(J,h,k):\n",
        "  return 2.0*np.sqrt(1.0+h**2-2.0*h*np.cos(k))\n",
        "def diff_loschmidt_echo(J,h0,h1,k,t):\n",
        "  e0 = epsion(J,h0,k)\n",
        "  e1 = epsion(J,h1,k)\n",
        "  denom = e0*e1\n",
        "  numer = 4.0*J**2 * (h1-h0) * np.sin(k) * np.sin(e1*t)\n",
        "  return np.log(1.0 - (numer/denom)**2)/(-2.0*np.pi)\n",
        "def diff_loschmidt_echo_main(k,c):\n",
        "  return diff_loschmidt_echo_main(c[0],c[1],c[2],k,c[3])\n",
        "def integrating_loschmidt_echo(J,h0,h1,tau,dt):\n",
        "  list_vt = []\n",
        "  list_loschmidt_echo = []\n",
        "  vmax = 2.0*j*np.min(1.0,h1)\n",
        "  tmax = tau/vmax\n",
        "  N = int(tmax/dt+0.1)+1\n",
        "  for steps in range(N):\n",
        "      t = steps*dt\n",
        "      log_loschmidt_echo = integrate.quad(lambda k,c : \\\n",
        "          diff_loschmidt_echo_main(k,c), 0.0, np.pi, args=[J,h0,h1,t])\n",
        "      list_vt.append(vmax*t)\n",
        "      list_loschmidt_echo.append(log_loschmidt_echo[0])\n",
        "  return list_vt, list_loschmidt_echo\n",
        "def main():\n",
        "  # np.set_print_options(threshold=1000)\n",
        "  args=parse_args()\n",
        "  N=args.N\n",
        "  Nbond=N\n",
        "\n",
        "  field_i = 1e10\n",
        "  field_f = 0.1\n",
        "  print(\"N = \",N)\n",
        "  print(\"field_i = \", field_i)\n",
        "  print(\"field_f = \", field_f)\n",
        "  print(\"Nbond = \", Nbond)\n",
        "\n",
        "  J=1.0\n",
        "  tau = 1.0\n",
        "  dt = 0.01\n",
        "  print(\"J = \", J)\n",
        "  print(\"tau = \", tau)\n",
        "  print(\"dt = \", dt)\n",
        "  ########################## ANALYTICAL ######################################\n",
        "\n",
        "  start = time.time()\n",
        "  if np.abs(field_i)<1.0 and np.abs(field_f)<1.0 and np.abs(field_f)<1e-10:\n",
        "    _,list_loschmidt_echo = integrating_loschmidt_echo(J,field_i,field_f,tau,dt)\n",
        "  end = time.time()\n",
        "  print(\"time = \", end-start)\n",
        "\n",
        "  ######################## INTERACTION #######################################\n",
        "\n",
        "  start = time.time()\n",
        "  S0,Sx,Sy,Sz = make_spin()\n",
        "  list_site1,list_site2,list_Jzz = make_list_2(N)\n",
        "  _,_, list_Jxx = make_list_2(N)\n",
        "  list_Jz = make_list_1(N)\n",
        "  list_Jx = make_list_1(N)\n",
        "  list_Jx_stag = make_list_1_stag(N)\n",
        "  list_Jz_stag = make_list_1_stag(N)\n",
        "  print(\"site2\",list_site2)\n",
        "  print(\"Jzz\",list_Jzz)\n",
        "  print(\"Jx\",list_Jx)\n",
        "  end = time.time()\n",
        "  print(\"time: prepare interaction\",end - start)\n",
        "\n",
        "  ####################### PREPARING HAMILTONIAN #############################\n",
        "  start = time.time()\n",
        "  Ham_zz = make_hamiltonian_2(S0,Sz,N,Nbond,list_site1,list_site2,list_Jzz)\n",
        "  Ham_x = make_hamiltonian_1(S0,Sx,N,list_Jx)\n",
        "  Ham_z = make_hamiltonian_1(S0,Sz,N,list_Jz)\n",
        "  OP_xx = make_hamiltonian_2(S0,Sx,N,Nbond,list_site1,list_site2,list_Jxx)\n",
        "  OP_zz = make_hamiltonian_2(S0,Sz,N,Nbond,list_site1,list_site2,list_Jzz)\n",
        "  OP_x = make_hamiltonian_1(S0,Sx,N,list_Jx)\n",
        "  OP_z = make_hamiltonian_1(S0,Sz,N,list_Jz)\n",
        "  OP_X_stag = make_hamiltonian_1(S0,Sx,N,list_Jx_stag)\n",
        "  OP_Z_stag = make_hamiltonian_1(S0,Sz,N,list_Jz_stag)\n",
        "  ############### CORRELATION <mz(0)mz(1)> || <mx(0)mx(1)> ##################\n",
        "  OP_Mz0Mz1 = copy.deepcopy( - OP_zz/N)\n",
        "  OP_Mx0Mx1 = copy.deepcopy( - OP_xx/N)\n",
        "  OP_Mx = copy.deepcopy ( -OP_x/N)\n",
        "  OP_Mz = copy.deepcopy ( -OP_z/N)\n",
        "  OP_Mx_stag = copy.deepcopy ( -OP_X_stag/N)\n",
        "  OP_Mz_stag = copy.deepcopy ( -OP_Z_stag/N)\n",
        "  end = time.time()\n",
        "  print(\"time: prepare hamiltonian\",end - start)\n",
        "  ############### PREPARING : GS at T=0 #############################\n",
        "\n",
        "  start =time.time()\n",
        "  if np.abs(field_i)<1e-10:\n",
        "    Ham0 = copy.deepcopy(OP_z) ##GS |+z>\n",
        "  else:\n",
        "    Ham0 = copy.deepcopy(Ham_zz + field_i*Ham_x)\n",
        "  # Use eigsh from scipy.sparse.linalg directly to find eigenvalues and eigenvectors\n",
        "  eig_val,eig_vec=scipy.sparse.linalg.eigsh(Ham0,which='SA',k=2)\n",
        "  print(\"energy (t=0)\",eig_val[0],eig_val[1])\n",
        "  end = time.time()\n",
        "  print(\"time : prepare initial state\", end-start)\n",
        "  ############### DYNAMICS CALCULATION ##################################\n",
        "\n",
        "  start =time.time()\n",
        "  h1=field_f\n",
        "  vmax = 2.0*J*np.min([1.0,h1])\n",
        "  tmax = tau/vmax\n",
        "  Nsteps = int(tmax/dt + 0.1)+1\n",
        "  timei = 0.0\n",
        "  timef = tmax\n",
        "  steps = Nsteps\n",
        "  Hamiltonian = copy.deepcopy(Ham_zz + field_f*Ham_x + field_f*Ham_z)\n",
        "  psi0 = copy.deepcopy( eig_vec[:,0])\n",
        "  ret = scipy.sparse.linalg.expm_multiply((-1j)*Hamiltonian,eig_vec[:,0],start=timei,stop=timef,num=steps,endpoint=True)\n",
        "  ene0 = [(np.dot(np.conjugate(ret[i]),Ham0.dot(ret[i]))/np.dot(np.conjugate(ret[i]),ret[i])).real for i in range(steps)]\n",
        "  ene= [(np.dot(np.conjugate(ret[i]),Hamiltonian.dot(ret[i]))/np.dot(np.conjugate(ret[i]),ret[i])).real for i in range(steps)]\n",
        "  mx0mx1 = [(np.dot(np.conjugate(ret[i]),OP_Mx0Mx1.dot(ret[i]))/np.dot(np.conjugate(ret[i]),ret[i])).real for i in range(steps)]\n",
        "  mz0mz1 = [(np.dot(np.conjugate(ret[i]),OP_Mz0Mz1.dot(ret[i]))/np.dot(np.conjugate(ret[i]),ret[i])).real for i in range(steps)]\n",
        "  mx = [(np.dot(np.conjugate(ret[i]),OP_Mx.dot(ret[i]))/np.dot(np.conjugate(ret[i]),ret[i])).real for i in range(steps)]\n",
        "  mz = [(np.dot(np.conjugate(ret[i]),OP_Mz.dot(ret[i]))/np.dot(np.conjugate(ret[i]),ret[i])).real for i in range(steps)]\n",
        "  mx_stag = [(np.dot(np.conjugate(ret[i]),OP_Mx_stag.dot(ret[i]))/np.dot(np.conjugate(ret[i]),ret[i])).real for i in range(steps)]\n",
        "  mz_stag = [(np.dot(np.conjugate(ret[i]),OP_Mz_stag.dot(ret[i]))/np.dot(np.conjugate(ret[i]),ret[i])).real for i in range(steps)]\n",
        "  loschmidt_echo = [(np.abs(np.dot(np.conjugate(ret[i]),psi0))**2 / np.dot(np.conjugate(ret[i]),ret[i]) / np.dot(np.conjugate(psi0),psi0)).real for i in range(steps)]\n",
        "  print(\"ene0\",ene0)\n",
        "  print(\"ene\",ene)\n",
        "  print(\"mz0mz1\",mz0mz1)\n",
        "  print(\"mx0mx1\",mx0mx1)\n",
        "  print(\"mx\",mx)\n",
        "  print(\"mz\",mz)\n",
        "  print(\"mx_stag\",mx_stag)\n",
        "  print(\"mz_stag\",mz_stag)\n",
        "  print(\"loschmidt_echo\",loschmidt_echo)\n",
        "  print(\"The density imbalance = \",(4/N)*mz0mz1)\n",
        "  end = time.time()\n",
        "  print(\"time : calculate dynamics \", end-start)\n",
        "\n",
        "if __name__ == \"__main__\":\n",
        "  ############### IMPORTING SYSTEM SIZE IN PLACE OF 30 #########################\n",
        "  sys.argv = ['myscript.py','-N','20']\n",
        "  main()"
      ]
    },
    {
      "cell_type": "code",
      "execution_count": null,
      "metadata": {
        "colab": {
          "base_uri": "https://localhost:8080/"
        },
        "id": "TPVhpxol87A3",
        "outputId": "86184f5f-bd44-4d86-d18f-64ff348dbd58"
      },
      "outputs": [
        {
          "name": "stdout",
          "output_type": "stream",
          "text": [
            "Collecting quspin\n",
            "  Downloading quspin-1.0.0-py3-none-any.whl.metadata (6.1 kB)\n",
            "Collecting quspin-extensions>=0.1.3 (from quspin)\n",
            "  Downloading quspin_extensions-0.1.6-cp311-cp311-manylinux_2_17_x86_64.manylinux2014_x86_64.whl.metadata (796 bytes)\n",
            "Collecting parallel-sparse-tools>=0.1.3 (from quspin)\n",
            "  Downloading parallel_sparse_tools-0.2.3-cp311-cp311-manylinux_2_17_x86_64.manylinux2014_x86_64.whl.metadata (927 bytes)\n",
            "Collecting numpy>=2.0.0 (from quspin)\n",
            "  Downloading numpy-2.2.3-cp311-cp311-manylinux_2_17_x86_64.manylinux2014_x86_64.whl.metadata (62 kB)\n",
            "\u001b[2K     \u001b[90m━━━━━━━━━━━━━━━━━━━━━━━━━━━━━━━━━━━━━━━━\u001b[0m \u001b[32m62.0/62.0 kB\u001b[0m \u001b[31m2.1 MB/s\u001b[0m eta \u001b[36m0:00:00\u001b[0m\n",
            "\u001b[?25hCollecting dill>=0.3.8 (from quspin)\n",
            "  Downloading dill-0.3.9-py3-none-any.whl.metadata (10 kB)\n",
            "Requirement already satisfied: scipy>=1.13.1 in /usr/local/lib/python3.11/dist-packages (from quspin) (1.13.1)\n",
            "Requirement already satisfied: matplotlib>=3.9.0 in /usr/local/lib/python3.11/dist-packages (from quspin) (3.10.0)\n",
            "Requirement already satisfied: numexpr>=2.10.1 in /usr/local/lib/python3.11/dist-packages (from quspin) (2.10.2)\n",
            "Requirement already satisfied: numba>=0.60.0 in /usr/local/lib/python3.11/dist-packages (from quspin) (0.61.0)\n",
            "Requirement already satisfied: six>=1.16.0 in /usr/local/lib/python3.11/dist-packages (from quspin) (1.17.0)\n",
            "Requirement already satisfied: joblib>=1.4.2 in /usr/local/lib/python3.11/dist-packages (from quspin) (1.4.2)\n",
            "Requirement already satisfied: contourpy>=1.0.1 in /usr/local/lib/python3.11/dist-packages (from matplotlib>=3.9.0->quspin) (1.3.1)\n",
            "Requirement already satisfied: cycler>=0.10 in /usr/local/lib/python3.11/dist-packages (from matplotlib>=3.9.0->quspin) (0.12.1)\n",
            "Requirement already satisfied: fonttools>=4.22.0 in /usr/local/lib/python3.11/dist-packages (from matplotlib>=3.9.0->quspin) (4.56.0)\n",
            "Requirement already satisfied: kiwisolver>=1.3.1 in /usr/local/lib/python3.11/dist-packages (from matplotlib>=3.9.0->quspin) (1.4.8)\n",
            "Requirement already satisfied: packaging>=20.0 in /usr/local/lib/python3.11/dist-packages (from matplotlib>=3.9.0->quspin) (24.2)\n",
            "Requirement already satisfied: pillow>=8 in /usr/local/lib/python3.11/dist-packages (from matplotlib>=3.9.0->quspin) (11.1.0)\n",
            "Requirement already satisfied: pyparsing>=2.3.1 in /usr/local/lib/python3.11/dist-packages (from matplotlib>=3.9.0->quspin) (3.2.1)\n",
            "Requirement already satisfied: python-dateutil>=2.7 in /usr/local/lib/python3.11/dist-packages (from matplotlib>=3.9.0->quspin) (2.8.2)\n",
            "Requirement already satisfied: llvmlite<0.45,>=0.44.0dev0 in /usr/local/lib/python3.11/dist-packages (from numba>=0.60.0->quspin) (0.44.0)\n",
            "Collecting numpy>=2.0.0 (from quspin)\n",
            "  Downloading numpy-2.1.3-cp311-cp311-manylinux_2_17_x86_64.manylinux2014_x86_64.whl.metadata (62 kB)\n",
            "\u001b[2K     \u001b[90m━━━━━━━━━━━━━━━━━━━━━━━━━━━━━━━━━━━━━━━━\u001b[0m \u001b[32m62.0/62.0 kB\u001b[0m \u001b[31m4.2 MB/s\u001b[0m eta \u001b[36m0:00:00\u001b[0m\n",
            "\u001b[?25hCollecting gmpy2>=2.2.0 (from quspin-extensions>=0.1.3->quspin)\n",
            "  Downloading gmpy2-2.2.1-cp311-cp311-manylinux_2_17_x86_64.manylinux2014_x86_64.whl.metadata (2.8 kB)\n",
            "Downloading quspin-1.0.0-py3-none-any.whl (199 kB)\n",
            "\u001b[2K   \u001b[90m━━━━━━━━━━━━━━━━━━━━━━━━━━━━━━━━━━━━━━━━\u001b[0m \u001b[32m199.9/199.9 kB\u001b[0m \u001b[31m9.2 MB/s\u001b[0m eta \u001b[36m0:00:00\u001b[0m\n",
            "\u001b[?25hDownloading dill-0.3.9-py3-none-any.whl (119 kB)\n",
            "\u001b[2K   \u001b[90m━━━━━━━━━━━━━━━━━━━━━━━━━━━━━━━━━━━━━━━━\u001b[0m \u001b[32m119.4/119.4 kB\u001b[0m \u001b[31m6.5 MB/s\u001b[0m eta \u001b[36m0:00:00\u001b[0m\n",
            "\u001b[?25hDownloading numpy-2.1.3-cp311-cp311-manylinux_2_17_x86_64.manylinux2014_x86_64.whl (16.3 MB)\n",
            "\u001b[2K   \u001b[90m━━━━━━━━━━━━━━━━━━━━━━━━━━━━━━━━━━━━━━━━\u001b[0m \u001b[32m16.3/16.3 MB\u001b[0m \u001b[31m21.7 MB/s\u001b[0m eta \u001b[36m0:00:00\u001b[0m\n",
            "\u001b[?25hDownloading parallel_sparse_tools-0.2.3-cp311-cp311-manylinux_2_17_x86_64.manylinux2014_x86_64.whl (12.5 MB)\n",
            "\u001b[2K   \u001b[90m━━━━━━━━━━━━━━━━━━━━━━━━━━━━━━━━━━━━━━━━\u001b[0m \u001b[32m12.5/12.5 MB\u001b[0m \u001b[31m4.0 MB/s\u001b[0m eta \u001b[36m0:00:00\u001b[0m\n",
            "\u001b[?25hDownloading quspin_extensions-0.1.6-cp311-cp311-manylinux_2_17_x86_64.manylinux2014_x86_64.whl (282.0 MB)\n",
            "\u001b[2K   \u001b[90m━━━━━━━━━━━━━━━━━━━━━━━━━━━━━━━━━━━━━━━━\u001b[0m \u001b[32m282.0/282.0 MB\u001b[0m \u001b[31m1.8 MB/s\u001b[0m eta \u001b[36m0:00:00\u001b[0m\n",
            "\u001b[?25hDownloading gmpy2-2.2.1-cp311-cp311-manylinux_2_17_x86_64.manylinux2014_x86_64.whl (1.7 MB)\n",
            "\u001b[2K   \u001b[90m━━━━━━━━━━━━━━━━━━━━━━━━━━━━━━━━━━━━━━━━\u001b[0m \u001b[32m1.7/1.7 MB\u001b[0m \u001b[31m45.4 MB/s\u001b[0m eta \u001b[36m0:00:00\u001b[0m\n",
            "\u001b[?25hInstalling collected packages: numpy, gmpy2, dill, quspin-extensions, parallel-sparse-tools, quspin\n",
            "  Attempting uninstall: numpy\n",
            "    Found existing installation: numpy 1.26.4\n",
            "    Uninstalling numpy-1.26.4:\n",
            "      Successfully uninstalled numpy-1.26.4\n",
            "\u001b[31mERROR: pip's dependency resolver does not currently take into account all the packages that are installed. This behaviour is the source of the following dependency conflicts.\n",
            "gensim 4.3.3 requires numpy<2.0,>=1.18.5, but you have numpy 2.1.3 which is incompatible.\n",
            "tensorflow 2.18.0 requires numpy<2.1.0,>=1.26.0, but you have numpy 2.1.3 which is incompatible.\n",
            "thinc 8.2.5 requires numpy<2.0.0,>=1.19.0; python_version >= \"3.9\", but you have numpy 2.1.3 which is incompatible.\n",
            "langchain 0.3.18 requires numpy<2,>=1.26.4; python_version < \"3.12\", but you have numpy 2.1.3 which is incompatible.\n",
            "pytensor 2.27.1 requires numpy<2,>=1.17.0, but you have numpy 2.1.3 which is incompatible.\u001b[0m\u001b[31m\n",
            "\u001b[0mSuccessfully installed dill-0.3.9 gmpy2-2.2.1 numpy-2.1.3 parallel-sparse-tools-0.2.3 quspin-1.0.0 quspin-extensions-0.1.6\n"
          ]
        }
      ],
      "source": [
        "!pip install quspin"
      ]
    }
  ],
  "metadata": {
    "colab": {
      "provenance": [],
      "authorship_tag": "ABX9TyP0Khb/NVHqG3OmA+HhdeN1",
      "include_colab_link": true
    },
    "kernelspec": {
      "display_name": "Python 3",
      "name": "python3"
    },
    "language_info": {
      "name": "python"
    }
  },
  "nbformat": 4,
  "nbformat_minor": 0
}