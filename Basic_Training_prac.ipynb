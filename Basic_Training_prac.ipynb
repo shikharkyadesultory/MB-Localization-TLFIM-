{
 "cells": [
  {
   "cell_type": "code",
   "execution_count": 1,
   "id": "93cd5106-b98f-470b-8184-4193f00ce4db",
   "metadata": {},
   "outputs": [],
   "source": [
    "using ITensors\n",
    "ITensors.enable_debug_checks()"
   ]
  },
  {
   "cell_type": "code",
   "execution_count": 2,
   "id": "7653b36d-5009-467a-8d6c-56f939a1b1a6",
   "metadata": {},
   "outputs": [
    {
     "data": {
      "text/plain": [
       "matrixpp (generic function with 1 method)"
      ]
     },
     "execution_count": 2,
     "metadata": {},
     "output_type": "execute_result"
    }
   ],
   "source": [
    "import Base: *,+,-,/,keys,iterate,length,getindex,show,repr,zero\n",
    "mutable struct ket <:Number\n",
    "    storage::Dict\n",
    "end\n",
    "#\n",
    "# Singleton constructor\n",
    "ket(state)=ket(Dict(string(state)=>1))\n",
    "#\n",
    "# Empty state\n",
    "zero(::ket)=ket(Dict())\n",
    "ket()=ket(Dict())\n",
    "#\n",
    "# Iteration and indexing\n",
    "iterate(k::ket)=iterate(k.storage)\n",
    "iterate(k::ket,n)=iterate(k.storage,n)\n",
    "length(k::ket)=length(k.storage)\n",
    "keys(k::ket) = keys(k.storage)\n",
    "getindex(k::ket,val)=getindex(k.storage,val)\n",
    "#\n",
    "# Multiplication as outer product\n",
    "*(k1::ket,k2::ket) = ket(Dict([v1*v2=>s1*s2 for (v1,s1) in k1 for (v2,s2) in k2 ]))\n",
    "# Multiplication with scalar\n",
    "*(c::Number,k::ket)=ket(Dict([v=>c*s for (v,s) in k]))\n",
    "*(k::ket,c::Number)=c*k\n",
    "/(k::ket,c::Number)=(1/c)*k\n",
    "#\n",
    "# Sums\n",
    "function +(k1::ket,k2::ket) \n",
    "    d=copy(k1.storage)\n",
    "    for key in keys(k2) \n",
    "        if (key in keys(k1))\n",
    "            d[key]+=k2[key]\n",
    "        else\n",
    "            d[key]=k2[key]\n",
    "        end\n",
    "        if d[key]===zero(d[key])\n",
    "            delete!(d,key)\n",
    "        end\n",
    "    end\n",
    "    return ket(d)\n",
    "end\n",
    "function -(k1::ket,k2::ket) \n",
    "    d=copy(k1.storage)\n",
    "    for key in keys(k2) \n",
    "        if (key in keys(k1))\n",
    "            d[key]-=k2[key]\n",
    "        else\n",
    "            d[key]=-k2[key]\n",
    "        end\n",
    "        if d[key]===zero(d[key])\n",
    "            delete!(d,key)\n",
    "        end\n",
    "    end\n",
    "    return ket(d)\n",
    "end\n",
    "function show(io::IO,::MIME\"text/latex\",k::ket)\n",
    "    len=length(k)\n",
    "    j=1\n",
    "    outputstring=\"\\$\\$\"\n",
    "    for (label,val) in k\n",
    "        if val===1\n",
    "            if j>1\n",
    "                outputstring *=\"+\"\n",
    "            end\n",
    "        else\n",
    "            try\n",
    "                sn=sign(val)\n",
    "                if sn>0\n",
    "                    if j>1\n",
    "                        outputstring *=\"+\"\n",
    "                    end    \n",
    "                    outputstring*=string(val)\n",
    "                elseif sn<0\n",
    "                    outputstring*=string(val)\n",
    "                else\n",
    "                    if j>1\n",
    "                        outputstring *=\"+\"\n",
    "                    end\n",
    "                    outputstring*=\"(\"*string(val)*\")\"\n",
    "                end\n",
    "            catch er #probably a comparison with zero problem\n",
    "                if j>1\n",
    "                        outputstring *=\"+\"\n",
    "                end\n",
    "                outputstring*=\"(\"*string(val)*\")\"\n",
    "            end\n",
    "        end\n",
    "        outputstring*=\"|\"*string(label)*\"\\\\rangle\"\n",
    "        j+=1\n",
    "    end\n",
    "    outputstring*=\"\\$\\$\"\n",
    "    print(io,outputstring)\n",
    "end\n",
    "function repr(k::ket)\n",
    "    len=length(k)\n",
    "    j=1\n",
    "    outputstring=\"\"\n",
    "    for (label,val) in k\n",
    "        if val===1\n",
    "            if j>1\n",
    "                outputstring *=\"+\"\n",
    "            end\n",
    "        else\n",
    "            try\n",
    "                sn=sign(val)\n",
    "                if sn>0\n",
    "                    if j>1\n",
    "                        outputstring *=\"+\"\n",
    "                    end    \n",
    "                    outputstring*=string(val)\n",
    "                elseif sn<0\n",
    "                    outputstring*=string(val)\n",
    "                else\n",
    "                    if j>1\n",
    "                        outputstring *=\"+\"\n",
    "                    end\n",
    "                    outputstring*=\"(\"*string(val)*\")\"\n",
    "                end\n",
    "            catch er #probably a comparison with zero problem\n",
    "                if j>1\n",
    "                        outputstring *=\"+\"\n",
    "                end\n",
    "                outputstring*=\"(\"*string(val)*\")\"\n",
    "            end\n",
    "        end\n",
    "        outputstring*=\"|\"*string(label)*\"⟩\"\n",
    "        j+=1\n",
    "    end\n",
    "    return outputstring\n",
    "end\n",
    "function show(io::IO,k::ket)\n",
    "    outputstring=repr(k)\n",
    "    print(io,outputstring)\n",
    "end\n",
    "# self-type conversion\n",
    "ket(k::ket)=k\n",
    "# alternate display\n",
    "function tabledisplay(k::ket)\n",
    "    for pair in k\n",
    "        println(pair[1]*\" \"*string(pair[2]))\n",
    "    end\n",
    "end\n",
    "up=ket(\"↑\")\n",
    "dn=ket(\"↓\")\n",
    "empty=ket(\"⭕️\") #represents an empty site\n",
    "full=ket(\"🔵\") #represents a full site\n",
    "kz=ket() # the 'zero' ket\n",
    "#different form of visual representations\n",
    "function scalarpp(T::ITensor,localstates::Array{ket})\n",
    "    ar=array(T) #unpack raw tensor -- as it is easier to work with\n",
    "    result=ket() #empty ket to use as result\n",
    "    for ci in CartesianIndices(ar) #loop over indices of the array\n",
    "        nonzero=true\n",
    "        try\n",
    "            if abs(ar[ci])<1E-6 # only do something if the array's entry is above a threshold\n",
    "                nonzero=false\n",
    "            end\n",
    "        catch\n",
    "            nonzero=true\n",
    "        end\n",
    "        if nonzero\n",
    "            newterm=ket(\"\") # create trivial ket\n",
    "            for site in ci.I\n",
    "                newterm=newterm*localstates[site]  # add site information to ket\n",
    "            end\n",
    "            result+= ar[ci]*newterm # add ket to result\n",
    "        end\n",
    "    end\n",
    "    result\n",
    "end\n",
    "vectorpp(T::ITensor,bondindex::Index,localstates::Array{ket})=\n",
    "    [scalarpp(T*dag(onehot(bondval)),localstates) for bondval in eachindval(bondindex)]\n",
    "matrixpp(T::ITensor,leftbondindex::Index,rightbondindex::Index,localstates::Array{ket})=\n",
    "   [scalarpp(T*dag(onehot(leftbondval,rightbondval)),localstates) for \n",
    "        leftbondval in eachindval(leftbondindex),\n",
    "        rightbondval in eachindval(rightbondindex)]"
   ]
  },
  {
   "cell_type": "code",
   "execution_count": 3,
   "id": "11b82dec-4abd-4325-b474-a34bbb86d272",
   "metadata": {},
   "outputs": [
    {
     "data": {
      "text/latex": [
       "$$|↑\\rangle$$"
      ],
      "text/plain": [
       "|↑⟩"
      ]
     },
     "execution_count": 3,
     "metadata": {},
     "output_type": "execute_result"
    }
   ],
   "source": [
    "up"
   ]
  },
  {
   "cell_type": "code",
   "execution_count": 4,
   "id": "e396e802-2262-4779-8d3d-c1ba89213a2b",
   "metadata": {},
   "outputs": [
    {
     "data": {
      "text/plain": [
       "(dim=2|id=75|\"site\") <Out>\n",
       " 1: QN(\"n\",0) => 1\n",
       " 2: QN(\"n\",1) => 1"
      ]
     },
     "execution_count": 4,
     "metadata": {},
     "output_type": "execute_result"
    }
   ],
   "source": [
    "site=Index(QN(\"n\",0)=>1,QN(\"n\",1)=>1,tags=\"site\")"
   ]
  },
  {
   "cell_type": "code",
   "execution_count": 5,
   "id": "0e63f1bc-c119-49aa-9f17-c47ccde10ad6",
   "metadata": {},
   "outputs": [
    {
     "data": {
      "text/plain": [
       "(dim=2|id=75|\"site\") <In>\n",
       " 1: QN(\"n\",0) => 1\n",
       " 2: QN(\"n\",1) => 1"
      ]
     },
     "execution_count": 5,
     "metadata": {},
     "output_type": "execute_result"
    }
   ],
   "source": [
    "dsite=dag(site)"
   ]
  },
  {
   "cell_type": "code",
   "execution_count": 6,
   "id": "58b8aaca-dca2-4cc4-b3ef-82f5e21e9e2b",
   "metadata": {},
   "outputs": [
    {
     "name": "stdout",
     "output_type": "stream",
     "text": [
      "psi2 = ITensor ord=2\n",
      "Dim 1: (dim=2|id=75|\"s=1,site\") <Out>\n",
      " 1: QN(\"n\",0) => 1\n",
      " 2: QN(\"n\",1) => 1\n",
      "Dim 2: (dim=2|id=75|\"s=2,site\") <Out>\n",
      " 1: QN(\"n\",0) => 1\n",
      " 2: QN(\"n\",1) => 1\n",
      "NDTensors.BlockSparse{ComplexF64, Vector{ComplexF64}, 2}\n",
      " 2×2\n",
      "Block(1, 2)\n",
      " [1:1, 2:2]\n",
      " 0.2 + 0.5im\n",
      "\n",
      "Block(2, 1)\n",
      " [2:2, 1:1]\n",
      " 0.3 + 0.4im\n"
     ]
    }
   ],
   "source": [
    "site1=addtags(site,\"s=1\")\n",
    "site2=addtags(site,\"s=2\")\n",
    "psi2=ITensor(site1,site2)\n",
    "psi2[site1=>1,site2=>2]=0.2+0.5im\n",
    "psi2[site1=>2,site2=>1]=0.3+0.4im\n",
    "@show psi2;"
   ]
  },
  {
   "cell_type": "code",
   "execution_count": 7,
   "id": "7c31c1c5-5fd0-4869-bfc4-eeb925872c28",
   "metadata": {},
   "outputs": [
    {
     "name": "stdout",
     "output_type": "stream",
     "text": [
      "dag(psi2) = ITensor ord=2\n",
      "Dim 1: (dim=2|id=75|\"s=1,site\") <In>\n",
      " 1: QN(\"n\",0) => 1\n",
      " 2: QN(\"n\",1) => 1\n",
      "Dim 2: (dim=2|id=75|\"s=2,site\") <In>\n",
      " 1: QN(\"n\",0) => 1\n",
      " 2: QN(\"n\",1) => 1\n",
      "NDTensors.BlockSparse{ComplexF64, Vector{ComplexF64}, 2}\n",
      " 2×2\n",
      "Block(1, 2)\n",
      " [1:1, 2:2]\n",
      " 0.2 - 0.5im\n",
      "\n",
      "Block(2, 1)\n",
      " [2:2, 1:1]\n",
      " 0.3 - 0.4im\n"
     ]
    },
    {
     "data": {
      "text/plain": [
       "ITensor ord=2\n",
       "(dim=2|id=75|\"s=1,site\") <In>\n",
       " 1: QN(\"n\",0) => 1\n",
       " 2: QN(\"n\",1) => 1\n",
       "(dim=2|id=75|\"s=2,site\") <In>\n",
       " 1: QN(\"n\",0) => 1\n",
       " 2: QN(\"n\",1) => 1\n",
       "NDTensors.BlockSparse{ComplexF64, Vector{ComplexF64}, 2}"
      ]
     },
     "execution_count": 7,
     "metadata": {},
     "output_type": "execute_result"
    }
   ],
   "source": [
    "@show dag(psi2)"
   ]
  },
  {
   "cell_type": "code",
   "execution_count": 8,
   "id": "f074a5ba-13e9-48f5-8cbb-00ceedca7152",
   "metadata": {},
   "outputs": [
    {
     "data": {
      "text/plain": [
       "0.54 + 0.0im"
      ]
     },
     "execution_count": 8,
     "metadata": {},
     "output_type": "execute_result"
    }
   ],
   "source": [
    "only(psi2*dag(psi2))"
   ]
  },
  {
   "cell_type": "code",
   "execution_count": 9,
   "id": "6399ef4b-e6f1-4aa3-a7b4-d79d3e336f53",
   "metadata": {},
   "outputs": [
    {
     "data": {
      "text/plain": [
       "1-element Vector{ket}:\n",
       " (0.2 + 0.5im)|🔵⭕️⟩+(0.3 + 0.4im)|⭕️🔵⟩"
      ]
     },
     "execution_count": 9,
     "metadata": {},
     "output_type": "execute_result"
    }
   ],
   "source": [
    "kron([empty full],[empty full])*tensors(removeqns(psi2))"
   ]
  },
  {
   "cell_type": "code",
   "execution_count": 10,
   "id": "2c098e7a-e4e9-4dbe-b63f-0fd4b0695031",
   "metadata": {},
   "outputs": [
    {
     "name": "stdout",
     "output_type": "stream",
     "text": [
      "psi2b = ITensor ord=2\n",
      "Dim 1: (dim=2|id=75|\"s=1,site\") <Out>\n",
      " 1: QN(\"n\",0) => 1\n",
      " 2: QN(\"n\",1) => 1\n",
      "Dim 2: (dim=2|id=75|\"s=2,site\") <Out>\n",
      " 1: QN(\"n\",0) => 1\n",
      " 2: QN(\"n\",1) => 1\n",
      "NDTensors.BlockSparse{Int64, Vector{Int64}, 2}\n",
      " 2×2\n",
      "Block(2, 2)\n",
      " [2:2, 2:2]\n",
      " 1\n"
     ]
    },
    {
     "data": {
      "text/plain": [
       "ITensor ord=2\n",
       "(dim=2|id=75|\"s=1,site\") <Out>\n",
       " 1: QN(\"n\",0) => 1\n",
       " 2: QN(\"n\",1) => 1\n",
       "(dim=2|id=75|\"s=2,site\") <Out>\n",
       " 1: QN(\"n\",0) => 1\n",
       " 2: QN(\"n\",1) => 1\n",
       "NDTensors.BlockSparse{Int64, Vector{Int64}, 2}"
      ]
     },
     "execution_count": 10,
     "metadata": {},
     "output_type": "execute_result"
    }
   ],
   "source": [
    "#making a new state due to the improper quantum flux\n",
    "psi2b=ITensor(site1,site2)\n",
    "psi2b[site1=>2,site2=>2]=1\n",
    "@show psi2b"
   ]
  },
  {
   "cell_type": "code",
   "execution_count": 11,
   "id": "f385861e-99fb-4a9e-aa50-7abef8b2adfb",
   "metadata": {},
   "outputs": [
    {
     "data": {
      "text/plain": [
       "2×2 Matrix{Float64}:\n",
       " 0.0  0.0\n",
       " 0.0  1.0"
      ]
     },
     "execution_count": 11,
     "metadata": {},
     "output_type": "execute_result"
    }
   ],
   "source": [
    "num=ITensor([0 0;0 1],dsite,site')\n",
    "array(num)"
   ]
  },
  {
   "cell_type": "code",
   "execution_count": 12,
   "id": "28f2b43f-1af9-4b99-88db-1ffbe83f831a",
   "metadata": {},
   "outputs": [
    {
     "name": "stdout",
     "output_type": "stream",
     "text": [
      "num = ITensor ord=2\n",
      "Dim 1: (dim=2|id=75|\"site\") <In>\n",
      " 1: QN(\"n\",0) => 1\n",
      " 2: QN(\"n\",1) => 1\n",
      "Dim 2: (dim=2|id=75|\"site\")' <Out>\n",
      " 1: QN(\"n\",0) => 1\n",
      " 2: QN(\"n\",1) => 1\n",
      "NDTensors.BlockSparse{Float64, Vector{Float64}, 2}\n",
      " 2×2\n",
      "Block(2, 2)\n",
      " [2:2, 2:2]\n",
      " 1.0\n"
     ]
    }
   ],
   "source": [
    "@show num;"
   ]
  },
  {
   "cell_type": "code",
   "execution_count": 13,
   "id": "3a4fd91a-b1f0-4e7d-af6e-80d23d0c5e6a",
   "metadata": {},
   "outputs": [
    {
     "data": {
      "text/plain": [
       "true"
      ]
     },
     "execution_count": 13,
     "metadata": {},
     "output_type": "execute_result"
    }
   ],
   "source": [
    "num2=op([0 0;0 1],site)\n",
    "num2==num"
   ]
  },
  {
   "cell_type": "markdown",
   "id": "bde34b4b-9b77-4b10-aa51-560002d1406a",
   "metadata": {},
   "source": [
    "**Creating the annhilation operator**"
   ]
  },
  {
   "cell_type": "code",
   "execution_count": 14,
   "id": "8f2584de-4ced-4c5f-9f12-529c99971dc8",
   "metadata": {},
   "outputs": [
    {
     "data": {
      "text/plain": [
       "2×2 Matrix{Float64}:\n",
       " 0.0  1.0\n",
       " 0.0  0.0"
      ]
     },
     "execution_count": 14,
     "metadata": {},
     "output_type": "execute_result"
    }
   ],
   "source": [
    "a=op([0 1;0 0],site)\n",
    "array(a)"
   ]
  },
  {
   "cell_type": "code",
   "execution_count": 15,
   "id": "af06604e-84ef-4d4b-b72f-e676b210dc6e",
   "metadata": {},
   "outputs": [
    {
     "name": "stdout",
     "output_type": "stream",
     "text": [
      "a = ITensor ord=2\n",
      "Dim 1: (dim=2|id=75|\"site\")' <Out>\n",
      " 1: QN(\"n\",0) => 1\n",
      " 2: QN(\"n\",1) => 1\n",
      "Dim 2: (dim=2|id=75|\"site\") <In>\n",
      " 1: QN(\"n\",0) => 1\n",
      " 2: QN(\"n\",1) => 1\n",
      "NDTensors.BlockSparse{Float64, Vector{Float64}, 2}\n",
      " 2×2\n",
      "Block(1, 2)\n",
      " [1:1, 2:2]\n",
      " 1.0\n"
     ]
    }
   ],
   "source": [
    "@show a;"
   ]
  },
  {
   "cell_type": "markdown",
   "id": "5b2b210e-df6f-42f2-ae92-5183caf95e70",
   "metadata": {},
   "source": [
    "**calculating the commutator for a and n**"
   ]
  },
  {
   "cell_type": "code",
   "execution_count": 16,
   "id": "a4c1db3b-01c7-47cd-b6b2-e692e62a8dd9",
   "metadata": {},
   "outputs": [
    {
     "data": {
      "text/plain": [
       "ITensor ord=2\n",
       "(dim=2|id=75|\"site\") <In>\n",
       " 1: QN(\"n\",0) => 1\n",
       " 2: QN(\"n\",1) => 1\n",
       "(dim=2|id=75|\"site\")' <Out>\n",
       " 1: QN(\"n\",0) => 1\n",
       " 2: QN(\"n\",1) => 1\n",
       "NDTensors.BlockSparse{Float64, Vector{Float64}, 2}"
      ]
     },
     "execution_count": 16,
     "metadata": {},
     "output_type": "execute_result"
    }
   ],
   "source": [
    "commutator=replaceprime(a*prime(num)-num*prime(a),2=>1)"
   ]
  },
  {
   "cell_type": "code",
   "execution_count": 17,
   "id": "2dfddc7d-6a87-4e31-8605-769484b38673",
   "metadata": {},
   "outputs": [
    {
     "data": {
      "text/plain": [
       "2×2 Matrix{Float64}:\n",
       "  0.0  0.0\n",
       " -1.0  0.0"
      ]
     },
     "execution_count": 17,
     "metadata": {},
     "output_type": "execute_result"
    }
   ],
   "source": [
    "array(commutator)"
   ]
  },
  {
   "cell_type": "code",
   "execution_count": 18,
   "id": "98a0d1b1-bb34-457d-ae4e-4fdea8eabf40",
   "metadata": {},
   "outputs": [
    {
     "name": "stdout",
     "output_type": "stream",
     "text": [
      "(a_herm, a) = (ITensor ord=2\n",
      "Dim 1: (dim=2|id=75|\"site\") <In>\n",
      " 1: QN(\"n\",0) => 1\n",
      " 2: QN(\"n\",1) => 1\n",
      "Dim 2: (dim=2|id=75|\"site\")' <Out>\n",
      " 1: QN(\"n\",0) => 1\n",
      " 2: QN(\"n\",1) => 1\n",
      "NDTensors.BlockSparse{Float64, Vector{Float64}, 2}\n",
      " 2×2\n",
      "Block(2, 1)\n",
      " [2:2, 1:1]\n",
      " 1.0, ITensor ord=2\n",
      "Dim 1: (dim=2|id=75|\"site\")' <Out>\n",
      " 1: QN(\"n\",0) => 1\n",
      " 2: QN(\"n\",1) => 1\n",
      "Dim 2: (dim=2|id=75|\"site\") <In>\n",
      " 1: QN(\"n\",0) => 1\n",
      " 2: QN(\"n\",1) => 1\n",
      "NDTensors.BlockSparse{Float64, Vector{Float64}, 2}\n",
      " 2×2\n",
      "Block(1, 2)\n",
      " [1:1, 2:2]\n",
      " 1.0)\n"
     ]
    },
    {
     "data": {
      "text/plain": [
       "(ITensor ord=2\n",
       "Dim 1: (dim=2|id=75|\"site\") <In>\n",
       " 1: QN(\"n\",0) => 1\n",
       " 2: QN(\"n\",1) => 1\n",
       "Dim 2: (dim=2|id=75|\"site\")' <Out>\n",
       " 1: QN(\"n\",0) => 1\n",
       " 2: QN(\"n\",1) => 1\n",
       "NDTensors.BlockSparse{Float64, Vector{Float64}, 2}\n",
       " 2×2\n",
       "Block(2, 1)\n",
       " [2:2, 1:1]\n",
       " 1.0, ITensor ord=2\n",
       "Dim 1: (dim=2|id=75|\"site\")' <Out>\n",
       " 1: QN(\"n\",0) => 1\n",
       " 2: QN(\"n\",1) => 1\n",
       "Dim 2: (dim=2|id=75|\"site\") <In>\n",
       " 1: QN(\"n\",0) => 1\n",
       " 2: QN(\"n\",1) => 1\n",
       "NDTensors.BlockSparse{Float64, Vector{Float64}, 2}\n",
       " 2×2\n",
       "Block(1, 2)\n",
       " [1:1, 2:2]\n",
       " 1.0)"
      ]
     },
     "execution_count": 18,
     "metadata": {},
     "output_type": "execute_result"
    }
   ],
   "source": [
    "a=op([0 1;0 0],site)\n",
    "a_herm=ITensor([0 0;1 0],dsite,site')\n",
    "@show a_herm,a"
   ]
  },
  {
   "cell_type": "markdown",
   "id": "4f5f80c6-4ad9-4a63-85b8-73a7d2b86091",
   "metadata": {},
   "source": [
    "**Problem-1**"
   ]
  },
  {
   "cell_type": "code",
   "execution_count": 19,
   "id": "866afcbc-5ae1-4944-a9c6-2f9e0794f539",
   "metadata": {},
   "outputs": [
    {
     "name": "stdout",
     "output_type": "stream",
     "text": [
      "array(commutator) = [0.0 0.0; 0.0 0.0]\n"
     ]
    },
    {
     "data": {
      "text/plain": [
       "2×2 Matrix{Float64}:\n",
       " 0.0  0.0\n",
       " 0.0  0.0"
      ]
     },
     "execution_count": 19,
     "metadata": {},
     "output_type": "execute_result"
    }
   ],
   "source": [
    "a=op([0 1;0 0],site)\n",
    "a_herm=ITensor([0 0;1 0],dsite,site');\n",
    "commutator=replaceprime(a*prime(a_herm)-a_herm*prime(a))\n",
    "@show array(commutator)"
   ]
  },
  {
   "cell_type": "code",
   "execution_count": 20,
   "id": "fe33b138-d9fc-4c64-ba96-39caa67777d8",
   "metadata": {},
   "outputs": [
    {
     "data": {
      "text/plain": [
       "ITensor ord=2\n",
       "(dim=2|id=75|\"site\") <Out>\n",
       " 1: QN(\"n\",0) => 1\n",
       " 2: QN(\"n\",1) => 1\n",
       "(dim=2|id=75|\"site\")' <In>\n",
       " 1: QN(\"n\",0) => 1\n",
       " 2: QN(\"n\",1) => 1\n",
       "NDTensors.BlockSparse{Float64, Vector{Float64}, 2}"
      ]
     },
     "execution_count": 20,
     "metadata": {},
     "output_type": "execute_result"
    }
   ],
   "source": [
    "ITensor([3 0;0 4],site,dag(site'))"
   ]
  },
  {
   "cell_type": "code",
   "execution_count": 21,
   "id": "e69171b3-b0f6-4f89-89f3-3b50b0f89749",
   "metadata": {},
   "outputs": [
    {
     "ename": "LoadError",
     "evalue": "Fluxes not all equal",
     "output_type": "error",
     "traceback": [
      "Fluxes not all equal",
      "",
      "Stacktrace:",
      "  [1] error(s::String)",
      "    @ Base .\\error.jl:35",
      "  [2] checkflux(T::NDTensors.BlockSparseTensor{Float64, 2, Tuple{Index{Vector{Pair{QN, Int64}}}, Index{Vector{Pair{QN, Int64}}}}, NDTensors.BlockSparse{Float64, Vector{Float64}, 2}})",
      "    @ ITensors C:\\Users\\shikh\\.julia\\packages\\ITensors\\nUzgj\\src\\qn\\flux.jl:75",
      "  [3] ITensor(::NDTensors.NeverAlias, elt::Type{Float64}, A::Matrix{Int64}, inds::Tuple{Index{Vector{Pair{QN, Int64}}}, Index{Vector{Pair{QN, Int64}}}}; tol::Float64, checkflux::Bool)",
      "    @ ITensors C:\\Users\\shikh\\.julia\\packages\\ITensors\\nUzgj\\src\\qn\\qnitensor.jl:334",
      "  [4] ITensor(::NDTensors.NeverAlias, elt::Type{Float64}, A::Matrix{Int64}, inds::Tuple{Index{Vector{Pair{QN, Int64}}}, Index{Vector{Pair{QN, Int64}}}})",
      "    @ ITensors C:\\Users\\shikh\\.julia\\packages\\ITensors\\nUzgj\\src\\qn\\qnitensor.jl:315",
      "  [5] ITensor(::NDTensors.NeverAlias, ::Type{Float64}, ::Matrix{Int64}, ::Index{Vector{Pair{QN, Int64}}}, ::Vararg{Index{Vector{Pair{QN, Int64}}}}; kwargs::@Kwargs{})",
      "    @ ITensors C:\\Users\\shikh\\.julia\\packages\\ITensors\\nUzgj\\src\\itensor.jl:384",
      "  [6] ITensor(::NDTensors.NeverAlias, ::Type{Float64}, ::Matrix{Int64}, ::Index{Vector{Pair{QN, Int64}}}, ::Vararg{Index{Vector{Pair{QN, Int64}}}})",
      "    @ ITensors C:\\Users\\shikh\\.julia\\packages\\ITensors\\nUzgj\\src\\itensor.jl:381",
      "  [7] ITensor(::NDTensors.NeverAlias, ::Matrix{Int64}, ::Index{Vector{Pair{QN, Int64}}}, ::Vararg{Index{Vector{Pair{QN, Int64}}}}; kwargs::@Kwargs{})",
      "    @ ITensors C:\\Users\\shikh\\.julia\\packages\\ITensors\\nUzgj\\src\\itensor.jl:420",
      "  [8] ITensor(::NDTensors.NeverAlias, ::Matrix{Int64}, ::Index{Vector{Pair{QN, Int64}}}, ::Vararg{Index{Vector{Pair{QN, Int64}}}})",
      "    @ ITensors C:\\Users\\shikh\\.julia\\packages\\ITensors\\nUzgj\\src\\itensor.jl:417",
      "  [9] ITensor(::Matrix{Int64}, ::Index{Vector{Pair{QN, Int64}}}, ::Vararg{Index{Vector{Pair{QN, Int64}}}}; kwargs::@Kwargs{})",
      "    @ ITensors C:\\Users\\shikh\\.julia\\packages\\ITensors\\nUzgj\\src\\itensor.jl:424",
      " [10] ITensor(::Matrix{Int64}, ::Index{Vector{Pair{QN, Int64}}}, ::Vararg{Index{Vector{Pair{QN, Int64}}}})",
      "    @ ITensors C:\\Users\\shikh\\.julia\\packages\\ITensors\\nUzgj\\src\\itensor.jl:423",
      " [11] top-level scope",
      "    @ In[21]:1"
     ]
    }
   ],
   "source": [
    "ITensor([0 1;1 0],site,dag(site'))"
   ]
  },
  {
   "cell_type": "markdown",
   "id": "b96d5d9b-cdf1-4737-9885-964fae2ea1c2",
   "metadata": {},
   "source": [
    "**Naming operators**"
   ]
  },
  {
   "cell_type": "code",
   "execution_count": 22,
   "id": "23261d7b-e6c2-4c9b-b63d-0bb85a6bb141",
   "metadata": {},
   "outputs": [
    {
     "data": {
      "text/plain": [
       "(dim=3|id=420|\"spin1\")"
      ]
     },
     "execution_count": 22,
     "metadata": {},
     "output_type": "execute_result"
    }
   ],
   "source": [
    "i=Index(3,\"spin1\")"
   ]
  },
  {
   "cell_type": "code",
   "execution_count": 23,
   "id": "bfa9f4e8-318f-45cf-8973-427d9c36423f",
   "metadata": {},
   "outputs": [
    {
     "data": {
      "text/plain": [
       "ITensor ord=2 (dim=3|id=420|\"spin1\")' (dim=3|id=420|\"spin1\")\n",
       "NDTensors.Dense{Float64, Vector{Float64}}"
      ]
     },
     "execution_count": 23,
     "metadata": {},
     "output_type": "execute_result"
    }
   ],
   "source": [
    "Szi1=op([-1 0 0;0 0 0;0 0 1],i)"
   ]
  },
  {
   "cell_type": "code",
   "execution_count": 24,
   "id": "c7baf3f6-9cf7-4ff2-8fe6-490a1ba875db",
   "metadata": {},
   "outputs": [],
   "source": [
    "#naming the operator with somewhat obscure notation\n",
    "ITensors.op(::OpName\"Sz\",::SiteType\"spin1\")=[-1 0 0;0 0 0;0 0 1]"
   ]
  },
  {
   "cell_type": "code",
   "execution_count": 25,
   "id": "c413e9fd-d54c-4e8c-ac81-fbc6741439cd",
   "metadata": {},
   "outputs": [
    {
     "data": {
      "text/plain": [
       "ITensor ord=2 (dim=3|id=420|\"spin1\")' (dim=3|id=420|\"spin1\")\n",
       "NDTensors.Dense{Float64, Vector{Float64}}"
      ]
     },
     "execution_count": 25,
     "metadata": {},
     "output_type": "execute_result"
    }
   ],
   "source": [
    "Szi2=op(\"Sz\",i)"
   ]
  },
  {
   "cell_type": "code",
   "execution_count": 26,
   "id": "c38056bd-db26-42a1-bb58-466535ee40e2",
   "metadata": {},
   "outputs": [
    {
     "data": {
      "text/plain": [
       "true"
      ]
     },
     "execution_count": 26,
     "metadata": {},
     "output_type": "execute_result"
    }
   ],
   "source": [
    "Szi1==Szi2"
   ]
  },
  {
   "cell_type": "code",
   "execution_count": 27,
   "id": "eccca2d1-caec-4cb5-9229-a2bb055d0624",
   "metadata": {},
   "outputs": [
    {
     "name": "stdout",
     "output_type": "stream",
     "text": [
      "Szi2 = ITensor ord=2\n",
      "Dim 1: (dim=3|id=420|\"spin1\")'\n",
      "Dim 2: (dim=3|id=420|\"spin1\")\n",
      "NDTensors.Dense{Float64, Vector{Float64}}\n",
      " 3×3\n",
      " -1.0  0.0  0.0\n",
      "  0.0  0.0  0.0\n",
      "  0.0  0.0  1.0\n"
     ]
    },
    {
     "data": {
      "text/plain": [
       "ITensor ord=2 (dim=3|id=420|\"spin1\")' (dim=3|id=420|\"spin1\")\n",
       "NDTensors.Dense{Float64, Vector{Float64}}"
      ]
     },
     "execution_count": 27,
     "metadata": {},
     "output_type": "execute_result"
    }
   ],
   "source": [
    "@show Szi2"
   ]
  },
  {
   "cell_type": "code",
   "execution_count": 28,
   "id": "2974fe9e-6b55-4bdd-a490-023fd5f5dbdb",
   "metadata": {},
   "outputs": [
    {
     "data": {
      "text/plain": [
       "(dim=2|id=569|\"site_1\") <Out>\n",
       " 1: QN(\"n\",0) => 1\n",
       " 2: QN(\"n\",1) => 1"
      ]
     },
     "execution_count": 28,
     "metadata": {},
     "output_type": "execute_result"
    }
   ],
   "source": [
    "site_1=Index(QN(\"n\",0)=>1,QN(\"n\",1)=>1,tags=\"site_1\")"
   ]
  },
  {
   "cell_type": "code",
   "execution_count": 29,
   "id": "0402ed58-6c8e-4383-b890-90ff169676fd",
   "metadata": {},
   "outputs": [
    {
     "name": "stdout",
     "output_type": "stream",
     "text": [
      "op(\"Num\", site_1) = ITensor ord=2\n",
      "Dim 1: (dim=2|id=569|\"site_1\")' <Out>\n",
      " 1: QN(\"n\",0) => 1\n",
      " 2: QN(\"n\",1) => 1\n",
      "Dim 2: (dim=2|id=569|\"site_1\") <In>\n",
      " 1: QN(\"n\",0) => 1\n",
      " 2: QN(\"n\",1) => 1\n",
      "NDTensors.BlockSparse{Float64, Vector{Float64}, 2}\n",
      " 2×2\n",
      "Block(2, 2)\n",
      " [2:2, 2:2]\n",
      " 1.0\n"
     ]
    }
   ],
   "source": [
    "ITensors.op(::OpName\"Num\",::SiteType\"site_1\")=[0 0;0 1]\n",
    "@show op(\"Num\",site_1);"
   ]
  },
  {
   "cell_type": "code",
   "execution_count": 30,
   "id": "5114bdd8-2ad3-4395-81e8-405041e6711e",
   "metadata": {},
   "outputs": [
    {
     "name": "stdout",
     "output_type": "stream",
     "text": [
      "op(\"a\", site_1) = ITensor ord=2\n",
      "Dim 1: (dim=2|id=569|\"site_1\")' <Out>\n",
      " 1: QN(\"n\",0) => 1\n",
      " 2: QN(\"n\",1) => 1\n",
      "Dim 2: (dim=2|id=569|\"site_1\") <In>\n",
      " 1: QN(\"n\",0) => 1\n",
      " 2: QN(\"n\",1) => 1\n",
      "NDTensors.BlockSparse{Float64, Vector{Float64}, 2}\n",
      " 2×2\n",
      "Block(2, 2)\n",
      " [2:2, 2:2]\n",
      " 1.0\n"
     ]
    }
   ],
   "source": [
    "ITensors.op(::OpName\"a\",::SiteType\"site_1\")=[0 0;0 1]\n",
    "@show op(\"a\",site_1);"
   ]
  },
  {
   "cell_type": "code",
   "execution_count": 31,
   "id": "f9159af5-1ae4-457c-aace-8d49dffa6474",
   "metadata": {},
   "outputs": [
    {
     "name": "stdout",
     "output_type": "stream",
     "text": [
      "op(\"ad\", site_1) = ITensor ord=2\n",
      "Dim 1: (dim=2|id=569|\"site_1\")' <Out>\n",
      " 1: QN(\"n\",0) => 1\n",
      " 2: QN(\"n\",1) => 1\n",
      "Dim 2: (dim=2|id=569|\"site_1\") <In>\n",
      " 1: QN(\"n\",0) => 1\n",
      " 2: QN(\"n\",1) => 1\n",
      "NDTensors.BlockSparse{Float64, Vector{Float64}, 2}\n",
      " 2×2\n",
      "Block(2, 2)\n",
      " [2:2, 2:2]\n",
      " 1.0\n"
     ]
    },
    {
     "data": {
      "text/plain": [
       "ITensor ord=2\n",
       "(dim=2|id=569|\"site_1\")' <Out>\n",
       " 1: QN(\"n\",0) => 1\n",
       " 2: QN(\"n\",1) => 1\n",
       "(dim=2|id=569|\"site_1\") <In>\n",
       " 1: QN(\"n\",0) => 1\n",
       " 2: QN(\"n\",1) => 1\n",
       "NDTensors.BlockSparse{Float64, Vector{Float64}, 2}"
      ]
     },
     "execution_count": 31,
     "metadata": {},
     "output_type": "execute_result"
    }
   ],
   "source": [
    "ITensors.op(::OpName\"ad\",::SiteType\"site_1\")=[0 0;0 1]\n",
    "@show op(\"ad\",site_1)"
   ]
  },
  {
   "cell_type": "code",
   "execution_count": 32,
   "id": "c4b93128-573f-4bb9-9164-abfd8b5b4f24",
   "metadata": {},
   "outputs": [
    {
     "data": {
      "text/plain": [
       "(dim=2|id=70|\"s=3,site_1\") <Out>\n",
       " 1: QN(\"n\",0) => 1\n",
       " 2: QN(\"n\",1) => 1"
      ]
     },
     "execution_count": 32,
     "metadata": {},
     "output_type": "execute_result"
    }
   ],
   "source": [
    "site1=Index(QN(\"n\",0)=>1,QN(\"n\",1)=>1,tags=\"site_1\")\n",
    "# site1=addtags(site1,\"s=1\")\n",
    "site2=addtags(site1,\"s=2\")\n",
    "site3=addtags(site1,\"s=3\")"
   ]
  },
  {
   "cell_type": "code",
   "execution_count": 33,
   "id": "6aa1d553-c894-4b59-94d5-00a1075e4c01",
   "metadata": {},
   "outputs": [
    {
     "data": {
      "text/plain": [
       "(dim=2|id=198|\"bond2\") <Out>\n",
       " 1: QN(\"n\",0) => 1\n",
       " 2: QN(\"n\",1) => 1"
      ]
     },
     "execution_count": 33,
     "metadata": {},
     "output_type": "execute_result"
    }
   ],
   "source": [
    "bond1=Index(QN(\"n\",0)=>1,QN(\"n\",1)=>1,tags=\"bond1\")\n",
    "bond2=settags(bond1,\"bond2\")"
   ]
  },
  {
   "cell_type": "code",
   "execution_count": 34,
   "id": "4d7738fe-3464-421d-82ab-6194f4e30680",
   "metadata": {},
   "outputs": [
    {
     "data": {
      "text/plain": [
       "2-element Vector{ket}:\n",
       " 1.0|⭕️⟩\n",
       " 1.0|🔵⟩"
      ]
     },
     "execution_count": 34,
     "metadata": {},
     "output_type": "execute_result"
    }
   ],
   "source": [
    "A1=onehot(site1=>1,bond1=>1)+onehot(site1=>2,bond1=>2)\n",
    "vectorpp(A1,bond1,[empty,full])"
   ]
  },
  {
   "cell_type": "code",
   "execution_count": 35,
   "id": "ab773bcb-bf95-434e-9743-fbc80710beb8",
   "metadata": {},
   "outputs": [
    {
     "data": {
      "text/plain": [
       "2×2 Matrix{ket}:\n",
       " 1.0|⭕️⟩  1.0|🔵⟩\n",
       "          1.0|⭕️⟩"
      ]
     },
     "execution_count": 35,
     "metadata": {},
     "output_type": "execute_result"
    }
   ],
   "source": [
    "A2=ITensor([1 0;0 1],dag(bond1),bond2)*onehot(site2=>1)+ITensor([0 1;0 0],dag(bond1),bond2)*onehot(site2=>2)\n",
    "matrixpp(A2,dag(bond1),bond2,[empty,full])"
   ]
  },
  {
   "cell_type": "code",
   "execution_count": 36,
   "id": "6a523567-f1be-4670-9a60-93fbe6b348c7",
   "metadata": {},
   "outputs": [
    {
     "data": {
      "text/plain": [
       "2-element Vector{ket}:\n",
       " 1.0|🔵⟩\n",
       " 1.0|⭕️⟩"
      ]
     },
     "execution_count": 36,
     "metadata": {},
     "output_type": "execute_result"
    }
   ],
   "source": [
    "A3=onehot(site3=>1,dag(bond2)=>2)+onehot(site3=>2,dag(bond2)=>1)\n",
    "vectorpp(A3,dag(bond2),[empty,full])"
   ]
  },
  {
   "cell_type": "code",
   "execution_count": 37,
   "id": "05f8d397-c9a1-435b-8f4a-5763cc14db06",
   "metadata": {},
   "outputs": [
    {
     "ename": "LoadError",
     "evalue": "Fluxes not all equal",
     "output_type": "error",
     "traceback": [
      "Fluxes not all equal",
      "",
      "Stacktrace:",
      " [1] error(s::String)",
      "   @ Base .\\error.jl:35",
      " [2] checkflux(T::NDTensors.BlockSparseTensor{Float64, 2, Tuple{Index{Vector{Pair{QN, Int64}}}, Index{Vector{Pair{QN, Int64}}}}, NDTensors.BlockSparse{Float64, Vector{Float64}, 2}})",
      "   @ ITensors C:\\Users\\shikh\\.julia\\packages\\ITensors\\nUzgj\\src\\qn\\flux.jl:75",
      " [3] checkflux(T::ITensor)",
      "   @ ITensors C:\\Users\\shikh\\.julia\\packages\\ITensors\\nUzgj\\src\\qn\\flux.jl:25",
      " [4] macro expansion",
      "   @ C:\\Users\\shikh\\.julia\\packages\\ITensors\\nUzgj\\src\\global_variables.jl:180 [inlined]",
      " [5] factorize(A::ITensor, Linds::Vector{Index{Vector{Pair{QN, Int64}}}}; mindim::Nothing, maxdim::Nothing, cutoff::Nothing, ortho::Nothing, tags::ITensors.TagSets.GenericTagSet{BitIntegers.UInt256, 4}, plev::Nothing, which_decomp::Nothing, eigen_perturbation::Nothing, svd_alg::Nothing, use_absolute_cutoff::Nothing, use_relative_cutoff::Nothing, min_blockdim::Nothing, singular_values!::Nothing, dir::Nothing)",
      "   @ ITensors C:\\Users\\shikh\\.julia\\packages\\ITensors\\nUzgj\\src\\tensor_operations\\matrix_decomposition.jl:766",
      " [6] orthogonalize!(M::MPS, j::Int64; maxdim::Nothing, normalize::Nothing)",
      "   @ ITensors.ITensorMPS C:\\Users\\shikh\\.julia\\packages\\ITensors\\nUzgj\\src\\lib\\ITensorMPS\\src\\abstractmps.jl:1640",
      " [7] orthogonalize!(M::MPS, j::Int64)",
      "   @ ITensors.ITensorMPS C:\\Users\\shikh\\.julia\\packages\\ITensors\\nUzgj\\src\\lib\\ITensorMPS\\src\\abstractmps.jl:1602",
      " [8] top-level scope",
      "   @ In[37]:4"
     ]
    }
   ],
   "source": [
    "psi=MPS([site1,site2,site3])\n",
    "psi[1]=A1\n",
    "psi[2]=A2\n",
    "psi[3]=A3\n",
    "orthogonalize!(psi,1); "
   ]
  },
  {
   "cell_type": "code",
   "execution_count": 38,
   "id": "eeb2c965-0433-4183-bd32-9648dc3d68be",
   "metadata": {},
   "outputs": [
    {
     "data": {
      "text/plain": [
       "2-element Vector{ket}:\n",
       " 1.0|⭕️⟩\n",
       " 1.0|🔵⟩"
      ]
     },
     "execution_count": 38,
     "metadata": {},
     "output_type": "execute_result"
    }
   ],
   "source": [
    "vectorpp(psi[1],linkind(psi,1),[empty,full])"
   ]
  },
  {
   "cell_type": "code",
   "execution_count": 39,
   "id": "a3546a81-a5c8-4fd4-b092-427fe643e7c3",
   "metadata": {},
   "outputs": [
    {
     "data": {
      "text/plain": [
       "2×2 Matrix{ket}:\n",
       " 1.0|⭕️⟩  1.0|🔵⟩\n",
       "          1.0|⭕️⟩"
      ]
     },
     "execution_count": 39,
     "metadata": {},
     "output_type": "execute_result"
    }
   ],
   "source": [
    "matrixpp(psi[2],dag(linkind(psi,1)),linkind(psi,2),[empty,full])"
   ]
  },
  {
   "cell_type": "code",
   "execution_count": 40,
   "id": "b66bbb53-a718-4595-bf8d-43ed680f9586",
   "metadata": {},
   "outputs": [
    {
     "data": {
      "text/plain": [
       "2-element Vector{ket}:\n",
       " 1.0|🔵⟩\n",
       " 1.0|⭕️⟩"
      ]
     },
     "execution_count": 40,
     "metadata": {},
     "output_type": "execute_result"
    }
   ],
   "source": [
    "vectorpp(psi[3],dag(linkind(psi,2)),[empty,full])"
   ]
  },
  {
   "cell_type": "code",
   "execution_count": 41,
   "id": "32e4f292-83b2-4615-97cd-655630b484c6",
   "metadata": {},
   "outputs": [
    {
     "data": {
      "text/plain": [
       "2.9999999999999996"
      ]
     },
     "execution_count": 41,
     "metadata": {},
     "output_type": "execute_result"
    }
   ],
   "source": [
    "norm(psi)^2"
   ]
  },
  {
   "cell_type": "code",
   "execution_count": 42,
   "id": "48c7771f-8bbb-4ed3-877e-a7e642a22423",
   "metadata": {},
   "outputs": [
    {
     "data": {
      "text/plain": [
       "(dim=2|id=349|\"site\") <Out>\n",
       " 1: QN(\"n\",0) => 1\n",
       " 2: QN(\"n\",1) => 1"
      ]
     },
     "execution_count": 42,
     "metadata": {},
     "output_type": "execute_result"
    }
   ],
   "source": [
    "site=Index(QN(\"n\",0)=>1,QN(\"n\",1)=>1,tags=\"site\")"
   ]
  },
  {
   "cell_type": "code",
   "execution_count": 43,
   "id": "360d9ec5-4664-4d25-8d1b-7f8190108cae",
   "metadata": {},
   "outputs": [
    {
     "data": {
      "text/plain": [
       "2-element Vector{ket}:\n",
       " 1.0|🔵⟩\n",
       " 1.0|⭕️⟩"
      ]
     },
     "execution_count": 43,
     "metadata": {},
     "output_type": "execute_result"
    }
   ],
   "source": [
    "site1=addtags(site,\"s=1\")\n",
    "site2=addtags(site,\"s=2\")\n",
    "site3=addtags(site,\"s=3\")\n",
    "site4=addtags(site,\"s=4\")\n",
    "site5=addtags(site,\"s=5\")\n",
    "bond1=Index(QN(\"n\",0)=>1,QN(\"n\",1)=>1,tags=\"bond1\")\n",
    "bond2=settags(bond1,\"bond2\")\n",
    "bond3=settags(bond1,\"bond3\")\n",
    "bond4=settags(bond1,\"bond4\")\n",
    "A1=onehot(site1=>1,bond1=>1)+onehot(site1=>2,bond1=>2)\n",
    "A2=ITensor([1 0;0 1],dag(bond1),bond2)*onehot(site2=>1)+ITensor([0 1;0 0],dag(bond1),bond2)*onehot(site2=>2)\n",
    "A3=ITensor([1 0;0 1],dag(bond2),bond3)*onehot(site3=>1)+ITensor([0 1;0 0],dag(bond2),bond3)*onehot(site3=>2)\n",
    "A4=ITensor([1 0;0 1],dag(bond3),bond4)*onehot(site4=>1)+ITensor([0 1;0 0],dag(bond3),bond4)*onehot(site4=>2)\n",
    "A5=onehot(site5=>1,dag(bond4)=>2)+onehot(site5=>2,dag(bond4)=>1)\n",
    "matrixpp(A4,dag(bond3),bond4,[empty,full])\n",
    "psi1=MPS([site1,site2,site3,site4,site5])\n",
    "psi1[1]=A1\n",
    "psi1[2]=A2\n",
    "psi1[3]=A3\n",
    "psi1[4]=A4\n",
    "psi1[5]=A5\n",
    "vectorpp(psi1[1],linkind(psi1,1),[empty,full])\n",
    "matrixpp(psi1[2],dag(linkind(psi1,1)),linkind(psi1,2),[empty,full])\n",
    "matrixpp(psi1[3],dag(linkind(psi1,2)),linkind(psi1,3),[empty,full])\n",
    "matrixpp(psi1[4],dag(linkind(psi1,3)),linkind(psi1,4),[empty,full])\n",
    "vectorpp(psi1[5],dag(linkind(psi1,4)),[empty,full])"
   ]
  },
  {
   "cell_type": "code",
   "execution_count": 44,
   "id": "53130624-bb19-4ba9-a3aa-4188d0d3c081",
   "metadata": {},
   "outputs": [
    {
     "data": {
      "text/plain": [
       "5.000000000000001"
      ]
     },
     "execution_count": 44,
     "metadata": {},
     "output_type": "execute_result"
    }
   ],
   "source": [
    "norm(psi1)^2"
   ]
  },
  {
   "cell_type": "markdown",
   "id": "98684dff-1965-49b4-8260-e3cd68b4aa6a",
   "metadata": {},
   "source": [
    "**3 site MPO**"
   ]
  },
  {
   "cell_type": "code",
   "execution_count": 45,
   "id": "1ab808a0-1810-4994-8072-baea1afbd61d",
   "metadata": {},
   "outputs": [
    {
     "data": {
      "text/plain": [
       "(dim=4|id=489|\"hlink2\") <Out>\n",
       " 1: QN(\"n\",0) => 1\n",
       " 2: QN(\"n\",-1) => 1\n",
       " 3: QN(\"n\",1) => 1\n",
       " 4: QN(\"n\",0) => 1"
      ]
     },
     "execution_count": 45,
     "metadata": {},
     "output_type": "execute_result"
    }
   ],
   "source": [
    "hlink1=Index(QN(\"n\",0)=>1,QN(\"n\",-1)=>1,QN(\"n\",1)=>1,QN(\"n\",0)=>1)\n",
    "hlink2=settags(hlink1,\"hlink2\")"
   ]
  },
  {
   "cell_type": "code",
   "execution_count": 46,
   "id": "566f234a-2445-459f-8b41-33375fb98fe9",
   "metadata": {},
   "outputs": [],
   "source": [
    "ITensors.op(::OpName\"id\",::SiteType\"site\")=[1 0;0 1]#defining the identity operator\n",
    "ITensors.op(::OpName\"a\",::SiteType\"site\")=[0 1;0 0]#annhilation operator\n",
    "ITensors.op(::OpName\"ad\",::SiteType\"site\")=[0 0;1 0]#creation operator"
   ]
  },
  {
   "cell_type": "code",
   "execution_count": 47,
   "id": "7ba3024a-f837-44f9-ac91-d753ea2c07ad",
   "metadata": {},
   "outputs": [
    {
     "data": {
      "text/plain": [
       "ITensor ord=3\n",
       "(dim=2|id=349|\"s=1,site\")' <Out>\n",
       " 1: QN(\"n\",0) => 1\n",
       " 2: QN(\"n\",1) => 1\n",
       "(dim=2|id=349|\"s=1,site\") <In>\n",
       " 1: QN(\"n\",0) => 1\n",
       " 2: QN(\"n\",1) => 1\n",
       "(dim=4|id=489) <Out>\n",
       " 1: QN(\"n\",0) => 1\n",
       " 2: QN(\"n\",-1) => 1\n",
       " 3: QN(\"n\",1) => 1\n",
       " 4: QN(\"n\",0) => 1\n",
       "NDTensors.BlockSparse{Float64, Vector{Float64}, 3}"
      ]
     },
     "execution_count": 47,
     "metadata": {},
     "output_type": "execute_result"
    }
   ],
   "source": [
    "H1=op(\"id\",site1)*onehot(hlink1=>1)-op(\"a\",site1)*onehot(hlink1=>2)-op(\"ad\",site1)*onehot(hlink1=>3)"
   ]
  },
  {
   "cell_type": "code",
   "execution_count": 48,
   "id": "2121157c-b932-444b-8ecc-0df6bd8128dd",
   "metadata": {},
   "outputs": [
    {
     "data": {
      "text/plain": [
       "ITensor ord=4\n",
       "(dim=2|id=349|\"s=2,site\")' <Out>\n",
       " 1: QN(\"n\",0) => 1\n",
       " 2: QN(\"n\",1) => 1\n",
       "(dim=2|id=349|\"s=2,site\") <In>\n",
       " 1: QN(\"n\",0) => 1\n",
       " 2: QN(\"n\",1) => 1\n",
       "(dim=4|id=489) <In>\n",
       " 1: QN(\"n\",0) => 1\n",
       " 2: QN(\"n\",-1) => 1\n",
       " 3: QN(\"n\",1) => 1\n",
       " 4: QN(\"n\",0) => 1\n",
       "(dim=4|id=489|\"hlink2\") <Out>\n",
       " 1: QN(\"n\",0) => 1\n",
       " 2: QN(\"n\",-1) => 1\n",
       " 3: QN(\"n\",1) => 1\n",
       " 4: QN(\"n\",0) => 1\n",
       "NDTensors.BlockSparse{Float64, Vector{Float64}, 4}"
      ]
     },
     "execution_count": 48,
     "metadata": {},
     "output_type": "execute_result"
    }
   ],
   "source": [
    "H2=op(\"id\",site2)*onehot(dag(hlink1)=>1,hlink2=>1)-op(\"a\",site2)*onehot(dag(hlink1)=>1,hlink2=>2)-op(\"ad\",site2)*onehot(dag(hlink1)=>1,hlink2=>3)+\n",
    "    op(\"ad\",site2)*onehot(dag(hlink1)=>2,hlink2=>4)+op(\"ad\",site2)*onehot(dag(hlink1)=>3,hlink2=>4)+op(\"ad\",site2)*onehot(dag(hlink1)=>4,hlink2=>4)"
   ]
  },
  {
   "cell_type": "code",
   "execution_count": 49,
   "id": "bcf7c8cc-f6e6-43cc-99be-ca806637681a",
   "metadata": {},
   "outputs": [
    {
     "data": {
      "text/plain": [
       "ITensor ord=3\n",
       "(dim=2|id=349|\"s=3,site\")' <Out>\n",
       " 1: QN(\"n\",0) => 1\n",
       " 2: QN(\"n\",1) => 1\n",
       "(dim=2|id=349|\"s=3,site\") <In>\n",
       " 1: QN(\"n\",0) => 1\n",
       " 2: QN(\"n\",1) => 1\n",
       "(dim=4|id=489|\"hlink2\") <In>\n",
       " 1: QN(\"n\",0) => 1\n",
       " 2: QN(\"n\",-1) => 1\n",
       " 3: QN(\"n\",1) => 1\n",
       " 4: QN(\"n\",0) => 1\n",
       "NDTensors.BlockSparse{Float64, Vector{Float64}, 3}"
      ]
     },
     "execution_count": 49,
     "metadata": {},
     "output_type": "execute_result"
    }
   ],
   "source": [
    "H3=op(\"ad\",site3)*onehot(dag(hlink2)=>2)+op(\"a\",site3)*onehot(dag(hlink2)=>3)+op(\"id\",site3)*onehot(dag(hlink2)=>4)"
   ]
  },
  {
   "cell_type": "code",
   "execution_count": 50,
   "id": "3f22c65b-0d19-4e16-9004-5c5742119053",
   "metadata": {},
   "outputs": [
    {
     "name": "stdout",
     "output_type": "stream",
     "text": [
      "Htot = H1 * H2 * H3 = ITensor ord=6\n",
      "Dim 1: (dim=2|id=349|\"s=1,site\")' <Out>\n",
      " 1: QN(\"n\",0) => 1\n",
      " 2: QN(\"n\",1) => 1\n",
      "Dim 2: (dim=2|id=349|\"s=1,site\") <In>\n",
      " 1: QN(\"n\",0) => 1\n",
      " 2: QN(\"n\",1) => 1\n",
      "Dim 3: (dim=2|id=349|\"s=2,site\")' <Out>\n",
      " 1: QN(\"n\",0) => 1\n",
      " 2: QN(\"n\",1) => 1\n",
      "Dim 4: (dim=2|id=349|\"s=2,site\") <In>\n",
      " 1: QN(\"n\",0) => 1\n",
      " 2: QN(\"n\",1) => 1\n",
      "Dim 5: (dim=2|id=349|\"s=3,site\")' <Out>\n",
      " 1: QN(\"n\",0) => 1\n",
      " 2: QN(\"n\",1) => 1\n",
      "Dim 6: (dim=2|id=349|\"s=3,site\") <In>\n",
      " 1: QN(\"n\",0) => 1\n",
      " 2: QN(\"n\",1) => 1\n",
      "NDTensors.BlockSparse{Float64, Vector{Float64}, 6}\n",
      " 2×2×2×2×2×2\n",
      "Block(1, 1, 1, 2, 2, 1)\n",
      " [1:1, 1:1, 1:1, 2:2, 2:2, 1:1]\n",
      "[:, :, 1, 1, 1, 1] =\n",
      " -1.0\n",
      "\n",
      "Block(1, 1, 2, 1, 1, 2)\n",
      " [1:1, 1:1, 2:2, 1:1, 1:1, 2:2]\n",
      "[:, :, 1, 1, 1, 1] =\n",
      " -1.0\n",
      "\n",
      "Block(2, 2, 1, 2, 2, 1)\n",
      " [2:2, 2:2, 1:1, 2:2, 2:2, 1:1]\n",
      "[:, :, 1, 1, 1, 1] =\n",
      " -1.0\n",
      "\n",
      "Block(2, 2, 2, 1, 1, 2)\n",
      " [2:2, 2:2, 2:2, 1:1, 1:1, 2:2]\n",
      "[:, :, 1, 1, 1, 1] =\n",
      " -1.0\n",
      "\n",
      "Block(1, 2, 2, 1, 1, 1)\n",
      " [1:1, 2:2, 2:2, 1:1, 1:1, 1:1]\n",
      "[:, :, 1, 1, 1, 1] =\n",
      " -1.0\n",
      "\n",
      "Block(1, 2, 2, 1, 2, 2)\n",
      " [1:1, 2:2, 2:2, 1:1, 2:2, 2:2]\n",
      "[:, :, 1, 1, 1, 1] =\n",
      " -1.0\n",
      "\n",
      "Block(2, 1, 2, 1, 1, 1)\n",
      " [2:2, 1:1, 2:2, 1:1, 1:1, 1:1]\n",
      "[:, :, 1, 1, 1, 1] =\n",
      " -1.0\n",
      "\n",
      "Block(2, 1, 2, 1, 2, 2)\n",
      " [2:2, 1:1, 2:2, 1:1, 2:2, 2:2]\n",
      "[:, :, 1, 1, 1, 1] =\n",
      " -1.0\n"
     ]
    }
   ],
   "source": [
    "@show Htot=H1*H2*H3;"
   ]
  },
  {
   "cell_type": "code",
   "execution_count": 51,
   "id": "2aaf0531-1978-48de-bc1d-a0c06e96e615",
   "metadata": {},
   "outputs": [
    {
     "data": {
      "text/plain": [
       "ITensor ord=3\n",
       "(dim=2|id=349|\"s=3,site\")' <Out>\n",
       " 1: QN(\"n\",0) => 1\n",
       " 2: QN(\"n\",1) => 1\n",
       "(dim=2|id=349|\"s=3,site\") <In>\n",
       " 1: QN(\"n\",0) => 1\n",
       " 2: QN(\"n\",1) => 1\n",
       "(dim=4|id=489|\"hlink2\") <In>\n",
       " 1: QN(\"n\",0) => 1\n",
       " 2: QN(\"n\",-1) => 1\n",
       " 3: QN(\"n\",1) => 1\n",
       " 4: QN(\"n\",0) => 1\n",
       "NDTensors.BlockSparse{Float64, Vector{Float64}, 3}"
      ]
     },
     "execution_count": 51,
     "metadata": {},
     "output_type": "execute_result"
    }
   ],
   "source": [
    "site__1=linkind(psi,1)\n",
    "psidag_j=dag(prime(psi[1],\"site__1\"))\n",
    "res_H1=psidag_j*H1*psi[1]\n",
    "site__2=linkind(psi,2)\n",
    "psidag_j=dag(prime(psi[2],\"site__2\"))\n",
    "res_H2=psidag_j*H2*psi[2]\n",
    "site__3=linkind(psi,3)\n",
    "psidag_j=dag(prime(psi[3],\"site__3\"))\n",
    "res_H3=psidag_j*H3*psi[3]"
   ]
  },
  {
   "cell_type": "code",
   "execution_count": 63,
   "id": "bbfdd8d8-6c0d-45cc-96a3-97499f79e0d5",
   "metadata": {},
   "outputs": [
    {
     "data": {
      "text/plain": [
       "-4.0"
      ]
     },
     "execution_count": 63,
     "metadata": {},
     "output_type": "execute_result"
    }
   ],
   "source": [
    "siten=Index(QN(\"n\",0)=>1,QN(\"n\",1)=>1,tags=\"siten\")\n",
    "siten1=addtags(siten,\"s=1\")\n",
    "siten2=addtags(siten,\"s=2\")\n",
    "siten3=addtags(siten,\"s=3\")\n",
    "bondn1=Index(QN(\"n\",0)=>1,QN(\"n\",1)=>1,tags=\"bondn1\")\n",
    "bondn2=settags(bondn1,\"bondn2\")\n",
    "A1=onehot(siten1=>1,bondn1=>1)+onehot(siten1=>2,bondn1=>2)\n",
    "A2=ITensor([1 0;0 1],dag(bondn1),bondn2)*onehot(siten2=>1)+ITensor([0 1;0 0],dag(bondn1),bondn2)*onehot(siten2=>2)\n",
    "A3=onehot(siten3=>1,dag(bondn2)=>2)+onehot(siten3=>2,dag(bondn2)=>1)\n",
    "psin=MPS([siten1,siten2,siten3])\n",
    "psin[1]=A1\n",
    "psin[2]=A2\n",
    "psin[3]=A3\n",
    "hlinkn1=Index(QN(\"n\",0)=>1,QN(\"n\",-1)=>1,QN(\"n\",1)=>1,QN(\"n\",0)=>1,tags=\"hlinkn1\")\n",
    "hlinkn2=settags(hlinkn1,\"hlinkn2\")\n",
    "ITensors.op(::OpName\"id\",::SiteType\"siten\")=[1 0;0 1]\n",
    "ITensors.op(::OpName\"a\",::SiteType\"siten\")=[0 1;0 0]\n",
    "ITensors.op(::OpName\"ad\",::SiteType\"siten\")=[0 0;1 0]\n",
    "H1=op(\"id\",siten1)*onehot(hlinkn1=>1)-op(\"a\",siten1)*onehot(hlinkn1=>2)-op(\"ad\",siten1)*onehot(hlinkn1=>3)\n",
    "H2=op(\"id\",siten2)*onehot(dag(hlinkn1)=>1,hlinkn2=>1)-op(\"a\",siten2)*onehot(dag(hlinkn1)=>1,hlinkn2=>2)-op(\"ad\",siten2)*onehot(dag(hlinkn1)=>1,hlinkn2=>3)+\n",
    "   op(\"ad\",siten2)*onehot(dag(hlinkn1)=>2,hlinkn2=>4)+op(\"a\",siten2)*onehot(dag(hlinkn1)=>3,hlinkn2=>4)+op(\"id\",siten2)*onehot(dag(hlinkn1)=>4,hlinkn2=>4)\n",
    "H3=op(\"ad\",siten3)*onehot(dag(hlinkn2)=>2)+op(\"a\",siten3)*onehot(dag(hlinkn2)=>3)+op(\"id\",siten3)*onehot(dag(hlinkn2)=>4)\n",
    "Hmpon=MPO([site1,site2,site3])\n",
    "Hmpon[1]=H1\n",
    "Hmpon[2]=H2\n",
    "Hmpon[3]=H3\n",
    "inner(psin',Hmpon,psin)"
   ]
  },
  {
   "cell_type": "code",
   "execution_count": 64,
   "id": "13ca27e1-5c16-4526-934c-72a6e24eff59",
   "metadata": {},
   "outputs": [
    {
     "data": {
      "text/plain": [
       "(ITensor ord=3\n",
       "Dim 1: (dim=2|id=349|\"s=1,site\")' <Out>\n",
       " 1: QN(\"n\",0) => 1\n",
       " 2: QN(\"n\",1) => 1\n",
       "Dim 2: (dim=2|id=349|\"s=1,site\") <In>\n",
       " 1: QN(\"n\",0) => 1\n",
       " 2: QN(\"n\",1) => 1\n",
       "Dim 3: (dim=4|id=489) <Out>\n",
       " 1: QN(\"n\",0) => 1\n",
       " 2: QN(\"n\",-1) => 1\n",
       " 3: QN(\"n\",1) => 1\n",
       " 4: QN(\"n\",0) => 1\n",
       "NDTensors.BlockSparse{Float64, Vector{Float64}, 3}\n",
       " 2×2×4\n",
       "Block(1, 1, 1)\n",
       " [1:1, 1:1, 1:1]\n",
       "[:, :, 1] =\n",
       " 2.0\n",
       "\n",
       "Block(2, 2, 1)\n",
       " [2:2, 2:2, 1:1]\n",
       "[:, :, 1] =\n",
       " 2.0\n",
       "\n",
       "Block(1, 2, 2)\n",
       " [1:1, 2:2, 2:2]\n",
       "[:, :, 1] =\n",
       " -2.0\n",
       "\n",
       "Block(2, 1, 3)\n",
       " [2:2, 1:1, 3:3]\n",
       "[:, :, 1] =\n",
       " -2.0, ITensor ord=4\n",
       "Dim 1: (dim=2|id=349|\"s=2,site\")' <Out>\n",
       " 1: QN(\"n\",0) => 1\n",
       " 2: QN(\"n\",1) => 1\n",
       "Dim 2: (dim=2|id=349|\"s=2,site\") <In>\n",
       " 1: QN(\"n\",0) => 1\n",
       " 2: QN(\"n\",1) => 1\n",
       "Dim 3: (dim=4|id=489) <In>\n",
       " 1: QN(\"n\",0) => 1\n",
       " 2: QN(\"n\",-1) => 1\n",
       " 3: QN(\"n\",1) => 1\n",
       " 4: QN(\"n\",0) => 1\n",
       "Dim 4: (dim=4|id=489|\"hlink2\") <Out>\n",
       " 1: QN(\"n\",0) => 1\n",
       " 2: QN(\"n\",-1) => 1\n",
       " 3: QN(\"n\",1) => 1\n",
       " 4: QN(\"n\",0) => 1\n",
       "NDTensors.BlockSparse{Float64, Vector{Float64}, 4}\n",
       " 2×2×4×4\n",
       "Block(1, 1, 1, 1)\n",
       " [1:1, 1:1, 1:1, 1:1]\n",
       "[:, :, 1, 1] =\n",
       " 3.0\n",
       "\n",
       "Block(2, 2, 1, 1)\n",
       " [2:2, 2:2, 1:1, 1:1]\n",
       "[:, :, 1, 1] =\n",
       " 3.0\n",
       "\n",
       "Block(1, 2, 1, 2)\n",
       " [1:1, 2:2, 1:1, 2:2]\n",
       "[:, :, 1, 1] =\n",
       " -3.0\n",
       "\n",
       "Block(2, 1, 1, 3)\n",
       " [2:2, 1:1, 1:1, 3:3]\n",
       "[:, :, 1, 1] =\n",
       " -3.0\n",
       "\n",
       "Block(2, 1, 2, 4)\n",
       " [2:2, 1:1, 2:2, 4:4]\n",
       "[:, :, 1, 1] =\n",
       " 3.0\n",
       "\n",
       "Block(2, 1, 3, 4)\n",
       " [2:2, 1:1, 3:3, 4:4]\n",
       "[:, :, 1, 1] =\n",
       " 3.0\n",
       "\n",
       "Block(2, 1, 4, 4)\n",
       " [2:2, 1:1, 4:4, 4:4]\n",
       "[:, :, 1, 1] =\n",
       " 3.0, ITensor ord=3\n",
       "Dim 1: (dim=2|id=349|\"s=3,site\")' <Out>\n",
       " 1: QN(\"n\",0) => 1\n",
       " 2: QN(\"n\",1) => 1\n",
       "Dim 2: (dim=2|id=349|\"s=3,site\") <In>\n",
       " 1: QN(\"n\",0) => 1\n",
       " 2: QN(\"n\",1) => 1\n",
       "Dim 3: (dim=4|id=489|\"hlink2\") <In>\n",
       " 1: QN(\"n\",0) => 1\n",
       " 2: QN(\"n\",-1) => 1\n",
       " 3: QN(\"n\",1) => 1\n",
       " 4: QN(\"n\",0) => 1\n",
       "NDTensors.BlockSparse{Float64, Vector{Float64}, 3}\n",
       " 2×2×4\n",
       "Block(2, 1, 2)\n",
       " [2:2, 1:1, 2:2]\n",
       "[:, :, 1] =\n",
       " 2.0\n",
       "\n",
       "Block(1, 2, 3)\n",
       " [1:1, 2:2, 3:3]\n",
       "[:, :, 1] =\n",
       " 2.0\n",
       "\n",
       "Block(1, 1, 4)\n",
       " [1:1, 1:1, 4:4]\n",
       "[:, :, 1] =\n",
       " 2.0\n",
       "\n",
       "Block(2, 2, 4)\n",
       " [2:2, 2:2, 4:4]\n",
       "[:, :, 1] =\n",
       " 2.0)"
      ]
     },
     "execution_count": 64,
     "metadata": {},
     "output_type": "execute_result"
    }
   ],
   "source": [
    "res_H1,res_H2,res_H3"
   ]
  },
  {
   "cell_type": "code",
   "execution_count": 65,
   "id": "926f3860-438e-4bad-b72b-952621381032",
   "metadata": {},
   "outputs": [
    {
     "data": {
      "text/plain": [
       "ITensor ord=2\n",
       "(dim=2|id=563|\"s=3,site\") <Out>\n",
       " 1: QN(\"n\",0) => 1\n",
       " 2: QN(\"n\",1) => 1\n",
       "(dim=2|id=994|\"bond2\") <In>\n",
       " 1: QN(\"n\",0) => 1\n",
       " 2: QN(\"n\",1) => 1\n",
       "NDTensors.BlockSparse{Float64, Vector{Float64}, 2}"
      ]
     },
     "execution_count": 65,
     "metadata": {},
     "output_type": "execute_result"
    }
   ],
   "source": [
    "site=Index(QN(\"n\",0)=>1,QN(\"n\",1)=>1,tags=\"site\")\n",
    "site1=addtags(site,\"s=1\")\n",
    "site2=addtags(site,\"s=2\")\n",
    "site3=addtags(site,\"s=3\")\n",
    "bond1=Index(QN(\"n\",0)=>1,QN(\"n\",1)=>1,tags=\"bond1\")\n",
    "bond2=settags(bond1,\"bond2\")\n",
    "A1=onehot(site1=>1,bond1=>1)+onehot(site1=>2,bond1=>2)\n",
    "A2=ITensor([1 0;0 1],dag(bond1),bond2)*onehot(site2=>1)+ITensor([0 1;0 0],dag(bond1),bond2)*onehot(site2=>2)\n",
    "A3=onehot(site3=>1,dag(bond2)=>2)+onehot(site3=>2,dag(bond2)=>1)\n",
    "psi=MPS([site1,site2,site3])\n",
    "psi[1]=A1\n",
    "psi[2]=A2\n",
    "psi[3]=A3\n"
   ]
  },
  {
   "cell_type": "code",
   "execution_count": 66,
   "id": "505349d3-de0d-44de-af32-712a4488a835",
   "metadata": {},
   "outputs": [
    {
     "name": "stdout",
     "output_type": "stream",
     "text": [
      "H3 = ITensor ord=3\n",
      "Dim 1: (dim=2|id=563|\"s=3,site\")' <Out>\n",
      " 1: QN(\"n\",0) => 1\n",
      " 2: QN(\"n\",1) => 1\n",
      "Dim 2: (dim=2|id=563|\"s=3,site\") <In>\n",
      " 1: QN(\"n\",0) => 1\n",
      " 2: QN(\"n\",1) => 1\n",
      "Dim 3: (dim=4|id=40|\"hlink2\") <In>\n",
      " 1: QN(\"n\",0) => 1\n",
      " 2: QN(\"n\",-1) => 1\n",
      " 3: QN(\"n\",1) => 1\n",
      " 4: QN(\"n\",0) => 1\n",
      "NDTensors.BlockSparse{Float64, Vector{Float64}, 3}\n",
      " 2×2×4\n",
      "Block(1, 1, 4)\n",
      " [1:1, 1:1, 4:4]\n",
      "[:, :, 1] =\n",
      " 1.0\n",
      "\n",
      "Block(2, 2, 4)\n",
      " [2:2, 2:2, 4:4]\n",
      "[:, :, 1] =\n",
      " 1.0\n",
      "\n",
      "Block(1, 2, 3)\n",
      " [1:1, 2:2, 3:3]\n",
      "[:, :, 1] =\n",
      " 1.0\n",
      "\n",
      "Block(2, 1, 2)\n",
      " [2:2, 1:1, 2:2]\n",
      "[:, :, 1] =\n",
      " 1.0\n"
     ]
    },
    {
     "data": {
      "text/plain": [
       "ITensor ord=3\n",
       "(dim=2|id=563|\"s=3,site\")' <Out>\n",
       " 1: QN(\"n\",0) => 1\n",
       " 2: QN(\"n\",1) => 1\n",
       "(dim=2|id=563|\"s=3,site\") <In>\n",
       " 1: QN(\"n\",0) => 1\n",
       " 2: QN(\"n\",1) => 1\n",
       "(dim=4|id=40|\"hlink2\") <In>\n",
       " 1: QN(\"n\",0) => 1\n",
       " 2: QN(\"n\",-1) => 1\n",
       " 3: QN(\"n\",1) => 1\n",
       " 4: QN(\"n\",0) => 1\n",
       "NDTensors.BlockSparse{Float64, Vector{Float64}, 3}"
      ]
     },
     "execution_count": 66,
     "metadata": {},
     "output_type": "execute_result"
    }
   ],
   "source": [
    "# create link indices\n",
    "hlink1=Index(QN(\"n\",0)=>1,QN(\"n\",-1)=>1,QN(\"n\",1)=>1,QN(\"n\",0)=>1,tags=\"hlink1\")\n",
    "hlink2=settags(hlink1,\"hlink2\")\n",
    "# create operators for identity, annihilation and creation operators\n",
    "ITensors.op(::OpName\"id\",::SiteType\"site\")=[1 0;0 1]\n",
    "ITensors.op(::OpName\"a\",::SiteType\"site\")=[0 1;0 0]\n",
    "ITensors.op(::OpName\"ad\",::SiteType\"site\")=[0 0;1 0]\n",
    "H1=op(\"id\",site1)*onehot(hlink1=>1)-op(\"a\",site1)*onehot(hlink1=>2)-op(\"ad\",site1)*onehot(hlink1=>3)\n",
    "H2=op(\"id\",site2)*onehot(dag(hlink1)=>1,hlink2=>1)-op(\"a\",site2)*onehot(dag(hlink1)=>1,hlink2=>2)-\n",
    "    op(\"ad\",site2)*onehot(dag(hlink1)=>1,hlink2=>3)+op(\"ad\",site2)*onehot(dag(hlink1)=>2,hlink2=>4)+\n",
    "    op(\"a\",site2)*onehot(dag(hlink1)=>3,hlink2=>4)+op(\"id\",site2)*onehot(dag(hlink1)=>4,hlink2=>4)\n",
    "H3=op(\"id\",site3)*onehot(dag(hlink2)=>4)+op(\"a\",site3)*onehot(dag(hlink2)=>3)+op(\"ad\",site3)*onehot(dag(hlink2)=>2);\n",
    "@show H3"
   ]
  },
  {
   "cell_type": "markdown",
   "id": "e9e20487-b3ca-4660-9b7c-b86e69ddd464",
   "metadata": {},
   "source": [
    "**Data structures to store the MPOs**"
   ]
  },
  {
   "cell_type": "code",
   "execution_count": 67,
   "id": "bcb1dc13-34ee-4676-aea0-0346960f9a25",
   "metadata": {},
   "outputs": [],
   "source": [
    "Hmpo=MPO([site1,site2,site3])\n",
    "Hmpo[1]=H1\n",
    "Hmpo[2]=H2\n",
    "Hmpo[3]=H3;"
   ]
  },
  {
   "cell_type": "code",
   "execution_count": 68,
   "id": "33c9817c-1824-4871-b541-3d5cb5951428",
   "metadata": {},
   "outputs": [
    {
     "data": {
      "text/plain": [
       "-4.0"
      ]
     },
     "execution_count": 68,
     "metadata": {},
     "output_type": "execute_result"
    }
   ],
   "source": [
    "inner(psi',Hmpo,psi)"
   ]
  },
  {
   "cell_type": "code",
   "execution_count": 69,
   "id": "8eb1bc0f-4fdf-4d4b-88ad-70178a69e535",
   "metadata": {},
   "outputs": [
    {
     "data": {
      "text/plain": [
       "-4.0"
      ]
     },
     "execution_count": 69,
     "metadata": {},
     "output_type": "execute_result"
    }
   ],
   "source": [
    "hterms=OpSum()\n",
    "hterms += (-1,\"a\",1,\"ad\",2) # - a1 a2^dag\n",
    "hterms += (-1,\"ad\",1,\"a\",2) # - a1^dag a2\n",
    "hterms += (-1,\"a\",2,\"ad\",3) # - a2 a3^dag\n",
    "hterms += (-1,\"ad\",2,\"a\",3) # - a2^dag a3\n",
    "altHmpo=MPO(hterms,[site1,site2,site3]);\n",
    "inner(psi',altHmpo,psi)"
   ]
  },
  {
   "cell_type": "code",
   "execution_count": 70,
   "id": "43c9c748-becb-4afa-b067-f19de2fdccd2",
   "metadata": {},
   "outputs": [
    {
     "data": {
      "text/plain": [
       "ITensor ord=3\n",
       "(dim=4|id=713|\"Link,l=1\") <Out>\n",
       " 1: QN() => 1\n",
       " 2: QN(\"n\",1) => 1\n",
       " 3: QN(\"n\",-1) => 1\n",
       " 4: QN(\"n\",0) => 1\n",
       "(dim=2|id=563|\"s=1,site\")' <Out>\n",
       " 1: QN(\"n\",0) => 1\n",
       " 2: QN(\"n\",1) => 1\n",
       "(dim=2|id=563|\"s=1,site\") <In>\n",
       " 1: QN(\"n\",0) => 1\n",
       " 2: QN(\"n\",1) => 1\n",
       "NDTensors.BlockSparse{Float64, Vector{Float64}, 3}"
      ]
     },
     "execution_count": 70,
     "metadata": {},
     "output_type": "execute_result"
    }
   ],
   "source": [
    "altHmpo[1]"
   ]
  },
  {
   "cell_type": "code",
   "execution_count": 71,
   "id": "4a8f856e-0ab4-4b19-a911-506453bace81",
   "metadata": {},
   "outputs": [
    {
     "data": {
      "text/plain": [
       "2×2 Matrix{Float64}:\n",
       " 0.0  0.0\n",
       " 0.0  0.0"
      ]
     },
     "execution_count": 71,
     "metadata": {},
     "output_type": "execute_result"
    }
   ],
   "source": [
    "array(altHmpo[1])[1,:,:]"
   ]
  },
  {
   "cell_type": "code",
   "execution_count": 72,
   "id": "68422e49-70be-4335-92e7-4920febef486",
   "metadata": {},
   "outputs": [
    {
     "data": {
      "text/plain": [
       "2×2 Matrix{Float64}:\n",
       " 0.0  -1.0\n",
       " 0.0   0.0"
      ]
     },
     "execution_count": 72,
     "metadata": {},
     "output_type": "execute_result"
    }
   ],
   "source": [
    "array(altHmpo[1])[2,:,:]"
   ]
  },
  {
   "cell_type": "code",
   "execution_count": 73,
   "id": "414b2b5a-31fb-4a53-9ba3-36f8d2de76c3",
   "metadata": {},
   "outputs": [
    {
     "data": {
      "text/plain": [
       "2×2 Matrix{Float64}:\n",
       " 0.0  0.0\n",
       " 1.0  0.0"
      ]
     },
     "execution_count": 73,
     "metadata": {},
     "output_type": "execute_result"
    }
   ],
   "source": [
    "array(altHmpo[1])[3,:,:]"
   ]
  },
  {
   "cell_type": "code",
   "execution_count": 74,
   "id": "2b154d01-ba12-4a01-a08b-07a0d897c66b",
   "metadata": {},
   "outputs": [
    {
     "data": {
      "text/plain": [
       "2×2 Matrix{Float64}:\n",
       " 1.0  0.0\n",
       " 0.0  1.0"
      ]
     },
     "execution_count": 74,
     "metadata": {},
     "output_type": "execute_result"
    }
   ],
   "source": [
    "array(altHmpo[1])[4,:,:]"
   ]
  },
  {
   "cell_type": "code",
   "execution_count": 75,
   "id": "6446c8a4-61c2-4330-b523-c81589f3767e",
   "metadata": {},
   "outputs": [
    {
     "data": {
      "text/plain": [
       "2-element Vector{Index{Vector{Pair{QN, Int64}}}}:\n",
       " (dim=4|id=713|\"Link,l=1\") <Out>\n",
       " 1: QN() => 1\n",
       " 2: QN(\"n\",1) => 1\n",
       " 3: QN(\"n\",-1) => 1\n",
       " 4: QN(\"n\",0) => 1\n",
       " (dim=4|id=454|\"Link,l=2\") <Out>\n",
       " 1: QN() => 1\n",
       " 2: QN(\"n\",1) => 1\n",
       " 3: QN(\"n\",-1) => 1\n",
       " 4: QN(\"n\",0) => 1"
      ]
     },
     "execution_count": 75,
     "metadata": {},
     "output_type": "execute_result"
    }
   ],
   "source": [
    "linkinds(altHmpo)"
   ]
  },
  {
   "cell_type": "code",
   "execution_count": 76,
   "id": "ce8fe689-c3bd-464c-8579-c23388198cd0",
   "metadata": {},
   "outputs": [
    {
     "data": {
      "text/plain": [
       "ITensor ord=2\n",
       "(dim=2|id=994|\"bond2\") <In>\n",
       " 1: QN(\"n\",0) => 1\n",
       " 2: QN(\"n\",1) => 1\n",
       "(dim=2|id=382|\"s=3,site\") <Out>\n",
       " 1: QN(\"n\",0) => 1\n",
       " 2: QN(\"n\",1) => 1\n",
       "NDTensors.BlockSparse{Float64, Vector{Float64}, 2}"
      ]
     },
     "execution_count": 76,
     "metadata": {},
     "output_type": "execute_result"
    }
   ],
   "source": [
    "site=Index(QN(\"n\",0)=>1,QN(\"n\",1)=>1,tags=\"site\")\n",
    "site1=addtags(site,\"s=1\")\n",
    "site2=addtags(site,\"s=2\")\n",
    "site3=addtags(site,\"s=3\")\n",
    "site=[site1,site2,site3]\n",
    "ITensors.op(::OpName\"Num\",::SiteType\"site\")=[0 1;0 0]\n",
    "ITensors.op(::OpName\"a\",::SiteType\"site\")=[0 1;0 0]\n",
    "ITensors.op(::OpName\"ad\",::SiteType\"site\")=[0 0;1 0]\n",
    "hterms=OpSum()\n",
    "hterms+=(-1,\"a\",1,\"ad\",2)\n",
    "hterms+=(-1,\"ad\",1,\"a\",2)\n",
    "hterms+=(-1,\"a\",2,\"ad\",3)\n",
    "hterms+=(-1,\"ad\",2,\"a\",3)\n",
    "Hmpo=MPO(hterms,[site1,site2,site3]);\n",
    "psi[1]=onehot(site1=>1,bond1=>1)+onehot(site1=>2,bond1=>2)\n",
    "psi[2]=ITensor([1 0;0 1],dag(bond1),bond2)*onehot(site2=>1)+ITensor([0 1;0 0],dag(bond1),bond2)*onehot(site2=>2)\n",
    "psi[3]=onehot(dag(bond2)=>1,site3=>1)+onehot(dag(bond2)=>2,site3=>2)\n",
    "# vectorpp(psi[3],dag(linkind(psi,2)),[empty,full])"
   ]
  },
  {
   "cell_type": "code",
   "execution_count": 77,
   "id": "5ef28be9-5bf3-4a2e-acc4-ede37ce157b3",
   "metadata": {},
   "outputs": [
    {
     "data": {
      "text/plain": [
       "ITensor ord=2\n",
       "(dim=2|id=382|\"s=2,site\")' <Out>\n",
       " 1: QN(\"n\",0) => 1\n",
       " 2: QN(\"n\",1) => 1\n",
       "(dim=2|id=382|\"s=2,site\") <In>\n",
       " 1: QN(\"n\",0) => 1\n",
       " 2: QN(\"n\",1) => 1\n",
       "NDTensors.BlockSparse{Float64, Vector{Float64}, 2}"
      ]
     },
     "execution_count": 77,
     "metadata": {},
     "output_type": "execute_result"
    }
   ],
   "source": [
    "op(\"ad\",site2)"
   ]
  },
  {
   "cell_type": "code",
   "execution_count": 78,
   "id": "9ea468c4-2ca0-4d68-b256-da5c4548f85a",
   "metadata": {},
   "outputs": [
    {
     "ename": "LoadError",
     "evalue": "Fluxes not all equal",
     "output_type": "error",
     "traceback": [
      "Fluxes not all equal",
      "",
      "Stacktrace:",
      "  [1] error(s::String)",
      "    @ Base .\\error.jl:35",
      "  [2] checkflux(T::NDTensors.BlockSparseTensor{Float64, 3, Tuple{Index{Vector{Pair{QN, Int64}}}, Index{Vector{Pair{QN, Int64}}}, Index{Vector{Pair{QN, Int64}}}}, NDTensors.BlockSparse{Float64, Vector{Float64}, 3}})",
      "    @ ITensors C:\\Users\\shikh\\.julia\\packages\\ITensors\\nUzgj\\src\\qn\\flux.jl:75",
      "  [3] checkflux(T::ITensor)",
      "    @ ITensors C:\\Users\\shikh\\.julia\\packages\\ITensors\\nUzgj\\src\\qn\\flux.jl:25",
      "  [4] macro expansion",
      "    @ C:\\Users\\shikh\\.julia\\packages\\ITensors\\nUzgj\\src\\global_variables.jl:180 [inlined]",
      "  [5] factorize(A::ITensor, Linds::Vector{Index{Vector{Pair{QN, Int64}}}}; mindim::Nothing, maxdim::Nothing, cutoff::Nothing, ortho::Nothing, tags::ITensors.TagSets.GenericTagSet{BitIntegers.UInt256, 4}, plev::Nothing, which_decomp::Nothing, eigen_perturbation::Nothing, svd_alg::Nothing, use_absolute_cutoff::Nothing, use_relative_cutoff::Nothing, min_blockdim::Nothing, singular_values!::Nothing, dir::Nothing)",
      "    @ ITensors C:\\Users\\shikh\\.julia\\packages\\ITensors\\nUzgj\\src\\tensor_operations\\matrix_decomposition.jl:766",
      "  [6] orthogonalize!(M::MPS, j::Int64; maxdim::Nothing, normalize::Nothing)",
      "    @ ITensors.ITensorMPS C:\\Users\\shikh\\.julia\\packages\\ITensors\\nUzgj\\src\\lib\\ITensorMPS\\src\\abstractmps.jl:1640",
      "  [7] orthogonalize!",
      "    @ C:\\Users\\shikh\\.julia\\packages\\ITensors\\nUzgj\\src\\lib\\ITensorMPS\\src\\abstractmps.jl:1602 [inlined]",
      "  [8] #orthogonalize#338",
      "    @ C:\\Users\\shikh\\.julia\\packages\\ITensors\\nUzgj\\src\\lib\\ITensorMPS\\src\\abstractmps.jl:1660 [inlined]",
      "  [9] orthogonalize",
      "    @ C:\\Users\\shikh\\.julia\\packages\\ITensors\\nUzgj\\src\\lib\\ITensorMPS\\src\\abstractmps.jl:1658 [inlined]",
      " [10] expect(psi::MPS, ops::Tuple{String}; sites::UnitRange{Int64}, site_range::Nothing)",
      "    @ ITensors.ITensorMPS C:\\Users\\shikh\\.julia\\packages\\ITensors\\nUzgj\\src\\lib\\ITensorMPS\\src\\mps.jl:1000",
      " [11] expect",
      "    @ ITensors.ITensorMPS C:\\Users\\shikh\\.julia\\packages\\ITensors\\nUzgj\\src\\lib\\ITensorMPS\\src\\mps.jl:983 [inlined]",
      " [12] #expect#418",
      "    @ ITensors.ITensorMPS C:\\Users\\shikh\\.julia\\packages\\ITensors\\nUzgj\\src\\lib\\ITensorMPS\\src\\mps.jl:1021 [inlined]",
      " [13] expect(psi::MPS, op::String)",
      "    @ ITensors.ITensorMPS C:\\Users\\shikh\\.julia\\packages\\ITensors\\nUzgj\\src\\lib\\ITensorMPS\\src\\mps.jl:1020",
      " [14] top-level scope",
      "    @ In[78]:1"
     ]
    }
   ],
   "source": [
    "expect(psi,\"Num\")"
   ]
  },
  {
   "cell_type": "code",
   "execution_count": 79,
   "id": "111aaa49-cda4-43a4-9174-b342163f94d8",
   "metadata": {},
   "outputs": [
    {
     "data": {
      "text/plain": [
       "ITensor ord=2\n",
       "(dim=2|id=382|\"s=1,site\")' <Out>\n",
       " 1: QN(\"n\",0) => 1\n",
       " 2: QN(\"n\",1) => 1\n",
       "(dim=2|id=382|\"s=1,site\") <In>\n",
       " 1: QN(\"n\",0) => 1\n",
       " 2: QN(\"n\",1) => 1\n",
       "NDTensors.BlockSparse{Float64, Vector{Float64}, 2}"
      ]
     },
     "execution_count": 79,
     "metadata": {},
     "output_type": "execute_result"
    }
   ],
   "source": [
    "op(\"Num\",site1)"
   ]
  },
  {
   "cell_type": "code",
   "execution_count": 80,
   "id": "058624c9-fcdd-41a5-92a7-3cd1e92b466d",
   "metadata": {},
   "outputs": [
    {
     "ename": "LoadError",
     "evalue": "Fluxes not all equal",
     "output_type": "error",
     "traceback": [
      "Fluxes not all equal",
      "",
      "Stacktrace:",
      "  [1] error(s::String)",
      "    @ Base .\\error.jl:35",
      "  [2] checkflux(T::NDTensors.BlockSparseTensor{Float64, 2, Tuple{Index{Vector{Pair{QN, Int64}}}, Index{Vector{Pair{QN, Int64}}}}, NDTensors.BlockSparse{Float64, Vector{Float64}, 2}})",
      "    @ ITensors C:\\Users\\shikh\\.julia\\packages\\ITensors\\nUzgj\\src\\qn\\flux.jl:75",
      "  [3] checkflux(T::ITensor)",
      "    @ ITensors C:\\Users\\shikh\\.julia\\packages\\ITensors\\nUzgj\\src\\qn\\flux.jl:25",
      "  [4] checkflux",
      "    @ C:\\Users\\shikh\\.julia\\packages\\ITensors\\nUzgj\\src\\lib\\ITensorMPS\\src\\abstractmps.jl:2326 [inlined]",
      "  [5] macro expansion",
      "    @ C:\\Users\\shikh\\.julia\\packages\\ITensors\\nUzgj\\src\\lib\\ITensorMPS\\src\\dmrg.jl:185 [inlined]",
      "  [6] macro expansion",
      "    @ C:\\Users\\shikh\\.julia\\packages\\ITensors\\nUzgj\\src\\global_variables.jl:180 [inlined]",
      "  [7] dmrg(PH::ProjMPO, psi0::MPS, sweeps::Sweeps; which_decomp::Nothing, svd_alg::Nothing, observer::NoObserver, outputlevel::Int64, write_when_maxdim_exceeds::Nothing, write_path::String, eigsolve_tol::Float64, eigsolve_krylovdim::Int64, eigsolve_maxiter::Int64, eigsolve_verbosity::Int64, eigsolve_which_eigenvalue::Symbol, ishermitian::Bool)",
      "    @ ITensors.ITensorMPS C:\\Users\\shikh\\.julia\\packages\\ITensors\\nUzgj\\src\\lib\\ITensorMPS\\src\\dmrg.jl:182",
      "  [8] dmrg",
      "    @ ITensors.ITensorMPS C:\\Users\\shikh\\.julia\\packages\\ITensors\\nUzgj\\src\\lib\\ITensorMPS\\src\\dmrg.jl:158 [inlined]",
      "  [9] #dmrg#509",
      "    @ ITensors.ITensorMPS C:\\Users\\shikh\\.julia\\packages\\ITensors\\nUzgj\\src\\lib\\ITensorMPS\\src\\dmrg.jl:28 [inlined]",
      " [10] dmrg",
      "    @ ITensors.ITensorMPS C:\\Users\\shikh\\.julia\\packages\\ITensors\\nUzgj\\src\\lib\\ITensorMPS\\src\\dmrg.jl:21 [inlined]",
      " [11] #dmrg#515",
      "    @ ITensors.ITensorMPS C:\\Users\\shikh\\.julia\\packages\\ITensors\\nUzgj\\src\\lib\\ITensorMPS\\src\\dmrg.jl:388 [inlined]",
      " [12] top-level scope",
      "    @ In[80]:1"
     ]
    }
   ],
   "source": [
    "energy1,psi1=dmrg(Hmpo,psi;nsweeps=1,maxdim=2,cutoff=0)"
   ]
  },
  {
   "cell_type": "code",
   "execution_count": 81,
   "id": "dd3b2024-66fd-4c69-9cd1-289d0f2c004a",
   "metadata": {},
   "outputs": [
    {
     "ename": "LoadError",
     "evalue": "Fluxes not all equal",
     "output_type": "error",
     "traceback": [
      "Fluxes not all equal",
      "",
      "Stacktrace:",
      "  [1] error(s::String)",
      "    @ Base .\\error.jl:35",
      "  [2] checkflux(T::NDTensors.BlockSparseTensor{Float64, 2, Tuple{Index{Vector{Pair{QN, Int64}}}, Index{Vector{Pair{QN, Int64}}}}, NDTensors.BlockSparse{Float64, Vector{Float64}, 2}})",
      "    @ ITensors C:\\Users\\shikh\\.julia\\packages\\ITensors\\nUzgj\\src\\qn\\flux.jl:75",
      "  [3] checkflux(T::ITensor)",
      "    @ ITensors C:\\Users\\shikh\\.julia\\packages\\ITensors\\nUzgj\\src\\qn\\flux.jl:25",
      "  [4] macro expansion",
      "    @ C:\\Users\\shikh\\.julia\\packages\\ITensors\\nUzgj\\src\\global_variables.jl:180 [inlined]",
      "  [5] factorize(A::ITensor, Linds::Vector{Index{Vector{Pair{QN, Int64}}}}; mindim::Nothing, maxdim::Nothing, cutoff::Nothing, ortho::Nothing, tags::ITensors.TagSets.GenericTagSet{BitIntegers.UInt256, 4}, plev::Nothing, which_decomp::Nothing, eigen_perturbation::Nothing, svd_alg::Nothing, use_absolute_cutoff::Nothing, use_relative_cutoff::Nothing, min_blockdim::Nothing, singular_values!::Nothing, dir::Nothing)",
      "    @ ITensors C:\\Users\\shikh\\.julia\\packages\\ITensors\\nUzgj\\src\\tensor_operations\\matrix_decomposition.jl:766",
      "  [6] orthogonalize!(M::MPS, j::Int64; maxdim::Nothing, normalize::Nothing)",
      "    @ ITensors.ITensorMPS C:\\Users\\shikh\\.julia\\packages\\ITensors\\nUzgj\\src\\lib\\ITensorMPS\\src\\abstractmps.jl:1640",
      "  [7] orthogonalize!",
      "    @ C:\\Users\\shikh\\.julia\\packages\\ITensors\\nUzgj\\src\\lib\\ITensorMPS\\src\\abstractmps.jl:1602 [inlined]",
      "  [8] #orthogonalize#338",
      "    @ C:\\Users\\shikh\\.julia\\packages\\ITensors\\nUzgj\\src\\lib\\ITensorMPS\\src\\abstractmps.jl:1660 [inlined]",
      "  [9] orthogonalize",
      "    @ C:\\Users\\shikh\\.julia\\packages\\ITensors\\nUzgj\\src\\lib\\ITensorMPS\\src\\abstractmps.jl:1658 [inlined]",
      " [10] expect(psi::MPS, ops::Tuple{String}; sites::UnitRange{Int64}, site_range::Nothing)",
      "    @ ITensors.ITensorMPS C:\\Users\\shikh\\.julia\\packages\\ITensors\\nUzgj\\src\\lib\\ITensorMPS\\src\\mps.jl:1000",
      " [11] expect",
      "    @ ITensors.ITensorMPS C:\\Users\\shikh\\.julia\\packages\\ITensors\\nUzgj\\src\\lib\\ITensorMPS\\src\\mps.jl:983 [inlined]",
      " [12] #expect#418",
      "    @ ITensors.ITensorMPS C:\\Users\\shikh\\.julia\\packages\\ITensors\\nUzgj\\src\\lib\\ITensorMPS\\src\\mps.jl:1021 [inlined]",
      " [13] expect(psi::MPS, op::String)",
      "    @ ITensors.ITensorMPS C:\\Users\\shikh\\.julia\\packages\\ITensors\\nUzgj\\src\\lib\\ITensorMPS\\src\\mps.jl:1020",
      " [14] top-level scope",
      "    @ In[81]:1"
     ]
    }
   ],
   "source": [
    "n1=expect(psi1,\"Num\")"
   ]
  },
  {
   "cell_type": "markdown",
   "id": "f52558bc-4fdb-444f-8d89-657bd01dd697",
   "metadata": {},
   "source": [
    "**calculating for n-sites**"
   ]
  },
  {
   "cell_type": "code",
   "execution_count": 82,
   "id": "04b808a1-9378-4823-a43c-577772a4d080",
   "metadata": {},
   "outputs": [],
   "source": [
    "sitem = Index(QN(\"n\", 0) => 1, QN(\"n\", 1) => 1, tags=\"sitem\")\n",
    "bond1 = Index(QN(\"n\", 0) => 1, QN(\"n\", 1) => 1, tags=\"bond1\")\n",
    "n = 3\n",
    "mps_tensor=Vector{ITensor}(undef,n)\n",
    "siten = Vector{Index}(undef, n)\n",
    "bondn=Vector{Index}(undef,n)\n",
    "for i in 1:n\n",
    "     siten[i]=addtags(sitem,\"s=$i\")\n",
    "end\n",
    "# c=addtags(ITensor(siten[1]),\"s=1\") #trial run\n",
    "mps_tensors = Vector{ITensor}(undef, n)\n",
    "for i in 1:n\n",
    "    mps_tensors[i] = addtags(ITensor(siten[i]), \"s=$i\")\n",
    "end\n",
    "bondn[1]=bond1\n",
    "for i in 2:n-1\n",
    "    bondn[i]=settags(bondn[1],\"bond$i\")\n",
    "end\n",
    "psi_n=MPS(mps_tensors);\n",
    "psi_n[1]=onehot(siten[1]=>1,bondn[1]=>1)+onehot(siten[1]=>2,bondn[1]=>2)\n",
    "psi_n[n]=onehot(siten[n]=>1,dag(bondn[n-1])=>2)+onehot(siten[n]=>2,dag(bondn[n-1])=>1)\n",
    "for i in 2:n-1\n",
    "    psi_n[i]=ITensor([1 0;0 1],dag(bondn[i-1]),bondn[i])*onehot(siten[i]=>1)+\n",
    "             ITensor([0 1;0 0],dag(bondn[i-1]),bondn[i])*onehot(siten[i]=>2)\n",
    "end\n",
    "#making the matrix product operator for n sites\n",
    "ITensors.op(::OpName\"a\",::SiteType\"sitem\")=[0 1;0 0]\n",
    "ITensors.op(::OpName\"ad\",::SiteType\"sitem\")=[0 0;1 0]\n",
    "hterms=OpSum()\n",
    "for i in 1:n-1\n",
    "            hterms+=(-1,\"a\",i,\"ad\",i+1)\n",
    "            hterms+=(-1,\"ad\",i,\"a\",i+1)\n",
    "            # hterms+=(-1,\"a\",i+1,\"ad\",i+2)\n",
    "            # hterms+=(-1,\"ad\",i+1,\"a\",i+2)\n",
    "end\n",
    "Hmpon=MPO(hterms,siten);"
   ]
  },
  {
   "cell_type": "code",
   "execution_count": 83,
   "id": "aad98e98-4084-48af-9c20-9cd1941950b5",
   "metadata": {},
   "outputs": [
    {
     "data": {
      "text/plain": [
       "-4.0"
      ]
     },
     "execution_count": 83,
     "metadata": {},
     "output_type": "execute_result"
    }
   ],
   "source": [
    "inner(psi_n',Hmpon,psi_n)"
   ]
  },
  {
   "cell_type": "code",
   "execution_count": 84,
   "id": "faa9fa75-d538-4499-b7c3-883925578dab",
   "metadata": {},
   "outputs": [],
   "source": [
    "ITensors.op(::OpName\"Num\",::SiteType\"sitem\")=[0 0;0 1]"
   ]
  },
  {
   "cell_type": "code",
   "execution_count": 85,
   "id": "3153dd96-503a-482c-ac86-7611b5007a78",
   "metadata": {},
   "outputs": [
    {
     "ename": "LoadError",
     "evalue": "Fluxes not all equal",
     "output_type": "error",
     "traceback": [
      "Fluxes not all equal",
      "",
      "Stacktrace:",
      "  [1] error(s::String)",
      "    @ Base .\\error.jl:35",
      "  [2] checkflux(T::NDTensors.BlockSparseTensor{Float64, 2, Tuple{Index{Vector{Pair{QN, Int64}}}, Index{Vector{Pair{QN, Int64}}}}, NDTensors.BlockSparse{Float64, Vector{Float64}, 2}})",
      "    @ ITensors C:\\Users\\shikh\\.julia\\packages\\ITensors\\nUzgj\\src\\qn\\flux.jl:75",
      "  [3] checkflux(T::ITensor)",
      "    @ ITensors C:\\Users\\shikh\\.julia\\packages\\ITensors\\nUzgj\\src\\qn\\flux.jl:25",
      "  [4] checkflux",
      "    @ C:\\Users\\shikh\\.julia\\packages\\ITensors\\nUzgj\\src\\lib\\ITensorMPS\\src\\abstractmps.jl:2326 [inlined]",
      "  [5] macro expansion",
      "    @ C:\\Users\\shikh\\.julia\\packages\\ITensors\\nUzgj\\src\\lib\\ITensorMPS\\src\\dmrg.jl:185 [inlined]",
      "  [6] macro expansion",
      "    @ C:\\Users\\shikh\\.julia\\packages\\ITensors\\nUzgj\\src\\global_variables.jl:180 [inlined]",
      "  [7] dmrg(PH::ProjMPO, psi0::MPS, sweeps::Sweeps; which_decomp::Nothing, svd_alg::Nothing, observer::NoObserver, outputlevel::Int64, write_when_maxdim_exceeds::Nothing, write_path::String, eigsolve_tol::Float64, eigsolve_krylovdim::Int64, eigsolve_maxiter::Int64, eigsolve_verbosity::Int64, eigsolve_which_eigenvalue::Symbol, ishermitian::Bool)",
      "    @ ITensors.ITensorMPS C:\\Users\\shikh\\.julia\\packages\\ITensors\\nUzgj\\src\\lib\\ITensorMPS\\src\\dmrg.jl:182",
      "  [8] dmrg",
      "    @ ITensors.ITensorMPS C:\\Users\\shikh\\.julia\\packages\\ITensors\\nUzgj\\src\\lib\\ITensorMPS\\src\\dmrg.jl:158 [inlined]",
      "  [9] #dmrg#509",
      "    @ ITensors.ITensorMPS C:\\Users\\shikh\\.julia\\packages\\ITensors\\nUzgj\\src\\lib\\ITensorMPS\\src\\dmrg.jl:28 [inlined]",
      " [10] dmrg",
      "    @ ITensors.ITensorMPS C:\\Users\\shikh\\.julia\\packages\\ITensors\\nUzgj\\src\\lib\\ITensorMPS\\src\\dmrg.jl:21 [inlined]",
      " [11] #dmrg#515",
      "    @ ITensors.ITensorMPS C:\\Users\\shikh\\.julia\\packages\\ITensors\\nUzgj\\src\\lib\\ITensorMPS\\src\\dmrg.jl:388 [inlined]",
      " [12] top-level scope",
      "    @ In[85]:1"
     ]
    }
   ],
   "source": [
    "energy1,psi1=dmrg(Hmpon,psi_n,nsweeps=1,maxdim=2,cutoff=0)"
   ]
  },
  {
   "cell_type": "code",
   "execution_count": 86,
   "id": "0d3e6c4e-3126-480b-8e57-6fabf6d3ad50",
   "metadata": {},
   "outputs": [
    {
     "data": {
      "text/plain": [
       "2×2 Matrix{ket}:\n",
       " 1.0|⭕️⟩  1.0|🔵⟩\n",
       "          1.0|⭕️⟩"
      ]
     },
     "execution_count": 86,
     "metadata": {},
     "output_type": "execute_result"
    }
   ],
   "source": [
    "A1=psi_n[2]\n",
    "matrixpp(A1,dag(bondn[1]),bondn[2],[empty,full])"
   ]
  },
  {
   "cell_type": "code",
   "execution_count": 87,
   "id": "bbfcd3d3-4e66-44ae-b0b2-8f6cf8975f0d",
   "metadata": {},
   "outputs": [
    {
     "data": {
      "text/plain": [
       "2×2 Matrix{ket}:\n",
       " 1.0|⭕️⟩  1.0|🔵⟩\n",
       "          1.0|⭕️⟩"
      ]
     },
     "execution_count": 87,
     "metadata": {},
     "output_type": "execute_result"
    }
   ],
   "source": [
    "sitem = Index(QN(\"n\", 0) => 1, QN(\"n\", 1) => 1, tags=\"sitem\")\n",
    "bond1 = Index(QN(\"n\", 0) => 1, QN(\"n\", 1) => 1, tags=\"bond1\")\n",
    "n = 3\n",
    "mps_tensor=Vector{ITensor}(undef,n)\n",
    "siten = Vector{Index}(undef, n)\n",
    "bondn=Vector{Index}(undef,n)\n",
    "for i in 1:n\n",
    "     siten[i]=addtags(sitem,\"s=$i\")\n",
    "end\n",
    "# c=addtags(ITensor(siten[1]),\"s=1\") #trial run\n",
    "mps_tensors = Vector{ITensor}(undef, n)\n",
    "for i in 1:n\n",
    "    mps_tensors[i] = addtags(ITensor(siten[i]), \"s=$i\")\n",
    "end\n",
    "bondn[1]=bond1\n",
    "for i in 2:n-1\n",
    "    bondn[i]=settags(bondn[1],\"bond$i\")\n",
    "end\n",
    "psi_n=MPS(mps_tensors);\n",
    "psi_n[1]=onehot(siten[1]=>1,bondn[1]=>2)+onehot(siten[1]=>1,bondn[1]=>1)\n",
    "psi_n[n]=onehot(siten[n]=>1,dag(bondn[n-1])=>1)+onehot(siten[n]=>1,dag(bondn[n-1])=>2)\n",
    "for i in 2:n-2\n",
    "    psi_n[i]=ITensor([1 0;0 1],dag(bondn[i-1]),bondn[i])*onehot(siten[i]=>1)+\n",
    "             ITensor([0 1;0 0],dag(bondn[i-1]),bondn[i])*onehot(siten[i]=>1)\n",
    "end\n",
    "psi_n[n-1]=ITensor([1 0;0 1],dag(bondn[n-2]),bondn[n-1])*onehot(siten[n-1]=>1)+\n",
    "           ITensor([0 1;0 0],dag(bondn[n-2]),bondn[n-1])*onehot(siten[n-1]=>2)\n",
    "matrixpp(psi_n[n-1],dag(bondn[n-2]),bondn[n-1],[empty,full])"
   ]
  },
  {
   "cell_type": "code",
   "execution_count": 88,
   "id": "8df43f89-b4f1-4385-a1d1-dbf1321c08da",
   "metadata": {},
   "outputs": [
    {
     "ename": "LoadError",
     "evalue": "BoundsError: attempt to access 3-element Vector{ITensor} at index [0]",
     "output_type": "error",
     "traceback": [
      "BoundsError: attempt to access 3-element Vector{ITensor} at index [0]",
      "",
      "Stacktrace:",
      " [1] getindex",
      "   @ Base .\\essentials.jl:13 [inlined]",
      " [2] getindex(M::MPS, n::Int64)",
      "   @ ITensors.ITensorMPS C:\\Users\\shikh\\.julia\\packages\\ITensors\\nUzgj\\src\\lib\\ITensorMPS\\src\\abstractmps.jl:162",
      " [3] top-level scope",
      "   @ In[88]:1"
     ]
    }
   ],
   "source": [
    "matrixpp(psi_n[n-3],dag(bondn[n-4]),bondn[n-3],[empty,full])"
   ]
  },
  {
   "cell_type": "code",
   "execution_count": 89,
   "id": "9d8e5623-a52b-483c-89c5-751a1262bd35",
   "metadata": {},
   "outputs": [
    {
     "data": {
      "text/plain": [
       "2-element Vector{ket}:\n",
       " 1.0|⭕️⟩\n",
       " 1.0|⭕️⟩"
      ]
     },
     "execution_count": 89,
     "metadata": {},
     "output_type": "execute_result"
    }
   ],
   "source": [
    "vectorpp(psi_n[1],bondn[1],[empty,full])"
   ]
  },
  {
   "cell_type": "code",
   "execution_count": 90,
   "id": "2c253c2e-6b73-4d03-b182-ca55666a450f",
   "metadata": {},
   "outputs": [
    {
     "data": {
      "text/plain": [
       "2-element Vector{ket}:\n",
       " 1.0|⭕️⟩\n",
       " 1.0|⭕️⟩"
      ]
     },
     "execution_count": 90,
     "metadata": {},
     "output_type": "execute_result"
    }
   ],
   "source": [
    "vectorpp(psi_n[n],dag(bondn[n-1]),[empty,full])"
   ]
  },
  {
   "cell_type": "code",
   "execution_count": 91,
   "id": "5564962b-c923-4bf5-ad6f-1b34bc7ff8af",
   "metadata": {},
   "outputs": [],
   "source": [
    "sitem1=addtags(sitem,\"sitem=1\");\n",
    "sitem2=addtags(sitem,\"sitem=2\");\n",
    "bon_d1=Index(QN(\"n\",0)=>1,QN(\"n\",1)=>1,QN(\"n\",-1)=>1,tags=\"bon_d1\");\n",
    "psi_nm=MPS([sitem1,sitem2]);\n",
    "A_1=onehot(sitem1=>1,bon_d1=>1)+onehot(sitem1=>2,bon_d1=>2)\n",
    "A_2=onehot(dag(bon_d1)=>1,sitem2=>2)+onehot(dag(bon_d1)=>2,sitem2=>1)\n",
    "vectorpp(A_2,dag(bon_d1),[empty,full])\n",
    "psi_nm[1]=A_1;\n",
    "psi_nm[2]=A_2;"
   ]
  },
  {
   "cell_type": "code",
   "execution_count": 92,
   "id": "da763687-73e0-4b71-aba1-0507aab9d6f1",
   "metadata": {},
   "outputs": [
    {
     "data": {
      "text/plain": [
       "MPS\n",
       "[1] ((dim=2|id=852|\"sitem,sitem=1\") <Out>\n",
       " 1: QN(\"n\",0) => 1\n",
       " 2: QN(\"n\",1) => 1, (dim=3|id=838|\"bon_d1\") <Out>\n",
       " 1: QN(\"n\",0) => 1\n",
       " 2: QN(\"n\",1) => 1\n",
       " 3: QN(\"n\",-1) => 1)\n",
       "[2] ((dim=3|id=838|\"bon_d1\") <In>\n",
       " 1: QN(\"n\",0) => 1\n",
       " 2: QN(\"n\",1) => 1\n",
       " 3: QN(\"n\",-1) => 1, (dim=2|id=852|\"sitem,sitem=2\") <Out>\n",
       " 1: QN(\"n\",0) => 1\n",
       " 2: QN(\"n\",1) => 1)\n"
      ]
     },
     "execution_count": 92,
     "metadata": {},
     "output_type": "execute_result"
    }
   ],
   "source": [
    "psi_nm"
   ]
  },
  {
   "cell_type": "code",
   "execution_count": 93,
   "id": "42e5fb6d-de9d-464d-8aa3-c9fb70504fd2",
   "metadata": {},
   "outputs": [
    {
     "name": "stderr",
     "output_type": "stream",
     "text": [
      "\u001b[32m\u001b[1m    Updating\u001b[22m\u001b[39m registry at `C:\\Users\\shikh\\.julia\\registries\\General.toml`\n",
      "\u001b[32m\u001b[1m   Resolving\u001b[22m\u001b[39m package versions...\n",
      "\u001b[32m\u001b[1m  No Changes\u001b[22m\u001b[39m to `C:\\Users\\shikh\\.julia\\environments\\v1.10\\Project.toml`\n",
      "\u001b[32m\u001b[1m  No Changes\u001b[22m\u001b[39m to `C:\\Users\\shikh\\.julia\\environments\\v1.10\\Manifest.toml`\n"
     ]
    }
   ],
   "source": [
    "import Pkg; \n",
    "Pkg.add(\"ITensorMPS\")"
   ]
  },
  {
   "cell_type": "code",
   "execution_count": 94,
   "id": "f5e209f0-b768-41c0-9544-c625be041d31",
   "metadata": {},
   "outputs": [],
   "source": [
    "psi_n=MPS(mps_tensors);\n",
    "psi_n[1]=onehot(siten[1]=>1,bondn[1]=>1)+onehot(siten[1]=>2,bondn[1]=>2)\n",
    "psi_n[n]=onehot(siten[n]=>1,dag(bondn[n-1])=>2)+onehot(siten[n]=>2,dag(bondn[n-1])=>1)\n",
    "for i in 2:n-1\n",
    "    psi_n[i]=ITensor([1 0;0 1],dag(bondn[i-1]),bondn[i])*onehot(siten[i]=>1)+\n",
    "             ITensor([0 1;0 0],dag(bondn[i-1]),bondn[i])*onehot(siten[i]=>2)\n",
    "end"
   ]
  },
  {
   "cell_type": "code",
   "execution_count": 95,
   "id": "e4776ebe-3fae-43f6-9299-31127f94db87",
   "metadata": {},
   "outputs": [
    {
     "name": "stderr",
     "output_type": "stream",
     "text": [
      "\u001b[32m\u001b[1m   Resolving\u001b[22m\u001b[39m package versions...\n",
      "\u001b[32m\u001b[1m  No Changes\u001b[22m\u001b[39m to `C:\\Users\\shikh\\.julia\\environments\\v1.10\\Project.toml`\n",
      "\u001b[32m\u001b[1m  No Changes\u001b[22m\u001b[39m to `C:\\Users\\shikh\\.julia\\environments\\v1.10\\Manifest.toml`\n",
      "\u001b[32m\u001b[1m   Resolving\u001b[22m\u001b[39m package versions...\n",
      "\u001b[32m\u001b[1m  No Changes\u001b[22m\u001b[39m to `C:\\Users\\shikh\\.julia\\environments\\v1.10\\Project.toml`\n",
      "\u001b[32m\u001b[1m  No Changes\u001b[22m\u001b[39m to `C:\\Users\\shikh\\.julia\\environments\\v1.10\\Manifest.toml`\n"
     ]
    }
   ],
   "source": [
    "import Pkg\n",
    "Pkg.add(\"ITensorMPS\")\n",
    "Pkg.add(\"ITensors\")"
   ]
  },
  {
   "cell_type": "code",
   "execution_count": 96,
   "id": "96eeff87-6ed5-4c88-ab92-7daa0722002d",
   "metadata": {},
   "outputs": [
    {
     "name": "stdout",
     "output_type": "stream",
     "text": [
      "After sweep 1 energy=-9.281906188439965  maxlinkdim=9 maxerr=6.98E-17 time=18.206\n",
      "After sweep 2 energy=-9.35822766834848  maxlinkdim=9 maxerr=2.54E-16 time=0.004\n",
      "After sweep 3 energy=-9.362049681566363  maxlinkdim=9 maxerr=2.15E-16 time=0.004\n",
      "After sweep 4 energy=-9.362108335281679  maxlinkdim=9 maxerr=1.13E-16 time=0.004\n",
      "After sweep 5 energy=-9.362108946657115  maxlinkdim=9 maxerr=9.72E-17 time=0.004\n",
      "After sweep 6 energy=-9.362108954142242  maxlinkdim=9 maxerr=1.45E-16 time=0.006\n",
      "After sweep 7 energy=-9.362108954236303  maxlinkdim=9 maxerr=0.00E+00 time=0.007\n",
      "After sweep 8 energy=-9.36210895423682  maxlinkdim=9 maxerr=9.06E-17 time=0.039\n",
      "After sweep 9 energy=-9.36210895423682  maxlinkdim=9 maxerr=1.20E-16 time=0.004\n",
      "After sweep 10 energy=-9.362108954236824  maxlinkdim=9 maxerr=1.93E-16 time=0.004\n"
     ]
    }
   ],
   "source": [
    "using ITensors,ITensorMPS\n",
    "let\n",
    "    N=5\n",
    "    # sitesn = siteinds(n->iseven(n) ? \"S=1\" : \"S=1\",2)\n",
    "    sitesm = siteinds(n->iseven(n) ? \"S=1\" : \"S=1\",N)\n",
    "    # Jn=1\n",
    "    # ITensors.op(::OpName\"a\",::SiteType\"sitesn[1]\")\n",
    "    os=OpSum()\n",
    "    for i in 1:N-1\n",
    "        os+=(-1,\"S-\",i,\"S+\",i+1)\n",
    "        os+=(-1,\"S+\",i,\"S-\",i+1)\n",
    "    end\n",
    "    H=MPO(os,sitesm)\n",
    "    nsweeps=10\n",
    "    maxdim=[10,20,30,40,50,60]\n",
    "    cutoff=[1E-8]\n",
    "    psi=random_mps(sitesm;linkdims=2)\n",
    "    psi=normalize(psi)\n",
    "    energy,psin=dmrg(H,psi;nsweeps,maxdim,cutoff)\n",
    "    return \n",
    "end"
   ]
  },
  {
   "cell_type": "code",
   "execution_count": 97,
   "id": "193a0307-ca39-4fb9-84bc-373ae0f678f9",
   "metadata": {},
   "outputs": [
    {
     "name": "stdout",
     "output_type": "stream",
     "text": [
      "After sweep 1 energy=-2.8110660166206394  maxlinkdim=3 maxerr=0.00E+00 time=2.268\n",
      "After sweep 2 energy=-2.8284199606541165  maxlinkdim=3 maxerr=0.00E+00 time=0.001\n",
      "After sweep 3 energy=-2.828427114267681  maxlinkdim=3 maxerr=0.00E+00 time=0.001\n",
      "After sweep 4 energy=-2.8284271247300055  maxlinkdim=3 maxerr=0.00E+00 time=0.001\n",
      "After sweep 5 energy=-2.828427124746165  maxlinkdim=3 maxerr=0.00E+00 time=0.001\n",
      "After sweep 6 energy=-2.8284271247461907  maxlinkdim=3 maxerr=0.00E+00 time=0.001\n",
      "After sweep 7 energy=-2.8284271247461907  maxlinkdim=3 maxerr=0.00E+00 time=0.001\n",
      "After sweep 8 energy=-2.8284271247461903  maxlinkdim=3 maxerr=0.00E+00 time=0.001\n",
      "After sweep 9 energy=-2.8284271247461903  maxlinkdim=3 maxerr=0.00E+00 time=0.001\n",
      "After sweep 10 energy=-2.8284271247461907  maxlinkdim=3 maxerr=0.00E+00 time=0.001\n"
     ]
    }
   ],
   "source": [
    "using ITensors,ITensorMPS\n",
    "let\n",
    "    N=2\n",
    "    # sitesn = siteinds(n->iseven(n) ? \"S=1\" : \"S=1\",2)\n",
    "    sitesm = siteinds(n->iseven(n) ? \"S=1\" : \"S=1\",N)\n",
    "    # Jn=1\n",
    "    # ITensors.op(::OpName\"a\",::SiteType\"sitesn[1]\")\n",
    "    os=OpSum()\n",
    "    for i in 1:N-1\n",
    "        os+=(-1,\"S-\",i,\"S+\",i+1)\n",
    "        os+=(-1,\"S+\",i,\"S-\",i+1)\n",
    "    end\n",
    "    H=MPO(os,sitesm)\n",
    "    nsweeps=10\n",
    "    maxdim=[10,20,30,40,50,60]\n",
    "    cutoff=[1E-8]\n",
    "    psi=random_mps(sitesm;linkdims=3)\n",
    "    psi=normalize(psi)\n",
    "    energy,psin=dmrg(H,psi;nsweeps,maxdim,cutoff)\n",
    "    return \n",
    "end"
   ]
  },
  {
   "cell_type": "code",
   "execution_count": 98,
   "id": "970b43d3-b171-4235-a3eb-c9d602d91f9d",
   "metadata": {},
   "outputs": [
    {
     "name": "stdout",
     "output_type": "stream",
     "text": [
      "search: \u001b[0m\u001b[1mp\u001b[22m\u001b[0m\u001b[1mr\u001b[22m\u001b[0m\u001b[1mo\u001b[22m\u001b[0m\u001b[1md\u001b[22m \u001b[0m\u001b[1mp\u001b[22m\u001b[0m\u001b[1mr\u001b[22m\u001b[0m\u001b[1mo\u001b[22m\u001b[0m\u001b[1md\u001b[22m! \u001b[0m\u001b[1mP\u001b[22m\u001b[0m\u001b[1mr\u001b[22m\u001b[0m\u001b[1mo\u001b[22m\u001b[0m\u001b[1md\u001b[22m \u001b[0m\u001b[1mp\u001b[22m\u001b[0m\u001b[1mr\u001b[22m\u001b[0m\u001b[1mo\u001b[22m\u001b[0m\u001b[1md\u001b[22muct \u001b[0m\u001b[1mp\u001b[22m\u001b[0m\u001b[1mr\u001b[22m\u001b[0m\u001b[1mo\u001b[22m\u001b[0m\u001b[1md\u001b[22muctMPS cum\u001b[0m\u001b[1mp\u001b[22m\u001b[0m\u001b[1mr\u001b[22m\u001b[0m\u001b[1mo\u001b[22m\u001b[0m\u001b[1md\u001b[22m cum\u001b[0m\u001b[1mp\u001b[22m\u001b[0m\u001b[1mr\u001b[22m\u001b[0m\u001b[1mo\u001b[22m\u001b[0m\u001b[1md\u001b[22m! next\u001b[0m\u001b[1mp\u001b[22m\u001b[0m\u001b[1mr\u001b[22m\u001b[0m\u001b[1mo\u001b[22m\u001b[0m\u001b[1md\u001b[22m\n",
      "\n"
     ]
    },
    {
     "data": {
      "text/latex": [
       "\\begin{verbatim}\n",
       "prod(f, itr; [init])\n",
       "\\end{verbatim}\n",
       "Return the product of \\texttt{f} applied to each element of \\texttt{itr}.\n",
       "\n",
       "The return type is \\texttt{Int} for signed integers of less than system word size, and \\texttt{UInt} for unsigned integers of less than system word size.  For all other arguments, a common return type is found to which all arguments are promoted.\n",
       "\n",
       "The value returned for empty \\texttt{itr} can be specified by \\texttt{init}. It must be the multiplicative identity (i.e. one) as it is unspecified whether \\texttt{init} is used for non-empty collections.\n",
       "\n",
       "\\begin{quote}\n",
       "\\textbf{compat}\n",
       "\n",
       "Julia 1.6\n",
       "\n",
       "Keyword argument \\texttt{init} requires Julia 1.6 or later.\n",
       "\n",
       "\\end{quote}\n",
       "\\section{Examples}\n",
       "\\begin{verbatim}\n",
       "julia> prod(abs2, [2; 3; 4])\n",
       "576\n",
       "\\end{verbatim}\n",
       "\\rule{\\textwidth}{1pt}\n",
       "\\begin{verbatim}\n",
       "prod(itr; [init])\n",
       "\\end{verbatim}\n",
       "Return the product of all elements of a collection.\n",
       "\n",
       "The return type is \\texttt{Int} for signed integers of less than system word size, and \\texttt{UInt} for unsigned integers of less than system word size.  For all other arguments, a common return type is found to which all arguments are promoted.\n",
       "\n",
       "The value returned for empty \\texttt{itr} can be specified by \\texttt{init}. It must be the multiplicative identity (i.e. one) as it is unspecified whether \\texttt{init} is used for non-empty collections.\n",
       "\n",
       "\\begin{quote}\n",
       "\\textbf{compat}\n",
       "\n",
       "Julia 1.6\n",
       "\n",
       "Keyword argument \\texttt{init} requires Julia 1.6 or later.\n",
       "\n",
       "\\end{quote}\n",
       "See also: \\href{@ref}{\\texttt{reduce}}, \\href{@ref}{\\texttt{cumprod}}, \\href{@ref}{\\texttt{any}}.\n",
       "\n",
       "\\section{Examples}\n",
       "\\begin{verbatim}\n",
       "julia> prod(1:5)\n",
       "120\n",
       "\n",
       "julia> prod(1:5; init = 1.0)\n",
       "120.0\n",
       "\\end{verbatim}\n",
       "\\rule{\\textwidth}{1pt}\n",
       "\\begin{verbatim}\n",
       "prod(A::AbstractArray; dims)\n",
       "\\end{verbatim}\n",
       "Multiply elements of an array over the given dimensions.\n",
       "\n",
       "\\section{Examples}\n",
       "\\begin{verbatim}\n",
       "julia> A = [1 2; 3 4]\n",
       "2×2 Matrix{Int64}:\n",
       " 1  2\n",
       " 3  4\n",
       "\n",
       "julia> prod(A, dims=1)\n",
       "1×2 Matrix{Int64}:\n",
       " 3  8\n",
       "\n",
       "julia> prod(A, dims=2)\n",
       "2×1 Matrix{Int64}:\n",
       "  2\n",
       " 12\n",
       "\\end{verbatim}\n",
       "\\rule{\\textwidth}{1pt}\n",
       "\\begin{verbatim}\n",
       "prod(f, A::AbstractArray; dims)\n",
       "\\end{verbatim}\n",
       "Multiply the results of calling the function \\texttt{f} on each element of an array over the given dimensions.\n",
       "\n",
       "\\section{Examples}\n",
       "\\begin{verbatim}\n",
       "julia> A = [1 2; 3 4]\n",
       "2×2 Matrix{Int64}:\n",
       " 1  2\n",
       " 3  4\n",
       "\n",
       "julia> prod(abs2, A, dims=1)\n",
       "1×2 Matrix{Int64}:\n",
       " 9  64\n",
       "\n",
       "julia> prod(abs2, A, dims=2)\n",
       "2×1 Matrix{Int64}:\n",
       "   4\n",
       " 144\n",
       "\\end{verbatim}\n"
      ],
      "text/markdown": [
       "```\n",
       "prod(f, itr; [init])\n",
       "```\n",
       "\n",
       "Return the product of `f` applied to each element of `itr`.\n",
       "\n",
       "The return type is `Int` for signed integers of less than system word size, and `UInt` for unsigned integers of less than system word size.  For all other arguments, a common return type is found to which all arguments are promoted.\n",
       "\n",
       "The value returned for empty `itr` can be specified by `init`. It must be the multiplicative identity (i.e. one) as it is unspecified whether `init` is used for non-empty collections.\n",
       "\n",
       "!!! compat \"Julia 1.6\"\n",
       "    Keyword argument `init` requires Julia 1.6 or later.\n",
       "\n",
       "\n",
       "# Examples\n",
       "\n",
       "```jldoctest\n",
       "julia> prod(abs2, [2; 3; 4])\n",
       "576\n",
       "```\n",
       "\n",
       "---\n",
       "\n",
       "```\n",
       "prod(itr; [init])\n",
       "```\n",
       "\n",
       "Return the product of all elements of a collection.\n",
       "\n",
       "The return type is `Int` for signed integers of less than system word size, and `UInt` for unsigned integers of less than system word size.  For all other arguments, a common return type is found to which all arguments are promoted.\n",
       "\n",
       "The value returned for empty `itr` can be specified by `init`. It must be the multiplicative identity (i.e. one) as it is unspecified whether `init` is used for non-empty collections.\n",
       "\n",
       "!!! compat \"Julia 1.6\"\n",
       "    Keyword argument `init` requires Julia 1.6 or later.\n",
       "\n",
       "\n",
       "See also: [`reduce`](@ref), [`cumprod`](@ref), [`any`](@ref).\n",
       "\n",
       "# Examples\n",
       "\n",
       "```jldoctest\n",
       "julia> prod(1:5)\n",
       "120\n",
       "\n",
       "julia> prod(1:5; init = 1.0)\n",
       "120.0\n",
       "```\n",
       "\n",
       "---\n",
       "\n",
       "```\n",
       "prod(A::AbstractArray; dims)\n",
       "```\n",
       "\n",
       "Multiply elements of an array over the given dimensions.\n",
       "\n",
       "# Examples\n",
       "\n",
       "```jldoctest\n",
       "julia> A = [1 2; 3 4]\n",
       "2×2 Matrix{Int64}:\n",
       " 1  2\n",
       " 3  4\n",
       "\n",
       "julia> prod(A, dims=1)\n",
       "1×2 Matrix{Int64}:\n",
       " 3  8\n",
       "\n",
       "julia> prod(A, dims=2)\n",
       "2×1 Matrix{Int64}:\n",
       "  2\n",
       " 12\n",
       "```\n",
       "\n",
       "---\n",
       "\n",
       "```\n",
       "prod(f, A::AbstractArray; dims)\n",
       "```\n",
       "\n",
       "Multiply the results of calling the function `f` on each element of an array over the given dimensions.\n",
       "\n",
       "# Examples\n",
       "\n",
       "```jldoctest\n",
       "julia> A = [1 2; 3 4]\n",
       "2×2 Matrix{Int64}:\n",
       " 1  2\n",
       " 3  4\n",
       "\n",
       "julia> prod(abs2, A, dims=1)\n",
       "1×2 Matrix{Int64}:\n",
       " 9  64\n",
       "\n",
       "julia> prod(abs2, A, dims=2)\n",
       "2×1 Matrix{Int64}:\n",
       "   4\n",
       " 144\n",
       "```\n"
      ],
      "text/plain": [
       "\u001b[36m  prod(f, itr; [init])\u001b[39m\n",
       "\n",
       "  Return the product of \u001b[36mf\u001b[39m applied to each element of \u001b[36mitr\u001b[39m.\n",
       "\n",
       "  The return type is \u001b[36mInt\u001b[39m for signed integers of less than system word size,\n",
       "  and \u001b[36mUInt\u001b[39m for unsigned integers of less than system word size. For all other\n",
       "  arguments, a common return type is found to which all arguments are\n",
       "  promoted.\n",
       "\n",
       "  The value returned for empty \u001b[36mitr\u001b[39m can be specified by \u001b[36minit\u001b[39m. It must be the\n",
       "  multiplicative identity (i.e. one) as it is unspecified whether \u001b[36minit\u001b[39m is used\n",
       "  for non-empty collections.\n",
       "\n",
       "\u001b[39m\u001b[1m  │ \u001b[22m\u001b[39m\u001b[1mJulia 1.6\u001b[22m\n",
       "\u001b[39m\u001b[1m  │\u001b[22m\n",
       "\u001b[39m\u001b[1m  │\u001b[22m  Keyword argument \u001b[36minit\u001b[39m requires Julia 1.6 or later.\n",
       "\n",
       "\u001b[1m  Examples\u001b[22m\n",
       "\u001b[1m  ≡≡≡≡≡≡≡≡\u001b[22m\n",
       "\n",
       "\u001b[36m  julia> prod(abs2, [2; 3; 4])\u001b[39m\n",
       "\u001b[36m  576\u001b[39m\n",
       "\n",
       "  ────────────────────────────────────────────────────────────────────────────\n",
       "\n",
       "\u001b[36m  prod(itr; [init])\u001b[39m\n",
       "\n",
       "  Return the product of all elements of a collection.\n",
       "\n",
       "  The return type is \u001b[36mInt\u001b[39m for signed integers of less than system word size,\n",
       "  and \u001b[36mUInt\u001b[39m for unsigned integers of less than system word size. For all other\n",
       "  arguments, a common return type is found to which all arguments are\n",
       "  promoted.\n",
       "\n",
       "  The value returned for empty \u001b[36mitr\u001b[39m can be specified by \u001b[36minit\u001b[39m. It must be the\n",
       "  multiplicative identity (i.e. one) as it is unspecified whether \u001b[36minit\u001b[39m is used\n",
       "  for non-empty collections.\n",
       "\n",
       "\u001b[39m\u001b[1m  │ \u001b[22m\u001b[39m\u001b[1mJulia 1.6\u001b[22m\n",
       "\u001b[39m\u001b[1m  │\u001b[22m\n",
       "\u001b[39m\u001b[1m  │\u001b[22m  Keyword argument \u001b[36minit\u001b[39m requires Julia 1.6 or later.\n",
       "\n",
       "  See also: \u001b[36mreduce\u001b[39m, \u001b[36mcumprod\u001b[39m, \u001b[36many\u001b[39m.\n",
       "\n",
       "\u001b[1m  Examples\u001b[22m\n",
       "\u001b[1m  ≡≡≡≡≡≡≡≡\u001b[22m\n",
       "\n",
       "\u001b[36m  julia> prod(1:5)\u001b[39m\n",
       "\u001b[36m  120\u001b[39m\n",
       "\u001b[36m  \u001b[39m\n",
       "\u001b[36m  julia> prod(1:5; init = 1.0)\u001b[39m\n",
       "\u001b[36m  120.0\u001b[39m\n",
       "\n",
       "  ────────────────────────────────────────────────────────────────────────────\n",
       "\n",
       "\u001b[36m  prod(A::AbstractArray; dims)\u001b[39m\n",
       "\n",
       "  Multiply elements of an array over the given dimensions.\n",
       "\n",
       "\u001b[1m  Examples\u001b[22m\n",
       "\u001b[1m  ≡≡≡≡≡≡≡≡\u001b[22m\n",
       "\n",
       "\u001b[36m  julia> A = [1 2; 3 4]\u001b[39m\n",
       "\u001b[36m  2×2 Matrix{Int64}:\u001b[39m\n",
       "\u001b[36m   1  2\u001b[39m\n",
       "\u001b[36m   3  4\u001b[39m\n",
       "\u001b[36m  \u001b[39m\n",
       "\u001b[36m  julia> prod(A, dims=1)\u001b[39m\n",
       "\u001b[36m  1×2 Matrix{Int64}:\u001b[39m\n",
       "\u001b[36m   3  8\u001b[39m\n",
       "\u001b[36m  \u001b[39m\n",
       "\u001b[36m  julia> prod(A, dims=2)\u001b[39m\n",
       "\u001b[36m  2×1 Matrix{Int64}:\u001b[39m\n",
       "\u001b[36m    2\u001b[39m\n",
       "\u001b[36m   12\u001b[39m\n",
       "\n",
       "  ────────────────────────────────────────────────────────────────────────────\n",
       "\n",
       "\u001b[36m  prod(f, A::AbstractArray; dims)\u001b[39m\n",
       "\n",
       "  Multiply the results of calling the function \u001b[36mf\u001b[39m on each element of an array\n",
       "  over the given dimensions.\n",
       "\n",
       "\u001b[1m  Examples\u001b[22m\n",
       "\u001b[1m  ≡≡≡≡≡≡≡≡\u001b[22m\n",
       "\n",
       "\u001b[36m  julia> A = [1 2; 3 4]\u001b[39m\n",
       "\u001b[36m  2×2 Matrix{Int64}:\u001b[39m\n",
       "\u001b[36m   1  2\u001b[39m\n",
       "\u001b[36m   3  4\u001b[39m\n",
       "\u001b[36m  \u001b[39m\n",
       "\u001b[36m  julia> prod(abs2, A, dims=1)\u001b[39m\n",
       "\u001b[36m  1×2 Matrix{Int64}:\u001b[39m\n",
       "\u001b[36m   9  64\u001b[39m\n",
       "\u001b[36m  \u001b[39m\n",
       "\u001b[36m  julia> prod(abs2, A, dims=2)\u001b[39m\n",
       "\u001b[36m  2×1 Matrix{Int64}:\u001b[39m\n",
       "\u001b[36m     4\u001b[39m\n",
       "\u001b[36m   144\u001b[39m"
      ]
     },
     "execution_count": 98,
     "metadata": {},
     "output_type": "execute_result"
    }
   ],
   "source": [
    "?prod"
   ]
  },
  {
   "cell_type": "code",
   "execution_count": 99,
   "id": "94f0a150-a81a-4b86-9382-2087966c0eba",
   "metadata": {},
   "outputs": [
    {
     "data": {
      "text/plain": [
       "ncon_partial_trace (generic function with 1 method)"
      ]
     },
     "execution_count": 99,
     "metadata": {},
     "output_type": "execute_result"
    }
   ],
   "source": [
    "function ncon_tensordot(A,B,Acont,Bcont)\n",
    "    Afree=deleteat!(collect(1:ndims(A)),sort(Acont))\n",
    "    Bfree=deleteat!(collect(1:ndims(B)),sort(Bcont))\n",
    "    Aperm=vcat(Afree,Acont)\n",
    "    Bperm=vcat(Bcont,Bfree)\n",
    "    return reshape(\n",
    "        reshape(\n",
    "            permutedims(A,Aperm),\n",
    "            prod(size(A)[Afree]),\n",
    "            prod(size(A)[Acont]),\n",
    "            )*rehsape(\n",
    "            permutedims(B,Bperm),\n",
    "            prod(size(B)[Bcont]),\n",
    "            prod(size(B)[Bfree]),\n",
    "            ),\n",
    "        (size(A)[Afree]...,size(B)[free]...),\n",
    "    )\n",
    "end\n",
    "function ncon_partial_trace(A,Alabel)\n",
    "    num_count=length(Alabel)-length(unique(Alabel))\n",
    "    if num_count>0\n",
    "        dup_list=[]\n",
    "        for ele in unique(Alabel)\n",
    "            if sum(Albel .==ele)>1\n",
    "                dup_list=vcat(dup_list,finall(Alabel .==ele))\n",
    "            end\n",
    "        end\n",
    "        cont_ind=reshape(permutedims(reshape(dup_list,2,num_count),[2,1]),2*num_count)\n",
    "        free_ind=deleteat!(collect(1:length(Alabel)),sort(dup_list))\n",
    "        cont_dim=prod(size(A),[cont_ind[1:num_count]])\n",
    "        free_dim=prod(size(A)[free_ind])\n",
    "        cont_label=unique(Alabel[cont_ind])\n",
    "        B=zeros(prod(free_dim))\n",
    "        Adims=size(A)\n",
    "        A=rehshape(permutedims(reshape(A,Adims),vcat(free_ind.cont_ind)),prod(free_dim),cont_ind,cont_ind)\n",
    "        for ip =1:cont_dim\n",
    "            B=B+A[:,ip,ip]\n",
    "        end\n",
    "        return reshape(B,free_dim),deleteat!(Alabel,sort(cont_ind)),cont_label\n",
    "    else\n",
    "        return A,Alabel\n",
    "    end\n",
    "end"
   ]
  },
  {
   "cell_type": "code",
   "execution_count": 100,
   "id": "04c7de53-c87d-4764-b8bf-bf3d60dd0e8a",
   "metadata": {},
   "outputs": [
    {
     "data": {
      "text/plain": [
       "con_partial_trace (generic function with 1 method)"
      ]
     },
     "execution_count": 100,
     "metadata": {},
     "output_type": "execute_result"
    }
   ],
   "source": [
    "function con_partial_trace(A,Alabel)\n",
    "    num_cont=length(Alabel)-length(unique(Alabel))\n",
    "    if num_cont>0\n",
    "        dup_list=[]\n",
    "        for ele in unique(Alabel)\n",
    "            if sum(Alabel.==ele)>1\n",
    "                dup_list=vcat(dup_list,findall(Alabel.==ele))\n",
    "            end\n",
    "        end\n",
    "        cont_ind=reshape(permutedims(reshape(dup_list,2,num_count),[2,1]),2*num_cont)\n",
    "        free_ind=deleteat!(collect(1:length(Alabel)),sort(dup_lsit))\n",
    "        cont_dim=size(A)[cont_ind[1:num_cont]]\n",
    "        free_dim=size(A)[free_ind]\n",
    "        cont_label=unique(Alabel[cont_ind])\n",
    "        B=zeros(prod(free_dim))\n",
    "        Adims=size(A)\n",
    "        A=reshape(\n",
    "            permutedims(reshape(A[:],Adims),vcat(free_ind,cont_ind)),\n",
    "            prod(free_dim),\n",
    "            cont_dim,\n",
    "            cont_dim,\n",
    "        )\n",
    "        for ip in 1:cont_dim\n",
    "            B=B+A[:, ip, ip]\n",
    "        end\n",
    "        return reshape(B,free_dim),deleteat!(Alabel,sort(cont_ind)),cont_label\n",
    "    else\n",
    "        return A,Alabel\n",
    "    end\n",
    "end"
   ]
  },
  {
   "cell_type": "code",
   "execution_count": 101,
   "id": "28a03da5-e982-4c5d-9ae8-a2d5ec715f84",
   "metadata": {},
   "outputs": [
    {
     "data": {
      "text/plain": [
       "ncon_check_inputs (generic function with 1 method)"
      ]
     },
     "execution_count": 101,
     "metadata": {},
     "output_type": "execute_result"
    }
   ],
   "source": [
    "function ncon_check_inputs(connect_list,flat_connect,dims_list,con_order)\n",
    "    pos_ind=flat_connect[flat_connect .>0]\n",
    "    neg_ind=flat_connect[flat_connect .<0]\n",
    "    if length(dims_list)!=length(connect_list)\n",
    "        e_str0 = \"NCON error: $(length(dims_list)) tensors given \";\n",
    "        error(e_str0,\"but $(length(connect_list)) index sublists given\")\n",
    "    end\n",
    "    for ik=1:length(dims_list)\n",
    "        if length(dims_list[ik])!=length(connect_list[ik])\n",
    "            e_str0 = \"number of indices does not match number of labels on tensor \";\n",
    "            e_str1 = \"$(ik): $(length(dims_list[ik]))-indices \"\n",
    "            error(e_str0,e_str1,\"versus $(length(connect_list[ik]))-labels\")\n",
    "        end\n",
    "    end\n",
    "    if !(sort(con_order)==sort(unique(pos_ind)))\n",
    "        error(\"NCON error : invalid contraction order\")\n",
    "    end\n",
    "    #checking for the validity of the negative inds\n",
    "    for ind = -1:-1:length(neg_ind)\n",
    "        if sum(neg_ind .== ind) == 0\n",
    "            error(\"NCON error:no index labelled $(ind)\")\n",
    "        elseif sum(neg_ind .==ind) > 1\n",
    "            error(\"NCON error more than one index labelled\")\n",
    "        end\n",
    "    end\n",
    "    #check positive indices fro validity and contracted tensor dimensions match\n",
    "    flat_dims=[]\n",
    "    for ele in dims_list\n",
    "        flat_dims=vcat(flat_dims,ele)\n",
    "    end\n",
    "    for ind in unique(pos_ind)\n",
    "        if sum(pos_ind .==ind)==1\n",
    "            error(\"NCON error: only one index labelled $(ind)\")\n",
    "        elseif sum(pos_ind .==ind)>2\n",
    "            error(\"NCON error : more than one index labelled $(ind)\")\n",
    "        end\n",
    "        cont_dims= flat_dims[flat_connect .==ind]\n",
    "        if cont_dims[1] !=cont_dims[2]\n",
    "            e_str0 =\"dimension mismatch on index labelled $(ind):\"\n",
    "            error(e_str0,\"dim-$(cont_dims[1]) versus dim-$(cont_dims[2])\")\n",
    "        end\n",
    "    end\n",
    "    return true\n",
    "end"
   ]
  },
  {
   "cell_type": "code",
   "execution_count": 102,
   "id": "429ff181-45be-4e7c-b99a-28c576ed635d",
   "metadata": {},
   "outputs": [
    {
     "name": "stdout",
     "output_type": "stream",
     "text": [
      "reshape(listu, 2, 6) = Any[1 4 16 6 8 10; 2 15 5 7 9 11]\n"
     ]
    },
    {
     "data": {
      "text/plain": [
       "2×6 Matrix{Any}:\n",
       " 1   4  16  6  8  10\n",
       " 2  15   5  7  9  11"
      ]
     },
     "execution_count": 102,
     "metadata": {},
     "output_type": "execute_result"
    }
   ],
   "source": [
    "a=[1,1,2,3,5,5,8,8,9,9,9,6,7,4,3,3]\n",
    "unique(a)\n",
    "listu=[]\n",
    "for ele in unique(a)\n",
    "    if sum(a .==ele)>1\n",
    "        listu=vcat(listu,findall(a .==ele))\n",
    "    end\n",
    "end\n",
    "num=length(a)-length(unique(a))\n",
    "@show reshape(listu,2,6)"
   ]
  },
  {
   "cell_type": "code",
   "execution_count": null,
   "id": "f277ddcb-9673-4cee-ba5a-54a604224700",
   "metadata": {},
   "outputs": [],
   "source": []
  },
  {
   "cell_type": "code",
   "execution_count": 103,
   "id": "2f1f9872-e283-4c17-8179-8506a087f1ac",
   "metadata": {},
   "outputs": [
    {
     "name": "stdout",
     "output_type": "stream",
     "text": [
      "Number -1 appears 1 times\n",
      "Number -6 appears 4 times\n",
      "Number -5 appears 2 times\n",
      "Number -8 appears 1 times\n",
      "Number -3 appears 1 times\n",
      "Number -9 appears 1 times\n"
     ]
    }
   ],
   "source": [
    "a1 = [-1, -6, -5, -5, -6, -6, -6, -8, -3, -9]\n",
    "neg_ind = a1[a1 .< 0]\n",
    "\n",
    "# Get unique negative numbers\n",
    "unique_neg = unique(neg_ind)\n",
    "\n",
    "# Iterate over each unique negative number and print the count\n",
    "for ind in unique_neg\n",
    "    println(\"Number $ind appears $(sum(neg_ind .== ind)) times\")\n",
    "end\n"
   ]
  },
  {
   "cell_type": "code",
   "execution_count": 14,
   "id": "8fa09f58-8849-43bc-bd78-517b399ce218",
   "metadata": {},
   "outputs": [
    {
     "data": {
      "text/plain": [
       "ncon_check_inputs"
      ]
     },
     "execution_count": 14,
     "metadata": {},
     "output_type": "execute_result"
    }
   ],
   "source": [
    "function ncon(\n",
    "  tensor_list,\n",
    "  connect_list_in;\n",
    "  con_order = [],\n",
    "  check_network = true,\n",
    ")\n",
    "\n",
    "  # copy original list to avoid destroying\n",
    "  connect_list = deepcopy(connect_list_in)\n",
    "\n",
    "  # put inputs into an array if necessary\n",
    "  if (tensor_list[1] isa Real) | (tensor_list[1] isa Complex)\n",
    "    tensor_list = Any[tensor_list]\n",
    "  end\n",
    "  if !(connect_list[1] isa Array)\n",
    "    connect_list = Any[connect_list]\n",
    "  end\n",
    "\n",
    "  # generate contraction order if necessary\n",
    "  flat_connect = vcat(connect_list...)\n",
    "  if isempty(con_order)\n",
    "    con_order = sort(unique(flat_connect[flat_connect.>0]))\n",
    "  end\n",
    "\n",
    "  # check inputs if enabled\n",
    "  if check_network\n",
    "    dims_list = Array{Any,1}(undef, length(tensor_list))\n",
    "    for ik = 1:length(tensor_list)\n",
    "      dims_list[ik] = [size(tensor_list[ik])...]\n",
    "    end\n",
    "    ncon_check_inputs(connect_list, flat_connect, dims_list, con_order)\n",
    "  end\n",
    "\n",
    "  # do all partial traces\n",
    "  for ip = 1:length(connect_list)\n",
    "    num_cont = length(connect_list[ip]) - length(unique(connect_list[ip]))\n",
    "    if num_cont > 0\n",
    "      tensor_list[ip], connect_list[ip], cont_label =\n",
    "        ncon_partial_trace(tensor_list[ip], connect_list[ip])\n",
    "      con_order = setdiff(con_order, cont_label)\n",
    "    end\n",
    "  end\n",
    "\n",
    "  # do all binary contractions\n",
    "  while !isempty(con_order)\n",
    "    # identify tensors to be contracted\n",
    "    cont_ind = con_order[1];\n",
    "    locs = [\n",
    "      ele\n",
    "      for\n",
    "      ele in collect(1:length(connect_list)) if\n",
    "      sum(connect_list[ele] .== cont_ind) > 0\n",
    "    ]\n",
    "\n",
    "    # do a binary contraction\n",
    "    cont_many = intersect(connect_list[locs[1]], connect_list[locs[2]])\n",
    "    A_cont = [findfirst(connect_list[locs[1]] .== x) for x in cont_many]\n",
    "    B_cont = [findfirst(connect_list[locs[2]] .== x) for x in cont_many]\n",
    "    A_free = deleteat!(collect(1:length(connect_list[locs[1]])), sort(A_cont))\n",
    "    B_free = deleteat!(collect(1:length(connect_list[locs[2]])), sort(B_cont))\n",
    "    push!(\n",
    "      tensor_list,\n",
    "      ncon_tensordot(\n",
    "        tensor_list[locs[1]],\n",
    "        tensor_list[locs[2]],\n",
    "        A_cont,\n",
    "        B_cont,\n",
    "      ),\n",
    "    )\n",
    "    push!(\n",
    "      connect_list,\n",
    "      vcat(connect_list[locs[1]][A_free], connect_list[locs[2]][B_free]),\n",
    "    )\n",
    "\n",
    "    # remove contracted tensors from list and update con_order\n",
    "    deleteat!(connect_list, locs)\n",
    "    deleteat!(tensor_list, locs)\n",
    "    con_order = setdiff(con_order, cont_many)\n",
    "  end\n",
    "\n",
    "  # do all outer products\n",
    "  while length(tensor_list) > 1\n",
    "    s1 = size(tensor_list[end-1])\n",
    "    s2 = size(tensor_list[end])\n",
    "    tensor_list[end-1] = reshape(\n",
    "      reshape(tensor_list[end-1], prod(s1)) *\n",
    "      reshape(tensor_list[end], 1, prod(s2)),\n",
    "      (s1..., s2...),\n",
    "    )\n",
    "    connect_list[end-1] = vcat(connect_list[end-1], connect_list[end])\n",
    "    deleteat!(connect_list, length(connect_list))\n",
    "    deleteat!(tensor_list, length(tensor_list))\n",
    "  end\n",
    "\n",
    "  # do final permutation\n",
    "  if length(connect_list[1]) > 0\n",
    "    return permutedims(tensor_list[1], sortperm(connect_list[1], by = abs))\n",
    "  else\n",
    "    return tensor_list[1][1]\n",
    "  end\n",
    "end\n",
    "\n",
    "\"\"\"\n",
    "ncon_tensordot: contracts a pair of tensors via matrix multiplication,\n",
    "similar to the Numpy function of the same name\n",
    "\"\"\"\n",
    "function ncon_tensordot(A, B, A_cont, B_cont)\n",
    "\n",
    "  A_free = deleteat!(collect(1:ndims(A)), sort(A_cont))\n",
    "  B_free = deleteat!(collect(1:ndims(B)), sort(B_cont))\n",
    "  A_perm = vcat(A_free, A_cont)\n",
    "  B_perm = vcat(B_cont, B_free)\n",
    "\n",
    "  return reshape(\n",
    "    reshape(\n",
    "      permutedims(A, A_perm),\n",
    "      prod(size(A)[A_free]),\n",
    "      prod(size(A)[A_cont]),\n",
    "    ) * reshape(\n",
    "      permutedims(B, B_perm),\n",
    "      prod(size(B)[B_cont]),\n",
    "      prod(size(B)[B_free]),\n",
    "    ),\n",
    "    (size(A)[A_free]..., size(B)[B_free]...),\n",
    "  )\n",
    "end\n",
    "\n",
    "\"\"\"\n",
    "ncon_partial_trace: partial trace on tensor A over repeated labels in A_label\n",
    "\"\"\"\n",
    "function ncon_partial_trace(A, A_label)\n",
    "\n",
    "  num_cont = length(A_label) - length(unique(A_label))\n",
    "  if num_cont > 0\n",
    "    dup_list = []\n",
    "    for ele in unique(A_label)\n",
    "      if sum(A_label .== ele) > 1\n",
    "        dup_list = vcat(dup_list, findall(A_label .== ele))\n",
    "      end\n",
    "    end\n",
    "\n",
    "    cont_ind =\n",
    "      reshape(permutedims(reshape(dup_list, 2, num_cont), [2, 1]), 2 * num_cont)\n",
    "    free_ind = deleteat!(collect(1:length(A_label)), sort(dup_list))\n",
    "    cont_dim = prod(size(A)[cont_ind[1:num_cont]])\n",
    "    free_dim = size(A)[free_ind]\n",
    "\n",
    "    cont_label = unique(A_label[cont_ind])\n",
    "    B = zeros(prod(free_dim))\n",
    "    perm_tot = [free_ind; cont_ind]\n",
    "\n",
    "    A_dims = size(A)\n",
    "    A = reshape(\n",
    "      permutedims(reshape(A[:], A_dims), vcat(free_ind, cont_ind)),\n",
    "      prod(free_dim),\n",
    "      cont_dim,\n",
    "      cont_dim,\n",
    "    )\n",
    "    for ip = 1:cont_dim\n",
    "      B = B + A[:, ip, ip]\n",
    "    end\n",
    "\n",
    "    return reshape(B, free_dim), deleteat!(A_label, sort(cont_ind)), cont_label\n",
    "  else\n",
    "    return A, A_label\n",
    "  end\n",
    "end\n",
    "\n",
    "\"\"\"\n",
    "ncon_check_inputs: check consistency of input tensor network\n",
    "\"\"\"\n",
    "function ncon_check_inputs(connect_list, flat_connect, dims_list, con_order)\n",
    "\n",
    "  pos_ind = flat_connect[flat_connect.>0]\n",
    "  neg_ind = flat_connect[flat_connect.<0]\n",
    "\n",
    "  # check that lengths of lists match\n",
    "  if length(dims_list) != length(connect_list)\n",
    "    e_str0 = \"NCON error: $(length(dims_list)) tensors given \";\n",
    "    error(e_str0,\"but $(length(connect_list)) index sublists given\")\n",
    "  end\n",
    "\n",
    "  # check that tensors have the right number of indices\n",
    "  for ik = 1:length(dims_list)\n",
    "    if length(dims_list[ik]) != length(connect_list[ik])\n",
    "      e_str0 = \"number of indices does not match number of labels on tensor \";\n",
    "      e_str1 = \"$(ik): $(length(dims_list[ik]))-indices \"\n",
    "      error(e_str0,e_str1,\"versus $(length(connect_list[ik]))-labels\")\n",
    "    end\n",
    "  end\n",
    "\n",
    "  # check that contraction order is valid\n",
    "  if !(sort(con_order) == sort(unique(pos_ind)))\n",
    "    error(\"NCON error: invalid contraction order\")\n",
    "  end\n",
    "\n",
    "  # check that negative indices are valid\n",
    "  for ind = -1:-1:-length(neg_ind)\n",
    "    if sum(neg_ind .== ind) == 0\n",
    "      error(\"NCON error: no index labelled $(ind)\")\n",
    "    elseif sum(neg_ind .== ind) > 1\n",
    "      error(\"NCON error: more than one index labelled $(ind)\")\n",
    "    end\n",
    "  end\n",
    "\n",
    "  # check that positive indices are valid and contracted tensor dimensions match\n",
    "  flat_dims = []\n",
    "  for ele in dims_list\n",
    "    flat_dims = vcat(flat_dims, ele)\n",
    "  end\n",
    "  for ind in unique(pos_ind)\n",
    "    if sum(pos_ind .== ind) == 1\n",
    "      error(\"NCON error: only one index labelled $(ind)\")\n",
    "    elseif sum(pos_ind .== ind) > 2\n",
    "      error(\"NCON error: more than two indices labelled $(ind)\")\n",
    "    end\n",
    "    cont_dims = flat_dims[flat_connect.==ind]\n",
    "    if cont_dims[1] != cont_dims[2]\n",
    "      e_str0 = \"dimension mismatch on index labelled $(ind): \"\n",
    "      error(e_str0,\"dim-$(cont_dims[1]) versus dim-$(cont_dims[2])\")\n",
    "    end\n",
    "  end\n",
    "\n",
    "  return true\n",
    "end\n"
   ]
  },
  {
   "cell_type": "markdown",
   "id": "885af9c1-93e7-41fb-b9f8-a791a97e6dba",
   "metadata": {},
   "source": [
    "# **TEBD algorithm practice**"
   ]
  },
  {
   "cell_type": "code",
   "execution_count": 105,
   "id": "1a3c3765-5ae9-4783-806f-30b1bd85d8ec",
   "metadata": {},
   "outputs": [
    {
     "data": {
      "text/plain": [
       "10-element Vector{Float64}:\n",
       " 0.31622776601683794\n",
       " 0.31622776601683794\n",
       " 0.31622776601683794\n",
       " 0.31622776601683794\n",
       " 0.31622776601683794\n",
       " 0.31622776601683794\n",
       " 0.31622776601683794\n",
       " 0.31622776601683794\n",
       " 0.31622776601683794\n",
       " 0.31622776601683794"
      ]
     },
     "execution_count": 105,
     "metadata": {},
     "output_type": "execute_result"
    }
   ],
   "source": [
    "using LinearAlgebra,Printf\n",
    "#initializing\n",
    "chi=10  #bond dimension\n",
    "d=2  #dimension associated to each site\n",
    "A=rand(chi,d,chi)\n",
    "B=rand(chi,d,chi)\n",
    "sAB=ones(chi) ./sqrt(chi) #setting initial weights\n",
    "sBA=ones(chi) ./sqrt(chi)"
   ]
  },
  {
   "cell_type": "code",
   "execution_count": 106,
   "id": "ccc6dc0f-e913-4335-a263-ae2efe3562a7",
   "metadata": {},
   "outputs": [
    {
     "name": "stdout",
     "output_type": "stream",
     "text": [
      "iter: 1, diff: 4.585507e+00 \n",
      "iter: 2, diff: 5.442123e-03 \n",
      "iter: 3, diff: 9.515539e-05 \n",
      "iter: 4, diff: 1.628490e-06 \n",
      "iter: 5, diff: 2.821159e-08 \n",
      "iter: 6, diff: 5.346380e-10 \n",
      "success! \n"
     ]
    }
   ],
   "source": [
    "sBA = ones(10) ./ sqrt(10)\n",
    "sigBA=rand(chi,chi)\n",
    "tol=1e-10\n",
    "tensors_1 = Any[diagm(0 => sBA),diagm(0 => sBA),A,conj(A), diagm(0 => sAB), diagm(0 => sAB), B, conj(B)]\n",
    "labels = Any[[1, 2], [1, 3], [2, 4], [3, 5, 6], [4, 5, 7], [6, 8], [7, 9], [8, 10, -1], [9, 10, -2]]\n",
    "for k in 1:1000\n",
    "    global sig_BA,tensors_1,labels,tol\n",
    "    sigBA_new = ncon(Any[sigBA, tensors_1...], labels)\n",
    "    sigBA_new=sigBA_new/tr(sigBA_new)\n",
    "    if norm(sigBA-sigBA_new)<tol\n",
    "        @printf \"success! \\n\"\n",
    "        break\n",
    "    else\n",
    "        @printf \"iter: %d, diff: %e \\n\" k norm(sigBA - sigBA_new)\n",
    "        sigBA = sigBA_new;\n",
    "    end\n",
    "end"
   ]
  },
  {
   "cell_type": "code",
   "execution_count": 107,
   "id": "80df5fc1-dc64-4501-b47f-2da3e1cebe57",
   "metadata": {},
   "outputs": [
    {
     "name": "stdout",
     "output_type": "stream",
     "text": [
      "iter: 1, diff: 1.376832e+02 \n",
      "iter: 2, diff: 3.815748e+03 \n",
      "iter: 3, diff: 1.059058e+05 \n",
      "iter: 4, diff: 2.939470e+06 \n",
      "iter: 5, diff: 8.158648e+07 \n",
      "iter: 6, diff: 2.264474e+09 \n",
      "iter: 7, diff: 6.285163e+10 \n",
      "iter: 8, diff: 1.744479e+12 \n",
      "iter: 9, diff: 4.841890e+13 \n",
      "iter: 10, diff: 1.343891e+15 \n",
      "iter: 11, diff: 3.730038e+16 \n",
      "iter: 12, diff: 1.035291e+18 \n",
      "iter: 13, diff: 2.873502e+19 \n",
      "iter: 14, diff: 7.975551e+20 \n",
      "iter: 15, diff: 2.213655e+22 \n",
      "iter: 16, diff: 6.144111e+23 \n",
      "iter: 17, diff: 1.705329e+25 \n",
      "iter: 18, diff: 4.733228e+26 \n",
      "iter: 19, diff: 1.313731e+28 \n",
      "iter: 20, diff: 3.646328e+29 \n",
      "iter: 21, diff: 1.012057e+31 \n",
      "iter: 22, diff: 2.809015e+32 \n",
      "iter: 23, diff: 7.796564e+33 \n",
      "iter: 24, diff: 2.163976e+35 \n",
      "iter: 25, diff: 6.006225e+36 \n",
      "iter: 26, diff: 1.667058e+38 \n",
      "iter: 27, diff: 4.627004e+39 \n",
      "iter: 28, diff: 1.284249e+41 \n",
      "iter: 29, diff: 3.564497e+42 \n",
      "iter: 30, diff: 9.893442e+43 \n",
      "iter: 31, diff: 2.745975e+45 \n",
      "iter: 32, diff: 7.621593e+46 \n",
      "iter: 33, diff: 2.115412e+48 \n",
      "iter: 34, diff: 5.871433e+49 \n",
      "iter: 35, diff: 1.629646e+51 \n",
      "iter: 36, diff: 4.523165e+52 \n",
      "iter: 37, diff: 1.255427e+54 \n",
      "iter: 38, diff: 3.484502e+55 \n",
      "iter: 39, diff: 9.671413e+56 \n",
      "iter: 40, diff: 2.684350e+58 \n",
      "iter: 41, diff: 7.450549e+59 \n",
      "iter: 42, diff: 2.067938e+61 \n",
      "iter: 43, diff: 5.739666e+62 \n",
      "iter: 44, diff: 1.593073e+64 \n",
      "iter: 45, diff: 4.421656e+65 \n",
      "iter: 46, diff: 1.227253e+67 \n",
      "iter: 47, diff: 3.406303e+68 \n",
      "iter: 48, diff: 9.454366e+69 \n",
      "iter: 49, diff: 2.624107e+71 \n",
      "iter: 50, diff: 7.283343e+72 \n",
      "iter: 51, diff: 2.021529e+74 \n",
      "iter: 52, diff: 5.610856e+75 \n",
      "iter: 53, diff: 1.557321e+77 \n",
      "iter: 54, diff: 4.322425e+78 \n",
      "iter: 55, diff: 1.199711e+80 \n",
      "iter: 56, diff: 3.329858e+81 \n",
      "iter: 57, diff: 9.242191e+82 \n",
      "iter: 58, diff: 2.565217e+84 \n",
      "iter: 59, diff: 7.119890e+85 \n",
      "iter: 60, diff: 1.976162e+87 \n",
      "iter: 61, diff: 5.484937e+88 \n",
      "iter: 62, diff: 1.522372e+90 \n",
      "iter: 63, diff: 4.225421e+91 \n",
      "iter: 64, diff: 1.172787e+93 \n",
      "iter: 65, diff: 3.255130e+94 \n",
      "iter: 66, diff: 9.034777e+95 \n",
      "iter: 67, diff: 2.507648e+97 \n",
      "iter: 68, diff: 6.960105e+98 \n",
      "iter: 69, diff: 1.931812e+100 \n",
      "iter: 70, diff: 5.361843e+101 \n",
      "iter: 71, diff: 1.488207e+103 \n",
      "iter: 72, diff: 4.130593e+104 \n",
      "iter: 73, diff: 1.146467e+106 \n",
      "iter: 74, diff: 3.182078e+107 \n",
      "iter: 75, diff: 8.832018e+108 \n",
      "iter: 76, diff: 2.451371e+110 \n",
      "iter: 77, diff: 6.803906e+111 \n",
      "iter: 78, diff: 1.888459e+113 \n",
      "iter: 79, diff: 5.241513e+114 \n",
      "iter: 80, diff: 1.454808e+116 \n",
      "iter: 81, diff: 4.037894e+117 \n",
      "iter: 82, diff: 1.120738e+119 \n",
      "iter: 83, diff: 3.110665e+120 \n",
      "iter: 84, diff: 8.633810e+121 \n",
      "iter: 85, diff: 2.396358e+123 \n",
      "iter: 86, diff: 6.651212e+124 \n",
      "iter: 87, diff: 1.846078e+126 \n",
      "iter: 88, diff: 5.123882e+127 \n",
      "iter: 89, diff: 1.422159e+129 \n",
      "iter: 90, diff: 3.947276e+130 \n",
      "iter: 91, diff: 1.095586e+132 \n",
      "iter: 92, diff: 3.040856e+133 \n",
      "iter: 93, diff: 8.440049e+134 \n",
      "iter: 94, diff: 2.342578e+136 \n",
      "iter: 95, diff: 6.501945e+137 \n",
      "iter: 96, diff: 1.804648e+139 \n",
      "iter: 97, diff: 5.008892e+140 \n",
      "iter: 98, diff: 1.390243e+142 \n",
      "iter: 99, diff: 3.858691e+143 \n",
      "iter: 100, diff: 1.070999e+145 \n",
      "iter: 101, diff: 2.972613e+146 \n",
      "iter: 102, diff: 8.250637e+147 \n",
      "iter: 103, diff: 2.290006e+149 \n",
      "iter: 104, diff: 6.356028e+150 \n",
      "iter: 105, diff: 1.764148e+152 \n",
      "iter: 106, diff: 4.896482e+153 \n",
      "iter: 107, diff: 1.359043e+155 \n",
      "iter: 108, diff: 3.772094e+156 \n",
      "iter: 109, diff: 1.046964e+158 \n",
      "iter: 110, diff: 2.905901e+159 \n",
      "iter: 111, diff: 8.065476e+160 \n",
      "iter: 112, diff: 2.238614e+162 \n",
      "iter: 113, diff: 6.213386e+163 \n",
      "iter: 114, diff: 1.724557e+165 \n",
      "iter: 115, diff: 4.786595e+166 \n",
      "iter: 116, diff: 1.328544e+168 \n",
      "iter: 117, diff: 3.687440e+169 \n",
      "iter: 118, diff: 1.023468e+171 \n",
      "iter: 119, diff: 2.840687e+172 \n",
      "iter: 120, diff: 7.884470e+173 \n",
      "iter: 121, diff: 2.188375e+175 \n",
      "iter: 122, diff: 6.073945e+176 \n",
      "iter: 123, diff: 1.685854e+178 \n",
      "iter: 124, diff: 4.679174e+179 \n",
      "iter: 125, diff: 1.298728e+181 \n",
      "iter: 126, diff: 3.604687e+182 \n",
      "iter: 127, diff: 1.000499e+184 \n",
      "iter: 128, diff: 2.776936e+185 \n",
      "iter: 129, diff: 7.707526e+186 \n",
      "iter: 130, diff: 2.139263e+188 \n",
      "iter: 131, diff: 5.937633e+189 \n",
      "iter: 132, diff: 1.648020e+191 \n",
      "iter: 133, diff: 4.574164e+192 \n",
      "iter: 134, diff: 1.269582e+194 \n",
      "iter: 135, diff: 3.523790e+195 \n",
      "iter: 136, diff: 9.780458e+196 \n",
      "iter: 137, diff: 2.714616e+198 \n",
      "iter: 138, diff: 7.534554e+199 \n",
      "iter: 139, diff: 2.091254e+201 \n",
      "iter: 140, diff: 5.804380e+202 \n",
      "iter: 141, diff: 1.611035e+204 \n",
      "iter: 142, diff: 4.471510e+205 \n",
      "iter: 143, diff: 1.241090e+207 \n",
      "iter: 144, diff: 3.444709e+208 \n",
      "iter: 145, diff: 9.560964e+209 \n",
      "iter: 146, diff: 2.653694e+211 \n",
      "iter: 147, diff: 7.365463e+212 \n",
      "iter: 148, diff: 2.044322e+214 \n",
      "iter: 149, diff: 5.674118e+215 \n",
      "iter: 150, diff: 1.574880e+217 \n",
      "iter: 151, diff: 4.371160e+218 \n",
      "iter: 152, diff: 1.213238e+220 \n",
      "iter: 153, diff: 3.367403e+221 \n",
      "iter: 154, diff: 9.346397e+222 \n",
      "iter: 155, diff: 2.594140e+224 \n",
      "iter: 156, diff: 7.200167e+225 \n",
      "iter: 157, diff: 1.998443e+227 \n",
      "iter: 158, diff: 5.546779e+228 \n",
      "iter: 159, diff: 1.539537e+230 \n",
      "iter: 160, diff: 4.273062e+231 \n",
      "iter: 161, diff: 1.186010e+233 \n",
      "iter: 162, diff: 3.291831e+234 \n",
      "iter: 163, diff: 9.136644e+235 \n",
      "iter: 164, diff: 2.535922e+237 \n",
      "iter: 165, diff: 7.038580e+238 \n",
      "iter: 166, diff: 1.953594e+240 \n",
      "iter: 167, diff: 5.422298e+241 \n",
      "iter: 168, diff: 1.504986e+243 \n",
      "iter: 169, diff: 4.177166e+244 \n",
      "iter: 170, diff: 1.159394e+246 \n",
      "iter: 171, diff: 3.217956e+247 \n",
      "iter: 172, diff: 8.931599e+248 \n",
      "iter: 173, diff: 2.479011e+250 \n",
      "iter: 174, diff: 6.880620e+251 \n",
      "iter: 175, diff: 1.909751e+253 \n",
      "iter: 176, diff: 5.300611e+254 \n",
      "iter: 177, diff: 1.471211e+256 \n",
      "iter: 178, diff: 4.083422e+257 \n",
      "iter: 179, diff: 1.133374e+259 \n",
      "iter: 180, diff: 3.145738e+260 \n",
      "iter: 181, diff: 8.731156e+261 \n",
      "iter: 182, diff: 2.423377e+263 \n",
      "iter: 183, diff: 6.726205e+264 \n",
      "iter: 184, diff: 1.866892e+266 \n",
      "iter: 185, diff: 5.181654e+267 \n",
      "iter: 186, diff: 1.438194e+269 \n",
      "iter: 187, diff: 3.991781e+270 \n",
      "iter: 188, diff: 1.107939e+272 \n",
      "iter: 189, diff: 3.075141e+273 \n",
      "iter: 190, diff: 8.535211e+274 \n",
      "iter: 191, diff: 2.368991e+276 \n",
      "iter: 192, diff: 6.575255e+277 \n",
      "iter: 193, diff: 1.824995e+279 \n",
      "iter: 194, diff: 5.065367e+280 \n",
      "iter: 195, diff: 1.405918e+282 \n",
      "iter: 196, diff: 3.902198e+283 \n",
      "iter: 197, diff: 1.083075e+285 \n",
      "iter: 198, diff: 3.006129e+286 \n",
      "iter: 199, diff: 8.343663e+287 \n",
      "iter: 200, diff: 2.315826e+289 \n",
      "iter: 201, diff: 6.427693e+290 \n",
      "iter: 202, diff: 1.784039e+292 \n",
      "iter: 203, diff: 4.951690e+293 \n",
      "iter: 204, diff: 1.374367e+295 \n",
      "iter: 205, diff: 3.814624e+296 \n",
      "iter: 206, diff: 1.058768e+298 \n",
      "iter: 207, diff: 2.938665e+299 \n",
      "iter: 208, diff: 8.156414e+300 \n",
      "iter: 209, diff: 2.263854e+302 \n",
      "iter: 210, diff: 6.283442e+303 \n",
      "iter: 211, diff: 1.744001e+305 \n",
      "iter: 212, diff: 4.840564e+306 \n",
      "iter: 213, diff: 1.343523e+308 \n",
      "iter: 214, diff: Inf \n",
      "iter: 215, diff: NaN \n",
      "iter: 216, diff: NaN \n",
      "iter: 217, diff: NaN \n",
      "iter: 218, diff: NaN \n",
      "iter: 219, diff: NaN \n",
      "iter: 220, diff: NaN \n",
      "iter: 221, diff: NaN \n",
      "iter: 222, diff: NaN \n",
      "iter: 223, diff: NaN \n",
      "iter: 224, diff: NaN \n",
      "iter: 225, diff: NaN \n",
      "iter: 226, diff: NaN \n",
      "iter: 227, diff: NaN \n",
      "iter: 228, diff: NaN \n",
      "iter: 229, diff: NaN \n",
      "iter: 230, diff: NaN \n",
      "iter: 231, diff: NaN \n",
      "iter: 232, diff: NaN \n",
      "iter: 233, diff: NaN \n",
      "iter: 234, diff: NaN \n",
      "iter: 235, diff: NaN \n",
      "iter: 236, diff: NaN \n",
      "iter: 237, diff: NaN \n",
      "iter: 238, diff: NaN \n",
      "iter: 239, diff: NaN \n",
      "iter: 240, diff: NaN \n",
      "iter: 241, diff: NaN \n",
      "iter: 242, diff: NaN \n",
      "iter: 243, diff: NaN \n",
      "iter: 244, diff: NaN \n",
      "iter: 245, diff: NaN \n",
      "iter: 246, diff: NaN \n",
      "iter: 247, diff: NaN \n",
      "iter: 248, diff: NaN \n",
      "iter: 249, diff: NaN \n",
      "iter: 250, diff: NaN \n",
      "iter: 251, diff: NaN \n",
      "iter: 252, diff: NaN \n",
      "iter: 253, diff: NaN \n",
      "iter: 254, diff: NaN \n",
      "iter: 255, diff: NaN \n",
      "iter: 256, diff: NaN \n",
      "iter: 257, diff: NaN \n",
      "iter: 258, diff: NaN \n",
      "iter: 259, diff: NaN \n",
      "iter: 260, diff: NaN \n",
      "iter: 261, diff: NaN \n",
      "iter: 262, diff: NaN \n",
      "iter: 263, diff: NaN \n",
      "iter: 264, diff: NaN \n",
      "iter: 265, diff: NaN \n",
      "iter: 266, diff: NaN \n",
      "iter: 267, diff: NaN \n",
      "iter: 268, diff: NaN \n",
      "iter: 269, diff: NaN \n",
      "iter: 270, diff: NaN \n",
      "iter: 271, diff: NaN \n",
      "iter: 272, diff: NaN \n",
      "iter: 273, diff: NaN \n",
      "iter: 274, diff: NaN \n",
      "iter: 275, diff: NaN \n",
      "iter: 276, diff: NaN \n",
      "iter: 277, diff: NaN \n",
      "iter: 278, diff: NaN \n",
      "iter: 279, diff: NaN \n",
      "iter: 280, diff: NaN \n",
      "iter: 281, diff: NaN \n",
      "iter: 282, diff: NaN \n",
      "iter: 283, diff: NaN \n",
      "iter: 284, diff: NaN \n",
      "iter: 285, diff: NaN \n",
      "iter: 286, diff: NaN \n",
      "iter: 287, diff: NaN \n",
      "iter: 288, diff: NaN \n",
      "iter: 289, diff: NaN \n",
      "iter: 290, diff: NaN \n",
      "iter: 291, diff: NaN \n",
      "iter: 292, diff: NaN \n",
      "iter: 293, diff: NaN \n",
      "iter: 294, diff: NaN \n",
      "iter: 295, diff: NaN \n",
      "iter: 296, diff: NaN \n",
      "iter: 297, diff: NaN \n",
      "iter: 298, diff: NaN \n",
      "iter: 299, diff: NaN \n",
      "iter: 300, diff: NaN \n",
      "iter: 301, diff: NaN \n",
      "iter: 302, diff: NaN \n",
      "iter: 303, diff: NaN \n",
      "iter: 304, diff: NaN \n",
      "iter: 305, diff: NaN \n",
      "iter: 306, diff: NaN \n",
      "iter: 307, diff: NaN \n",
      "iter: 308, diff: NaN \n",
      "iter: 309, diff: NaN \n",
      "iter: 310, diff: NaN \n",
      "iter: 311, diff: NaN \n",
      "iter: 312, diff: NaN \n",
      "iter: 313, diff: NaN \n",
      "iter: 314, diff: NaN \n",
      "iter: 315, diff: NaN \n",
      "iter: 316, diff: NaN \n",
      "iter: 317, diff: NaN \n",
      "iter: 318, diff: NaN \n",
      "iter: 319, diff: NaN \n",
      "iter: 320, diff: NaN \n",
      "iter: 321, diff: NaN \n",
      "iter: 322, diff: NaN \n",
      "iter: 323, diff: NaN \n",
      "iter: 324, diff: NaN \n",
      "iter: 325, diff: NaN \n",
      "iter: 326, diff: NaN \n",
      "iter: 327, diff: NaN \n",
      "iter: 328, diff: NaN \n",
      "iter: 329, diff: NaN \n",
      "iter: 330, diff: NaN \n",
      "iter: 331, diff: NaN \n",
      "iter: 332, diff: NaN \n",
      "iter: 333, diff: NaN \n",
      "iter: 334, diff: NaN \n",
      "iter: 335, diff: NaN \n",
      "iter: 336, diff: NaN \n",
      "iter: 337, diff: NaN \n",
      "iter: 338, diff: NaN \n",
      "iter: 339, diff: NaN \n",
      "iter: 340, diff: NaN \n",
      "iter: 341, diff: NaN \n",
      "iter: 342, diff: NaN \n",
      "iter: 343, diff: NaN \n",
      "iter: 344, diff: NaN \n",
      "iter: 345, diff: NaN \n",
      "iter: 346, diff: NaN \n",
      "iter: 347, diff: NaN \n",
      "iter: 348, diff: NaN \n",
      "iter: 349, diff: NaN \n",
      "iter: 350, diff: NaN \n",
      "iter: 351, diff: NaN \n",
      "iter: 352, diff: NaN \n",
      "iter: 353, diff: NaN \n",
      "iter: 354, diff: NaN \n",
      "iter: 355, diff: NaN \n",
      "iter: 356, diff: NaN \n",
      "iter: 357, diff: NaN \n",
      "iter: 358, diff: NaN \n",
      "iter: 359, diff: NaN \n",
      "iter: 360, diff: NaN \n",
      "iter: 361, diff: NaN \n",
      "iter: 362, diff: NaN \n",
      "iter: 363, diff: NaN \n",
      "iter: 364, diff: NaN \n",
      "iter: 365, diff: NaN \n",
      "iter: 366, diff: NaN \n",
      "iter: 367, diff: NaN \n",
      "iter: 368, diff: NaN \n",
      "iter: 369, diff: NaN \n",
      "iter: 370, diff: NaN \n",
      "iter: 371, diff: NaN \n",
      "iter: 372, diff: NaN \n",
      "iter: 373, diff: NaN \n",
      "iter: 374, diff: NaN \n",
      "iter: 375, diff: NaN \n",
      "iter: 376, diff: NaN \n",
      "iter: 377, diff: NaN \n",
      "iter: 378, diff: NaN \n",
      "iter: 379, diff: NaN \n",
      "iter: 380, diff: NaN \n",
      "iter: 381, diff: NaN \n",
      "iter: 382, diff: NaN \n",
      "iter: 383, diff: NaN \n",
      "iter: 384, diff: NaN \n",
      "iter: 385, diff: NaN \n",
      "iter: 386, diff: NaN \n",
      "iter: 387, diff: NaN \n",
      "iter: 388, diff: NaN \n",
      "iter: 389, diff: NaN \n",
      "iter: 390, diff: NaN \n",
      "iter: 391, diff: NaN \n",
      "iter: 392, diff: NaN \n",
      "iter: 393, diff: NaN \n",
      "iter: 394, diff: NaN \n",
      "iter: 395, diff: NaN \n",
      "iter: 396, diff: NaN \n",
      "iter: 397, diff: NaN \n",
      "iter: 398, diff: NaN \n",
      "iter: 399, diff: NaN \n",
      "iter: 400, diff: NaN \n",
      "iter: 401, diff: NaN \n",
      "iter: 402, diff: NaN \n",
      "iter: 403, diff: NaN \n",
      "iter: 404, diff: NaN \n",
      "iter: 405, diff: NaN \n",
      "iter: 406, diff: NaN \n",
      "iter: 407, diff: NaN \n",
      "iter: 408, diff: NaN \n",
      "iter: 409, diff: NaN \n",
      "iter: 410, diff: NaN \n",
      "iter: 411, diff: NaN \n",
      "iter: 412, diff: NaN \n",
      "iter: 413, diff: NaN \n",
      "iter: 414, diff: NaN \n",
      "iter: 415, diff: NaN \n",
      "iter: 416, diff: NaN \n",
      "iter: 417, diff: NaN \n",
      "iter: 418, diff: NaN \n",
      "iter: 419, diff: NaN \n",
      "iter: 420, diff: NaN \n",
      "iter: 421, diff: NaN \n",
      "iter: 422, diff: NaN \n",
      "iter: 423, diff: NaN \n",
      "iter: 424, diff: NaN \n",
      "iter: 425, diff: NaN \n",
      "iter: 426, diff: NaN \n",
      "iter: 427, diff: NaN \n",
      "iter: 428, diff: NaN \n",
      "iter: 429, diff: NaN \n",
      "iter: 430, diff: NaN \n",
      "iter: 431, diff: NaN \n",
      "iter: 432, diff: NaN \n",
      "iter: 433, diff: NaN \n",
      "iter: 434, diff: NaN \n",
      "iter: 435, diff: NaN \n",
      "iter: 436, diff: NaN \n",
      "iter: 437, diff: NaN \n",
      "iter: 438, diff: NaN \n",
      "iter: 439, diff: NaN \n",
      "iter: 440, diff: NaN \n",
      "iter: 441, diff: NaN \n",
      "iter: 442, diff: NaN \n",
      "iter: 443, diff: NaN \n",
      "iter: 444, diff: NaN \n",
      "iter: 445, diff: NaN \n",
      "iter: 446, diff: NaN \n",
      "iter: 447, diff: NaN \n",
      "iter: 448, diff: NaN \n",
      "iter: 449, diff: NaN \n",
      "iter: 450, diff: NaN \n",
      "iter: 451, diff: NaN \n",
      "iter: 452, diff: NaN \n",
      "iter: 453, diff: NaN \n",
      "iter: 454, diff: NaN \n",
      "iter: 455, diff: NaN \n",
      "iter: 456, diff: NaN \n",
      "iter: 457, diff: NaN \n",
      "iter: 458, diff: NaN \n",
      "iter: 459, diff: NaN \n",
      "iter: 460, diff: NaN \n",
      "iter: 461, diff: NaN \n",
      "iter: 462, diff: NaN \n",
      "iter: 463, diff: NaN \n",
      "iter: 464, diff: NaN \n",
      "iter: 465, diff: NaN \n",
      "iter: 466, diff: NaN \n",
      "iter: 467, diff: NaN \n",
      "iter: 468, diff: NaN \n",
      "iter: 469, diff: NaN \n",
      "iter: 470, diff: NaN \n",
      "iter: 471, diff: NaN \n",
      "iter: 472, diff: NaN \n",
      "iter: 473, diff: NaN \n",
      "iter: 474, diff: NaN \n",
      "iter: 475, diff: NaN \n",
      "iter: 476, diff: NaN \n",
      "iter: 477, diff: NaN \n",
      "iter: 478, diff: NaN \n",
      "iter: 479, diff: NaN \n",
      "iter: 480, diff: NaN \n",
      "iter: 481, diff: NaN \n",
      "iter: 482, diff: NaN \n",
      "iter: 483, diff: NaN \n",
      "iter: 484, diff: NaN \n",
      "iter: 485, diff: NaN \n",
      "iter: 486, diff: NaN \n",
      "iter: 487, diff: NaN \n",
      "iter: 488, diff: NaN \n",
      "iter: 489, diff: NaN \n",
      "iter: 490, diff: NaN \n",
      "iter: 491, diff: NaN \n",
      "iter: 492, diff: NaN \n",
      "iter: 493, diff: NaN \n",
      "iter: 494, diff: NaN \n",
      "iter: 495, diff: NaN \n",
      "iter: 496, diff: NaN \n",
      "iter: 497, diff: NaN \n",
      "iter: 498, diff: NaN \n",
      "iter: 499, diff: NaN \n",
      "iter: 500, diff: NaN \n"
     ]
    }
   ],
   "source": [
    "sigBA=rand(chi,chi)\n",
    "sBA=ones(chi) ./sqrt(chi)\n",
    "tolerance=1e-10#defining the tolerance reuqired for the operation\n",
    "tensor=Any[diagm(0=>sBA),diagm(0=>sBA),A,conj(A),diagm(0=>sAB),diagm(0=>sAB),B,conj(B)]\n",
    "label=Any[[1,2],[1,3],[2,4],[3,5,6],[4,5,7],[6,8],[7,9],[8,10,-1],[9,10,-2]]\n",
    "#iterating conraction until converged\n",
    "for k in 1:500\n",
    "    global sigBA,tolerance,tensor,label\n",
    "    sigBA_new=ncon(Any[sigBA,tensor...],label)\n",
    "    siggBA_new=sigBA_new/tr(sigBA_new)\n",
    "  if norm(sigBA - sigBA_new) < tolerance\n",
    "    @printf \"success! \\n\"\n",
    "    break\n",
    "  else\n",
    "    @printf \"iter: %d, diff: %e \\n\" k norm(sigBA - sigBA_new)\n",
    "    sigBA = sigBA_new;\n",
    "  end\n",
    "end"
   ]
  },
  {
   "cell_type": "code",
   "execution_count": null,
   "id": "9939d619-7b6e-4d78-b4e3-d1718bbb4b93",
   "metadata": {},
   "outputs": [
    {
     "name": "stderr",
     "output_type": "stream",
     "text": [
      "\u001b[32m\u001b[1m    Updating\u001b[22m\u001b[39m registry at `C:\\Users\\shikh\\.julia\\registries\\General.toml`\n",
      "\u001b[32m\u001b[1m   Installed\u001b[22m\u001b[39m GR_jll ──────────────────── v0.73.7+0\n",
      "\u001b[32m\u001b[1m   Installed\u001b[22m\u001b[39m libdecor_jll ────────────── v0.2.2+0\n",
      "\u001b[32m\u001b[1m   Installed\u001b[22m\u001b[39m HypergeometricFunctions ─── v0.3.24\n",
      "\u001b[32m\u001b[1m   Installed\u001b[22m\u001b[39m Accessors ───────────────── v0.1.38\n",
      "\u001b[32m\u001b[1m   Installed\u001b[22m\u001b[39m libfdk_aac_jll ──────────── v2.0.3+0\n",
      "\u001b[32m\u001b[1m   Installed\u001b[22m\u001b[39m StatsFuns ───────────────── v1.3.2\n",
      "\u001b[32m\u001b[1m   Installed\u001b[22m\u001b[39m MutableArithmetics ──────── v1.4.6\n",
      "\u001b[32m\u001b[1m   Installed\u001b[22m\u001b[39m NNlib ───────────────────── v0.9.23\n",
      "\u001b[32m\u001b[1m   Installed\u001b[22m\u001b[39m Opus_jll ────────────────── v1.3.3+0\n",
      "\u001b[32m\u001b[1m   Installed\u001b[22m\u001b[39m Unitful ─────────────────── v1.21.0\n",
      "\u001b[32m\u001b[1m   Installed\u001b[22m\u001b[39m InlineStrings ───────────── v1.4.2\n",
      "\u001b[32m\u001b[1m   Installed\u001b[22m\u001b[39m ConcurrentUtilities ─────── v2.4.2\n",
      "\u001b[32m\u001b[1m   Installed\u001b[22m\u001b[39m StaticArrays ────────────── v1.9.7\n",
      "\u001b[32m\u001b[1m   Installed\u001b[22m\u001b[39m GPUArrays ───────────────── v10.3.1\n",
      "\u001b[32m\u001b[1m   Installed\u001b[22m\u001b[39m RecursiveArrayTools ─────── v3.27.0\n",
      "\u001b[32m\u001b[1m   Installed\u001b[22m\u001b[39m ColorSchemes ────────────── v3.26.0\n",
      "\u001b[32m\u001b[1m   Installed\u001b[22m\u001b[39m Static ──────────────────── v1.1.1\n",
      "\u001b[32m\u001b[1m   Installed\u001b[22m\u001b[39m Bijections ──────────────── v0.1.9\n",
      "\u001b[32m\u001b[1m   Installed\u001b[22m\u001b[39m KrylovKit ───────────────── v0.8.1\n",
      "\u001b[32m\u001b[1m   Installed\u001b[22m\u001b[39m FiniteDiff ──────────────── v2.24.0\n",
      "\u001b[32m\u001b[1m   Installed\u001b[22m\u001b[39m Functors ────────────────── v0.4.12\n",
      "\u001b[32m\u001b[1m   Installed\u001b[22m\u001b[39m Pango_jll ───────────────── v1.54.1+0\n",
      "\u001b[32m\u001b[1m   Installed\u001b[22m\u001b[39m PtrArrays ───────────────── v1.2.1\n",
      "\u001b[32m\u001b[1m   Installed\u001b[22m\u001b[39m GR ──────────────────────── v0.73.7\n",
      "\u001b[32m\u001b[1m   Installed\u001b[22m\u001b[39m HarfBuzz_jll ────────────── v8.3.1+0\n",
      "\u001b[32m\u001b[1m   Installed\u001b[22m\u001b[39m ADTypes ─────────────────── v1.7.1\n",
      "\u001b[32m\u001b[1m   Installed\u001b[22m\u001b[39m IJulia ──────────────────── v1.25.0\n",
      "\u001b[32m\u001b[1m   Installed\u001b[22m\u001b[39m SciMLBase ───────────────── v2.53.1\n",
      "\u001b[32m\u001b[1m   Installed\u001b[22m\u001b[39m Symbolics ───────────────── v6.11.0\n",
      "\u001b[32m\u001b[1m   Installed\u001b[22m\u001b[39m LLVM ────────────────────── v9.1.2\n",
      "\u001b[32m\u001b[1m   Installed\u001b[22m\u001b[39m PyPlot ──────────────────── v2.11.5\n",
      "\u001b[32m\u001b[1m   Installed\u001b[22m\u001b[39m TranscodingStreams ──────── v0.11.2\n",
      "\u001b[32m\u001b[1m   Installed\u001b[22m\u001b[39m UnsafeAtomicsLLVM ───────── v0.2.1\n",
      "\u001b[32m\u001b[1m   Installed\u001b[22m\u001b[39m GLFW_jll ────────────────── v3.4.0+1\n",
      "\u001b[32m\u001b[1m   Installed\u001b[22m\u001b[39m fzf_jll ─────────────────── v0.53.0+0\n",
      "\u001b[32m\u001b[1m   Installed\u001b[22m\u001b[39m Rmath_jll ───────────────── v0.5.1+0\n",
      "\u001b[32m\u001b[1m   Installed\u001b[22m\u001b[39m CommonSubexpressions ────── v0.3.1\n",
      "\u001b[32m\u001b[1m   Installed\u001b[22m\u001b[39m ChainRules ──────────────── v1.70.0\n",
      "\u001b[32m\u001b[1m   Installed\u001b[22m\u001b[39m Compat ──────────────────── v4.16.0\n",
      "\u001b[32m\u001b[1m   Installed\u001b[22m\u001b[39m JLFzf ───────────────────── v0.1.8\n",
      "\u001b[32m\u001b[1m   Installed\u001b[22m\u001b[39m StridedViews ────────────── v0.3.1\n",
      "\u001b[32m\u001b[1m   Installed\u001b[22m\u001b[39m StaticArrayInterface ────── v1.8.0\n",
      "\u001b[32m\u001b[1m   Installed\u001b[22m\u001b[39m CommonWorldInvalidations ── v1.0.0\n",
      "\u001b[32m\u001b[1m   Installed\u001b[22m\u001b[39m Expronicon ──────────────── v0.8.5\n",
      "\u001b[32m\u001b[1m   Installed\u001b[22m\u001b[39m NDTensors ───────────────── v0.3.42\n",
      "\u001b[32m\u001b[1m   Installed\u001b[22m\u001b[39m Dbus_jll ────────────────── v1.14.10+0\n",
      "\u001b[32m\u001b[1m   Installed\u001b[22m\u001b[39m CodecZlib ───────────────── v0.7.6\n",
      "\u001b[32m\u001b[1m   Installed\u001b[22m\u001b[39m DynamicPolynomials ──────── v0.6.0\n",
      "\u001b[32m\u001b[1m   Installed\u001b[22m\u001b[39m Xorg_libxcb_jll ─────────── v1.17.0+0\n",
      "\u001b[32m\u001b[1m   Installed\u001b[22m\u001b[39m ArrayLayouts ────────────── v1.10.3\n",
      "\u001b[32m\u001b[1m   Installed\u001b[22m\u001b[39m SciMLStructures ─────────── v1.5.0\n",
      "\u001b[32m\u001b[1m   Installed\u001b[22m\u001b[39m Conda ───────────────────── v1.10.2\n",
      "\u001b[32m\u001b[1m   Installed\u001b[22m\u001b[39m Plots ───────────────────── v1.40.8\n",
      "\u001b[32m\u001b[1m   Installed\u001b[22m\u001b[39m ZMQ ─────────────────────── v1.3.0\n",
      "\u001b[32m\u001b[1m   Installed\u001b[22m\u001b[39m JLLWrappers ─────────────── v1.6.0\n",
      "\u001b[32m\u001b[1m   Installed\u001b[22m\u001b[39m SciMLOperators ──────────── v0.3.10\n",
      "\u001b[32m\u001b[1m   Installed\u001b[22m\u001b[39m ConstructionBase ────────── v1.5.8\n",
      "\u001b[32m\u001b[1m   Installed\u001b[22m\u001b[39m LLVMExtra_jll ───────────── v0.0.34+0\n",
      "\u001b[32m\u001b[1m   Installed\u001b[22m\u001b[39m SymbolicLimits ──────────── v0.2.2\n",
      "\u001b[32m\u001b[1m   Installed\u001b[22m\u001b[39m SymPy ───────────────────── v2.2.0\n",
      "\u001b[32m\u001b[1m   Installed\u001b[22m\u001b[39m XSLT_jll ────────────────── v1.1.41+0\n",
      "\u001b[32m\u001b[1m   Installed\u001b[22m\u001b[39m ArrayInterface ──────────── v7.16.0\n",
      "\u001b[32m\u001b[1m   Installed\u001b[22m\u001b[39m LineSearches ────────────── v7.3.0\n",
      "\u001b[32m\u001b[1m   Installed\u001b[22m\u001b[39m Flux ────────────────────── v0.14.19\n",
      "\u001b[32m\u001b[1m   Installed\u001b[22m\u001b[39m libass_jll ──────────────── v0.15.2+0\n",
      "\u001b[32m\u001b[1m   Installed\u001b[22m\u001b[39m KernelAbstractions ──────── v0.9.25\n",
      "\u001b[32m\u001b[1m   Installed\u001b[22m\u001b[39m Strided ─────────────────── v2.1.1\n",
      "\u001b[32m\u001b[1m   Installed\u001b[22m\u001b[39m Qt6ShaderTools_jll ──────── v6.7.1+1\n",
      "\u001b[32m\u001b[1m   Installed\u001b[22m\u001b[39m Qt6Declarative_jll ──────── v6.7.1+2\n",
      "\u001b[32m\u001b[1m   Installed\u001b[22m\u001b[39m ITensorMPS ──────────────── v0.2.5\n",
      "\u001b[32m\u001b[1m   Installed\u001b[22m\u001b[39m InverseFunctions ────────── v0.1.16\n",
      "\u001b[32m\u001b[1m   Installed\u001b[22m\u001b[39m ITensorTDVP ─────────────── v0.4.9\n",
      "\u001b[32m\u001b[1m   Installed\u001b[22m\u001b[39m Rmath ───────────────────── v0.8.0\n",
      "\u001b[32m\u001b[1m   Installed\u001b[22m\u001b[39m XML2_jll ────────────────── v2.13.3+0\n",
      "\u001b[32m\u001b[1m   Installed\u001b[22m\u001b[39m IntegerMathUtils ────────── v0.1.2\n",
      "\u001b[32m\u001b[1m   Installed\u001b[22m\u001b[39m Suppressor ──────────────── v0.2.8\n",
      "\u001b[32m\u001b[1m   Installed\u001b[22m\u001b[39m Latexify ────────────────── v0.16.5\n",
      "\u001b[32m\u001b[1m   Installed\u001b[22m\u001b[39m Tables ──────────────────── v1.12.0\n",
      "\u001b[32m\u001b[1m   Installed\u001b[22m\u001b[39m SymPyCore ───────────────── v0.2.5\n",
      "\u001b[32m\u001b[1m   Installed\u001b[22m\u001b[39m BitFlags ────────────────── v0.1.9\n",
      "\u001b[32m\u001b[1m   Installed\u001b[22m\u001b[39m OpenSSL_jll ─────────────── v3.0.15+0\n",
      "\u001b[32m\u001b[1m   Installed\u001b[22m\u001b[39m TermInterface ───────────── v2.0.0\n",
      "\u001b[32m\u001b[1m   Installed\u001b[22m\u001b[39m LLVMOpenMP_jll ──────────── v18.1.7+0\n",
      "\u001b[32m\u001b[1m   Installed\u001b[22m\u001b[39m Qt6Wayland_jll ──────────── v6.7.1+1\n",
      "\u001b[32m\u001b[1m   Installed\u001b[22m\u001b[39m Qt6Base_jll ─────────────── v6.7.1+1\n",
      "\u001b[32m\u001b[1m   Installed\u001b[22m\u001b[39m Primes ──────────────────── v0.5.6\n",
      "\u001b[32m\u001b[1m   Installed\u001b[22m\u001b[39m SymbolicUtils ───────────── v3.6.0\n",
      "\u001b[32m\u001b[1m   Installed\u001b[22m\u001b[39m BlockArrays ─────────────── v1.1.1\n",
      "\u001b[32m\u001b[1m   Installed\u001b[22m\u001b[39m libvorbis_jll ───────────── v1.3.7+2\n",
      "\u001b[32m\u001b[1m   Installed\u001b[22m\u001b[39m FillArrays ──────────────── v1.13.0\n",
      "\u001b[32m\u001b[1m   Installed\u001b[22m\u001b[39m SymbolicIndexingInterface ─ v0.3.30\n",
      "\u001b[32m\u001b[1m   Installed\u001b[22m\u001b[39m UnitfulLatexify ─────────── v1.6.4\n",
      "\u001b[32m\u001b[1m   Installed\u001b[22m\u001b[39m QuadGK ──────────────────── v2.11.0\n",
      "\u001b[32m\u001b[1m   Installed\u001b[22m\u001b[39m Distributions ───────────── v0.25.111\n",
      "\u001b[32m\u001b[1m   Installed\u001b[22m\u001b[39m ITensors ────────────────── v0.6.17\n",
      "\u001b[32m\u001b[1m    Updating\u001b[22m\u001b[39m `C:\\Users\\shikh\\.julia\\environments\\v1.10\\Project.toml`\n",
      "  \u001b[90m[587475ba] \u001b[39m\u001b[93m↑ Flux v0.14.17 ⇒ v0.14.19\u001b[39m\n",
      "  \u001b[90m[7073ff75] \u001b[39m\u001b[93m↑ IJulia v1.24.2 ⇒ v1.25.0\u001b[39m\n",
      "  \u001b[90m[0d1a4710] \u001b[39m\u001b[93m↑ ITensorMPS v0.2.4 ⇒ v0.2.5\u001b[39m\n",
      "  \u001b[90m[9136182c] \u001b[39m\u001b[93m↑ ITensors v0.6.12 ⇒ v0.6.17\u001b[39m\n",
      "  \u001b[90m[0b1a1467] \u001b[39m\u001b[93m↑ KrylovKit v0.8.0 ⇒ v0.8.1\u001b[39m\n",
      "  \u001b[90m[91a5bcdd] \u001b[39m\u001b[93m↑ Plots v1.40.2 ⇒ v1.40.8\u001b[39m\n",
      "  \u001b[90m[d330b81b] \u001b[39m\u001b[93m↑ PyPlot v2.11.2 ⇒ v2.11.5\u001b[39m\n",
      "  \u001b[90m[1fd47b50] \u001b[39m\u001b[93m↑ QuadGK v2.9.4 ⇒ v2.11.0\u001b[39m\n",
      "  \u001b[90m[24249f21] \u001b[39m\u001b[93m↑ SymPy v2.0.1 ⇒ v2.2.0\u001b[39m\n",
      "  \u001b[90m[0c5d862f] \u001b[39m\u001b[93m↑ Symbolics v5.28.0 ⇒ v6.11.0\u001b[39m\n",
      "\u001b[32m\u001b[1m    Updating\u001b[22m\u001b[39m `C:\\Users\\shikh\\.julia\\environments\\v1.10\\Manifest.toml`\n",
      "  \u001b[90m[47edcb42] \u001b[39m\u001b[93m↑ ADTypes v1.3.0 ⇒ v1.7.1\u001b[39m\n",
      "  \u001b[90m[7d9f7c33] \u001b[39m\u001b[93m↑ Accessors v0.1.36 ⇒ v0.1.38\u001b[39m\n",
      "  \u001b[90m[4fba245c] \u001b[39m\u001b[93m↑ ArrayInterface v7.11.0 ⇒ v7.16.0\u001b[39m\n",
      "  \u001b[90m[4c555306] \u001b[39m\u001b[93m↑ ArrayLayouts v1.9.4 ⇒ v1.10.3\u001b[39m\n",
      "  \u001b[90m[e2ed5e7c] \u001b[39m\u001b[93m↑ Bijections v0.1.6 ⇒ v0.1.9\u001b[39m\n",
      "  \u001b[90m[d1d4a3ce] \u001b[39m\u001b[93m↑ BitFlags v0.1.8 ⇒ v0.1.9\u001b[39m\n",
      "  \u001b[90m[8e7c35d0] \u001b[39m\u001b[93m↑ BlockArrays v1.0.1 ⇒ v1.1.1\u001b[39m\n",
      "  \u001b[90m[49dc2e85] \u001b[39m\u001b[91m- Calculus v0.5.1\u001b[39m\n",
      "  \u001b[90m[082447d4] \u001b[39m\u001b[93m↑ ChainRules v1.69.0 ⇒ v1.70.0\u001b[39m\n",
      "  \u001b[90m[944b1d66] \u001b[39m\u001b[93m↑ CodecZlib v0.7.4 ⇒ v0.7.6\u001b[39m\n",
      "  \u001b[90m[35d6a980] \u001b[39m\u001b[93m↑ ColorSchemes v3.25.0 ⇒ v3.26.0\u001b[39m\n",
      "  \u001b[90m[bbf7d656] \u001b[39m\u001b[93m↑ CommonSubexpressions v0.3.0 ⇒ v0.3.1\u001b[39m\n",
      "  \u001b[90m[f70d9fcc] \u001b[39m\u001b[92m+ CommonWorldInvalidations v1.0.0\u001b[39m\n",
      "  \u001b[90m[34da2185] \u001b[39m\u001b[93m↑ Compat v4.15.0 ⇒ v4.16.0\u001b[39m\n",
      "  \u001b[90m[f0e56b4a] \u001b[39m\u001b[93m↑ ConcurrentUtilities v2.4.1 ⇒ v2.4.2\u001b[39m\n",
      "  \u001b[90m[8f4d0f93] \u001b[39m\u001b[93m↑ Conda v1.10.0 ⇒ v1.10.2\u001b[39m\n",
      "  \u001b[90m[187b0558] \u001b[39m\u001b[93m↑ ConstructionBase v1.5.5 ⇒ v1.5.8\u001b[39m\n",
      "  \u001b[90m[31c24e10] \u001b[39m\u001b[93m↑ Distributions v0.25.109 ⇒ v0.25.111\u001b[39m\n",
      "  \u001b[90m[fa6b7ba4] \u001b[39m\u001b[91m- DualNumbers v0.6.8\u001b[39m\n",
      "  \u001b[90m[7c1d4256] \u001b[39m\u001b[93m↑ DynamicPolynomials v0.5.7 ⇒ v0.6.0\u001b[39m\n",
      "\u001b[33m⌅\u001b[39m \u001b[90m[6b7a57c9] \u001b[39m\u001b[92m+ Expronicon v0.8.5\u001b[39m\n",
      "  \u001b[90m[1a297f60] \u001b[39m\u001b[93m↑ FillArrays v1.11.0 ⇒ v1.13.0\u001b[39m\n",
      "  \u001b[90m[6a86dc24] \u001b[39m\u001b[93m↑ FiniteDiff v2.23.1 ⇒ v2.24.0\u001b[39m\n",
      "  \u001b[90m[587475ba] \u001b[39m\u001b[93m↑ Flux v0.14.17 ⇒ v0.14.19\u001b[39m\n",
      "  \u001b[90m[d9f16b24] \u001b[39m\u001b[93m↑ Functors v0.4.11 ⇒ v0.4.12\u001b[39m\n",
      "  \u001b[90m[0c68f7d7] \u001b[39m\u001b[93m↑ GPUArrays v10.3.0 ⇒ v10.3.1\u001b[39m\n",
      "  \u001b[90m[28b8d3ca] \u001b[39m\u001b[93m↑ GR v0.73.5 ⇒ v0.73.7\u001b[39m\n",
      "  \u001b[90m[34004b35] \u001b[39m\u001b[93m↑ HypergeometricFunctions v0.3.23 ⇒ v0.3.24\u001b[39m\n",
      "  \u001b[90m[7073ff75] \u001b[39m\u001b[93m↑ IJulia v1.24.2 ⇒ v1.25.0\u001b[39m\n",
      "  \u001b[90m[0d1a4710] \u001b[39m\u001b[93m↑ ITensorMPS v0.2.4 ⇒ v0.2.5\u001b[39m\n",
      "  \u001b[90m[25707e16] \u001b[39m\u001b[93m↑ ITensorTDVP v0.4.6 ⇒ v0.4.9\u001b[39m\n",
      "  \u001b[90m[9136182c] \u001b[39m\u001b[93m↑ ITensors v0.6.12 ⇒ v0.6.17\u001b[39m\n",
      "  \u001b[90m[842dd82b] \u001b[39m\u001b[93m↑ InlineStrings v1.4.0 ⇒ v1.4.2\u001b[39m\n",
      "  \u001b[90m[18e54dd8] \u001b[39m\u001b[92m+ IntegerMathUtils v0.1.2\u001b[39m\n",
      "  \u001b[90m[3587e190] \u001b[39m\u001b[93m↑ InverseFunctions v0.1.14 ⇒ v0.1.16\u001b[39m\n",
      "  \u001b[90m[1019f520] \u001b[39m\u001b[93m↑ JLFzf v0.1.7 ⇒ v0.1.8\u001b[39m\n",
      "  \u001b[90m[692b3bcd] \u001b[39m\u001b[93m↑ JLLWrappers v1.5.0 ⇒ v1.6.0\u001b[39m\n",
      "  \u001b[90m[63c18a36] \u001b[39m\u001b[93m↑ KernelAbstractions v0.9.22 ⇒ v0.9.25\u001b[39m\n",
      "  \u001b[90m[0b1a1467] \u001b[39m\u001b[93m↑ KrylovKit v0.8.0 ⇒ v0.8.1\u001b[39m\n",
      "  \u001b[90m[929cbde3] \u001b[39m\u001b[93m↑ LLVM v8.1.0 ⇒ v9.1.2\u001b[39m\n",
      "  \u001b[90m[2ee39098] \u001b[39m\u001b[91m- LabelledArrays v1.16.0\u001b[39m\n",
      "  \u001b[90m[23fbe1c1] \u001b[39m\u001b[93m↑ Latexify v0.16.3 ⇒ v0.16.5\u001b[39m\n",
      "  \u001b[90m[d3d80556] \u001b[39m\u001b[93m↑ LineSearches v7.2.0 ⇒ v7.3.0\u001b[39m\n",
      "  \u001b[90m[dbb5928d] \u001b[39m\u001b[91m- MappedArrays v0.4.2\u001b[39m\n",
      "  \u001b[90m[d8a4904e] \u001b[39m\u001b[93m↑ MutableArithmetics v1.4.5 ⇒ v1.4.6\u001b[39m\n",
      "  \u001b[90m[23ae76d9] \u001b[39m\u001b[93m↑ NDTensors v0.3.28 ⇒ v0.3.42\u001b[39m\n",
      "  \u001b[90m[872c559c] \u001b[39m\u001b[93m↑ NNlib v0.9.21 ⇒ v0.9.23\u001b[39m\n",
      "  \u001b[90m[91a5bcdd] \u001b[39m\u001b[93m↑ Plots v1.40.2 ⇒ v1.40.8\u001b[39m\n",
      "  \u001b[90m[d236fae5] \u001b[39m\u001b[91m- PreallocationTools v0.4.22\u001b[39m\n",
      "  \u001b[90m[27ebfcd6] \u001b[39m\u001b[92m+ Primes v0.5.6\u001b[39m\n",
      "  \u001b[90m[43287f4e] \u001b[39m\u001b[93m↑ PtrArrays v1.2.0 ⇒ v1.2.1\u001b[39m\n",
      "  \u001b[90m[d330b81b] \u001b[39m\u001b[93m↑ PyPlot v2.11.2 ⇒ v2.11.5\u001b[39m\n",
      "  \u001b[90m[1fd47b50] \u001b[39m\u001b[93m↑ QuadGK v2.9.4 ⇒ v2.11.0\u001b[39m\n",
      "  \u001b[90m[731186ca] \u001b[39m\u001b[93m↑ RecursiveArrayTools v3.23.1 ⇒ v3.27.0\u001b[39m\n",
      "  \u001b[90m[79098fc4] \u001b[39m\u001b[93m↑ Rmath v0.7.1 ⇒ v0.8.0\u001b[39m\n",
      "  \u001b[90m[0bca4576] \u001b[39m\u001b[93m↑ SciMLBase v2.41.3 ⇒ v2.53.1\u001b[39m\n",
      "  \u001b[90m[c0aeaf25] \u001b[39m\u001b[93m↑ SciMLOperators v0.3.8 ⇒ v0.3.10\u001b[39m\n",
      "  \u001b[90m[53ae85a6] \u001b[39m\u001b[93m↑ SciMLStructures v1.3.0 ⇒ v1.5.0\u001b[39m\n",
      "  \u001b[90m[aedffcd0] \u001b[39m\u001b[93m↑ Static v0.8.10 ⇒ v1.1.1\u001b[39m\n",
      "  \u001b[90m[0d7ed370] \u001b[39m\u001b[93m↑ StaticArrayInterface v1.5.0 ⇒ v1.8.0\u001b[39m\n",
      "  \u001b[90m[90137ffa] \u001b[39m\u001b[93m↑ StaticArrays v1.9.5 ⇒ v1.9.7\u001b[39m\n",
      "  \u001b[90m[4c63d2b9] \u001b[39m\u001b[93m↑ StatsFuns v1.3.1 ⇒ v1.3.2\u001b[39m\n",
      "  \u001b[90m[5e0ebb24] \u001b[39m\u001b[93m↑ Strided v2.0.4 ⇒ v2.1.1\u001b[39m\n",
      "  \u001b[90m[4db3bf67] \u001b[39m\u001b[93m↑ StridedViews v0.2.2 ⇒ v0.3.1\u001b[39m\n",
      "  \u001b[90m[fd094767] \u001b[39m\u001b[93m↑ Suppressor v0.2.7 ⇒ v0.2.8\u001b[39m\n",
      "  \u001b[90m[24249f21] \u001b[39m\u001b[93m↑ SymPy v2.0.1 ⇒ v2.2.0\u001b[39m\n",
      "  \u001b[90m[458b697b] \u001b[39m\u001b[93m↑ SymPyCore v0.1.18 ⇒ v0.2.5\u001b[39m\n",
      "  \u001b[90m[2efcf032] \u001b[39m\u001b[93m↑ SymbolicIndexingInterface v0.3.22 ⇒ v0.3.30\u001b[39m\n",
      "  \u001b[90m[19f23fe9] \u001b[39m\u001b[93m↑ SymbolicLimits v0.2.1 ⇒ v0.2.2\u001b[39m\n",
      "  \u001b[90m[d1185830] \u001b[39m\u001b[93m↑ SymbolicUtils v1.6.0 ⇒ v3.6.0\u001b[39m\n",
      "  \u001b[90m[0c5d862f] \u001b[39m\u001b[93m↑ Symbolics v5.28.0 ⇒ v6.11.0\u001b[39m\n",
      "  \u001b[90m[bd369af6] \u001b[39m\u001b[93m↑ Tables v1.11.1 ⇒ v1.12.0\u001b[39m\n",
      "  \u001b[90m[8ea1fca8] \u001b[39m\u001b[93m↑ TermInterface v0.4.1 ⇒ v2.0.0\u001b[39m\n",
      "  \u001b[90m[3bb67fe8] \u001b[39m\u001b[93m↑ TranscodingStreams v0.10.9 ⇒ v0.11.2\u001b[39m\n",
      "  \u001b[90m[1986cc42] \u001b[39m\u001b[93m↑ Unitful v1.20.0 ⇒ v1.21.0\u001b[39m\n",
      "  \u001b[90m[45397f5d] \u001b[39m\u001b[93m↑ UnitfulLatexify v1.6.3 ⇒ v1.6.4\u001b[39m\n",
      "  \u001b[90m[d80eeb9a] \u001b[39m\u001b[93m↑ UnsafeAtomicsLLVM v0.1.5 ⇒ v0.2.1\u001b[39m\n",
      "  \u001b[90m[c2297ded] \u001b[39m\u001b[93m↑ ZMQ v1.2.6 ⇒ v1.3.0\u001b[39m\n",
      "  \u001b[90m[ee1fde0b] \u001b[39m\u001b[92m+ Dbus_jll v1.14.10+0\u001b[39m\n",
      "  \u001b[90m[0656b61e] \u001b[39m\u001b[93m↑ GLFW_jll v3.3.9+0 ⇒ v3.4.0+1\u001b[39m\n",
      "  \u001b[90m[d2c73de3] \u001b[39m\u001b[93m↑ GR_jll v0.73.5+0 ⇒ v0.73.7+0\u001b[39m\n",
      "  \u001b[90m[2e76f6c2] \u001b[39m\u001b[93m↑ HarfBuzz_jll v2.8.1+1 ⇒ v8.3.1+0\u001b[39m\n",
      "  \u001b[90m[dad2f222] \u001b[39m\u001b[93m↑ LLVMExtra_jll v0.0.31+0 ⇒ v0.0.34+0\u001b[39m\n",
      "  \u001b[90m[1d63c593] \u001b[39m\u001b[93m↑ LLVMOpenMP_jll v15.0.7+0 ⇒ v18.1.7+0\u001b[39m\n",
      "  \u001b[90m[458c3c95] \u001b[39m\u001b[93m↑ OpenSSL_jll v3.0.14+0 ⇒ v3.0.15+0\u001b[39m\n",
      "  \u001b[90m[91d4177d] \u001b[39m\u001b[93m↑ Opus_jll v1.3.2+0 ⇒ v1.3.3+0\u001b[39m\n",
      "  \u001b[90m[36c8627f] \u001b[39m\u001b[92m+ Pango_jll v1.54.1+0\u001b[39m\n",
      "  \u001b[90m[c0090381] \u001b[39m\u001b[93m↑ Qt6Base_jll v6.5.3+1 ⇒ v6.7.1+1\u001b[39m\n",
      "  \u001b[90m[629bc702] \u001b[39m\u001b[92m+ Qt6Declarative_jll v6.7.1+2\u001b[39m\n",
      "  \u001b[90m[ce943373] \u001b[39m\u001b[92m+ Qt6ShaderTools_jll v6.7.1+1\u001b[39m\n",
      "  \u001b[90m[e99dba38] \u001b[39m\u001b[92m+ Qt6Wayland_jll v6.7.1+1\u001b[39m\n",
      "  \u001b[90m[f50d1b31] \u001b[39m\u001b[93m↑ Rmath_jll v0.4.2+0 ⇒ v0.5.1+0\u001b[39m\n",
      "  \u001b[90m[02c8fc9c] \u001b[39m\u001b[93m↑ XML2_jll v2.12.7+0 ⇒ v2.13.3+0\u001b[39m\n",
      "  \u001b[90m[aed1982a] \u001b[39m\u001b[93m↑ XSLT_jll v1.1.34+0 ⇒ v1.1.41+0\u001b[39m\n",
      "  \u001b[90m[c7cfdc94] \u001b[39m\u001b[93m↑ Xorg_libxcb_jll v1.15.0+0 ⇒ v1.17.0+0\u001b[39m\n",
      "  \u001b[90m[214eeab7] \u001b[39m\u001b[93m↑ fzf_jll v0.43.0+0 ⇒ v0.53.0+0\u001b[39m\n",
      "  \u001b[90m[0ac62f75] \u001b[39m\u001b[93m↑ libass_jll v0.15.1+0 ⇒ v0.15.2+0\u001b[39m\n",
      "  \u001b[90m[1183f4f0] \u001b[39m\u001b[92m+ libdecor_jll v0.2.2+0\u001b[39m\n",
      "  \u001b[90m[f638f0a6] \u001b[39m\u001b[93m↑ libfdk_aac_jll v2.0.2+0 ⇒ v2.0.3+0\u001b[39m\n",
      "  \u001b[90m[f27f6e37] \u001b[39m\u001b[93m↑ libvorbis_jll v1.3.7+1 ⇒ v1.3.7+2\u001b[39m\n",
      "\u001b[36m\u001b[1m        Info\u001b[22m\u001b[39m Packages marked with \u001b[33m⌅\u001b[39m have new versions available but compatibility constraints restrict them from upgrading. To see why use `status --outdated -m`\n",
      "\u001b[32m\u001b[1m    Building\u001b[22m\u001b[39m Conda ─→ `C:\\Users\\shikh\\.julia\\scratchspaces\\44cfe95a-1eb2-52ea-b672-e2afdf69b78f\\b19db3927f0db4151cb86d073689f2428e524576\\build.log`\n",
      "\u001b[32m\u001b[1m    Building\u001b[22m\u001b[39m IJulia → `C:\\Users\\shikh\\.julia\\scratchspaces\\44cfe95a-1eb2-52ea-b672-e2afdf69b78f\\1702f79fa30f56b68d5b2fd6fb3a9a14ff6f9130\\build.log`\n",
      "\u001b[32m\u001b[1mPrecompiling\u001b[22m\u001b[39m project...\n",
      "\u001b[32m  ✓ \u001b[39m\u001b[90mSuppressor\u001b[39m\n",
      "\u001b[32m  ✓ \u001b[39m\u001b[90mIntegerMathUtils\u001b[39m\n",
      "\u001b[32m  ✓ \u001b[39m\u001b[90mADTypes\u001b[39m\n",
      "\u001b[33m  ✓ \u001b[39m\u001b[90mInverseFunctions\u001b[39m\n",
      "\u001b[32m  ✓ \u001b[39m\u001b[90mConcurrentUtilities\u001b[39m\n",
      "\u001b[33m  ✓ \u001b[39m\u001b[90mCompat\u001b[39m\n",
      "\u001b[32m  ✓ \u001b[39m\u001b[90mPtrArrays\u001b[39m\n",
      "\u001b[33m  ✓ \u001b[39m\u001b[90mFillArrays\u001b[39m\n",
      "\u001b[33m  ✓ \u001b[39m\u001b[90mInlineStrings\u001b[39m\n",
      "\u001b[32m  ✓ \u001b[39m\u001b[90mCommonWorldInvalidations\u001b[39m\n",
      "\u001b[32m  ✓ \u001b[39m\u001b[90mTranscodingStreams\u001b[39m\n",
      "\u001b[32m  ✓ \u001b[39m\u001b[90mBitFlags\u001b[39m\n",
      "\u001b[32m  ✓ \u001b[39m\u001b[90mTermInterface\u001b[39m\n",
      "\u001b[33m  ✓ \u001b[39m\u001b[90mConstructionBase\u001b[39m\n",
      "\u001b[32m  ✓ \u001b[39m\u001b[90mBijections\u001b[39m\n",
      "\u001b[33m  ✓ \u001b[39m\u001b[90mFunctors\u001b[39m\n",
      "\u001b[32m  ✓ \u001b[39m\u001b[90mCommonSubexpressions\u001b[39m\n",
      "\u001b[33m  ✓ \u001b[39m\u001b[90mStridedViews\u001b[39m\n",
      "\u001b[33m  ✓ \u001b[39m\u001b[90mJLLWrappers\u001b[39m\n",
      "\u001b[33m  ✓ \u001b[39m\u001b[90mTables\u001b[39m\n",
      "\u001b[32m  ✓ \u001b[39m\u001b[90mLatexify\u001b[39m\n",
      "\u001b[33m  ✓ \u001b[39m\u001b[90mConda\u001b[39m\n",
      "\u001b[32m  ✓ \u001b[39mUpdateJulia\n",
      "\u001b[32m  ✓ \u001b[39m\u001b[90mPrimes\u001b[39m\n",
      "\u001b[33m  ✓ \u001b[39m\u001b[90mCompat → CompatLinearAlgebraExt\u001b[39m\n",
      "\u001b[32m  ✓ \u001b[39m\u001b[90mAliasTables\u001b[39m\n",
      "\u001b[32m  ✓ \u001b[39m\u001b[90mInverseFunctions → InverseFunctionsTestExt\u001b[39m\n",
      "\u001b[32m  ✓ \u001b[39m\u001b[90mInlineStrings → ParsersExt\u001b[39m\n",
      "\u001b[32m  ✓ \u001b[39m\u001b[90mMutableArithmetics\u001b[39m\n",
      "\u001b[32m  ✓ \u001b[39m\u001b[90mExpronicon\u001b[39m\n",
      "\u001b[32m  ✓ \u001b[39m\u001b[90mCodecZlib\u001b[39m\n",
      "\u001b[32m  ✓ \u001b[39m\u001b[90mConstructionBase → ConstructionBaseLinearAlgebraExt\u001b[39m\n",
      "\u001b[33m  ✓ \u001b[39m\u001b[90mStatic\u001b[39m\n",
      "\u001b[32m  ✓ \u001b[39m\u001b[90mFillArrays → FillArraysPDMatsExt\u001b[39m\n",
      "\u001b[32m  ✓ \u001b[39m\u001b[90mLLVMOpenMP_jll\u001b[39m\n",
      "\u001b[32m  ✓ \u001b[39m\u001b[90mRmath_jll\u001b[39m\n",
      "\u001b[32m  ✓ \u001b[39m\u001b[90mOpenSSL_jll\u001b[39m\n",
      "\u001b[33m  ✓ \u001b[39m\u001b[90mStrided\u001b[39m\n",
      "\u001b[32m  ✓ \u001b[39m\u001b[90mlibfdk_aac_jll\u001b[39m\n",
      "\u001b[32m  ✓ \u001b[39m\u001b[90mfzf_jll\u001b[39m\n",
      "\u001b[32m  ✓ \u001b[39m\u001b[90mOpus_jll\u001b[39m\n",
      "\u001b[32m  ✓ \u001b[39m\u001b[90mLLVMExtra_jll\u001b[39m\n",
      "\u001b[33m  ✓ \u001b[39m\u001b[90mStaticArrays\u001b[39m\n",
      "\u001b[32m  ✓ \u001b[39m\u001b[90mDbus_jll\u001b[39m\n",
      "\u001b[32m  ✓ \u001b[39m\u001b[90mlibvorbis_jll\u001b[39m\n",
      "\u001b[32m  ✓ \u001b[39m\u001b[90mLatexify → SparseArraysExt\u001b[39m\n",
      "\u001b[32m  ✓ \u001b[39m\u001b[90mXML2_jll\u001b[39m\n",
      "\u001b[33m  ✓ \u001b[39m\u001b[90mZMQ\u001b[39m\n",
      "\u001b[32m  ✓ \u001b[39m\u001b[90mADTypes → ADTypesChainRulesCoreExt\u001b[39m\n",
      "\u001b[32m  ✓ \u001b[39m\u001b[90mInverseFunctions → InverseFunctionsDatesExt\u001b[39m\n",
      "\u001b[32m  ✓ \u001b[39mQuadGK\n",
      "\u001b[33m  ✓ \u001b[39m\u001b[90mFillArrays → FillArraysSparseArraysExt\u001b[39m\n",
      "\u001b[32m  ✓ \u001b[39m\u001b[90mRmath\u001b[39m\n",
      "\u001b[32m  ✓ \u001b[39m\u001b[90mColorSchemes\u001b[39m\n",
      "\u001b[32m  ✓ \u001b[39m\u001b[90mHypergeometricFunctions\u001b[39m\n",
      "\u001b[32m  ✓ \u001b[39m\u001b[90mUnitful\u001b[39m\n",
      "\u001b[32m  ✓ \u001b[39m\u001b[90mMultivariatePolynomials\u001b[39m\n",
      "\u001b[32m  ✓ \u001b[39m\u001b[90mJLFzf\u001b[39m\n",
      "\u001b[33m  ✓ \u001b[39m\u001b[90mArrayInterface\u001b[39m\n",
      "\u001b[32m  ✓ \u001b[39m\u001b[90mOpenSSL\u001b[39m\n",
      "\u001b[32m  ✓ \u001b[39m\u001b[90mForwardDiff\u001b[39m\n",
      "\u001b[33m  ✓ \u001b[39m\u001b[90mConstructionBase → ConstructionBaseStaticArraysExt\u001b[39m\n",
      "\u001b[32m  ✓ \u001b[39m\u001b[90mStaticArrays → StaticArraysStatisticsExt\u001b[39m\n",
      "\u001b[33m  ✓ \u001b[39mKrylovKit\n",
      "\u001b[32m  ✓ \u001b[39m\u001b[90mGettext_jll\u001b[39m\n",
      "\u001b[32m  ✓ \u001b[39m\u001b[90mFillArrays → FillArraysStatisticsExt\u001b[39m\n",
      "\u001b[33m  ✓ \u001b[39mIJulia\n",
      "\u001b[32m  ✓ \u001b[39m\u001b[90mLLVM\u001b[39m\n",
      "\u001b[32m  ✓ \u001b[39mPyPlot\n",
      "\u001b[32m  ✓ \u001b[39m\u001b[90mXSLT_jll\u001b[39m\n",
      "\u001b[32m  ✓ \u001b[39m\u001b[90mSymPyCore\u001b[39m\n",
      "\u001b[32m  ✓ \u001b[39m\u001b[90mConstructionBase → ConstructionBaseIntervalSetsExt\u001b[39m\n",
      "\u001b[32m  ✓ \u001b[39m\u001b[90mStatsFuns\u001b[39m\n",
      "\u001b[32m  ✓ \u001b[39m\u001b[90mUnitful → InverseFunctionsUnitfulExt\u001b[39m\n",
      "\u001b[32m  ✓ \u001b[39m\u001b[90mForwardDiff → ForwardDiffStaticArraysExt\u001b[39m\n",
      "\u001b[33m  ✓ \u001b[39m\u001b[90mStaticArrays → StaticArraysChainRulesCoreExt\u001b[39m\n",
      "\u001b[32m  ✓ \u001b[39m\u001b[90mDynamicPolynomials\u001b[39m\n",
      "\u001b[33m  ✓ \u001b[39m\u001b[90mKrylovKit → KrylovKitChainRulesCoreExt\u001b[39m\n",
      "\u001b[32m  ✓ \u001b[39m\u001b[90mXorg_libxcb_jll\u001b[39m\n",
      "\u001b[32m  ✓ \u001b[39m\u001b[90mGlib_jll\u001b[39m\n",
      "\u001b[32m  ✓ \u001b[39m\u001b[90mGPUArrays\u001b[39m\n",
      "\u001b[32m  ✓ \u001b[39m\u001b[90mUnsafeAtomicsLLVM\u001b[39m\n",
      "\u001b[32m  ✓ \u001b[39m\u001b[90mHTTP\u001b[39m\n",
      "\u001b[32m  ✓ \u001b[39m\u001b[90mSymPyCore → SymPyCoreTermInterfaceExt\u001b[39m\n",
      "\u001b[32m  ✓ \u001b[39m\u001b[90mUnitful → ConstructionBaseUnitfulExt\u001b[39m\n",
      "\u001b[32m  ✓ \u001b[39m\u001b[90mStatsFuns → StatsFunsInverseFunctionsExt\u001b[39m\n",
      "\u001b[33m  ✓ \u001b[39m\u001b[90mAccessors\u001b[39m\n",
      "\u001b[32m  ✓ \u001b[39m\u001b[90mPlotUtils\u001b[39m\n",
      "\u001b[32m  ✓ \u001b[39m\u001b[90mUnitfulLatexify\u001b[39m\n",
      "\u001b[32m  ✓ \u001b[39mSymPy\n",
      "\u001b[32m  ✓ \u001b[39m\u001b[90mAccessors → AccessorsDatesExt\u001b[39m\n",
      "\u001b[32m  ✓ \u001b[39m\u001b[90mKernelAbstractions\u001b[39m\n",
      "\u001b[32m  ✓ \u001b[39m\u001b[90mChainRules\u001b[39m\n",
      "\u001b[33m  ✓ \u001b[39m\u001b[90mArrayLayouts\u001b[39m\n",
      "\u001b[32m  ✓ \u001b[39m\u001b[90mStatsFuns → StatsFunsChainRulesCoreExt\u001b[39m\n",
      "\u001b[32m  ✓ \u001b[39m\u001b[90mPlotThemes\u001b[39m\n",
      "\u001b[32m  ✓ \u001b[39m\u001b[90mAccessors → AccessorsIntervalSetsExt\u001b[39m\n",
      "\u001b[32m  ✓ \u001b[39m\u001b[90mRecipesPipeline\u001b[39m\n",
      "\u001b[32m  ✓ \u001b[39m\u001b[90mCairo_jll\u001b[39m\n",
      "\u001b[33m  ✓ \u001b[39m\u001b[90mArrayLayouts → ArrayLayoutsSparseArraysExt\u001b[39m\n",
      "\u001b[32m  ✓ \u001b[39m\u001b[90mAccessors → AccessorsStructArraysExt\u001b[39m\n",
      "\u001b[32m  ✓ \u001b[39m\u001b[90mArrayInterface → ArrayInterfaceChainRulesExt\u001b[39m\n",
      "\u001b[32m  ✓ \u001b[39m\u001b[90mKernelAbstractions → SparseArraysExt\u001b[39m\n",
      "\u001b[33m  ✓ \u001b[39m\u001b[90mBlockArrays\u001b[39m\n",
      "\u001b[33m  ✓ \u001b[39m\u001b[90mArrayInterface → ArrayInterfaceGPUArraysCoreExt\u001b[39m\n",
      "\u001b[32m  ✓ \u001b[39m\u001b[90mHarfBuzz_jll\u001b[39m\n",
      "\u001b[33m  ✓ \u001b[39m\u001b[90mAccessors → AccessorsStaticArraysExt\u001b[39m\n",
      "\u001b[32m  ✓ \u001b[39m\u001b[90mArrayInterface → ArrayInterfaceSparseArraysExt\u001b[39m\n",
      "\u001b[32m  ✓ \u001b[39m\u001b[90mQt6Base_jll\u001b[39m\n",
      "\u001b[32m  ✓ \u001b[39m\u001b[90mKernelAbstractions → LinearAlgebraExt\u001b[39m\n",
      "\u001b[33m  ✓ \u001b[39m\u001b[90mArrayInterface → ArrayInterfaceStaticArraysCoreExt\u001b[39m\n",
      "\u001b[32m  ✓ \u001b[39m\u001b[90mAccessors → AccessorsTestExt\u001b[39m\n",
      "\u001b[32m  ✓ \u001b[39m\u001b[90mSciMLStructures\u001b[39m\n",
      "\u001b[32m  ✓ \u001b[39m\u001b[90mlibass_jll\u001b[39m\n",
      "\u001b[32m  ✓ \u001b[39m\u001b[90mPango_jll\u001b[39m\n",
      "\u001b[32m  ✓ \u001b[39m\u001b[90mFiniteDiff\u001b[39m\n",
      "\u001b[32m  ✓ \u001b[39m\u001b[90mAccessors → AccessorsUnitfulExt\u001b[39m\n",
      "\u001b[33m  ✓ \u001b[39m\u001b[90mStaticArrayInterface\u001b[39m\n",
      "\u001b[32m  ✓ \u001b[39m\u001b[90mlibdecor_jll\u001b[39m\n",
      "\u001b[32m  ✓ \u001b[39m\u001b[90mFiniteDiff → FiniteDiffStaticArraysExt\u001b[39m\n",
      "\u001b[32m  ✓ \u001b[39m\u001b[90mSciMLOperators\u001b[39m\n",
      "\u001b[32m  ✓ \u001b[39m\u001b[90mDistributions\u001b[39m\n",
      "\u001b[32m  ✓ \u001b[39m\u001b[90mQt6ShaderTools_jll\u001b[39m\n",
      "\u001b[32m  ✓ \u001b[39m\u001b[90mSymbolicIndexingInterface\u001b[39m\n",
      "\u001b[32m  ✓ \u001b[39m\u001b[90mGLFW_jll\u001b[39m\n",
      "\u001b[33m  ✓ \u001b[39m\u001b[90mStaticArrayInterface → StaticArrayInterfaceStaticArraysExt\u001b[39m\n",
      "\u001b[32m  ✓ \u001b[39m\u001b[90mNLSolversBase\u001b[39m\n",
      "\u001b[32m  ✓ \u001b[39m\u001b[90mSciMLOperators → SciMLOperatorsSparseArraysExt\u001b[39m\n",
      "\u001b[32m  ✓ \u001b[39m\u001b[90mNNlib\u001b[39m\n",
      "\u001b[32m  ✓ \u001b[39m\u001b[90mDistributions → DistributionsTestExt\u001b[39m\n",
      "\u001b[32m  ✓ \u001b[39m\u001b[90mQt6Declarative_jll\u001b[39m\n",
      "\u001b[32m  ✓ \u001b[39m\u001b[90mRecursiveArrayTools\u001b[39m\n",
      "\u001b[32m  ✓ \u001b[39m\u001b[90mSciMLOperators → SciMLOperatorsStaticArraysCoreExt\u001b[39m\n",
      "\u001b[32m  ✓ \u001b[39m\u001b[90mLineSearches\u001b[39m\n",
      "\u001b[32m  ✓ \u001b[39m\u001b[90mFFMPEG_jll\u001b[39m\n",
      "\u001b[32m  ✓ \u001b[39m\u001b[90mQt6Wayland_jll\u001b[39m\n",
      "\u001b[32m  ✓ \u001b[39m\u001b[90mDistributions → DistributionsChainRulesCoreExt\u001b[39m\n",
      "\u001b[32m  ✓ \u001b[39m\u001b[90mNNlib → NNlibForwardDiffExt\u001b[39m\n",
      "\u001b[32m  ✓ \u001b[39m\u001b[90mFFMPEG\u001b[39m\n",
      "\u001b[32m  ✓ \u001b[39m\u001b[90mRecursiveArrayTools → RecursiveArrayToolsForwardDiffExt\u001b[39m\n",
      "\u001b[32m  ✓ \u001b[39mOptim\n",
      "\u001b[32m  ✓ \u001b[39m\u001b[90mOneHotArrays\u001b[39m\n",
      "MLUtils\u001b[33m Waiting for background task / IO / timer.\u001b[39m\n",
      "[pid 18260] waiting for IO to finish:\n",
      " Handle type        uv_handle_t->data\n",
      " fs_event           0000024177dd2270->0000024176f00730\n",
      " timer              000002417982bb50->0000024176f00760\n",
      "This means that a package has started a background task or event source that has not finished running. For precompilation to complete successfully, the event source needs to be closed explicitly. See the developer documentation on fixing precompilation hangs for more help.\n",
      "\u001b[32m  ✓ \u001b[39m\u001b[90mZygote\u001b[39m\n",
      "\u001b[32m  ✓ \u001b[39m\u001b[90mGR_jll\u001b[39m\n",
      "\u001b[32m  ✓ \u001b[39m\u001b[90mGR\u001b[39m\n",
      "\u001b[32m  ✓ \u001b[39m\u001b[90mSymbolicUtils\u001b[39m\n",
      "\u001b[32m  ✓ \u001b[39m\u001b[90mMLUtils\u001b[39m\n",
      "\u001b[32m  ✓ \u001b[39m\u001b[90mSymbolicLimits\u001b[39m\n",
      "\u001b[33m  ✓ \u001b[39m\u001b[90mNDTensors\u001b[39m\n",
      "\u001b[33m  ✓ \u001b[39m\u001b[90mNDTensors → NDTensorsGPUArraysCoreExt\u001b[39m\n",
      "\u001b[33m  ✓ \u001b[39mITensors\n",
      "\u001b[32m  ✓ \u001b[39m\u001b[90mZygote → ZygoteColorsExt\u001b[39m\n",
      "\u001b[33m  ✓ \u001b[39m\u001b[90mITensors → ITensorsVectorInterfaceExt\u001b[39m\n",
      "\u001b[32m  ✓ \u001b[39m\u001b[90mRecursiveArrayTools → RecursiveArrayToolsZygoteExt\u001b[39m\n",
      "\u001b[32m  ✓ \u001b[39m\u001b[90mRecursiveArrayTools → RecursiveArrayToolsSparseArraysExt\u001b[39m\n",
      "\u001b[32m  ✓ \u001b[39mFlux\n",
      "\u001b[32m  ✓ \u001b[39m\u001b[90mSciMLBase\u001b[39m\n",
      "\u001b[32m  ✓ \u001b[39m\u001b[90mSciMLBase → SciMLBaseZygoteExt\u001b[39m\n",
      "\u001b[32m  ✓ \u001b[39m\u001b[90mSciMLBase → SciMLBasePyCallExt\u001b[39m\n"
     ]
    }
   ],
   "source": [
    "# import Pkg\n",
    "# Pkg.update()"
   ]
  },
  {
   "cell_type": "code",
   "execution_count": 2,
   "id": "41a23cb3-aa91-4924-a514-722ef4733047",
   "metadata": {},
   "outputs": [
    {
     "name": "stderr",
     "output_type": "stream",
     "text": [
      "\u001b[32m\u001b[1m   Resolving\u001b[22m\u001b[39m package versions...\n",
      "\u001b[32m\u001b[1m  No Changes\u001b[22m\u001b[39m to `C:\\Users\\shikh\\.julia\\environments\\v1.10\\Project.toml`\n",
      "\u001b[32m\u001b[1m  No Changes\u001b[22m\u001b[39m to `C:\\Users\\shikh\\.julia\\environments\\v1.10\\Manifest.toml`\n",
      "\u001b[32m\u001b[1mPrecompiling\u001b[22m\u001b[39m project...\n",
      "\u001b[32m  ✓ \u001b[39m\u001b[90mLibmount_jll\u001b[39m\n",
      "\u001b[32m  ✓ \u001b[39m\u001b[90mEpollShim_jll\u001b[39m\n",
      "\u001b[32m  ✓ \u001b[39m\u001b[90mXorg_libICE_jll\u001b[39m\n",
      "\u001b[32m  ✓ \u001b[39m\u001b[90mXorg_libXau_jll\u001b[39m\n",
      "\u001b[32m  ✓ \u001b[39m\u001b[90mgperf_jll\u001b[39m\n",
      "\u001b[32m  ✓ \u001b[39m\u001b[90mmtdev_jll\u001b[39m\n",
      "\u001b[32m  ✓ \u001b[39m\u001b[90mXorg_libXdmcp_jll\u001b[39m\n",
      "\u001b[33m\u001b[1m┌ \u001b[22m\u001b[39m\u001b[33m\u001b[1mWarning: \u001b[22m\u001b[39mattempting to remove probably stale pidfile\n",
      "\u001b[33m\u001b[1m│ \u001b[22m\u001b[39m  path = \"C:\\\\Users\\\\shikh\\\\.julia\\\\compiled\\\\v1.10\\\\DomainSets\\\\ksPnB_RzhTg.ji.pidfile\"\n",
      "\u001b[33m\u001b[1m└ \u001b[22m\u001b[39m\u001b[90m@ FileWatching.Pidfile C:\\Users\\shikh\\.julia\\juliaup\\julia-1.10.0+0.x64.w64.mingw32\\share\\julia\\stdlib\\v1.10\\FileWatching\\src\\pidfile.jl:244\u001b[39m\n",
      "\u001b[32m  ✓ \u001b[39m\u001b[90mLinearMaps → LinearMapsChainRulesCoreExt\u001b[39m\n",
      "\u001b[32m  ✓ \u001b[39m\u001b[90mlibevdev_jll\u001b[39m\n",
      "\u001b[32m  ✓ \u001b[39m\u001b[90mWayland_protocols_jll\u001b[39m\n",
      "\u001b[32m  ✓ \u001b[39m\u001b[90mArpack_jll\u001b[39m\n",
      "\u001b[32m  ✓ \u001b[39m\u001b[90mXorg_xtrans_jll\u001b[39m\n",
      "\u001b[33m\u001b[1m┌ \u001b[22m\u001b[39m\u001b[33m\u001b[1mWarning: \u001b[22m\u001b[39mattempting to remove probably stale pidfile\n",
      "\u001b[33m\u001b[1m│ \u001b[22m\u001b[39m  path = \"C:\\\\Users\\\\shikh\\\\.julia\\\\compiled\\\\v1.10\\\\ITensorsPackageCompilerExt\\\\Tbb91_RzhTg.ji.pidfile\"\n",
      "\u001b[33m\u001b[1m└ \u001b[22m\u001b[39m\u001b[90m@ FileWatching.Pidfile C:\\Users\\shikh\\.julia\\juliaup\\julia-1.10.0+0.x64.w64.mingw32\\share\\julia\\stdlib\\v1.10\\FileWatching\\src\\pidfile.jl:244\u001b[39m\n",
      "\u001b[32m  ✓ \u001b[39m\u001b[90mXorg_libpthread_stubs_jll\u001b[39m\n",
      "\u001b[32m  ✓ \u001b[39m\u001b[90mColorVectorSpace → SpecialFunctionsExt\u001b[39m\n",
      "\u001b[32m  ✓ \u001b[39m\u001b[90mWayland_jll\u001b[39m\n",
      "\u001b[32m  ✓ \u001b[39m\u001b[90meudev_jll\u001b[39m\n",
      "\u001b[32m  ✓ \u001b[39m\u001b[90mXorg_xcb_util_jll\u001b[39m\n",
      "\u001b[32m  ✓ \u001b[39mArpack\n",
      "\u001b[32m  ✓ \u001b[39m\u001b[90mXorg_libX11_jll\u001b[39m\n",
      "\u001b[32m  ✓ \u001b[39m\u001b[90mDomainSets\u001b[39m\n",
      "\u001b[33m\u001b[1m┌ \u001b[22m\u001b[39m\u001b[33m\u001b[1mWarning: \u001b[22m\u001b[39mattempting to remove probably stale pidfile\n",
      "\u001b[33m\u001b[1m│ \u001b[22m\u001b[39m  path = \"C:\\\\Users\\\\shikh\\\\.julia\\\\compiled\\\\v1.10\\\\Symbolics\\\\eABRO_RzhTg.ji.pidfile\"\n",
      "\u001b[33m\u001b[1m└ \u001b[22m\u001b[39m\u001b[90m@ FileWatching.Pidfile C:\\Users\\shikh\\.julia\\juliaup\\julia-1.10.0+0.x64.w64.mingw32\\share\\julia\\stdlib\\v1.10\\FileWatching\\src\\pidfile.jl:244\u001b[39m\n",
      "\u001b[32m  ✓ \u001b[39m\u001b[90mXorg_libXfixes_jll\u001b[39m\n",
      "\u001b[32m  ✓ \u001b[39m\u001b[90mXorg_libxkbfile_jll\u001b[39m\n",
      "\u001b[32m  ✓ \u001b[39m\u001b[90mXorg_libXinerama_jll\u001b[39m\n",
      "\u001b[32m  ✓ \u001b[39m\u001b[90mXorg_libXrandr_jll\u001b[39m\n",
      "\u001b[32m  ✓ \u001b[39m\u001b[90mXorg_libXcursor_jll\u001b[39m\n",
      "\u001b[32m  ✓ \u001b[39m\u001b[90mXorg_libXi_jll\u001b[39m\n",
      "\u001b[32m  ✓ \u001b[39m\u001b[90mXorg_xkbcomp_jll\u001b[39m\n",
      "\u001b[32m  ✓ \u001b[39m\u001b[90mXorg_xkeyboard_config_jll\u001b[39m\n",
      "\u001b[33m\u001b[1m┌ \u001b[22m\u001b[39m\u001b[33m\u001b[1mWarning: \u001b[22m\u001b[39mattempting to remove probably stale pidfile\n",
      "\u001b[33m\u001b[1m│ \u001b[22m\u001b[39m  path = \"C:\\\\Users\\\\shikh\\\\.julia\\\\compiled\\\\v1.10\\\\Plots\\\\ld3vC_RzhTg.ji.pidfile\"\n",
      "\u001b[33m\u001b[1m└ \u001b[22m\u001b[39m\u001b[90m@ FileWatching.Pidfile C:\\Users\\shikh\\.julia\\juliaup\\julia-1.10.0+0.x64.w64.mingw32\\share\\julia\\stdlib\\v1.10\\FileWatching\\src\\pidfile.jl:244\u001b[39m\n",
      "\u001b[32m  ✓ \u001b[39mSymbolics\n",
      "\u001b[32m  ✓ \u001b[39m\u001b[90mSymbolics → SymbolicsSymPyExt\u001b[39m\n",
      "\u001b[32m  ✓ \u001b[39m\u001b[90mSymbolics → SymbolicsForwardDiffExt\u001b[39m\n",
      "\u001b[32m  ✓ \u001b[39mPlots\n",
      "\u001b[32m  ✓ \u001b[39m\u001b[90mPlots → UnitfulExt\u001b[39m\n",
      "\u001b[32m  ✓ \u001b[39m\u001b[90mPlots → IJuliaExt\u001b[39m\n",
      "\u001b[32m  ✓ \u001b[39m\u001b[90mITensors → ITensorsPackageCompilerExt\u001b[39m\n",
      "\u001b[32m  ✓ \u001b[39m\u001b[90mITensors → ITensorsZygoteRulesExt\u001b[39m\n",
      "\u001b[32m  ✓ \u001b[39m\u001b[90mITensorTDVP\u001b[39m\n",
      "\u001b[32m  ✓ \u001b[39mITensorMPS\n",
      "  38 dependencies successfully precompiled in 184 seconds. 354 already precompiled.\n",
      "\u001b[32m\u001b[1m   Resolving\u001b[22m\u001b[39m package versions...\n",
      "\u001b[32m\u001b[1m  No Changes\u001b[22m\u001b[39m to `C:\\Users\\shikh\\.julia\\environments\\v1.10\\Project.toml`\n",
      "\u001b[32m\u001b[1m  No Changes\u001b[22m\u001b[39m to `C:\\Users\\shikh\\.julia\\environments\\v1.10\\Manifest.toml`\n",
      "\u001b[32m\u001b[1m   Resolving\u001b[22m\u001b[39m package versions...\n",
      "\u001b[32m\u001b[1m  No Changes\u001b[22m\u001b[39m to `C:\\Users\\shikh\\.julia\\environments\\v1.10\\Project.toml`\n",
      "\u001b[32m\u001b[1m  No Changes\u001b[22m\u001b[39m to `C:\\Users\\shikh\\.julia\\environments\\v1.10\\Manifest.toml`\n"
     ]
    }
   ],
   "source": [
    "using Pkg\n",
    "Pkg.add(\"LinearMaps\")\n",
    "Pkg.add(\"Arpack\")\n",
    "Pkg.add(\"SparseArrays\")"
   ]
  },
  {
   "cell_type": "code",
   "execution_count": 12,
   "id": "a491e508-7b63-4604-8fa9-98e2b04159f0",
   "metadata": {},
   "outputs": [
    {
     "name": "stdout",
     "output_type": "stream",
     "text": [
      "Eigenvalues: ComplexF64[15.785788577584126 + 0.0im, -0.4490125865794141 + 1.6132873246210775im]\n",
      "Eigenvectors: ComplexF64[-0.13458202087638063 + 0.0im -0.12503623288707774 + 0.05224630216881391im; -0.1807290407036963 + 0.0im -0.22690895676093809 + 0.1060609556374482im; -0.16909690997771853 + 0.0im 0.06054713588194745 - 0.019912284704086854im; -0.18762440376450698 + 0.0im 0.22662512514483985 + 0.04591708654628731im; -0.21873074978161783 + 0.0im -0.008330367201788803 - 0.09701504709054679im; -0.20351477140424254 + 0.0im -0.14639303348796376 - 0.06269962738829003im; -0.18198167544132696 + 0.0im 0.053897388609255414 + 0.17945356171046484im; -0.1873651602934368 + 0.0im 0.10221685000977161 + 0.03002778816581335im; -0.19237850618189725 + 0.0im -0.2067166029565845 - 0.08608187183997844im; -0.17872430875976975 + 0.0im -0.10444861525874724 - 0.14952431461313867im; -0.16902859449363783 + 0.0im 0.020063349693532264 - 0.029746950355553577im; -0.15909616140129076 + 0.0im -0.14799997532778195 - 0.2721325770593677im; -0.18011254646854213 + 0.0im 0.15424457590055518 + 0.1662818794385591im; -0.15984574312774066 + 0.0im 0.3337631567786691 - 0.17906886049899648im; -0.20400852292878513 + 0.0im -0.06722268382036284 - 0.1396922615277496im; -0.17146343940688247 + 0.0im -0.1500740114214871 + 0.14561337226481963im; -0.1836137978997213 + 0.0im -0.08715119221674311 - 0.1252112231433428im; -0.19500349143728793 + 0.0im 0.004271382254511701 - 0.1505507155378261im; -0.1658987612190147 + 0.0im -0.010714237953161638 + 0.15657302286098562im; -0.14193621072823526 + 0.0im -0.07954055603871017 + 0.04520433242331147im; -0.17671928022131672 + 0.0im 0.15902671941760071 + 0.21283686535574342im; -0.16519977162748167 + 0.0im 0.0623899576769076 + 0.03570200971577103im; -0.21288263025184884 + 0.0im 0.13582183895493538 - 0.06532025651897565im; -0.16884376371171317 + 0.0im -0.07944007635596204 + 0.05711500682672438im; -0.16271706997341737 + 0.0im -0.017395259591470185 + 0.11799027545147238im; -0.18825823024988453 + 0.0im 0.033112785428208544 - 0.019107446688375294im; -0.18285242801866944 + 0.0im -0.06250708819591501 + 0.1629017244222653im; -0.17921121770129922 + 0.0im -0.11604332924414937 + 0.07503919787467604im; -0.13335355036776533 + 0.0im 0.12876454812426866 - 0.0732639506664587im; -0.16743112095890378 + 0.0im 0.07496698799562393 - 0.06064293185174666im; -0.17000455310636098 + 0.0im 0.040520860710714715 + 0.0558764049369144im; -0.14884530078100416 + 0.0im 0.18354411128214485 - 0.12175136329404326im]\n"
     ]
    }
   ],
   "source": [
    "using LinearAlgebra\n",
    "using Arpack\n",
    "using SparseArrays\n",
    "chi=16\n",
    "sX = [0 1; 1 0];\n",
    "sY = [0 -im; im 0];\n",
    "htemp = real(kron(sX, sX) + kron(sY, sY));\n",
    "hamAB = reshape(htemp, 2, 2, 2, 2);\n",
    "d = size(hamAB, 1);\n",
    "A_1 = rand(chi,d, d, chi);\n",
    "# Create a sample matrix (you can replace this with your own matrix)\n",
    "\n",
    "A=reshape(A_1,d*chi,d*chi)\n",
    "A = sparse(A)\n",
    "# Compute eigenvalues and eigenvectors\n",
    "λ, ϕ = eigs(A, nev=2, which=:LM)\n",
    "\n",
    "println(\"Eigenvalues: \", λ)\n",
    "println(\"Eigenvectors: \", ϕ)\n"
   ]
  },
  {
   "cell_type": "code",
   "execution_count": 15,
   "id": "c4e1b395-1240-48ae-be69-37f6f900af90",
   "metadata": {},
   "outputs": [
    {
     "data": {
      "text/plain": [
       "([0.06379059949430722 0.05959274142875258 … 0.06497553158537851 0.05435900726473543; 0.05959274142875258 0.05570574749392575 … 0.06061462462944825 0.050829085422176346; … ; 0.06497553158537851 0.06061462462944825 … 0.0665059220776354 0.05516886647587098; 0.05435900726473543 0.050829085422176346 … 0.05516886647587098 0.04646695410117937], [0.053439533830882686 0.05695906615081699 … 0.056272862115038125 0.054106488383735885; 0.05695906615081698 0.061666204661984435 … 0.06187218224844039 0.057936074506583904; … ; 0.05627286211503812 0.06187218224844036 … 0.06303101062239386 0.05750641269528921; 0.05410648838373588 0.0579360745065839 … 0.05750641269528923 0.054857390792160975])"
      ]
     },
     "execution_count": 15,
     "metadata": {},
     "output_type": "execute_result"
    }
   ],
   "source": [
    "using LinearMaps,Arpack\n",
    "chi = 16; # bond dimension\n",
    "sX = [0 1; 1 0];\n",
    "sY = [0 -im; im 0];\n",
    "htemp = real(kron(sX, sX) + kron(sY, sY));\n",
    "hamAB = reshape(htemp, 2, 2, 2, 2);\n",
    "hamBA = reshape(htemp, 2, 2, 2, 2);\n",
    "d = size(hamAB, 1);\n",
    "sAB = ones(chi) ./ sqrt(chi);\n",
    "sBA = ones(chi) ./ sqrt(chi);\n",
    "A = rand(chi, d, chi);\n",
    "B = rand(chi, d, chi);\n",
    "sigBA = sigBA = Matrix{Float64}(I,size(A,1),size(A,1)) ./size(A,1);\n",
    "\n",
    "function left_contract_MPS(sigBA, sBA, A, sAB, B)\n",
    "    # Initialize the starting vector\n",
    "    chiBA = size(A, 1);\n",
    "    if size(sigBA, 1) == size(A, 1)\n",
    "        v0 = sigBA[:];\n",
    "    else\n",
    "        v0 = (Matrix{Float64}(I, chiBA, chiBA) ./ chiBA)[:];\n",
    "    end\n",
    "\n",
    "    # Define network for transfer operator contraction\n",
    "    tensors = Any[diagm(0 => sBA), diagm(0 => sBA), A, conj(A), diagm(0 => sAB),\n",
    "                  diagm(0 => sAB), B, conj(B)];\n",
    "    labels = Any[[1, 2], [1, 3], [2, 4], [3, 5, 6], [4, 5, 7], [6, 8], [7, 9], [8, 10, -1],\n",
    "                  [9, 10, -2]];\n",
    "\n",
    "    # Define function for boundary contraction and pass to eigs\n",
    "    function left_iter(sigBA, tensors, labels, chi)\n",
    "        return reshape(ncon(Any[reshape(sigBA, chi, chi), tensors...], labels), chi^2);\n",
    "    end\n",
    "\n",
    "    LI = LinearMap(sigBA -> left_iter(sigBA, tensors, labels, chiBA), chiBA^2;\n",
    "                   ismutating = false, issymmetric = false, ishermitian = false, isposdef = false)\n",
    "    Dtemp, sigBA = eigs(LI; v0 = v0, nev = 1, tol = 1e-10, which = :LM, maxiter = 300);\n",
    "\n",
    "    # Normalize the environment density matrix sigBA\n",
    "    if eltype(A) == Float64\n",
    "        sigBA = real(sigBA);\n",
    "    end\n",
    "    sigBA = reshape(sigBA, chiBA, chiBA);\n",
    "    sigBA = 0.5 * (sigBA + sigBA');\n",
    "    sigBA = sigBA ./ tr(sigBA);\n",
    "\n",
    "    # Compute density matrix sigBA for B-A link\n",
    "    sigAB = ncon(Any[sigBA, diagm(0 => sBA), diagm(0 => sBA), A, conj(A)],\n",
    "                 Any[[1, 2], [1, 3], [2, 4], [3, 5, -1], [4, 5, -2]]);\n",
    "    sigAB = sigAB ./ tr(sigAB);\n",
    "\n",
    "    return sigBA, sigAB\n",
    "end\n",
    "\n",
    "M = left_contract_MPS(sigBA, sBA, A, sAB, B)"
   ]
  },
  {
   "cell_type": "code",
   "execution_count": 143,
   "id": "aa1a5437-9065-4cfa-83af-624ec3428da2",
   "metadata": {},
   "outputs": [
    {
     "data": {
      "text/plain": [
       "otrthogonal_MPS (generic function with 2 methods)"
      ]
     },
     "execution_count": 143,
     "metadata": {},
     "output_type": "execute_result"
    }
   ],
   "source": [
    "function otrthogonal_MPS(sigBA,muBA,B,sBA,A,dtol=1e-12)\n",
    "    #working on left enviroment vector\n",
    "    dtemp=eigen(0.5*(sigBA+sigBA'));\n",
    "    ord=sortperm(dtemp.values;rev=true);\n",
    "    chitemap=sum(dtemp.values .>dtol);\n",
    "    UL=dtemp.vectors[:,ord[1:chitemap]];\n",
    "    DL=dtemp.values[ord[1:chitemap]];\n",
    "    #working on right enviroment vector\n",
    "    dtemp=eigen(0.5*(muBA+muBA'));\n",
    "    ord=sortperm(dtemp.values;rev=true);\n",
    "    chitemap=sum(dtemp.values .>dtol);\n",
    "    UR=dtemp.vectors[:,ord[1:chitemap]];\n",
    "    DR=dtemp.values[ord[1:chitemap]];\n",
    "    #computing for creatign the center of orthogonality\n",
    "    F=svd(diagm(0=>sqrt.(DL))*conj(UL')*diagm(0=>sBA)*UR*diagm(0=>sqtr.(DR)));\n",
    "    sBA=F.S/norm(F.S)\n",
    "    x=conj(UL)*diagm(0=>1 ./sqrt(DL))*F.U;\n",
    "    y=conj(UR*diagm(0=>1 ./sqrt(DR))*F.V);\n",
    "    A=ncon(Any[y,A],Any[[1,-1],[1,-2,-3]]);\n",
    "    B=ncon(Any[B,x],Any[[-1,-2,2],[2,-3]]);\n",
    "    return B,sBA,A\n",
    "end"
   ]
  },
  {
   "cell_type": "code",
   "execution_count": 158,
   "id": "4e1c5d7a-335f-4147-ab14-0a2d5b955e60",
   "metadata": {},
   "outputs": [
    {
     "data": {
      "text/plain": [
       "loc_density_MPS (generic function with 1 method)"
      ]
     },
     "execution_count": 158,
     "metadata": {},
     "output_type": "execute_result"
    }
   ],
   "source": [
    "#applying gate to MPS\n",
    "function apply_gate(gateAB,sAB,B,sBA,A,chi,stol=1e-7)\n",
    "    #ensuring for singular values above the tolerance\n",
    "    sBA_trim=sBA.*(sBA.>stol)+stol.*(sBA.<stol);\n",
    "    d=size(A,2);\n",
    "    chiBA=size(sBA_trim,1);\n",
    "    tensors=Any[diagm(0=>sBA_trim),A,diagm(0=>sAB),B,diagm(0=>sBA_trim),gateAB];\n",
    "    connects=Any[[-1,1],[1,5,2],[2,4],[4,6,3],[3,-4],[-2,-3,5,6]];\n",
    "    nshape=[d*chiBA,d*chiBA];\n",
    "    F=svd(reshape(ncon(tensors,connects),nshape...));\n",
    "    # truncate to reduced dimension\n",
    "    chitemp=min(chi,length(F.S));\n",
    "    utemp=reshape(F.U[:,1:chitemp],size(sBA_trim,1),d*chitemp);\n",
    "    vhtemp = reshape((F.Vt[1:chitemp,:]),chitemp*d,size(sBA_trim,1))\n",
    "    A = reshape(diagm(0 => (1 ./sBA_trim))*utemp,chiBA,d,chitemp);\n",
    "    B = reshape(vhtemp*diagm(0 => (1 ./sBA_trim)),chitemp,d,chiBA);\n",
    "    sAB = F.S[1:chitemp]./sqrt(sum((F.S[1:chitemp]).^2));\n",
    "    return A,sAB,B\n",
    "end\n",
    "function loc_density_MPS(A,sAB,B,sBA)\n",
    "\n",
    "  mAB = diagm(0 => sAB);\n",
    "  mBA = diagm(0 => sBA);\n",
    "\n",
    "  # contract MPS for local reduced density matrix (A-B)\n",
    "  tensors = Any[diagm(0 => sBA.^2),A,conj(A),mAB,mAB,B,conj(B),diagm(0 =>sBA.^2)];\n",
    "  connects = Any[[3,4],[3,-3,1],[4,-1,2],[1,7],[2,8],[7,-4,5],[8,-2,6],[5,6]];\n",
    "  rhoAB = ncon(tensors,connects);\n",
    "\n",
    "  # contract MPS for local reduced density matrix (B-A)\n",
    "  tensors = Any[diagm(0 => sAB.^2),B,conj(B),mBA,mBA,A,conj(A),diagm(0 =>sAB.^2)];\n",
    "  connects = Any[[3,4],[3,-3,1],[4,-1,2],[1,7],[2,8],[7,-4,5],[8,-2,6],[5,6]];\n",
    "  rhoBA = ncon(tensors,connects);\n",
    "\n",
    "  return rhoAB, rhoBA\n",
    "end"
   ]
  },
  {
   "cell_type": "code",
   "execution_count": null,
   "id": "c8668102-f6d4-4db6-abd7-fd08048a0b90",
   "metadata": {},
   "outputs": [],
   "source": [
    "function loc_density_MPS(A,sAB,B,sBA)\n",
    "\n",
    "  mAB = diagm(0 => sAB);\n",
    "  mBA = diagm(0 => sBA);\n",
    "\n",
    "  # contract MPS for local reduced density matrix (A-B)\n",
    "  tensors = Any[diagm(0 => sBA.^2),A,conj(A),mAB,mAB,B,conj(B),diagm(0 =>sBA.^2)];\n",
    "  connects = Any[[3,4],[3,-3,1],[4,-1,2],[1,7],[2,8],[7,-4,5],[8,-2,6],[5,6]];\n",
    "  rhoAB = ncon(tensors,connects);\n",
    "\n",
    "  # contract MPS for local reduced density matrix (B-A)\n",
    "  tensors = Any[diagm(0 => sAB.^2),B,conj(B),mBA,mBA,A,conj(A),diagm(0 =>sAB.^2)];\n",
    "  connects = Any[[3,4],[3,-3,1],[4,-1,2],[1,7],[2,8],[7,-4,5],[8,-2,6],[5,6]];\n",
    "  rhoBA = ncon(tensors,connects);\n",
    "\n",
    "  return rhoAB, rhoBA"
   ]
  },
  {
   "cell_type": "code",
   "execution_count": 178,
   "id": "2107fe84-0f2f-428b-93a0-c611bacc9d78",
   "metadata": {},
   "outputs": [
    {
     "name": "stderr",
     "output_type": "stream",
     "text": [
      "\u001b[32m\u001b[1m   Resolving\u001b[22m\u001b[39m package versions...\n",
      "\u001b[32m\u001b[1m  No Changes\u001b[22m\u001b[39m to `C:\\Users\\shikh\\.julia\\environments\\v1.10\\Project.toml`\n",
      "\u001b[32m\u001b[1m  No Changes\u001b[22m\u001b[39m to `C:\\Users\\shikh\\.julia\\environments\\v1.10\\Manifest.toml`\n"
     ]
    }
   ],
   "source": [
    "using Pkg\n",
    "Pkg.add(\"Arpack\")"
   ]
  },
  {
   "cell_type": "code",
   "execution_count": 16,
   "id": "748c3fae-c55a-4b8e-afb1-83817b126b39",
   "metadata": {},
   "outputs": [
    {
     "data": {
      "text/plain": [
       "loc_density_MPS"
      ]
     },
     "execution_count": 16,
     "metadata": {},
     "output_type": "execute_result"
    }
   ],
   "source": [
    "using Printf, LinearAlgebra, LinearMaps, Arpack\n",
    "function doTEBD(hamAB,hamBA,A,B,sAB,sBA,chi,tau; evotype = \"imag\",\n",
    "  numiter = 1000, midsteps = 10, E0 = 0.0)\n",
    "\n",
    "  # exponentiate Hamiltonian\n",
    "  d = size(A,2);\n",
    "  if evotype == \"real\"\n",
    "    gateAB = reshape(exp(im*tau*reshape(hamAB,d^2,d^2)),d,d,d,d);\n",
    "    gateBA = reshape(exp(im*tau*reshape(hamBA,d^2,d^2)),d,d,d,d);\n",
    "  elseif evotype == \"imag\"\n",
    "    gateAB = reshape(exp(-tau*reshape(hamAB,d^2,d^2)),d,d,d,d);\n",
    "    gateBA = reshape(exp(-tau*reshape(hamBA,d^2,d^2)),d,d,d,d);\n",
    "  end\n",
    "\n",
    "  # initializr environment tensors\n",
    "  sigBA = Matrix{Float64}(I,size(A,1),size(A,1)) ./size(A,1);\n",
    "  muAB = Matrix{Float64}(I,size(A,3),size(A,3)) ./size(A,3);\n",
    "\n",
    "  for k = 0:numiter\n",
    "    if mod(k,midsteps) == 0 || (k == numiter)\n",
    "      \"\"\" Bring MPS to normal form \"\"\"\n",
    "\n",
    "      # contract MPS from the left and right\n",
    "      sigBA,sigAB = left_contract_MPS(sigBA,sBA,A,sAB,B)\n",
    "      muAB,muBA = right_contract_MPS(muAB,sBA,A,sAB,B)\n",
    "\n",
    "      # orthogonalise A-B and B-A links\n",
    "      B, sBA, A = orthog_MPS(sigBA,muBA,B,sBA,A);\n",
    "      A, sAB, B = orthog_MPS(sigAB,muAB,A,sAB,B);\n",
    "\n",
    "      # normalize the MPS tensors\n",
    "      A_norm = sqrt(ncon(Any[diagm(0 => sBA.^2),A,conj(A),diagm(0 => sAB.^2)],\n",
    "        [[1,3],[1,4,2],[3,4,5],[2,5]]));\n",
    "      A = A./A_norm;\n",
    "      B_norm = sqrt(ncon(Any[diagm(0 => sAB.^2),B,conj(B),diagm(0 => sBA.^2)],\n",
    "        [[1,3],[1,4,2],[3,4,5],[2,5]]));\n",
    "      B = B./B_norm;\n",
    "\n",
    "      \"\"\" Compute energy and display \"\"\"\n",
    "\n",
    "      # compute 2-site local reduced density matrices\n",
    "      rhoAB, rhoBA = loc_density_MPS(A,sAB,B,sBA);\n",
    "\n",
    "      # evaluate the energy\n",
    "      energyAB = ncon(Any[hamAB,rhoAB],Any[[1,2,3,4],[1,2,3,4]]);\n",
    "      energyBA = ncon(Any[hamBA,rhoBA],Any[[1,2,3,4],[1,2,3,4]]);\n",
    "      energy = 0.5*(energyAB + energyBA);\n",
    "\n",
    "      # print to display\n",
    "      chi_temp = min(size(A,1),size(B,1));\n",
    "      @printf \"Iteration: %d of %d, Bond dim: %d, \" k numiter  chi_temp\n",
    "      @printf \"t-step: %e, Energy: %f, Energy Error: %e\\n\" tau energy energy-E0\n",
    "  end\n",
    "\n",
    "    \"\"\" Do evolution of MPS through one time-step \"\"\"\n",
    "    if k < numiter\n",
    "      # apply gate to A-B link\n",
    "      A, sAB, B = apply_gate_MPS(gateAB,A,sAB,B,sBA,chi)\n",
    "      # apply gate to B-A link\n",
    "      B, sBA, A = apply_gate_MPS(gateBA,B,sBA,A,sAB,chi)\n",
    "    end\n",
    "  end\n",
    "\n",
    "  rhoAB, rhoBA = loc_density_MPS(A,sAB,B,sBA);\n",
    "  return A, B, sAB, sBA, rhoAB, rhoBA\n",
    "end\n",
    "\n",
    "\n",
    "\"\"\"\n",
    "left_contract_MPS: Contract an infinite 2-site unit cell from the left for\n",
    "the environment density matrices sigBA (B-A link) and sigAB (A-B link)\n",
    "\"\"\"\n",
    "function left_contract_MPS(sigBA,sBA,A,sAB,B)\n",
    "\n",
    "  # initialize the starting vector\n",
    "  chiBA = size(A,1);\n",
    "  if size(sigBA,1) == size(A,1)\n",
    "    v0 = sigBA[:];\n",
    "  else\n",
    "    v0 = (Matrix{Float64}(I,chiBA,chiBA) ./chiBA)[:];\n",
    "  end\n",
    "\n",
    "  # define network for transfer operator contraction\n",
    "  tensors = Any[diagm(0 => sBA),diagm(0 => sBA),A,conj(A),diagm(0 => sAB),\n",
    "    diagm(0 => sAB),B,conj(B)];\n",
    "  labels = Any[[1,2],[1,3],[2,4],[3,5,6],[4,5,7],[6,8],[7,9],[8,10,-1],\n",
    "    [9,10,-2]];\n",
    "\n",
    "  # define function for boundary contraction and pass to eigs\n",
    "  function left_iter(sigBA,tensors,labels,chi)\n",
    "    return reshape(ncon(Any[reshape(sigBA,chi,chi),tensors...],labels),chi^2);\n",
    "  end\n",
    "  LI = LinearMap(sigBA -> left_iter(sigBA,tensors,labels,chiBA), chiBA^2;\n",
    "    ismutating=false, issymmetric=false, ishermitian=false, isposdef=false)\n",
    "  Dtemp, sigBA = eigs(LI; v0 = v0,nev = 1,tol = 1e-10,which=:LM,maxiter = 300);\n",
    "\n",
    "  # normalize the environment density matrix sigBA\n",
    "  if eltype(A) == Float64\n",
    "    sigBA = real(sigBA);\n",
    "  end\n",
    "  sigBA = reshape(sigBA,chiBA,chiBA);\n",
    "  sigBA = 0.5*(sigBA + sigBA');\n",
    "  sigBA = sigBA ./tr(sigBA);\n",
    "\n",
    "  # compute density matrix sigBA for B-A link\n",
    "  sigAB = ncon(Any[sigBA,diagm(0 => sBA),diagm(0 => sBA),A,conj(A)],\n",
    "    Any[[1,2],[1,3],[2,4],[3,5,-1],[4,5,-2]]);\n",
    "  sigAB = sigAB./tr(sigAB);\n",
    "\n",
    "  return sigBA,sigAB\n",
    "end\n",
    "\n",
    "\n",
    "\"\"\"\n",
    "right_contract_MPS: Contract an infinite 2-site unit cell from the right for\n",
    "the environment density matrices muBA (B-A link) and muAB (A-B link)\n",
    "\"\"\"\n",
    "function right_contract_MPS(muAB,sBA,A,sAB,B)\n",
    "\n",
    "  # initialize the starting vector\n",
    "  chiAB = size(A,3);\n",
    "  if size(muAB,1) == chiAB\n",
    "    v0 = muAB[:];\n",
    "  else\n",
    "    v0 = (Matrix{Float64}(I,chiAB,chiAB) ./chiAB)[:];\n",
    "  end\n",
    "\n",
    "  # define network for transfer operator contraction\n",
    "  tensors = Any[diagm(0 => sAB),diagm(0 => sAB),A,conj(A),diagm(0 => sBA),\n",
    "    diagm(0 => sBA),B,conj(B)];\n",
    "  labels = Any[[1,2],[3,1],[5,2],[6,4,3],[7,4,5],[8,6],[10,7],[-1,9,8],\n",
    "    [-2,9,10]];\n",
    "\n",
    "  # define function for boundary contraction and pass to eigs\n",
    "  function right_iter(muAB,tensors,labels,chiAB)\n",
    "    return reshape(ncon(Any[reshape(muAB,chiAB,chiAB),tensors...],labels),\n",
    "      chiAB^2);\n",
    "  end\n",
    "  RI = LinearMap(muAB -> right_iter(muAB,tensors,labels,chiAB), chiAB^2;\n",
    "    ismutating=false, issymmetric=false, ishermitian=false, isposdef=false)\n",
    "  Dtemp, muAB = eigs(RI; v0 = v0,nev = 1,tol = 1e-10,which=:LM,maxiter = 300);\n",
    "\n",
    "  # normalize the environment density matrix muAB\n",
    "  if eltype(A) == Float64\n",
    "    muAB = real(muAB);\n",
    "  end\n",
    "  muAB = reshape(muAB,chiAB,chiAB);\n",
    "  muAB = 0.5*(muAB + muAB');\n",
    "  muAB = muAB ./tr(muAB);\n",
    "\n",
    "  # compute density matrix muBA for B-A link\n",
    "  muBA = ncon(Any[muAB,diagm(0 => sAB),diagm(0 => sAB),A,conj(A)],\n",
    "    Any[[1,2],[3,1],[5,2],[-1,4,3],[-2,4,5]]);\n",
    "  muBA = muBA ./tr(muBA);\n",
    "\n",
    "  return muAB,muBA\n",
    "end\n",
    "\n",
    "\"\"\"\n",
    "orthog_MPS: Set the MPS gauge across B-A link to the canonical form\n",
    "\"\"\"\n",
    "function orthog_MPS(sigBA,muBA,B,sBA,A; dtol = 1e-12)\n",
    "\n",
    "  # diagonalize left environment tensor\n",
    "  dtemp = eigen(0.5*(sigBA+sigBA'));\n",
    "  ord = sortperm(dtemp.values; rev=true);\n",
    "  chitemp = sum(dtemp.values .> dtol);\n",
    "  UL = dtemp.vectors[:,ord[1:chitemp]];\n",
    "  DL = dtemp.values[ord[1:chitemp]];\n",
    "\n",
    "  # diagonalize right environment tensor\n",
    "  dtemp = eigen(0.5*(muBA+muBA'));\n",
    "  ord = sortperm(dtemp.values; rev=true);\n",
    "  chitemp = sum(dtemp.values .> dtol);\n",
    "  UR = dtemp.vectors[:,ord[1:chitemp]];\n",
    "  DR = dtemp.values[ord[1:chitemp]];\n",
    "\n",
    "  # compute new weights for B-A link\n",
    "  F = svd(diagm(0 => sqrt.(DL))*conj(UL')*\n",
    "    diagm(0 => sBA)*UR*diagm(0 => sqrt.(DR)));\n",
    "  sBA = F.S ./ norm(F.S)\n",
    "\n",
    "  # build x,y gauge change matrices, implement gauge change on A and B\n",
    "  x = conj(UL)*diagm(0 => 1 ./sqrt.(DL))*F.U;\n",
    "  y = conj(UR*diagm(0 => 1 ./sqrt.(DR))*F.V);\n",
    "  A = ncon(Any[y,A],Any[[1,-1],[1,-2,-3]]);\n",
    "  B = ncon(Any[B,x],Any[[-1,-2,2],[2,-3]]);\n",
    "\n",
    "  return B, sBA, A\n",
    "end\n",
    "\n",
    "\"\"\"\n",
    "apply_gate_MPS: Apply a gate to an MPS across and a A-B link. Truncate the MPS\n",
    "back to some desired dimension chi.\n",
    "\"\"\"\n",
    "function apply_gate_MPS(gateAB,A,sAB,B,sBA,chi,stol=1e-7)\n",
    "\n",
    "  # ensure singular values are above tolerance threshold\n",
    "  sBA_trim = sBA.*(sBA .> stol) + stol.*(sBA .< stol);\n",
    "\n",
    "  # contract gate into the MPS, then deompose composite tensor with SVD\n",
    "  d = size(A,2);\n",
    "  chiBA = size(sBA_trim,1);\n",
    "  tensors = Any[diagm(0=>sBA_trim),A,diagm(0=>sAB),B,diagm(0=>sBA_trim),gateAB];\n",
    "  connects = Any[[-1,1],[1,5,2],[2,4],[4,6,3],[3,-4],[-2,-3,5,6]];\n",
    "  nshape = [d*chiBA,d*chiBA];\n",
    "  F = svd(reshape(ncon(tensors,connects),nshape...));\n",
    "\n",
    "  # truncate to reduced dimension\n",
    "  chitemp = min(chi,length(F.S));\n",
    "  utemp = reshape(F.U[:,1:chitemp],size(sBA_trim,1),d*chitemp);\n",
    "  vhtemp = reshape((F.Vt[1:chitemp,:]),chitemp*d,size(sBA_trim,1))\n",
    "\n",
    "  # remove environment weights to form new MPS tensors A and B\n",
    "  A = reshape(diagm(0 => (1 ./sBA_trim))*utemp,chiBA,d,chitemp);\n",
    "  B = reshape(vhtemp*diagm(0 => (1 ./sBA_trim)),chitemp,d,chiBA);\n",
    "\n",
    "  # new weights\n",
    "  sAB = F.S[1:chitemp]./sqrt(sum((F.S[1:chitemp]).^2));\n",
    "\n",
    "  return A,sAB,B\n",
    "end\n",
    "\n",
    "\"\"\"\n",
    "loc_density_MPS: compute the local reduced density matrices from an MPS\n",
    "(assumend to be in canonical form).\n",
    "\"\"\"\n",
    "function loc_density_MPS(A,sAB,B,sBA)\n",
    "\n",
    "  mAB = diagm(0 => sAB);\n",
    "  mBA = diagm(0 => sBA);\n",
    "\n",
    "  # contract MPS for local reduced density matrix (A-B)\n",
    "  tensors = Any[diagm(0 => sBA.^2),A,conj(A),mAB,mAB,B,conj(B),diagm(0 =>sBA.^2)];\n",
    "  connects = Any[[3,4],[3,-3,1],[4,-1,2],[1,7],[2,8],[7,-4,5],[8,-2,6],[5,6]];\n",
    "  rhoAB = ncon(tensors,connects);\n",
    "\n",
    "  # contract MPS for local reduced density matrix (B-A)\n",
    "  tensors = Any[diagm(0 => sAB.^2),B,conj(B),mBA,mBA,A,conj(A),diagm(0 =>sAB.^2)];\n",
    "  connects = Any[[3,4],[3,-3,1],[4,-1,2],[1,7],[2,8],[7,-4,5],[8,-2,6],[5,6]];\n",
    "  rhoBA = ncon(tensors,connects);\n",
    "\n",
    "  return rhoAB, rhoBA\n",
    "end\n"
   ]
  },
  {
   "cell_type": "code",
   "execution_count": 17,
   "id": "ee89843e-e2c7-447a-a9ef-1cd3baf5eee2",
   "metadata": {},
   "outputs": [
    {
     "name": "stdout",
     "output_type": "stream",
     "text": [
      "Iteration: 0 of 500, Bond dim: 16, t-step: 1.000000e-01, Energy: 1.002415, Energy Error: 2.275654e+00\n",
      "Iteration: 10 of 500, Bond dim: 16, t-step: 1.000000e-01, Energy: -1.251057, Energy Error: 2.218277e-02\n",
      "Iteration: 20 of 500, Bond dim: 16, t-step: 1.000000e-01, Energy: -1.262672, Energy Error: 1.056736e-02\n",
      "Iteration: 30 of 500, Bond dim: 16, t-step: 1.000000e-01, Energy: -1.263943, Energy Error: 9.297023e-03\n",
      "Iteration: 40 of 500, Bond dim: 16, t-step: 1.000000e-01, Energy: -1.264330, Energy Error: 8.909880e-03\n",
      "Iteration: 50 of 500, Bond dim: 16, t-step: 1.000000e-01, Energy: -1.264484, Energy Error: 8.755836e-03\n",
      "Iteration: 60 of 500, Bond dim: 16, t-step: 1.000000e-01, Energy: -1.264554, Energy Error: 8.685490e-03\n",
      "Iteration: 70 of 500, Bond dim: 16, t-step: 1.000000e-01, Energy: -1.264589, Energy Error: 8.650580e-03\n",
      "Iteration: 80 of 500, Bond dim: 16, t-step: 1.000000e-01, Energy: -1.264607, Energy Error: 8.632297e-03\n",
      "Iteration: 90 of 500, Bond dim: 16, t-step: 1.000000e-01, Energy: -1.264617, Energy Error: 8.622376e-03\n",
      "Iteration: 100 of 500, Bond dim: 16, t-step: 1.000000e-01, Energy: -1.264623, Energy Error: 8.616872e-03\n",
      "Iteration: 110 of 500, Bond dim: 16, t-step: 1.000000e-01, Energy: -1.264626, Energy Error: 8.613789e-03\n",
      "Iteration: 120 of 500, Bond dim: 16, t-step: 1.000000e-01, Energy: -1.264627, Energy Error: 8.612069e-03\n",
      "Iteration: 130 of 500, Bond dim: 16, t-step: 1.000000e-01, Energy: -1.264628, Energy Error: 8.611130e-03\n",
      "Iteration: 140 of 500, Bond dim: 16, t-step: 1.000000e-01, Energy: -1.264629, Energy Error: 8.610643e-03\n",
      "Iteration: 150 of 500, Bond dim: 16, t-step: 1.000000e-01, Energy: -1.264629, Energy Error: 8.610418e-03\n",
      "Iteration: 160 of 500, Bond dim: 16, t-step: 1.000000e-01, Energy: -1.264629, Energy Error: 8.610343e-03\n",
      "Iteration: 170 of 500, Bond dim: 16, t-step: 1.000000e-01, Energy: -1.264629, Energy Error: 8.610351e-03\n",
      "Iteration: 180 of 500, Bond dim: 16, t-step: 1.000000e-01, Energy: -1.264629, Energy Error: 8.610402e-03\n",
      "Iteration: 190 of 500, Bond dim: 16, t-step: 1.000000e-01, Energy: -1.264629, Energy Error: 8.610473e-03\n",
      "Iteration: 200 of 500, Bond dim: 16, t-step: 1.000000e-01, Energy: -1.264629, Energy Error: 8.610550e-03\n",
      "Iteration: 210 of 500, Bond dim: 16, t-step: 1.000000e-01, Energy: -1.264629, Energy Error: 8.610625e-03\n",
      "Iteration: 220 of 500, Bond dim: 16, t-step: 1.000000e-01, Energy: -1.264629, Energy Error: 8.610694e-03\n",
      "Iteration: 230 of 500, Bond dim: 16, t-step: 1.000000e-01, Energy: -1.264629, Energy Error: 8.610755e-03\n",
      "Iteration: 240 of 500, Bond dim: 16, t-step: 1.000000e-01, Energy: -1.264629, Energy Error: 8.610809e-03\n",
      "Iteration: 250 of 500, Bond dim: 16, t-step: 1.000000e-01, Energy: -1.264629, Energy Error: 8.610854e-03\n",
      "Iteration: 260 of 500, Bond dim: 16, t-step: 1.000000e-01, Energy: -1.264629, Energy Error: 8.610892e-03\n",
      "Iteration: 270 of 500, Bond dim: 16, t-step: 1.000000e-01, Energy: -1.264629, Energy Error: 8.610924e-03\n",
      "Iteration: 280 of 500, Bond dim: 16, t-step: 1.000000e-01, Energy: -1.264629, Energy Error: 8.610950e-03\n",
      "Iteration: 290 of 500, Bond dim: 16, t-step: 1.000000e-01, Energy: -1.264629, Energy Error: 8.610972e-03\n",
      "Iteration: 300 of 500, Bond dim: 16, t-step: 1.000000e-01, Energy: -1.264629, Energy Error: 8.610989e-03\n",
      "Iteration: 310 of 500, Bond dim: 16, t-step: 1.000000e-01, Energy: -1.264629, Energy Error: 8.611003e-03\n",
      "Iteration: 320 of 500, Bond dim: 16, t-step: 1.000000e-01, Energy: -1.264629, Energy Error: 8.611015e-03\n",
      "Iteration: 330 of 500, Bond dim: 16, t-step: 1.000000e-01, Energy: -1.264629, Energy Error: 8.611024e-03\n",
      "Iteration: 340 of 500, Bond dim: 16, t-step: 1.000000e-01, Energy: -1.264629, Energy Error: 8.611031e-03\n",
      "Iteration: 350 of 500, Bond dim: 16, t-step: 1.000000e-01, Energy: -1.264629, Energy Error: 8.611037e-03\n",
      "Iteration: 360 of 500, Bond dim: 16, t-step: 1.000000e-01, Energy: -1.264629, Energy Error: 8.611041e-03\n",
      "Iteration: 370 of 500, Bond dim: 16, t-step: 1.000000e-01, Energy: -1.264628, Energy Error: 8.611045e-03\n",
      "Iteration: 380 of 500, Bond dim: 16, t-step: 1.000000e-01, Energy: -1.264628, Energy Error: 8.611048e-03\n",
      "Iteration: 390 of 500, Bond dim: 16, t-step: 1.000000e-01, Energy: -1.264628, Energy Error: 8.611050e-03\n",
      "Iteration: 400 of 500, Bond dim: 16, t-step: 1.000000e-01, Energy: -1.264628, Energy Error: 8.611052e-03\n",
      "Iteration: 410 of 500, Bond dim: 16, t-step: 1.000000e-01, Energy: -1.264628, Energy Error: 8.611054e-03\n",
      "Iteration: 420 of 500, Bond dim: 16, t-step: 1.000000e-01, Energy: -1.264628, Energy Error: 8.611055e-03\n",
      "Iteration: 430 of 500, Bond dim: 16, t-step: 1.000000e-01, Energy: -1.264628, Energy Error: 8.611056e-03\n",
      "Iteration: 440 of 500, Bond dim: 16, t-step: 1.000000e-01, Energy: -1.264628, Energy Error: 8.611056e-03\n",
      "Iteration: 450 of 500, Bond dim: 16, t-step: 1.000000e-01, Energy: -1.264628, Energy Error: 8.611057e-03\n",
      "Iteration: 460 of 500, Bond dim: 16, t-step: 1.000000e-01, Energy: -1.264628, Energy Error: 8.611057e-03\n",
      "Iteration: 470 of 500, Bond dim: 16, t-step: 1.000000e-01, Energy: -1.264628, Energy Error: 8.611058e-03\n",
      "Iteration: 480 of 500, Bond dim: 16, t-step: 1.000000e-01, Energy: -1.264628, Energy Error: 8.611058e-03\n",
      "Iteration: 490 of 500, Bond dim: 16, t-step: 1.000000e-01, Energy: -1.264628, Energy Error: 8.611058e-03\n",
      "Iteration: 500 of 500, Bond dim: 16, t-step: 1.000000e-01, Energy: -1.264628, Energy Error: 8.611058e-03\n",
      "Iteration: 0 of 2000, Bond dim: 16, t-step: 1.000000e-02, Energy: -1.264628, Energy Error: 8.611058e-03\n",
      "Iteration: 100 of 2000, Bond dim: 16, t-step: 1.000000e-02, Energy: -1.272554, Energy Error: 6.852172e-04\n",
      "Iteration: 200 of 2000, Bond dim: 16, t-step: 1.000000e-02, Energy: -1.272665, Energy Error: 5.748107e-04\n",
      "Iteration: 300 of 2000, Bond dim: 16, t-step: 1.000000e-02, Energy: -1.272687, Energy Error: 5.522486e-04\n",
      "Iteration: 400 of 2000, Bond dim: 16, t-step: 1.000000e-02, Energy: -1.272696, Energy Error: 5.433603e-04\n",
      "Iteration: 500 of 2000, Bond dim: 16, t-step: 1.000000e-02, Energy: -1.272701, Energy Error: 5.387977e-04\n",
      "Iteration: 600 of 2000, Bond dim: 16, t-step: 1.000000e-02, Energy: -1.272703, Energy Error: 5.361818e-04\n",
      "Iteration: 700 of 2000, Bond dim: 16, t-step: 1.000000e-02, Energy: -1.272705, Energy Error: 5.345933e-04\n",
      "Iteration: 800 of 2000, Bond dim: 16, t-step: 1.000000e-02, Energy: -1.272706, Energy Error: 5.335913e-04\n",
      "Iteration: 900 of 2000, Bond dim: 16, t-step: 1.000000e-02, Energy: -1.272707, Energy Error: 5.329405e-04\n",
      "Iteration: 1000 of 2000, Bond dim: 16, t-step: 1.000000e-02, Energy: -1.272707, Energy Error: 5.325074e-04\n",
      "Iteration: 1100 of 2000, Bond dim: 16, t-step: 1.000000e-02, Energy: -1.272707, Energy Error: 5.322129e-04\n",
      "Iteration: 1200 of 2000, Bond dim: 16, t-step: 1.000000e-02, Energy: -1.272708, Energy Error: 5.320089e-04\n",
      "Iteration: 1300 of 2000, Bond dim: 16, t-step: 1.000000e-02, Energy: -1.272708, Energy Error: 5.318652e-04\n",
      "Iteration: 1400 of 2000, Bond dim: 16, t-step: 1.000000e-02, Energy: -1.272708, Energy Error: 5.317626e-04\n",
      "Iteration: 1500 of 2000, Bond dim: 16, t-step: 1.000000e-02, Energy: -1.272708, Energy Error: 5.316883e-04\n",
      "Iteration: 1600 of 2000, Bond dim: 16, t-step: 1.000000e-02, Energy: -1.272708, Energy Error: 5.316341e-04\n",
      "Iteration: 1700 of 2000, Bond dim: 16, t-step: 1.000000e-02, Energy: -1.272708, Energy Error: 5.315941e-04\n",
      "Iteration: 1800 of 2000, Bond dim: 16, t-step: 1.000000e-02, Energy: -1.272708, Energy Error: 5.315644e-04\n",
      "Iteration: 1900 of 2000, Bond dim: 16, t-step: 1.000000e-02, Energy: -1.272708, Energy Error: 5.315423e-04\n",
      "Iteration: 2000 of 2000, Bond dim: 16, t-step: 1.000000e-02, Energy: -1.272708, Energy Error: 5.315257e-04\n",
      "Iteration: 0 of 20000, Bond dim: 16, t-step: 1.000000e-03, Energy: -1.272708, Energy Error: 5.315257e-04\n",
      "Iteration: 1000 of 20000, Bond dim: 32, t-step: 1.000000e-03, Energy: -1.273054, Energy Error: 1.851784e-04\n",
      "Iteration: 2000 of 20000, Bond dim: 32, t-step: 1.000000e-03, Energy: -1.273095, Energy Error: 1.450376e-04\n",
      "Iteration: 3000 of 20000, Bond dim: 32, t-step: 1.000000e-03, Energy: -1.273118, Energy Error: 1.216292e-04\n",
      "Iteration: 4000 of 20000, Bond dim: 32, t-step: 1.000000e-03, Energy: -1.273133, Energy Error: 1.060851e-04\n",
      "Iteration: 5000 of 20000, Bond dim: 32, t-step: 1.000000e-03, Energy: -1.273144, Energy Error: 9.527242e-05\n",
      "Iteration: 6000 of 20000, Bond dim: 32, t-step: 1.000000e-03, Energy: -1.273152, Energy Error: 8.758162e-05\n",
      "Iteration: 7000 of 20000, Bond dim: 32, t-step: 1.000000e-03, Energy: -1.273158, Energy Error: 8.202945e-05\n",
      "Iteration: 8000 of 20000, Bond dim: 32, t-step: 1.000000e-03, Energy: -1.273162, Energy Error: 7.797445e-05\n",
      "Iteration: 9000 of 20000, Bond dim: 32, t-step: 1.000000e-03, Energy: -1.273165, Energy Error: 7.498443e-05\n",
      "Iteration: 10000 of 20000, Bond dim: 32, t-step: 1.000000e-03, Energy: -1.273167, Energy Error: 7.276188e-05\n",
      "Iteration: 11000 of 20000, Bond dim: 32, t-step: 1.000000e-03, Energy: -1.273168, Energy Error: 7.109854e-05\n",
      "Iteration: 12000 of 20000, Bond dim: 32, t-step: 1.000000e-03, Energy: -1.273170, Energy Error: 6.984646e-05\n",
      "Iteration: 13000 of 20000, Bond dim: 32, t-step: 1.000000e-03, Energy: -1.273171, Energy Error: 6.889929e-05\n",
      "Iteration: 14000 of 20000, Bond dim: 32, t-step: 1.000000e-03, Energy: -1.273171, Energy Error: 6.817975e-05\n",
      "Iteration: 15000 of 20000, Bond dim: 32, t-step: 1.000000e-03, Energy: -1.273172, Energy Error: 6.763113e-05\n",
      "Iteration: 16000 of 20000, Bond dim: 32, t-step: 1.000000e-03, Energy: -1.273172, Energy Error: 6.721153e-05\n",
      "Iteration: 17000 of 20000, Bond dim: 32, t-step: 1.000000e-03, Energy: -1.273173, Energy Error: 6.688975e-05\n",
      "Iteration: 18000 of 20000, Bond dim: 32, t-step: 1.000000e-03, Energy: -1.273173, Energy Error: 6.664240e-05\n",
      "Iteration: 19000 of 20000, Bond dim: 32, t-step: 1.000000e-03, Energy: -1.273173, Energy Error: 6.645188e-05\n",
      "Iteration: 20000 of 20000, Bond dim: 32, t-step: 1.000000e-03, Energy: -1.273173, Energy Error: 6.630489e-05\n",
      "Bond dim: 32, Energy: -1.273173, Energy Error: 6.630489e-05\n"
     ]
    }
   ],
   "source": [
    "  \n",
    "\"\"\"\n",
    "mainTEBD.jl\n",
    "---------------------------------------------------------------------\n",
    "Script file for initializing the Hamiltonian and MPS tensors before passing to\n",
    "the TEBD routine.\n",
    "\n",
    "by Glen Evenbly (c) for www.tensors.net, (v1.2) - last modified 06/2020\n",
    "\"\"\"\n",
    "\n",
    "using Printf, LinearAlgebra, LinearMaps, Arpack\n",
    "\n",
    "\n",
    "\n",
    "##### Example 1: XX model #############\n",
    "#######################################\n",
    "\n",
    "##### Set bond dimensions and simulation options\n",
    "chi = 16; # bond dimension\n",
    "tau = 0.1; # timestep\n",
    "\n",
    "numiter = 500; # number of timesteps\n",
    "evotype = \"imag\"; # real or imaginary time evolution\n",
    "E0 = -4/pi; # specify exact ground energy (if known)\n",
    "midsteps = Int64(1/tau); # timesteps between MPS re-orthogonalization\n",
    "\n",
    "#### Define Hamiltonian (quantum XX model)\n",
    "sX = [0 1; 1 0]; sY = [0 -im; im 0]; sZ = [1 0; 0 -1]; sI = [1 0; 0 1];\n",
    "htemp = real(kron(sX,sX) + kron(sY,sY));\n",
    "hamAB = reshape(htemp,2,2,2,2);\n",
    "hamBA = reshape(htemp,2,2,2,2);\n",
    "\n",
    "##### Initialize tensors\n",
    "d = size(hamAB,1);\n",
    "sAB = ones(chi) ./sqrt(chi);\n",
    "sBA = ones(chi) ./sqrt(chi);\n",
    "A = rand(chi,d,chi);\n",
    "B = rand(chi,d,chi);\n",
    "\n",
    "##### Imaginary time evolution with TEBD ######\n",
    "###############################################\n",
    "\n",
    "##### Run TEBD routine\n",
    "A, B, sAB, sBA, rhoAB, rhoBA = doTEBD(hamAB,hamBA,A,B,sAB,sBA,chi,tau;\n",
    "  evotype = evotype, numiter = numiter, midsteps = midsteps, E0 = E0);\n",
    "\n",
    "##### continute running TEBD routine with reduced timestep\n",
    "tau = 0.01;\n",
    "numiter = 2000;\n",
    "midsteps = 100;\n",
    "A, B, sAB, sBA, rhoAB, rhoBA = doTEBD(hamAB,hamBA,A,B,sAB,sBA,chi,tau;\n",
    "  evotype = evotype, numiter = numiter, midsteps = midsteps, E0 = E0);\n",
    "\n",
    "##### continute running TEBD with reduced timestep and increased bond dim\n",
    "chi = 32;\n",
    "tau = 0.001;\n",
    "numiter = 20000;\n",
    "midsteps = 1000;\n",
    "A, B, sAB, sBA, rhoAB, rhoBA = doTEBD(hamAB,hamBA,A,B,sAB,sBA,chi,tau;\n",
    "  evotype = evotype, numiter = numiter, midsteps = midsteps, E0 = E0);\n",
    "\n",
    "##### Compare with exact results\n",
    "energyAB = ncon(Any[hamAB,rhoAB],Any[[1,2,3,4],[1,2,3,4]]);\n",
    "energyBA = ncon(Any[hamBA,rhoBA],Any[[1,2,3,4],[1,2,3,4]]);\n",
    "energyMPS = 0.5*(energyAB + energyBA)\n",
    "enErr = abs(energyMPS + 4/pi)\n",
    "@printf \"Bond dim: %d, Energy: %f, Energy Error: %e\\n\" chi energyMPS enErr\n"
   ]
  },
  {
   "cell_type": "code",
   "execution_count": null,
   "id": "f118443b-3dbb-4656-839f-218b27736db0",
   "metadata": {},
   "outputs": [],
   "source": []
  },
  {
   "cell_type": "code",
   "execution_count": 110,
   "id": "45d7d612-1778-4fa4-aca6-2765c8996c8a",
   "metadata": {},
   "outputs": [
    {
     "name": "stdout",
     "output_type": "stream",
     "text": [
      "[1, 2, 3, 4, 5, 65, 89, 9878, 56, 98, 898, 6, 464, 64, 66, 46]\n"
     ]
    }
   ],
   "source": [
    "arr = [1, 2, 2, 3, 4, 4, 5,65,65,65,89,89,9878,56,98,898,6,4,464,64,66,46,]\n",
    "unique_arr = unique(arr)\n",
    "println(unique_arr)  # Output: [1, 2, 3, 4, 5]"
   ]
  },
  {
   "cell_type": "code",
   "execution_count": 111,
   "id": "2b5ee751-68d1-4958-8209-67929d036e47",
   "metadata": {},
   "outputs": [
    {
     "name": "stdout",
     "output_type": "stream",
     "text": [
      "2\n",
      "3\n",
      "3\n",
      "2\n"
     ]
    }
   ],
   "source": [
    "s = [[4, 5], [6, 5, 8], [7, 8, 9], [4, 6]]\n",
    "for i in 1:length(s)\n",
    "    println(length(s[i]))\n",
    "end\n"
   ]
  },
  {
   "cell_type": "markdown",
   "id": "1c0cac7e-aa93-4599-a401-f77b9f60e6f9",
   "metadata": {},
   "source": [
    "* **TUTORIAL-1**"
   ]
  },
  {
   "cell_type": "markdown",
   "id": "9bf16ca6-9844-4a56-9d8a-b7cc9733cf0c",
   "metadata": {},
   "source": [
    "**Time evolution practice**"
   ]
  },
  {
   "cell_type": "code",
   "execution_count": 175,
   "id": "8dad5526-6421-4247-ba71-528f157387c0",
   "metadata": {},
   "outputs": [
    {
     "data": {
      "text/plain": [
       "2×2×2×2 Array{Float64, 4}:\n",
       "[:, :, 1, 1] =\n",
       " 1.0  0.0\n",
       " 0.0  0.0\n",
       "\n",
       "[:, :, 2, 1] =\n",
       " 0.0      -0.201336\n",
       " 1.02007   0.0\n",
       "\n",
       "[:, :, 1, 2] =\n",
       "  0.0       1.02007\n",
       " -0.201336  0.0\n",
       "\n",
       "[:, :, 2, 2] =\n",
       " 0.0  0.0\n",
       " 0.0  1.0"
      ]
     },
     "execution_count": 175,
     "metadata": {},
     "output_type": "execute_result"
    }
   ],
   "source": [
    "sx=[0 1;1 0];\n",
    "sy=[0 -im;im 0];\n",
    "htemp=real(kron(sx,sx)+kron(sy,sy));\n",
    "hamAB=reshape(htemp,2,2,2,2);\n",
    "hamBA=reshape(htemp,2,2,2,2);\n",
    "#exponentiate Hamiltonian\n",
    "d=size(A,2)\n",
    "tau=0.1\n",
    "evotype=\"imag\";\n",
    "if evotype==\"real\"\n",
    "    gateAB=reshape(exp(im*tau*reshape(hamAB,d^2,d^2)),d,d,d,d);\n",
    "    gateBA=reshape(exp(im*tau*reshape(hamBA,d^2,d^2)),d,d,d,d);\n",
    "elseif evotype==\"imag\"\n",
    "    gateAB=reshape(exp(-tau*reshape(hamAB,d^2,d^2)),d,d,d,d);\n",
    "    gateBA=reshape(exp(-tau*reshape(hamBA,d^2,d^2)),d,d,d,d); \n",
    "end"
   ]
  },
  {
   "cell_type": "code",
   "execution_count": null,
   "id": "0941db00-4f6b-447f-9b65-52d28fa3a459",
   "metadata": {},
   "outputs": [],
   "source": []
  },
  {
   "cell_type": "code",
   "execution_count": 112,
   "id": "36a60ca1-436e-4c9b-bdf6-964139e6bf56",
   "metadata": {},
   "outputs": [
    {
     "data": {
      "text/plain": [
       "2×3×4 Array{ComplexF64, 3}:\n",
       "[:, :, 1] =\n",
       " 0.453069+0.220679im  0.116454+0.277262im   0.701532+0.323836im\n",
       " 0.832515+0.424794im  0.525845+0.242506im  0.0599013+0.248022im\n",
       "\n",
       "[:, :, 2] =\n",
       " 0.086192+0.328428im  0.449395+0.620913im   0.452569+0.685306im\n",
       " 0.508348+0.790195im  0.484215+0.352661im  0.0116235+0.0999356im\n",
       "\n",
       "[:, :, 3] =\n",
       " 0.707923+0.589519im  0.568912+0.74252im   0.616823+0.688158im\n",
       " 0.802945+0.353526im  0.753319+0.762892im  0.711618+0.284652im\n",
       "\n",
       "[:, :, 4] =\n",
       " 0.770043+0.5572im     0.511858+0.148073im  0.639779+0.819103im\n",
       " 0.612072+0.0758381im  0.701788+0.778884im  0.782202+0.119688im"
      ]
     },
     "execution_count": 112,
     "metadata": {},
     "output_type": "execute_result"
    }
   ],
   "source": [
    "using LinearAlgebra\n",
    "A=rand(2,4,3)\n",
    "B=Matrix{Float64}(I,5,5)#defining a tensor of identity matrix of 5x5\n",
    "C=ones(2,4,2,4)#defining a tensor of 4 rank\n",
    "D=zeros(5,5)\n",
    "#defining a comples random tensor\n",
    "E=rand(2,3,4)+im*rand(2,3,4)"
   ]
  },
  {
   "cell_type": "code",
   "execution_count": 113,
   "id": "6f986870-cc42-4cb7-8989-619a3535bb90",
   "metadata": {},
   "outputs": [],
   "source": [
    "d=10\n",
    "A=rand(d,d,d,d)\n",
    "B=rand(d,d,d,d)\n",
    "Ap=permutedims(A,[1,3,2,4]);Bp=permutedims(B,[1,4,2,3]);\n",
    "App=reshape(A,(d^2,d^2));Bpp=reshape(B,(d^2,d^2));\n",
    "Cpp=App*Bpp\n",
    "C=reshape(Cpp,(d,d,d,d));"
   ]
  },
  {
   "cell_type": "code",
   "execution_count": 114,
   "id": "437f8f06-7855-4a75-905b-1c5505086089",
   "metadata": {},
   "outputs": [
    {
     "data": {
      "text/plain": [
       "10×10 Matrix{Float64}:\n",
       " 11.4688  10.1632   8.57089   9.28719  …   8.63705   6.6456    9.83561\n",
       " 17.1444  14.6498  12.7134   14.1708      13.3896    9.75644  14.218\n",
       " 19.3534  16.8736  15.0027   15.6411      15.6983   11.5255   15.8316\n",
       " 21.66    18.8352  16.58     17.8208      17.3262   12.7464   17.6924\n",
       " 24.1789  20.8568  18.4563   19.4006      19.1936   14.1565   19.9819\n",
       " 16.7738  14.458   12.5161   13.4667   …  12.9672    9.65061  14.1304\n",
       " 23.3528  20.7061  17.9347   18.9533      18.6326   13.9591   18.8435\n",
       " 17.1581  14.9423  12.9129   13.774       13.1865   10.0222   14.468\n",
       " 21.7324  18.7026  16.335    17.2192      16.8909   12.7022   18.0268\n",
       " 16.1981  14.0095  12.1506   12.7867      12.6927    9.36727  13.3798"
      ]
     },
     "execution_count": 114,
     "metadata": {},
     "output_type": "execute_result"
    }
   ],
   "source": [
    "d=10\n",
    "A=rand(d,d);B=rand(d,d);C=rand(d,d);\n",
    "F0=zeros(d,d);\n",
    "for id in 1:d\n",
    "    for jd in 1:d\n",
    "        for kd in 1:d\n",
    "            for ld in 1:d\n",
    "                F0[id,jd]=F0[id,jd]+A[id,kd]*B[kd,ld]*C[ld,jd]\n",
    "            end\n",
    "        end\n",
    "    end\n",
    "end\n",
    "F0"
   ]
  },
  {
   "cell_type": "code",
   "execution_count": 115,
   "id": "3cbd3bc8-c0e1-4a1c-8897-de3116c9d051",
   "metadata": {},
   "outputs": [
    {
     "data": {
      "text/plain": [
       "(10, 10)"
      ]
     },
     "execution_count": 115,
     "metadata": {},
     "output_type": "execute_result"
    }
   ],
   "source": [
    "d=10\n",
    "a=rand(d,d,d);b=rand(d,d,d,d);c=rand(d,d,d);d=rand(d,d);\n",
    "TensorArray=Any[a,b,c,d];\n",
    "IndexArray=Any[[1,-2,2],[-1,1,3,4],[5,3,2],[4,5]]\n",
    "cont_order=[5,3,4,2,1]\n",
    "E=ncon(TensorArray,IndexArray)\n",
    "size(E)"
   ]
  },
  {
   "cell_type": "code",
   "execution_count": 116,
   "id": "3d0bdacb-a243-436a-a68c-182e8e24b600",
   "metadata": {},
   "outputs": [],
   "source": [
    "d=10\n",
    "A=rand(d,d,d,d,d,d);\n",
    "B=ncon(Any[A],Any[-1,-2,1,-3,-4,1]);"
   ]
  },
  {
   "cell_type": "code",
   "execution_count": 117,
   "id": "2f89bec2-fa30-45ef-b8f3-4656780d7781",
   "metadata": {},
   "outputs": [],
   "source": [
    "A=rand(d,d)\n",
    "B=rand(d,d)\n",
    "C=ncon(Any[A,B],Any[[-1,-2],[-3,-4]]);"
   ]
  },
  {
   "cell_type": "code",
   "execution_count": 118,
   "id": "1c4ee715-c2f5-4279-abd9-5899b32d35f3",
   "metadata": {},
   "outputs": [
    {
     "data": {
      "text/plain": [
       "(10, 10, 10)"
      ]
     },
     "execution_count": 118,
     "metadata": {},
     "output_type": "execute_result"
    }
   ],
   "source": [
    "d=10\n",
    "A=rand(d,d,d);B=rand(d,d,d,d);C=rand(d,d,d,d);D=rand(d,d,d);E=rand(d,d,d);\n",
    "TensorArray=Any[A,B,C,D,E];\n",
    "IndexArray=Any[[-1,1,2],[1,-2,3,7],[6,2,7,4],[-3,6,5],[5,4,3]];\n",
    "F=ncon(TensorArray,IndexArray);\n",
    "size(F)"
   ]
  },
  {
   "cell_type": "code",
   "execution_count": 119,
   "id": "76c8531b-39e5-4aab-9ed3-942a75ea162a",
   "metadata": {},
   "outputs": [],
   "source": [
    "\n",
    "d = 20;\n",
    "A = rand(d,d,d); B = rand(d,d,d); C = rand(d,d,d);\n",
    "\n",
    "##### Evaluate network via index summation\n",
    "function tempfunct(A,B,C,d)\n",
    "    D0 = zeros(d,d,d);\n",
    "    for b1 = 1:d\n",
    "        for a2 = 1:d\n",
    "            for c3 = 1:d\n",
    "                for a1 = 1:d\n",
    "                    for a3 = 1:d\n",
    "                        for c1 = 1:d\n",
    "                            D0[b1,a2,c3] = D0[b1,a2,c3]+A[a1,a2,a3]*B[b1,a1,c1]*C[c1,a3,c3];\n",
    "                        end\n",
    "                    end\n",
    "                end\n",
    "            end\n",
    "        end\n",
    "    end\n",
    "    return D0\n",
    "end\n",
    "\n",
    "t_sum = @elapsed D0 = tempfunct(A,B,C,d);"
   ]
  },
  {
   "cell_type": "code",
   "execution_count": 120,
   "id": "95d0afa4-4467-429f-903c-0c6561b70b4e",
   "metadata": {},
   "outputs": [
    {
     "ename": "LoadError",
     "evalue": "DimensionMismatch: dimensions must match: a has dims (Base.OneTo(100),), b has dims (Base.OneTo(8000),), mismatch at 1",
     "output_type": "error",
     "traceback": [
      "DimensionMismatch: dimensions must match: a has dims (Base.OneTo(100),), b has dims (Base.OneTo(8000),), mismatch at 1",
      "",
      "Stacktrace:",
      " [1] promote_shape(a::Matrix{Float64}, b::Matrix{Float64})",
      "   @ Base .\\indices.jl:178 [inlined]",
      " [2] promote_shape(a::Matrix{Float64}, b::Matrix{Float64})",
      "   @ Base .\\indices.jl:169 [inlined]",
      " [3] -(A::Vector{Float64}, B::Vector{Float64})",
      "   @ Base .\\arraymath.jl:7",
      " [4] top-level scope",
      "   @ In[120]:6"
     ]
    }
   ],
   "source": [
    "X=reshape(reshape(permutedims(B,[1,3,2]),(d^2,d))*reshape(A,(d,d^2)),(d,d,d,d));\n",
    "D0=reshape(reshape(permutedims(X,[1,3,2,4]),(d^2,d^2))*reshape(C,(d^2,d)),(d,d,d));\n",
    "t2=@elapsed D0\n",
    "C0=ncon(Any[A,B,C],Any[[1,-2,2],[-1,1,3],[3,2,-3]]);\n",
    "t3=@elapsed C0\n",
    "tdiffs=[maximum(abs.(F0[:]-D0[:])),maximum(abs.(D0[:]-C0[:])),maximum(abs.(C0[:]-F0[:]))]"
   ]
  },
  {
   "cell_type": "code",
   "execution_count": 121,
   "id": "022e7b4e-eff1-4d72-8516-a5c6b342bb59",
   "metadata": {},
   "outputs": [
    {
     "data": {
      "text/plain": [
       "(0.1157549, 2.0e-7, 2.0e-7)"
      ]
     },
     "execution_count": 121,
     "metadata": {},
     "output_type": "execute_result"
    }
   ],
   "source": [
    "t_sum,t2,t3"
   ]
  },
  {
   "cell_type": "code",
   "execution_count": 122,
   "id": "5a7327df-9372-4244-9207-1dc314c2786e",
   "metadata": {},
   "outputs": [],
   "source": [
    "#calculation of a SVD of a matrix"
   ]
  },
  {
   "cell_type": "code",
   "execution_count": 123,
   "id": "abf13ffe-9bec-41dc-9789-3dbc928961f7",
   "metadata": {},
   "outputs": [
    {
     "data": {
      "text/plain": [
       "3.520351929799884e-15"
      ]
     },
     "execution_count": 123,
     "metadata": {},
     "output_type": "execute_result"
    }
   ],
   "source": [
    "d1 = 10; d2 = 6;\n",
    "A=rand(d1,d2);\n",
    "F=svd(A);\n",
    "#checking for the correctness\n",
    "Af=F.U*diagm(0=>F.S)F.Vt;\n",
    "Da=norm(Af[:]-A[:])"
   ]
  },
  {
   "cell_type": "code",
   "execution_count": 124,
   "id": "295ad9c3-9e46-4b14-8312-a6de2c6847c4",
   "metadata": {},
   "outputs": [
    {
     "data": {
      "text/plain": [
       "2.3703674486226177e-14"
      ]
     },
     "execution_count": 124,
     "metadata": {},
     "output_type": "execute_result"
    }
   ],
   "source": [
    "d = 10; A = rand(d,d,d);\n",
    "F = svd(reshape(A,d^2,d));\n",
    "U = reshape(F.U,d,d,d);\n",
    "# check result\n",
    "Af = ncon(Any[U,diagm(0 => F.S),F.Vt], Any[[-1,-2,1],[1,2],[2,-3]]);\n",
    "diff=norm(Af[:]-A[:])"
   ]
  },
  {
   "cell_type": "code",
   "execution_count": 125,
   "id": "c51534e3-fbea-4a51-9ae6-03094b842a8a",
   "metadata": {},
   "outputs": [
    {
     "data": {
      "text/plain": [
       "4.979921898473019e-15"
      ]
     },
     "execution_count": 125,
     "metadata": {},
     "output_type": "execute_result"
    }
   ],
   "source": [
    "d=10;A=rand(d,d);\n",
    "H=0.5*(A+A')\n",
    "F=eigen(H);\n",
    "Af=F.vectors*diagm(0=>F.values)*F.vectors';\n",
    "diff=norm(Af[:]-H[:])"
   ]
  },
  {
   "cell_type": "code",
   "execution_count": 126,
   "id": "c059c5c8-90fd-419f-aafa-33f9ba174a3f",
   "metadata": {},
   "outputs": [
    {
     "data": {
      "text/plain": [
       "3.2807982676768444e-15"
      ]
     },
     "execution_count": 126,
     "metadata": {},
     "output_type": "execute_result"
    }
   ],
   "source": [
    "#application on tensors\n",
    "d=2;A=rand(d,d,d,d);\n",
    "H=0.5(A+permutedims(A,[3,4,1,2]));\n",
    "F=eigen(reshape(H,d^2,d^2));\n",
    "U=reshape(F.vectors,d,d,d^2);\n",
    "S=diagm(0=>F.values);\n",
    "Af=ncon(Any[U,S,U],Any[[-1,-2,1],[1,2],[-3,-4,2]]);#beacuse of being transpose the last index gets reversed\n",
    "diff=norm(Af[:]-H[:])"
   ]
  },
  {
   "cell_type": "code",
   "execution_count": 127,
   "id": "77d6453f-85d5-4aa8-aa50-cbd6378461dc",
   "metadata": {},
   "outputs": [
    {
     "data": {
      "text/plain": [
       "57.81828997814314"
      ]
     },
     "execution_count": 127,
     "metadata": {},
     "output_type": "execute_result"
    }
   ],
   "source": [
    "d=10\n",
    "A=rand(d,d,d,d);\n",
    "Frob0A=sqrt(ncon(Any[A,conj(A)],Any[collect(1:ndims(A)),collect(1:ndims(A))]))\n",
    "#equivalent frobenius norm\n",
    "frob1A=sqrt(sum(abs.(A[:]).^2))\n",
    "#equivalent frobenius form\n",
    "frob2A=norm(A)"
   ]
  },
  {
   "cell_type": "code",
   "execution_count": 128,
   "id": "5cd824cd-e5c0-4a19-a8d7-3fc389408573",
   "metadata": {},
   "outputs": [
    {
     "data": {
      "text/plain": [
       "0.46832273608120667"
      ]
     },
     "execution_count": 128,
     "metadata": {},
     "output_type": "execute_result"
    }
   ],
   "source": [
    "#forming another tensor that close approximates the previous one\n",
    "d = 10; A = rand(d,d,d,d,d);\n",
    "F = svd(reshape(A,d^3,d^2));\n",
    "U = reshape(F.U,d,d,d,d^2);\n",
    "Vh = reshape(F.Vt,d^2,d,d);\n",
    "##### truncate SVD\n",
    "chi = 8;\n",
    "Vhtilda = Vh[1:chi,:,:];\n",
    "Stilda = diagm(0 => F.S[1:chi]);\n",
    "Utilda = U[:,:,:,1:chi];\n",
    "B = ncon(Any[Utilda,Stilda,Vhtilda],Any[[-1,-2,-3,1],[1,2],[2,-4,-5]]);\n",
    "epsAB=norm(A-B)/norm(A)"
   ]
  },
  {
   "cell_type": "code",
   "execution_count": 129,
   "id": "efde09d3-7f8a-4527-ac81-bf0d32799463",
   "metadata": {},
   "outputs": [
    {
     "data": {
      "text/plain": [
       "0.04274636292626995"
      ]
     },
     "execution_count": 129,
     "metadata": {},
     "output_type": "execute_result"
    }
   ],
   "source": [
    "d=500\n",
    "A=diagm(1=>ones(d))+diagm(-1=>ones(d));\n",
    "A=A/norm(A);\n",
    "deleteval=1e-2\n",
    "F=svd(A);\n",
    "r_delete=sum(F.S .>deleteval)\n",
    "eps_erro=sqrt.(sum(F.S[r_delete:end].^2))"
   ]
  },
  {
   "cell_type": "markdown",
   "id": "0debf948-64ea-4639-b173-f01c416addec",
   "metadata": {},
   "source": [
    "**Gauge Freedom**"
   ]
  },
  {
   "cell_type": "code",
   "execution_count": 130,
   "id": "d4381919-b13e-4a7c-b1ee-7c93bfb01584",
   "metadata": {},
   "outputs": [
    {
     "data": {
      "text/plain": [
       "5.389663517066005e-16"
      ]
     },
     "execution_count": 130,
     "metadata": {},
     "output_type": "execute_result"
    }
   ],
   "source": [
    "d = 3;\n",
    "A = rand(d,d,d,d); B = rand(d,d,d);\n",
    "C = rand(d,d,d); D = rand(d,d,d);\n",
    "E = rand(d,d,d); F = rand(d,d,d);\n",
    "G = rand(d,d,d);\n",
    "DQ, DR = qr(reshape(D,d^2,d)); DQ = reshape(Matrix(DQ),d,d,d);\n",
    "EQ, ER = qr(reshape(E,d^2,d)); EQ = reshape(Matrix(EQ),d,d,d);\n",
    "Btilda = ncon(Any[B,DR,ER],Any[[1,2,-3],[-1,1],[-2,2]]);\n",
    "BQ, BR = qr(reshape(Btilda,d^2,d)); BQ = reshape(Matrix(BQ),d,d,d);\n",
    "FQ, FR = qr(reshape(F,d^2,d)); FQ = reshape(Matrix(FQ),d,d,d);\n",
    "GQ, GR = qr(reshape(G,d^2,d)); GQ = reshape(Matrix(GQ),d,d,d);\n",
    "Ctilda = ncon(Any[C,GR],Any[[1,-2,-3],[-1,1]]);\n",
    "CQ, CR = qr(reshape(Ctilda,d^2,d)); CQ = reshape(Matrix(CQ),d,d,d);\n",
    "Aprime = ncon(Any[A,BR,FR,CR],Any[[1,-2,2,3],[-1,1],[-3,2],[-4,3]]);\n",
    "H_old=ncon(Any[A,B,C,D,E,F,G],Any[[3,-5,4,5],[1,2,3],[6,-10,5],[-1,-2,1],[-3,-4,2],[-6,-7,4],[-8,-9,6]]);\n",
    "connect_list=Any[[3,-5,4,5],[1,2,3],[6,-10,5],[-1,-2,1],[-3,-4,2],[-6,-7,4],[-8,-9,6]]\n",
    "H_new=ncon(Any[Aprime,BQ,CQ,DQ,EQ,FQ,GQ],connect_list[:]);\n",
    "dh=norm(H_old-H_new)/norm(H_old)"
   ]
  },
  {
   "cell_type": "markdown",
   "id": "c22e577e-16fa-4b37-a982-7e9265df2417",
   "metadata": {},
   "source": [
    "**Creating center of orthogonality using direct orthogonalization**"
   ]
  },
  {
   "cell_type": "code",
   "execution_count": 131,
   "id": "6fe0430e-85f6-479c-b4ff-144457b26d3e",
   "metadata": {},
   "outputs": [
    {
     "data": {
      "text/plain": [
       "1.4636427572484577e-15"
      ]
     },
     "execution_count": 131,
     "metadata": {},
     "output_type": "execute_result"
    }
   ],
   "source": [
    "d = 3;\n",
    "A = rand(d,d,d,d); B = rand(d,d,d);\n",
    "C = rand(d,d,d); D = rand(d,d,d);\n",
    "E = rand(d,d,d); F = rand(d,d,d);\n",
    "G = rand(d,d,d);\n",
    "rho1=ncon(Any[B,D,E,B,D,E],Any[[5,6,-2],[1,2,5],[3,4,6],[7,8,-1],[1,2,7],[3,4,8]]);\n",
    "rho2=ncon(Any[F,F],Any[[1,2,-2],[1,2,-1]]);\n",
    "rho3 = ncon(Any[C,G,C,G],Any[[3,5,-2],[1,2,3],[4,5,-1],[1,2,4]]);\n",
    "d1,u1=eigen(rho1);sqd1=sqrt.(abs.(d1));\n",
    "d2,u2=eigen(rho2);sqd2=sqrt.(abs.(d2));\n",
    "d3,u3=eigen(rho3);sqd3=sqrt.(abs.(d3));\n",
    "X1=u1*diagm(0=>sqd1)*u1';X1inv=u1*diagm(0=>(1 ./sqd1))*u1';\n",
    "X2=u2*diagm(0=>sqd2)*u2';X2inv=u2*diagm(0=>(1 ./sqd2))*u2';\n",
    "X3=u3*diagm(0=>sqd3)*u3';X3inv=u3*diagm(0=>(1 ./sqd3))*u3';\n",
    "Aprime=ncon(Any[A,X1,X2,X3],Any[[1,-2,2,3],[-1,1],[-3,2],[-4,3]]);\n",
    "Bprime = ncon(Any[B,X1inv],Any[[-1,-2,1],[1,-3]]);\n",
    "Fprime = ncon(Any[F,X2inv],Any[[-1,-2,1],[1,-3]]);\n",
    "Cprime = ncon(Any[C,X3inv],Any[[-1,-2,1],[1,-3]]);\n",
    "H_new=ncon(Any[Aprime,Bprime,Cprime,D,E,Fprime,G],connect_list[:]);\n",
    "H_old=ncon(Any[A,B,C,D,E,F,G],connect_list[:]);\n",
    "dH=norm(H_new-H_old)/norm(H_old)"
   ]
  },
  {
   "cell_type": "code",
   "execution_count": 132,
   "id": "cb0c6bf0-4a52-4d16-a6d4-96904eb8042a",
   "metadata": {},
   "outputs": [
    {
     "data": {
      "text/plain": [
       "1.153451471243839"
      ]
     },
     "execution_count": 132,
     "metadata": {},
     "output_type": "execute_result"
    }
   ],
   "source": [
    "d=5\n",
    "H0=reshape(sqrt.(1:d^7),d,d,d,d,d,d,d);\n",
    "chi=3#internal dimension\n",
    "#first decomposition\n",
    "utemp,stemp,vtemp=svd(reshape(H0,d^2,d^5));\n",
    "U0=reshape(utemp[:,1:chi],d,d,chi);\n",
    "H1=reshape(diagm(0=>stemp[1:chi])*vtemp[:,1:chi]',chi,d,d,d,d,d);\n",
    "utemp,stemp,vtemp = svd(reshape(permutedims(H1,[2,3,1,4,5,6]),d^2,chi*d^3));\n",
    "U1 = reshape(utemp[:,1:chi],d,d,chi);\n",
    "H2=permutedims(reshape(diagm(0=>stemp[1:chi])*vtemp[:,1:chi]',chi,chi,d,d,d),[2,1,3,4,5]);\n",
    "utemp,stemp,vtemp=svd(reshape(H2,chi^2,d^3));\n",
    "U2=reshape(utemp[:,1:chi],chi,chi,chi);\n",
    "H3=permutedims(reshape(diagm(0=>stemp[1:chi])*vtemp[:,1:chi]',chi,d,d,d),[2,3,1,4]);\n",
    "utemp,stemp,vtemp=svd(reshape(H3,chi*d,d^2));\n",
    "V3=reshape(vtemp[:,1:chi],d,d,chi);\n",
    "H4=reshape(utemp[:,1:chi]*diagm(0=>stemp[1:chi]),chi,d,chi);\n",
    "H0_recovery=ncon(Any[U0,U1,U2,V3,H4],Any[[-1,-2,1],[-3,-4,2],[1,2,3],[-6,-7,4],[3,-5,4]]);\n",
    "tot_var=norm(H0-H0_recovery)/norm(H0)"
   ]
  },
  {
   "cell_type": "code",
   "execution_count": 133,
   "id": "012620c8-038b-4369-a8cf-df6198d2c659",
   "metadata": {},
   "outputs": [
    {
     "data": {
      "text/plain": [
       "3.739684666310792"
      ]
     },
     "execution_count": 133,
     "metadata": {},
     "output_type": "execute_result"
    }
   ],
   "source": [
    "#setting the BC link as the center of orthogonality\n",
    "d=5\n",
    "A=rand(d,d,d);B=rand(d,d,d);C=rand(d,d,d);\n",
    "Sig=Matrix{Float64}(I,d,d);#initial link matrix\n",
    "#generate gauge change matrices\n",
    "rho1=ncon(Any[A,A,B,B],Any[[1,2,3],[1,2,4],[3,5,-1],[4,5,-2]]);\n",
    "rho2=ncon(Any[C,C],Any[[1,2,-1],[-2,1,2]]);\n",
    "d1,u1=eigen(rho1);sq_d1=sqrt.(abs.(d1));\n",
    "d2,u2=eigen(rho2);sq_d2=sqrt.(abs.(d2));\n",
    "X1=u1*diagm(0=>sq_d1)*u1';X1inv=u1*diagm(0=> 1 ./sq_d1)*u1';\n",
    "X2=u2*diagm(0=>sq_d2)*u2';X2inv=u2*diagm(0=>1  ./sq_d2)*u2';\n",
    "Bprime=ncon(Any[B,X1inv],Any[[-1,-2,1],[1,-3]]);\n",
    "Cprime=ncon(Any[C,X2inv],Any[[-1,-2,1],[1,-3]]);\n",
    "sig_prime=X1*Sig*X2;\n",
    "H0 = ncon(Any[A,B,C],Any[[-1,-2,1],[1,-3,2],[2,-4,-5]]);\n",
    "H1=ncon(Any[A,Bprime,sig_prime,Cprime],Any[[-1,-2,1],[1,-3,2],[2,3],[3,-4,-5]]);\n",
    "norm(H1-H0)/norm(H0)"
   ]
  },
  {
   "cell_type": "code",
   "execution_count": 134,
   "id": "ec9e4eac-e590-4bbc-915a-1c0573ff2fa3",
   "metadata": {},
   "outputs": [
    {
     "data": {
      "text/plain": [
       "3.739684666310789"
      ]
     },
     "execution_count": 134,
     "metadata": {},
     "output_type": "execute_result"
    }
   ],
   "source": [
    "Utemp,sig_PP,Vtemp=svd(sig_prime);\n",
    "B_pp=ncon(Any[Bprime,Utemp],Any[[-1,-2,1],[1,-3]]);\n",
    "C_pp=ncon(Any[Cprime,Vtemp],Any[[1,-2,-3],[1,-1]]);\n",
    "H2=ncon(Any[A,B_pp,diagm(0=>sig_PP),C_pp],Any[[-1,-2,1],[1,-3,2],[2,3],[3,-4,-5]]);\n",
    "norm(H2-H0)/norm(H0)"
   ]
  },
  {
   "cell_type": "code",
   "execution_count": 135,
   "id": "b5accc93-6b69-42de-b6d2-aff74a42b642",
   "metadata": {},
   "outputs": [
    {
     "name": "stdout",
     "output_type": "stream",
     "text": [
      "1.53071215025967036.5598230667142686.201391655445346"
     ]
    }
   ],
   "source": [
    "##### Ex4.2(c): equivalence of center of orthogonality and SVD\n",
    "##### (continues from Ex4.2(b))\n",
    "H = ncon(Any[A,B,C],Any[[-1,-2,1],[1,-3,2],[2,-4,-5]]);\n",
    "utemp,stemp,vtemp = svd(reshape(H,d^3,d^2));\n",
    "UH = reshape(utemp[:,1:d],d,d,d,d);\n",
    "SH = diagm(0 => stemp[1:d]);\n",
    "VH = reshape(vtemp[:,1:d]',d,d,d);\n",
    "\n",
    "# compare with previous tensors from orthonormal form\n",
    "ErrU = norm(abs.(UH[:]) - abs.(reshape(ncon(Any[A,B_pp],Any[[-1,-2,1],[1,-3,-4]]),d^4)))\n",
    "ErrS = norm(diag(SH) - sig_PP)\n",
    "ErrV = norm(abs.(VH[:]) - abs.(C_pp[:]))\n",
    "# all three results should be vanishingly small!!!\n",
    "print(ErrU,ErrS,ErrV)"
   ]
  },
  {
   "cell_type": "code",
   "execution_count": null,
   "id": "87604de6-a4d3-4cc7-b126-1603792e5401",
   "metadata": {},
   "outputs": [],
   "source": []
  },
  {
   "cell_type": "code",
   "execution_count": 136,
   "id": "bb79923a-e1ea-40d3-a50d-1dacae465bf0",
   "metadata": {},
   "outputs": [
    {
     "ename": "LoadError",
     "evalue": "ArgumentError: no valid permutation of dimensions",
     "output_type": "error",
     "traceback": [
      "ArgumentError: no valid permutation of dimensions",
      "",
      "Stacktrace:",
      " [1] permutedims(B::Array{ComplexF64, 5}, perm::Vector{Int64})",
      "   @ Base .\\multidimensional.jl:1597",
      " [2] top-level scope",
      "   @ In[136]:1"
     ]
    }
   ],
   "source": [
    "size(permutedims(H1,[2,3,1,4,5,6]))\n",
    "size(utemp)\n",
    "size(diagm(0=>stemp[1:chi])*vtemp[:,1:chi]')"
   ]
  },
  {
   "cell_type": "code",
   "execution_count": 137,
   "id": "46f10781-8c9d-49b9-ad09-b8a557170efc",
   "metadata": {},
   "outputs": [
    {
     "data": {
      "text/plain": [
       "(125, 25)"
      ]
     },
     "execution_count": 137,
     "metadata": {},
     "output_type": "execute_result"
    }
   ],
   "source": [
    "size(diagm(0=>stemp[1:chi])*vtemp[:,1:chi]')\n",
    "size(utemp)"
   ]
  },
  {
   "cell_type": "code",
   "execution_count": 138,
   "id": "883e8a6e-333a-4f81-90a9-92cd987f63ed",
   "metadata": {},
   "outputs": [
    {
     "data": {
      "text/plain": [
       "(3, 25)"
      ]
     },
     "execution_count": 138,
     "metadata": {},
     "output_type": "execute_result"
    }
   ],
   "source": [
    "size(diagm(0=>stemp[1:chi])*vtemp[:,1:chi]')"
   ]
  },
  {
   "cell_type": "code",
   "execution_count": null,
   "id": "1546456e-c05c-4c59-9e56-e7055547fc82",
   "metadata": {},
   "outputs": [],
   "source": []
  },
  {
   "cell_type": "code",
   "execution_count": null,
   "id": "f170fb8f-95ce-48d0-a51b-1182214b9839",
   "metadata": {},
   "outputs": [],
   "source": []
  },
  {
   "cell_type": "code",
   "execution_count": null,
   "id": "9865189c-12fe-442a-ad01-9c9d5e4d5409",
   "metadata": {},
   "outputs": [],
   "source": []
  },
  {
   "cell_type": "code",
   "execution_count": null,
   "id": "d6e6afd1-4d69-4a3c-815b-cf238215b30e",
   "metadata": {},
   "outputs": [],
   "source": []
  },
  {
   "cell_type": "code",
   "execution_count": null,
   "id": "00e090b5-9770-4df1-b026-218826d8c672",
   "metadata": {},
   "outputs": [],
   "source": []
  }
 ],
 "metadata": {
  "kernelspec": {
   "display_name": "Julia 1.10.0",
   "language": "julia",
   "name": "julia-1.10"
  },
  "language_info": {
   "file_extension": ".jl",
   "mimetype": "application/julia",
   "name": "julia",
   "version": "1.10.0"
  }
 },
 "nbformat": 4,
 "nbformat_minor": 5
}
